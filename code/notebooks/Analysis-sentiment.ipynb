{
 "cells": [
  {
   "cell_type": "markdown",
   "metadata": {},
   "source": [
    "# Sentiment Analysis Notebook"
   ]
  },
  {
   "cell_type": "markdown",
   "metadata": {},
   "source": [
    "#### This notebook contains a demonstration of the tools necessary for conducting descriptive analysis of the data. This includes things such as frequency analysis, descripting statistics and temporal frequency."
   ]
  },
  {
   "cell_type": "code",
   "execution_count": 1,
   "metadata": {},
   "outputs": [],
   "source": [
    "import trt_API.process as proc\n",
    "import trt_API.analysis as ana\n",
    "import trt_API.sentiment as sent\n",
    "from pathlib import Path\n",
    "import pandas as pd\n",
    "import datetime\n",
    "SORTED = False\n",
    "pd.set_option('display.max_rows', 500)"
   ]
  },
  {
   "cell_type": "markdown",
   "metadata": {},
   "source": [
    "## Variables for Analysis"
   ]
  },
  {
   "cell_type": "code",
   "execution_count": 2,
   "metadata": {},
   "outputs": [],
   "source": [
    "# Set the path to the parent directory containing all Tweets of interest\n",
    "DIRECTORY = './tweets/*'\n",
    "# Set to True to isolate english language tweets\n",
    "ENGLISH = False\n"
   ]
  },
  {
   "cell_type": "markdown",
   "metadata": {},
   "source": [
    "## Load Tweet and Generate Dataframe"
   ]
  },
  {
   "cell_type": "code",
   "execution_count": 3,
   "metadata": {},
   "outputs": [
    {
     "name": "stdout",
     "output_type": "stream",
     "text": [
      "16044\n",
      "Loaded utf-8 df.\n",
      "Initial size: 16042\n",
      "Dropping duplicates...\n",
      "Final size: 10472\n",
      "                          date  followers        username  \\\n",
      "0      Jun 01 20:02:51 2018\\t0         88       Yohanan_L   \n",
      "1      Jun 01 22:19:01 2018\\t0        464       Kiakkye30   \n",
      "2      Jun 08 00:04:48 2018\\t0       1019       KessprdGB   \n",
      "3      Jun 08 03:27:48 2018\\t0         24  quynhnguyen153   \n",
      "4      Jun 08 07:44:53 2018\\t0          1       mlqbuot27   \n",
      "...                        ...        ...             ...   \n",
      "16032  Jul 10 22:48:21 2019\\t0        213    KyleLGurrola   \n",
      "16034  Jul 10 23:02:54 2019\\t0       3344      NW_StayDet   \n",
      "16036  Jul 10 23:08:36 2019\\t0         36        TOMMMLDN   \n",
      "16038  Jul 10 23:27:23 2019\\t0        229    GenDovinBaan   \n",
      "16040  Jul 10 23:29:22 2019\\t0       1409     UncleMax313   \n",
      "\n",
      "                       location  \\\n",
      "0                        France   \n",
      "1                         Haiti   \n",
      "2                          None   \n",
      "3                          None   \n",
      "4      กรุงเทพมหานคร, ประเทศไทย   \n",
      "...                         ...   \n",
      "16032      San Jose, California   \n",
      "16034               Detroit, MI   \n",
      "16036       Chernobyll, Ukraine   \n",
      "16038       The Plane of Ixalan   \n",
      "16040        Michigan and Texas   \n",
      "\n",
      "                                                   tweet                   id  \\\n",
      "0      @AnthonyParasole @kanyewest All right didn't k...  1002641647736377346   \n",
      "1      RT @TwitterMusic: Give #NewMusicFriday a try. ...  1002675915221098496   \n",
      "2      RT @GOT7Official: [ #GOT7NOW ] See you tomorro...  1004876863670374401   \n",
      "3      RT @chanyeolit: #CHANYEOL #EXO #Monster #찬열 @w...  1004927950293045248   \n",
      "4      RT @GOT7Official: [ #GOT7NOW ] See you tomorro...  1004992647411298310   \n",
      "...                                                  ...                  ...   \n",
      "16032  RT @drewisgooden: Excuse me @Delta but this is...  1149087994898288642   \n",
      "16034  @ComedianTheDA @GAFollowers @Delta @ABC Right....  1149091656508923909   \n",
      "16036  RT @Micahlifa: Video I took from my seat on my...  1149093090973704192   \n",
      "16038  RT @Micahlifa: Video I took from my seat on my...  1149097817962680320   \n",
      "16040  @nysteve27 @AmericanAir Steve, I use to work i...  1149098317089054721   \n",
      "\n",
      "                                          original_tweet  \n",
      "0                                                   None  \n",
      "1      Give #NewMusicFriday a try. 🎶🎵 @DanAndShay ➖ A...  \n",
      "2      [ #GOT7NOW ] See you tomorrow, Berlin I GOT7 🐥...  \n",
      "3      #CHANYEOL #EXO #Monster #찬열 @weareoneEXO 🍾 Mon...  \n",
      "4      [ #GOT7NOW ] See you tomorrow, Berlin I GOT7 🐥...  \n",
      "...                                                  ...  \n",
      "16032  Excuse me @Delta but this is outrageous. I jus...  \n",
      "16034                                               None  \n",
      "16036  Video I took from my seat on my flight from At...  \n",
      "16038  Video I took from my seat on my flight from At...  \n",
      "16040                                               None  \n",
      "\n",
      "[10472 rows x 7 columns]\n"
     ]
    }
   ],
   "source": [
    "tweet_objects = proc.loadTweetObjects(DIRECTORY)\n",
    "print(len(tweet_objects))\n",
    "df = proc.convertTweetsToDataframe(tweet_objects, ENGLISH)\n",
    "print(df)    "
   ]
  },
  {
   "cell_type": "markdown",
   "metadata": {},
   "source": [
    "## Extract Potential Cashtags"
   ]
  },
  {
   "cell_type": "code",
   "execution_count": 4,
   "metadata": {},
   "outputs": [
    {
     "name": "stdout",
     "output_type": "stream",
     "text": [
      "Total potential Cashtags: 25\n"
     ]
    }
   ],
   "source": [
    "ctdf = proc.extractPossibleCashtags(df)"
   ]
  },
  {
   "cell_type": "markdown",
   "metadata": {},
   "source": [
    "## Removing Noisy Tweets"
   ]
  },
  {
   "cell_type": "code",
   "execution_count": 5,
   "metadata": {},
   "outputs": [
    {
     "name": "stdout",
     "output_type": "stream",
     "text": [
      "Removed 0 noisy terms.\n"
     ]
    }
   ],
   "source": [
    "'''\n",
    "*** Tweets often use popular hashtags with unrelated topics.\n",
    "*** Noisy words can be identified to use to filter such tweets.\n",
    "*** Enter these words below in the noisy_terms list.\n",
    "'''\n",
    "noisy_terms = []\n",
    "cldf = proc.removeNoisyTerms(df, noisy_terms)"
   ]
  },
  {
   "cell_type": "markdown",
   "metadata": {},
   "source": [
    "## Remove Retweets"
   ]
  },
  {
   "cell_type": "code",
   "execution_count": 6,
   "metadata": {},
   "outputs": [
    {
     "name": "stdout",
     "output_type": "stream",
     "text": [
      "Removed 4110 duplicates.\n"
     ]
    },
    {
     "name": "stderr",
     "output_type": "stream",
     "text": [
      "/Users/rajuy/Desktop/twitter_research_tools/notebooks/trt_API/process.py:210: SettingWithCopyWarning: \n",
      "A value is trying to be set on a copy of a slice from a DataFrame\n",
      "\n",
      "See the caveats in the documentation: https://pandas.pydata.org/pandas-docs/stable/user_guide/indexing.html#returning-a-view-versus-a-copy\n",
      "  df['RT'][df.tweet.astype(str).str[0:2] == 'RT'] = df.tweet.str.split(':',expand=True).iloc[:,0]\n"
     ]
    },
    {
     "data": {
      "text/html": [
       "<div>\n",
       "<style scoped>\n",
       "    .dataframe tbody tr th:only-of-type {\n",
       "        vertical-align: middle;\n",
       "    }\n",
       "\n",
       "    .dataframe tbody tr th {\n",
       "        vertical-align: top;\n",
       "    }\n",
       "\n",
       "    .dataframe thead th {\n",
       "        text-align: right;\n",
       "    }\n",
       "</style>\n",
       "<table border=\"1\" class=\"dataframe\">\n",
       "  <thead>\n",
       "    <tr style=\"text-align: right;\">\n",
       "      <th></th>\n",
       "      <th>date</th>\n",
       "      <th>followers</th>\n",
       "      <th>username</th>\n",
       "      <th>location</th>\n",
       "      <th>tweet</th>\n",
       "      <th>id</th>\n",
       "      <th>original_tweet</th>\n",
       "      <th>RT</th>\n",
       "    </tr>\n",
       "  </thead>\n",
       "  <tbody>\n",
       "    <tr>\n",
       "      <th>0</th>\n",
       "      <td>Jun 01 20:02:51 2018\\t0</td>\n",
       "      <td>88</td>\n",
       "      <td>Yohanan_L</td>\n",
       "      <td>France</td>\n",
       "      <td>@AnthonyParasole @kanyewest All right didn't know but I agree, Pusha T opus is better. Let's see Cudi now. Cheers</td>\n",
       "      <td>1002641647736377346</td>\n",
       "      <td>None</td>\n",
       "      <td>None</td>\n",
       "    </tr>\n",
       "    <tr>\n",
       "      <th>1</th>\n",
       "      <td>Jun 01 22:19:01 2018\\t0</td>\n",
       "      <td>464</td>\n",
       "      <td>Kiakkye30</td>\n",
       "      <td>Haiti</td>\n",
       "      <td>RT @TwitterMusic: Give #NewMusicFriday a try. 🎶🎵 @DanAndShay ➖ Alone Together🎵 @Drake ➖ I'm Upset🎵 @FLAGALine➖ Simple🎵 @kanyewest ➖ ye…</td>\n",
       "      <td>1002675915221098496</td>\n",
       "      <td>Give #NewMusicFriday a try. 🎶🎵 @DanAndShay ➖ Alone Together🎵 @Drake ➖ I'm Upset🎵 @FLAGALine➖ Simple🎵 @kanyewest ➖ ye🎵 @maroon5 ft. @iamcardib ➖ Girls Like You🎵 @the1975 ➖ Give Yourself a TryTweet what you're listening to. 👇</td>\n",
       "      <td>RT @TwitterMusic</td>\n",
       "    </tr>\n",
       "    <tr>\n",
       "      <th>2</th>\n",
       "      <td>Jun 08 00:04:48 2018\\t0</td>\n",
       "      <td>1019</td>\n",
       "      <td>KessprdGB</td>\n",
       "      <td>None</td>\n",
       "      <td>RT @GOT7Official: [ #GOT7NOW ] See you tomorrow, Berlin I GOT7 🐥#GOT7#갓세븐#EyesOnYou#GOT7WORLDTOUR https://t.co/HtO7G7SQLO</td>\n",
       "      <td>1004876863670374401</td>\n",
       "      <td>[ #GOT7NOW ] See you tomorrow, Berlin I GOT7 🐥#GOT7#갓세븐#EyesOnYou#GOT7WORLDTOUR https://t.co/HtO7G7SQLO</td>\n",
       "      <td>RT @GOT7Official</td>\n",
       "    </tr>\n",
       "    <tr>\n",
       "      <th>3</th>\n",
       "      <td>Jun 08 03:27:48 2018\\t0</td>\n",
       "      <td>24</td>\n",
       "      <td>quynhnguyen153</td>\n",
       "      <td>None</td>\n",
       "      <td>RT @chanyeolit: #CHANYEOL #EXO #Monster #찬열 @weareoneEXO 🍾 Monster 200M 👻😈🎉 https://t.co/CJ3fhvIdek https://t.co/uraD3nrlfW</td>\n",
       "      <td>1004927950293045248</td>\n",
       "      <td>#CHANYEOL #EXO #Monster #찬열 @weareoneEXO 🍾 Monster 200M 👻😈🎉 https://t.co/CJ3fhvIdek https://t.co/uraD3nrlfW</td>\n",
       "      <td>RT @chanyeolit</td>\n",
       "    </tr>\n",
       "    <tr>\n",
       "      <th>4</th>\n",
       "      <td>Jun 08 07:44:53 2018\\t0</td>\n",
       "      <td>1</td>\n",
       "      <td>mlqbuot27</td>\n",
       "      <td>กรุงเทพมหานคร, ประเทศไทย</td>\n",
       "      <td>RT @GOT7Official: [ #GOT7NOW ] See you tomorrow, Berlin I GOT7 🐥#GOT7#갓세븐#EyesOnYou#GOT7WORLDTOUR https://t.co/HtO7G7SQLO</td>\n",
       "      <td>1004992647411298310</td>\n",
       "      <td>[ #GOT7NOW ] See you tomorrow, Berlin I GOT7 🐥#GOT7#갓세븐#EyesOnYou#GOT7WORLDTOUR https://t.co/HtO7G7SQLO</td>\n",
       "      <td>RT @GOT7Official</td>\n",
       "    </tr>\n",
       "    <tr>\n",
       "      <th>...</th>\n",
       "      <td>...</td>\n",
       "      <td>...</td>\n",
       "      <td>...</td>\n",
       "      <td>...</td>\n",
       "      <td>...</td>\n",
       "      <td>...</td>\n",
       "      <td>...</td>\n",
       "      <td>...</td>\n",
       "    </tr>\n",
       "    <tr>\n",
       "      <th>16032</th>\n",
       "      <td>Jul 10 22:48:21 2019\\t0</td>\n",
       "      <td>213</td>\n",
       "      <td>KyleLGurrola</td>\n",
       "      <td>San Jose, California</td>\n",
       "      <td>RT @drewisgooden: Excuse me @Delta but this is outrageous. I just got sucked through the toilet hole in one of your aircrafts and am now hu…</td>\n",
       "      <td>1149087994898288642</td>\n",
       "      <td>Excuse me @Delta but this is outrageous. I just got sucked through the toilet hole in one of your aircrafts and am now hurtling through the sky, can I get my money back? This never happens on Southwest.</td>\n",
       "      <td>RT @drewisgooden</td>\n",
       "    </tr>\n",
       "    <tr>\n",
       "      <th>16034</th>\n",
       "      <td>Jul 10 23:02:54 2019\\t0</td>\n",
       "      <td>3344</td>\n",
       "      <td>NW_StayDet</td>\n",
       "      <td>Detroit, MI</td>\n",
       "      <td>@ComedianTheDA @GAFollowers @Delta @ABC Right... https://t.co/ZewAeTJP3J</td>\n",
       "      <td>1149091656508923909</td>\n",
       "      <td>None</td>\n",
       "      <td>None</td>\n",
       "    </tr>\n",
       "    <tr>\n",
       "      <th>16036</th>\n",
       "      <td>Jul 10 23:08:36 2019\\t0</td>\n",
       "      <td>36</td>\n",
       "      <td>TOMMMLDN</td>\n",
       "      <td>Chernobyll, Ukraine</td>\n",
       "      <td>RT @Micahlifa: Video I took from my seat on my flight from Atlanta to Baltimore yesterday! Thanks @Delta for the silly smooth emergency lan…</td>\n",
       "      <td>1149093090973704192</td>\n",
       "      <td>Video I took from my seat on my flight from Atlanta to Baltimore yesterday! Thanks @Delta for the silly smooth emergency landing! #perfect #execution To use this video in a commercial player or in broadcasts, please email licensing@storyful.com https://t.co/TUFzREl0Lc</td>\n",
       "      <td>RT @Micahlifa</td>\n",
       "    </tr>\n",
       "    <tr>\n",
       "      <th>16038</th>\n",
       "      <td>Jul 10 23:27:23 2019\\t0</td>\n",
       "      <td>229</td>\n",
       "      <td>GenDovinBaan</td>\n",
       "      <td>The Plane of Ixalan</td>\n",
       "      <td>RT @Micahlifa: Video I took from my seat on my flight from Atlanta to Baltimore yesterday! Thanks @Delta for the silly smooth emergency lan…</td>\n",
       "      <td>1149097817962680320</td>\n",
       "      <td>Video I took from my seat on my flight from Atlanta to Baltimore yesterday! Thanks @Delta for the silly smooth emergency landing! #perfect #execution To use this video in a commercial player or in broadcasts, please email licensing@storyful.com https://t.co/TUFzREl0Lc</td>\n",
       "      <td>RT @Micahlifa</td>\n",
       "    </tr>\n",
       "    <tr>\n",
       "      <th>16040</th>\n",
       "      <td>Jul 10 23:29:22 2019\\t0</td>\n",
       "      <td>1409</td>\n",
       "      <td>UncleMax313</td>\n",
       "      <td>Michigan and Texas</td>\n",
       "      <td>@nysteve27 @AmericanAir Steve, I use to work inflight. That was very cool of you, bud👍👍</td>\n",
       "      <td>1149098317089054721</td>\n",
       "      <td>None</td>\n",
       "      <td>None</td>\n",
       "    </tr>\n",
       "  </tbody>\n",
       "</table>\n",
       "<p>10472 rows × 8 columns</p>\n",
       "</div>"
      ],
      "text/plain": [
       "                          date  followers        username  \\\n",
       "0      Jun 01 20:02:51 2018\\t0         88       Yohanan_L   \n",
       "1      Jun 01 22:19:01 2018\\t0        464       Kiakkye30   \n",
       "2      Jun 08 00:04:48 2018\\t0       1019       KessprdGB   \n",
       "3      Jun 08 03:27:48 2018\\t0         24  quynhnguyen153   \n",
       "4      Jun 08 07:44:53 2018\\t0          1       mlqbuot27   \n",
       "...                        ...        ...             ...   \n",
       "16032  Jul 10 22:48:21 2019\\t0        213    KyleLGurrola   \n",
       "16034  Jul 10 23:02:54 2019\\t0       3344      NW_StayDet   \n",
       "16036  Jul 10 23:08:36 2019\\t0         36        TOMMMLDN   \n",
       "16038  Jul 10 23:27:23 2019\\t0        229    GenDovinBaan   \n",
       "16040  Jul 10 23:29:22 2019\\t0       1409     UncleMax313   \n",
       "\n",
       "                       location  \\\n",
       "0                        France   \n",
       "1                         Haiti   \n",
       "2                          None   \n",
       "3                          None   \n",
       "4      กรุงเทพมหานคร, ประเทศไทย   \n",
       "...                         ...   \n",
       "16032      San Jose, California   \n",
       "16034               Detroit, MI   \n",
       "16036       Chernobyll, Ukraine   \n",
       "16038       The Plane of Ixalan   \n",
       "16040        Michigan and Texas   \n",
       "\n",
       "                                                                                                                                              tweet  \\\n",
       "0                                 @AnthonyParasole @kanyewest All right didn't know but I agree, Pusha T opus is better. Let's see Cudi now. Cheers   \n",
       "1           RT @TwitterMusic: Give #NewMusicFriday a try. 🎶🎵 @DanAndShay ➖ Alone Together🎵 @Drake ➖ I'm Upset🎵 @FLAGALine➖ Simple🎵 @kanyewest ➖ ye…   \n",
       "2                         RT @GOT7Official: [ #GOT7NOW ] See you tomorrow, Berlin I GOT7 🐥#GOT7#갓세븐#EyesOnYou#GOT7WORLDTOUR https://t.co/HtO7G7SQLO   \n",
       "3                       RT @chanyeolit: #CHANYEOL #EXO #Monster #찬열 @weareoneEXO 🍾 Monster 200M 👻😈🎉 https://t.co/CJ3fhvIdek https://t.co/uraD3nrlfW   \n",
       "4                         RT @GOT7Official: [ #GOT7NOW ] See you tomorrow, Berlin I GOT7 🐥#GOT7#갓세븐#EyesOnYou#GOT7WORLDTOUR https://t.co/HtO7G7SQLO   \n",
       "...                                                                                                                                             ...   \n",
       "16032  RT @drewisgooden: Excuse me @Delta but this is outrageous. I just got sucked through the toilet hole in one of your aircrafts and am now hu…   \n",
       "16034                                                                      @ComedianTheDA @GAFollowers @Delta @ABC Right... https://t.co/ZewAeTJP3J   \n",
       "16036  RT @Micahlifa: Video I took from my seat on my flight from Atlanta to Baltimore yesterday! Thanks @Delta for the silly smooth emergency lan…   \n",
       "16038  RT @Micahlifa: Video I took from my seat on my flight from Atlanta to Baltimore yesterday! Thanks @Delta for the silly smooth emergency lan…   \n",
       "16040                                                       @nysteve27 @AmericanAir Steve, I use to work inflight. That was very cool of you, bud👍👍   \n",
       "\n",
       "                        id  \\\n",
       "0      1002641647736377346   \n",
       "1      1002675915221098496   \n",
       "2      1004876863670374401   \n",
       "3      1004927950293045248   \n",
       "4      1004992647411298310   \n",
       "...                    ...   \n",
       "16032  1149087994898288642   \n",
       "16034  1149091656508923909   \n",
       "16036  1149093090973704192   \n",
       "16038  1149097817962680320   \n",
       "16040  1149098317089054721   \n",
       "\n",
       "                                                                                                                                                                                                                                                                     original_tweet  \\\n",
       "0                                                                                                                                                                                                                                                                              None   \n",
       "1                                                   Give #NewMusicFriday a try. 🎶🎵 @DanAndShay ➖ Alone Together🎵 @Drake ➖ I'm Upset🎵 @FLAGALine➖ Simple🎵 @kanyewest ➖ ye🎵 @maroon5 ft. @iamcardib ➖ Girls Like You🎵 @the1975 ➖ Give Yourself a TryTweet what you're listening to. 👇   \n",
       "2                                                                                                                                                                           [ #GOT7NOW ] See you tomorrow, Berlin I GOT7 🐥#GOT7#갓세븐#EyesOnYou#GOT7WORLDTOUR https://t.co/HtO7G7SQLO   \n",
       "3                                                                                                                                                                       #CHANYEOL #EXO #Monster #찬열 @weareoneEXO 🍾 Monster 200M 👻😈🎉 https://t.co/CJ3fhvIdek https://t.co/uraD3nrlfW   \n",
       "4                                                                                                                                                                           [ #GOT7NOW ] See you tomorrow, Berlin I GOT7 🐥#GOT7#갓세븐#EyesOnYou#GOT7WORLDTOUR https://t.co/HtO7G7SQLO   \n",
       "...                                                                                                                                                                                                                                                                             ...   \n",
       "16032                                                                    Excuse me @Delta but this is outrageous. I just got sucked through the toilet hole in one of your aircrafts and am now hurtling through the sky, can I get my money back? This never happens on Southwest.   \n",
       "16034                                                                                                                                                                                                                                                                          None   \n",
       "16036  Video I took from my seat on my flight from Atlanta to Baltimore yesterday! Thanks @Delta for the silly smooth emergency landing! #perfect #execution To use this video in a commercial player or in broadcasts, please email licensing@storyful.com https://t.co/TUFzREl0Lc   \n",
       "16038  Video I took from my seat on my flight from Atlanta to Baltimore yesterday! Thanks @Delta for the silly smooth emergency landing! #perfect #execution To use this video in a commercial player or in broadcasts, please email licensing@storyful.com https://t.co/TUFzREl0Lc   \n",
       "16040                                                                                                                                                                                                                                                                          None   \n",
       "\n",
       "                     RT  \n",
       "0                  None  \n",
       "1      RT @TwitterMusic  \n",
       "2      RT @GOT7Official  \n",
       "3        RT @chanyeolit  \n",
       "4      RT @GOT7Official  \n",
       "...                 ...  \n",
       "16032  RT @drewisgooden  \n",
       "16034              None  \n",
       "16036     RT @Micahlifa  \n",
       "16038     RT @Micahlifa  \n",
       "16040              None  \n",
       "\n",
       "[10472 rows x 8 columns]"
      ]
     },
     "execution_count": 6,
     "metadata": {},
     "output_type": "execute_result"
    }
   ],
   "source": [
    "cldf_no_RT, cldf = proc.removeRetweets(cldf)\n",
    "pd.set_option('display.max_colwidth', None)\n",
    "cldf"
   ]
  },
  {
   "cell_type": "code",
   "execution_count": 7,
   "metadata": {},
   "outputs": [
    {
     "name": "stdout",
     "output_type": "stream",
     "text": [
      "10472\n",
      "6362\n"
     ]
    }
   ],
   "source": [
    "print(cldf.shape[0])\n",
    "print(cldf_no_RT.shape[0])"
   ]
  },
  {
   "cell_type": "markdown",
   "metadata": {},
   "source": [
    "## SPLITTING DATA"
   ]
  },
  {
   "cell_type": "markdown",
   "metadata": {},
   "source": [
    "### By date"
   ]
  },
  {
   "cell_type": "code",
   "execution_count": 8,
   "metadata": {},
   "outputs": [
    {
     "data": {
      "text/html": [
       "<div>\n",
       "<style scoped>\n",
       "    .dataframe tbody tr th:only-of-type {\n",
       "        vertical-align: middle;\n",
       "    }\n",
       "\n",
       "    .dataframe tbody tr th {\n",
       "        vertical-align: top;\n",
       "    }\n",
       "\n",
       "    .dataframe thead th {\n",
       "        text-align: right;\n",
       "    }\n",
       "</style>\n",
       "<table border=\"1\" class=\"dataframe\">\n",
       "  <thead>\n",
       "    <tr style=\"text-align: right;\">\n",
       "      <th></th>\n",
       "      <th>date</th>\n",
       "      <th>followers</th>\n",
       "      <th>username</th>\n",
       "      <th>location</th>\n",
       "      <th>tweet</th>\n",
       "      <th>id</th>\n",
       "      <th>original_tweet</th>\n",
       "      <th>RT</th>\n",
       "    </tr>\n",
       "  </thead>\n",
       "  <tbody>\n",
       "    <tr>\n",
       "      <th>13247</th>\n",
       "      <td>2018-03-30 02:24:13</td>\n",
       "      <td>86</td>\n",
       "      <td>got7run</td>\n",
       "      <td>31/05/15</td>\n",
       "      <td>RT @CRUSHonBAM: [STREAM] 180330 KBS&amp;lt;Music Bank&amp;gt; เวลา 15.00 น.(ไทย) #GOT7 #EyesOnYou #LOOK►https://t.co/vjCT1ycCuU ►https://t.co/1VX55DN…</td>\n",
       "      <td>979544798431342593</td>\n",
       "      <td>[STREAM] 180330 KBS&amp;lt;Music Bank&amp;gt; เวลา 15.00 น.(ไทย) #GOT7 #EyesOnYou #LOOK►https://t.co/vjCT1ycCuU ►https://t.co/1VX55DNJn4►https://t.co/fF6eBFqiFZ https://t.co/9omvZQZw2I</td>\n",
       "      <td>RT @CRUSHonBAM</td>\n",
       "    </tr>\n",
       "    <tr>\n",
       "      <th>13248</th>\n",
       "      <td>2018-03-30 02:58:39</td>\n",
       "      <td>271</td>\n",
       "      <td>Xreo0</td>\n",
       "      <td>None</td>\n",
       "      <td>2 minutes😭💔💔#WelcomeOliviaHye</td>\n",
       "      <td>979553463859326977</td>\n",
       "      <td>None</td>\n",
       "      <td>None</td>\n",
       "    </tr>\n",
       "    <tr>\n",
       "      <th>13249</th>\n",
       "      <td>2018-03-30 07:02:29</td>\n",
       "      <td>47858</td>\n",
       "      <td>AraiEij</td>\n",
       "      <td>None</td>\n",
       "      <td>RT @semljnika: Poppies..       🌿🌺🌿🌺🌿🌺 #LovelyEvening https://t.co/dYiocpuiX1</td>\n",
       "      <td>979614826510008320</td>\n",
       "      <td>Poppies..       🌿🌺🌿🌺🌿🌺 #LovelyEvening https://t.co/dYiocpuiX1</td>\n",
       "      <td>RT @semljnika</td>\n",
       "    </tr>\n",
       "    <tr>\n",
       "      <th>13250</th>\n",
       "      <td>2018-03-30 08:51:10</td>\n",
       "      <td>909</td>\n",
       "      <td>DAYDREAM_09_04</td>\n",
       "      <td>Corrientes, Argentina</td>\n",
       "      <td>#Repost bts.0ffcial (get_repost)・・・JIKOOK or TAEKOOK ?❤.....#BTS #BangtanSonyeondan… https://t.co/LdPytufdo1</td>\n",
       "      <td>979642177570656257</td>\n",
       "      <td>None</td>\n",
       "      <td>None</td>\n",
       "    </tr>\n",
       "    <tr>\n",
       "      <th>13251</th>\n",
       "      <td>2018-03-30 10:15:24</td>\n",
       "      <td>26</td>\n",
       "      <td>dldbr5</td>\n",
       "      <td>None</td>\n",
       "      <td>RT @GOT7Official: Look - GOT7https://t.co/VrzKFobSes#GOT7 #갓세븐#EyesOnYou#Look</td>\n",
       "      <td>979663375595655168</td>\n",
       "      <td>Look - GOT7https://t.co/VrzKFobSes#GOT7 #갓세븐#EyesOnYou#Look</td>\n",
       "      <td>RT @GOT7Official</td>\n",
       "    </tr>\n",
       "    <tr>\n",
       "      <th>...</th>\n",
       "      <td>...</td>\n",
       "      <td>...</td>\n",
       "      <td>...</td>\n",
       "      <td>...</td>\n",
       "      <td>...</td>\n",
       "      <td>...</td>\n",
       "      <td>...</td>\n",
       "      <td>...</td>\n",
       "    </tr>\n",
       "    <tr>\n",
       "      <th>15542</th>\n",
       "      <td>2019-07-13 11:35:48</td>\n",
       "      <td>18</td>\n",
       "      <td>AkhtarAskari</td>\n",
       "      <td>None</td>\n",
       "      <td>RT @qatarairways: Onward to #Rabat with our @BoeingAirplanes 787 Dreamliner, our third gateway and the capital of #Morocco. Book now at h…</td>\n",
       "      <td>1150005905728999425</td>\n",
       "      <td>Onward to #Rabat with our @BoeingAirplanes 787 Dreamliner, our third gateway and the capital of #Morocco. Book now at https://t.co/oKG7ksGYEB #RabatTogether https://t.co/3bIQkZ05mA</td>\n",
       "      <td>RT @qatarairways</td>\n",
       "    </tr>\n",
       "    <tr>\n",
       "      <th>15544</th>\n",
       "      <td>2019-07-13 12:01:15</td>\n",
       "      <td>1095</td>\n",
       "      <td>doublemacbex</td>\n",
       "      <td>London, England</td>\n",
       "      <td>@British_Airways Thanks, Kev.</td>\n",
       "      <td>1150012310435651584</td>\n",
       "      <td>None</td>\n",
       "      <td>None</td>\n",
       "    </tr>\n",
       "    <tr>\n",
       "      <th>15546</th>\n",
       "      <td>2019-07-13 12:16:08</td>\n",
       "      <td>0</td>\n",
       "      <td>Teshage70456217</td>\n",
       "      <td>None</td>\n",
       "      <td>@flyethiopian Congrats</td>\n",
       "      <td>1150016055940661249</td>\n",
       "      <td>None</td>\n",
       "      <td>None</td>\n",
       "    </tr>\n",
       "    <tr>\n",
       "      <th>15548</th>\n",
       "      <td>2019-07-13 12:42:27</td>\n",
       "      <td>8</td>\n",
       "      <td>NoamHabot</td>\n",
       "      <td>None</td>\n",
       "      <td>RT @rashi_saxena7: I have sent two emails over the last 1 month to @AmericanAir customer relations for shit customer service &amp;amp; spent $900.…</td>\n",
       "      <td>1150022678750740481</td>\n",
       "      <td>I have sent two emails over the last 1 month to @AmericanAir customer relations for shit customer service &amp;amp; spent $900. Still have not have not heard back</td>\n",
       "      <td>RT @rashi_saxena7</td>\n",
       "    </tr>\n",
       "    <tr>\n",
       "      <th>15550</th>\n",
       "      <td>2019-07-13 12:52:37</td>\n",
       "      <td>179</td>\n",
       "      <td>groupabarbados</td>\n",
       "      <td>Callas, France</td>\n",
       "      <td>RT @jolingkent: Was just harassed by a @Delta gate agent for carrying a TSA-approved breast pump on the plane. Something I do often w no is…</td>\n",
       "      <td>1150025237276299266</td>\n",
       "      <td>Was just harassed by a @Delta gate agent for carrying a TSA-approved breast pump on the plane. Something I do often w no issue.He tried to take it 3x so I nicely explained. Then he says this:“Well, where is your baby?”Well, sir, perhaps you haven’t met a working mom before.</td>\n",
       "      <td>RT @jolingkent</td>\n",
       "    </tr>\n",
       "  </tbody>\n",
       "</table>\n",
       "<p>10472 rows × 8 columns</p>\n",
       "</div>"
      ],
      "text/plain": [
       "                     date  followers         username               location  \\\n",
       "13247 2018-03-30 02:24:13         86          got7run               31/05/15   \n",
       "13248 2018-03-30 02:58:39        271            Xreo0                   None   \n",
       "13249 2018-03-30 07:02:29      47858          AraiEij                   None   \n",
       "13250 2018-03-30 08:51:10        909   DAYDREAM_09_04  Corrientes, Argentina   \n",
       "13251 2018-03-30 10:15:24         26           dldbr5                   None   \n",
       "...                   ...        ...              ...                    ...   \n",
       "15542 2019-07-13 11:35:48         18     AkhtarAskari                   None   \n",
       "15544 2019-07-13 12:01:15       1095     doublemacbex        London, England   \n",
       "15546 2019-07-13 12:16:08          0  Teshage70456217                   None   \n",
       "15548 2019-07-13 12:42:27          8        NoamHabot                   None   \n",
       "15550 2019-07-13 12:52:37        179   groupabarbados         Callas, France   \n",
       "\n",
       "                                                                                                                                                 tweet  \\\n",
       "13247   RT @CRUSHonBAM: [STREAM] 180330 KBS&lt;Music Bank&gt; เวลา 15.00 น.(ไทย) #GOT7 #EyesOnYou #LOOK►https://t.co/vjCT1ycCuU ►https://t.co/1VX55DN…   \n",
       "13248                                                                                                                    2 minutes😭💔💔#WelcomeOliviaHye   \n",
       "13249                                                                     RT @semljnika: Poppies..       🌿🌺🌿🌺🌿🌺 #LovelyEvening https://t.co/dYiocpuiX1   \n",
       "13250                                     #Repost bts.0ffcial (get_repost)・・・JIKOOK or TAEKOOK ?❤.....#BTS #BangtanSonyeondan… https://t.co/LdPytufdo1   \n",
       "13251                                                                    RT @GOT7Official: Look - GOT7https://t.co/VrzKFobSes#GOT7 #갓세븐#EyesOnYou#Look   \n",
       "...                                                                                                                                                ...   \n",
       "15542       RT @qatarairways: Onward to #Rabat with our @BoeingAirplanes 787 Dreamliner, our third gateway and the capital of #Morocco. Book now at h…   \n",
       "15544                                                                                                                    @British_Airways Thanks, Kev.   \n",
       "15546                                                                                                                           @flyethiopian Congrats   \n",
       "15548  RT @rashi_saxena7: I have sent two emails over the last 1 month to @AmericanAir customer relations for shit customer service &amp; spent $900.…   \n",
       "15550     RT @jolingkent: Was just harassed by a @Delta gate agent for carrying a TSA-approved breast pump on the plane. Something I do often w no is…   \n",
       "\n",
       "                        id  \\\n",
       "13247   979544798431342593   \n",
       "13248   979553463859326977   \n",
       "13249   979614826510008320   \n",
       "13250   979642177570656257   \n",
       "13251   979663375595655168   \n",
       "...                    ...   \n",
       "15542  1150005905728999425   \n",
       "15544  1150012310435651584   \n",
       "15546  1150016055940661249   \n",
       "15548  1150022678750740481   \n",
       "15550  1150025237276299266   \n",
       "\n",
       "                                                                                                                                                                                                                                                                           original_tweet  \\\n",
       "13247                                                                                                    [STREAM] 180330 KBS&lt;Music Bank&gt; เวลา 15.00 น.(ไทย) #GOT7 #EyesOnYou #LOOK►https://t.co/vjCT1ycCuU ►https://t.co/1VX55DNJn4►https://t.co/fF6eBFqiFZ https://t.co/9omvZQZw2I   \n",
       "13248                                                                                                                                                                                                                                                                                None   \n",
       "13249                                                                                                                                                                                                                       Poppies..       🌿🌺🌿🌺🌿🌺 #LovelyEvening https://t.co/dYiocpuiX1   \n",
       "13250                                                                                                                                                                                                                                                                                None   \n",
       "13251                                                                                                                                                                                                                         Look - GOT7https://t.co/VrzKFobSes#GOT7 #갓세븐#EyesOnYou#Look   \n",
       "...                                                                                                                                                                                                                                                                                   ...   \n",
       "15542                                                                                                Onward to #Rabat with our @BoeingAirplanes 787 Dreamliner, our third gateway and the capital of #Morocco. Book now at https://t.co/oKG7ksGYEB #RabatTogether https://t.co/3bIQkZ05mA   \n",
       "15544                                                                                                                                                                                                                                                                                None   \n",
       "15546                                                                                                                                                                                                                                                                                None   \n",
       "15548                                                                                                                      I have sent two emails over the last 1 month to @AmericanAir customer relations for shit customer service &amp; spent $900. Still have not have not heard back   \n",
       "15550  Was just harassed by a @Delta gate agent for carrying a TSA-approved breast pump on the plane. Something I do often w no issue.He tried to take it 3x so I nicely explained. Then he says this:“Well, where is your baby?”Well, sir, perhaps you haven’t met a working mom before.   \n",
       "\n",
       "                      RT  \n",
       "13247     RT @CRUSHonBAM  \n",
       "13248               None  \n",
       "13249      RT @semljnika  \n",
       "13250               None  \n",
       "13251   RT @GOT7Official  \n",
       "...                  ...  \n",
       "15542   RT @qatarairways  \n",
       "15544               None  \n",
       "15546               None  \n",
       "15548  RT @rashi_saxena7  \n",
       "15550     RT @jolingkent  \n",
       "\n",
       "[10472 rows x 8 columns]"
      ]
     },
     "execution_count": 8,
     "metadata": {},
     "output_type": "execute_result"
    }
   ],
   "source": [
    "cldf, SORTED = ana.sortByDate(cldf,SORTED,PRINT_TOP=False,TOP=10)\n",
    "cldf"
   ]
  },
  {
   "cell_type": "markdown",
   "metadata": {},
   "source": [
    "### By term"
   ]
  },
  {
   "cell_type": "code",
   "execution_count": 9,
   "metadata": {},
   "outputs": [
    {
     "name": "stdout",
     "output_type": "stream",
     "text": [
      "Found 0 terms of interest.\n",
      "Found 1 terms of interest.\n"
     ]
    },
    {
     "name": "stderr",
     "output_type": "stream",
     "text": [
      "/Users/rajuy/Desktop/twitter_research_tools/notebooks/trt_API/process.py:177: UserWarning: Pandas doesn't allow columns to be created via a new attribute name - see https://pandas.pydata.org/pandas-docs/stable/indexing.html#attribute-access\n",
      "  df.good = df['tweet'].str.lower().str.contains(\\\n"
     ]
    }
   ],
   "source": [
    "terms_of_interest = ['beale street','bealestreet']\n",
    "more_terms_of_interest = ['black panther','blackpanther']\n",
    "bsdf = proc.findTerms(cldf_no_RT, terms_of_interest)\n",
    "bpdf = proc.findTerms(cldf_no_RT, more_terms_of_interest)"
   ]
  },
  {
   "cell_type": "markdown",
   "metadata": {},
   "source": [
    "## Convert Tweets to List"
   ]
  },
  {
   "cell_type": "code",
   "execution_count": 10,
   "metadata": {},
   "outputs": [
    {
     "name": "stdout",
     "output_type": "stream",
     "text": [
      "                      date  followers        username  \\\n",
      "0  Jun 01 20:02:51 2018\\t0         88       Yohanan_L   \n",
      "1  Jun 01 22:19:01 2018\\t0        464       Kiakkye30   \n",
      "2  Jun 08 00:04:48 2018\\t0       1019       KessprdGB   \n",
      "3  Jun 08 03:27:48 2018\\t0         24  quynhnguyen153   \n",
      "5  Jun 08 08:32:53 2018\\t0       1219   incredibleMoh   \n",
      "\n",
      "                      location  \\\n",
      "0                       France   \n",
      "1                        Haiti   \n",
      "2                         None   \n",
      "3                         None   \n",
      "5  vers l'infini et au dela..    \n",
      "\n",
      "                                                                                                                                                                                                                             tweet  \\\n",
      "0                                                                                                                @AnthonyParasole @kanyewest All right didn't know but I agree, Pusha T opus is better. Let's see Cudi now. Cheers   \n",
      "1  Give #NewMusicFriday a try. 🎶🎵 @DanAndShay ➖ Alone Together🎵 @Drake ➖ I'm Upset🎵 @FLAGALine➖ Simple🎵 @kanyewest ➖ ye🎵 @maroon5 ft. @iamcardib ➖ Girls Like You🎵 @the1975 ➖ Give Yourself a TryTweet what you're listening to. 👇   \n",
      "2                                                                                                                          [ #GOT7NOW ] See you tomorrow, Berlin I GOT7 🐥#GOT7#갓세븐#EyesOnYou#GOT7WORLDTOUR https://t.co/HtO7G7SQLO   \n",
      "3                                                                                                                      #CHANYEOL #EXO #Monster #찬열 @weareoneEXO 🍾 Monster 200M 👻😈🎉 https://t.co/CJ3fhvIdek https://t.co/uraD3nrlfW   \n",
      "5                                                                                                                                                                        reborn is so beautiful @KidCudi @kanyewest #KidsSeeGhosts   \n",
      "\n",
      "                    id  \\\n",
      "0  1002641647736377346   \n",
      "1  1002675915221098496   \n",
      "2  1004876863670374401   \n",
      "3  1004927950293045248   \n",
      "5  1005004726994423808   \n",
      "\n",
      "                                                                                                                  rt  \n",
      "0  @AnthonyParasole @kanyewest All right didn't know but I agree, Pusha T opus is better. Let's see Cudi now. Cheers  \n",
      "1                                                                                                   RT @TwitterMusic  \n",
      "2                                                                                                   RT @GOT7Official  \n",
      "3                                                                                                     RT @chanyeolit  \n",
      "5                                                                                                  RT @seffeydyrdick  \n"
     ]
    },
    {
     "name": "stderr",
     "output_type": "stream",
     "text": [
      "<ipython-input-10-cb5c7012204d>:1: SettingWithCopyWarning: \n",
      "A value is trying to be set on a copy of a slice from a DataFrame\n",
      "\n",
      "See the caveats in the documentation: https://pandas.pydata.org/pandas-docs/stable/user_guide/indexing.html#returning-a-view-versus-a-copy\n",
      "  cldf_no_RT['original_tweet'][cldf_no_RT.original_tweet == 'None'] = cldf_no_RT['tweet']\n"
     ]
    }
   ],
   "source": [
    "cldf_no_RT['original_tweet'][cldf_no_RT.original_tweet == 'None'] = cldf_no_RT['tweet']\n",
    "cldf_no_RT['tweet'] = cldf_no_RT['original_tweet']\n",
    "del cldf_no_RT['original_tweet']\n",
    "print(cldf_no_RT.head())\n",
    "tweets = list(cldf_no_RT.tweet)"
   ]
  },
  {
   "cell_type": "markdown",
   "metadata": {},
   "source": [
    "## Sentiment"
   ]
  },
  {
   "cell_type": "markdown",
   "metadata": {},
   "source": [
    "### Total Sentiment"
   ]
  },
  {
   "cell_type": "code",
   "execution_count": 11,
   "metadata": {
    "scrolled": true
   },
   "outputs": [
    {
     "data": {
      "image/png": "[encoded data removed]",
      "text/plain": [
       "<Figure size 432x288 with 1 Axes>"
      ]
     },
     "metadata": {
      "needs_background": "light"
     },
     "output_type": "display_data"
    },
    {
     "data": {
      "image/png": "[encoded data removed]",
      "text/plain": [
       "<Figure size 432x288 with 1 Axes>"
      ]
     },
     "metadata": {
      "needs_background": "light"
     },
     "output_type": "display_data"
    }
   ],
   "source": [
    "'''\n",
    "*** First we can look at overall sentiment.\n",
    "*** Here we will look at a histogram and a binary comparison (ignoring neutral).\n",
    "'''\n",
    "srange = (-8,10) # sentiment range (for plot)\n",
    "sent.plotTotalSentiment(tweets,srange)"
   ]
  },
  {
   "cell_type": "markdown",
   "metadata": {},
   "source": [
    "### Hashtag & Username Raw Sentiment"
   ]
  },
  {
   "cell_type": "code",
   "execution_count": 12,
   "metadata": {},
   "outputs": [],
   "source": [
    "NORMALIZED = False\n",
    "PLOT = True"
   ]
  },
  {
   "cell_type": "markdown",
   "metadata": {},
   "source": [
    "#### Hashtags"
   ]
  },
  {
   "cell_type": "code",
   "execution_count": 13,
   "metadata": {},
   "outputs": [
    {
     "data": {
      "image/png": "[encoded data removed]",
      "text/plain": [
       "<Figure size 432x288 with 1 Axes>"
      ]
     },
     "metadata": {
      "needs_background": "light"
     },
     "output_type": "display_data"
    }
   ],
   "source": [
    "'''\n",
    "*** Here we compute sentiment for each hashtag of interest.\n",
    "'''\n",
    "hashtags = [\"climate\"]\n",
    "raw_htag_sent = sent.computeHashtagSentiment(tweets,hashtags,NORMALIZED,PLOT)"
   ]
  },
  {
   "cell_type": "markdown",
   "metadata": {},
   "source": [
    "#### Usernames"
   ]
  },
  {
   "cell_type": "code",
   "execution_count": 14,
   "metadata": {},
   "outputs": [
    {
     "data": {
      "image/png": "[encoded data removed]",
      "text/plain": [
       "<Figure size 432x288 with 1 Axes>"
      ]
     },
     "metadata": {
      "needs_background": "light"
     },
     "output_type": "display_data"
    }
   ],
   "source": [
    "'''\n",
    "*** Here we compute sentiment for each username of interest.\n",
    "'''\n",
    "usernames = [\"Trump\"]\n",
    "raw_user_sent = sent.computeHashtagSentiment(tweets,usernames,NORMALIZED,PLOT)"
   ]
  },
  {
   "cell_type": "markdown",
   "metadata": {},
   "source": [
    "### Hashtag & Username Normalized Sentiment"
   ]
  },
  {
   "cell_type": "code",
   "execution_count": 15,
   "metadata": {},
   "outputs": [],
   "source": [
    "NORMALIZED = True"
   ]
  },
  {
   "cell_type": "markdown",
   "metadata": {},
   "source": [
    "#### Hashtags"
   ]
  },
  {
   "cell_type": "markdown",
   "metadata": {},
   "source": [
    "#### Usernames"
   ]
  },
  {
   "cell_type": "code",
   "execution_count": 16,
   "metadata": {},
   "outputs": [
    {
     "data": {
      "image/png": "[encoded data removed]",
      "text/plain": [
       "<Figure size 432x288 with 1 Axes>"
      ]
     },
     "metadata": {
      "needs_background": "light"
     },
     "output_type": "display_data"
    }
   ],
   "source": [
    "'''\n",
    "*** Here we compute sentiment for each username of interest.\n",
    "'''\n",
    "usernames = []\n",
    "norm_user_sent = sent.computeHashtagSentiment(tweets,usernames,NORMALIZED,PLOT)"
   ]
  },
  {
   "cell_type": "markdown",
   "metadata": {},
   "source": [
    "## View Sentiment over Time"
   ]
  },
  {
   "cell_type": "code",
   "execution_count": 17,
   "metadata": {},
   "outputs": [
    {
     "name": "stderr",
     "output_type": "stream",
     "text": [
      "/opt/anaconda3/lib/python3.8/site-packages/pandas/core/indexing.py:670: SettingWithCopyWarning: \n",
      "A value is trying to be set on a copy of a slice from a DataFrame\n",
      "\n",
      "See the caveats in the documentation: https://pandas.pydata.org/pandas-docs/stable/user_guide/indexing.html#returning-a-view-versus-a-copy\n",
      "  iloc._setitem_with_indexer(indexer, value)\n"
     ]
    }
   ],
   "source": [
    "cldf_no_RT = sent.computeDataframeSentiment(cldf_no_RT)"
   ]
  },
  {
   "cell_type": "code",
   "execution_count": 18,
   "metadata": {},
   "outputs": [
    {
     "ename": "AttributeError",
     "evalue": "Can only use .dt accessor with datetimelike values",
     "output_type": "error",
     "traceback": [
      "\u001b[0;31m---------------------------------------------------------------------------\u001b[0m",
      "\u001b[0;31mAttributeError\u001b[0m                            Traceback (most recent call last)",
      "\u001b[0;32m<ipython-input-18-ea1a8bd4643b>\u001b[0m in \u001b[0;36m<module>\u001b[0;34m\u001b[0m\n\u001b[1;32m      1\u001b[0m \u001b[0;31m# df['Date'] = pd.to_datetime(df['Date'], errors='coerce')\u001b[0m\u001b[0;34m\u001b[0m\u001b[0;34m\u001b[0m\u001b[0;34m\u001b[0m\u001b[0m\n\u001b[0;32m----> 2\u001b[0;31m \u001b[0mcldf_no_RT\u001b[0m\u001b[0;34m.\u001b[0m\u001b[0msentiment\u001b[0m\u001b[0;34m.\u001b[0m\u001b[0mgroupby\u001b[0m\u001b[0;34m(\u001b[0m\u001b[0;34m[\u001b[0m\u001b[0mcldf_no_RT\u001b[0m\u001b[0;34m[\u001b[0m\u001b[0;34m'date'\u001b[0m\u001b[0;34m]\u001b[0m\u001b[0;34m.\u001b[0m\u001b[0mdt\u001b[0m\u001b[0;34m.\u001b[0m\u001b[0myear\u001b[0m\u001b[0;34m,\u001b[0m\u001b[0mcldf_no_RT\u001b[0m\u001b[0;34m[\u001b[0m\u001b[0;34m\"date\"\u001b[0m\u001b[0;34m]\u001b[0m\u001b[0;34m.\u001b[0m\u001b[0mdt\u001b[0m\u001b[0;34m.\u001b[0m\u001b[0mmonth\u001b[0m\u001b[0;34m]\u001b[0m\u001b[0;34m)\u001b[0m\u001b[0;34m.\u001b[0m\u001b[0mmean\u001b[0m\u001b[0;34m(\u001b[0m\u001b[0;34m)\u001b[0m\u001b[0;34m.\u001b[0m\u001b[0mplot\u001b[0m\u001b[0;34m(\u001b[0m\u001b[0mkind\u001b[0m\u001b[0;34m=\u001b[0m\u001b[0;34m\"bar\"\u001b[0m\u001b[0;34m)\u001b[0m\u001b[0;34m\u001b[0m\u001b[0;34m\u001b[0m\u001b[0m\n\u001b[0m",
      "\u001b[0;32m/opt/anaconda3/lib/python3.8/site-packages/pandas/core/generic.py\u001b[0m in \u001b[0;36m__getattr__\u001b[0;34m(self, name)\u001b[0m\n\u001b[1;32m   5133\u001b[0m             \u001b[0;32mor\u001b[0m \u001b[0mname\u001b[0m \u001b[0;32min\u001b[0m \u001b[0mself\u001b[0m\u001b[0;34m.\u001b[0m\u001b[0m_accessors\u001b[0m\u001b[0;34m\u001b[0m\u001b[0;34m\u001b[0m\u001b[0m\n\u001b[1;32m   5134\u001b[0m         ):\n\u001b[0;32m-> 5135\u001b[0;31m             \u001b[0;32mreturn\u001b[0m \u001b[0mobject\u001b[0m\u001b[0;34m.\u001b[0m\u001b[0m__getattribute__\u001b[0m\u001b[0;34m(\u001b[0m\u001b[0mself\u001b[0m\u001b[0;34m,\u001b[0m \u001b[0mname\u001b[0m\u001b[0;34m)\u001b[0m\u001b[0;34m\u001b[0m\u001b[0;34m\u001b[0m\u001b[0m\n\u001b[0m\u001b[1;32m   5136\u001b[0m         \u001b[0;32melse\u001b[0m\u001b[0;34m:\u001b[0m\u001b[0;34m\u001b[0m\u001b[0;34m\u001b[0m\u001b[0m\n\u001b[1;32m   5137\u001b[0m             \u001b[0;32mif\u001b[0m \u001b[0mself\u001b[0m\u001b[0;34m.\u001b[0m\u001b[0m_info_axis\u001b[0m\u001b[0;34m.\u001b[0m\u001b[0m_can_hold_identifiers_and_holds_name\u001b[0m\u001b[0;34m(\u001b[0m\u001b[0mname\u001b[0m\u001b[0;34m)\u001b[0m\u001b[0;34m:\u001b[0m\u001b[0;34m\u001b[0m\u001b[0;34m\u001b[0m\u001b[0m\n",
      "\u001b[0;32m/opt/anaconda3/lib/python3.8/site-packages/pandas/core/accessor.py\u001b[0m in \u001b[0;36m__get__\u001b[0;34m(self, obj, cls)\u001b[0m\n\u001b[1;32m    185\u001b[0m             \u001b[0;31m# we're accessing the attribute of the class, i.e., Dataset.geo\u001b[0m\u001b[0;34m\u001b[0m\u001b[0;34m\u001b[0m\u001b[0;34m\u001b[0m\u001b[0m\n\u001b[1;32m    186\u001b[0m             \u001b[0;32mreturn\u001b[0m \u001b[0mself\u001b[0m\u001b[0;34m.\u001b[0m\u001b[0m_accessor\u001b[0m\u001b[0;34m\u001b[0m\u001b[0;34m\u001b[0m\u001b[0m\n\u001b[0;32m--> 187\u001b[0;31m         \u001b[0maccessor_obj\u001b[0m \u001b[0;34m=\u001b[0m \u001b[0mself\u001b[0m\u001b[0;34m.\u001b[0m\u001b[0m_accessor\u001b[0m\u001b[0;34m(\u001b[0m\u001b[0mobj\u001b[0m\u001b[0;34m)\u001b[0m\u001b[0;34m\u001b[0m\u001b[0;34m\u001b[0m\u001b[0m\n\u001b[0m\u001b[1;32m    188\u001b[0m         \u001b[0;31m# Replace the property with the accessor object. Inspired by:\u001b[0m\u001b[0;34m\u001b[0m\u001b[0;34m\u001b[0m\u001b[0;34m\u001b[0m\u001b[0m\n\u001b[1;32m    189\u001b[0m         \u001b[0;31m# https://www.pydanny.com/cached-property.html\u001b[0m\u001b[0;34m\u001b[0m\u001b[0;34m\u001b[0m\u001b[0;34m\u001b[0m\u001b[0m\n",
      "\u001b[0;32m/opt/anaconda3/lib/python3.8/site-packages/pandas/core/indexes/accessors.py\u001b[0m in \u001b[0;36m__new__\u001b[0;34m(cls, data)\u001b[0m\n\u001b[1;32m    478\u001b[0m             \u001b[0;32mreturn\u001b[0m \u001b[0mPeriodProperties\u001b[0m\u001b[0;34m(\u001b[0m\u001b[0mdata\u001b[0m\u001b[0;34m,\u001b[0m \u001b[0morig\u001b[0m\u001b[0;34m)\u001b[0m\u001b[0;34m\u001b[0m\u001b[0;34m\u001b[0m\u001b[0m\n\u001b[1;32m    479\u001b[0m \u001b[0;34m\u001b[0m\u001b[0m\n\u001b[0;32m--> 480\u001b[0;31m         \u001b[0;32mraise\u001b[0m \u001b[0mAttributeError\u001b[0m\u001b[0;34m(\u001b[0m\u001b[0;34m\"Can only use .dt accessor with datetimelike values\"\u001b[0m\u001b[0;34m)\u001b[0m\u001b[0;34m\u001b[0m\u001b[0;34m\u001b[0m\u001b[0m\n\u001b[0m",
      "\u001b[0;31mAttributeError\u001b[0m: Can only use .dt accessor with datetimelike values"
     ]
    }
   ],
   "source": [
    "# df['Date'] = pd.to_datetime(df['Date'], errors='coerce')\n",
    "cldf_no_RT.sentiment.groupby([cldf_no_RT['date'].dt.year,cldf_no_RT[\"date\"].dt.month]).mean().plot(kind=\"bar\")"
   ]
  },
  {
   "cell_type": "markdown",
   "metadata": {},
   "source": [
    "### Subset Sentiment by Date"
   ]
  },
  {
   "cell_type": "markdown",
   "metadata": {},
   "source": [
    "## Compare Sentiment from Different Dataframes"
   ]
  },
  {
   "cell_type": "code",
   "execution_count": null,
   "metadata": {},
   "outputs": [
    {
     "data": {
      "image/png": "[encoded data removed]",
      "text/plain": [
       "<Figure size 432x288 with 1 Axes>"
      ]
     },
     "metadata": {
      "needs_background": "light"
     },
     "output_type": "display_data"
    }
   ],
   "source": [
    "df_list = [bsdf,bpdf]\n",
    "normalized = True\n",
    "labels = ['1','2']\n",
    "sent.compareSentimentByDataframe(df_list,normalized,labels)"
   ]
  },
  {
   "cell_type": "code",
   "execution_count": null,
   "metadata": {},
   "outputs": [
    {
     "data": {
      "image/png": "[encoded data removed]",
      "text/plain": [
       "<Figure size 432x288 with 1 Axes>"
      ]
     },
     "metadata": {
      "needs_background": "light"
     },
     "output_type": "display_data"
    }
   ],
   "source": [
    "import matplotlib.pyplot as plt\n",
    "\n",
    "unq = set(tweets)\n",
    "\n",
    "freq = {uname: tweets.count(uname) for uname in unq}\n",
    "plt.bar(range(len(unq)), freq.values())\n",
    "plt.show()"
   ]
  },
  {
   "cell_type": "code",
   "execution_count": null,
   "metadata": {},
   "outputs": [
    {
     "name": "stderr",
     "output_type": "stream",
     "text": [
      "/opt/anaconda3/lib/python3.8/site-packages/requests/__init__.py:89: RequestsDependencyWarning: urllib3 (1.26.7) or chardet (3.0.4) doesn't match a supported version!\n",
      "  warnings.warn(\"urllib3 ({}) or chardet ({}) doesn't match a supported \"\n",
      "[nltk_data] Downloading package vader_lexicon to\n",
      "[nltk_data]     /Users/rajuy/nltk_data...\n",
      "[nltk_data]   Package vader_lexicon is already up-to-date!\n"
     ]
    },
    {
     "name": "stdout",
     "output_type": "stream",
     "text": [
      "1962.0\n"
     ]
    }
   ],
   "source": [
    "from textblob import TextBlob\n",
    "import tweepy\n",
    "import matplotlib.pyplot as plt\n",
    "import pandas as pd\n",
    "import numpy as np\n",
    "import os\n",
    "from nltk.sentiment.vader import SentimentIntensityAnalyzer\n",
    "import nltk\n",
    "nltk.download('vader_lexicon')\n",
    "\n",
    "\n",
    "\n",
    "def percentage(part,whole):\n",
    " return 100 * float(part)/float(whole)\n",
    "\n",
    "positive = 0\n",
    "negative = 0\n",
    "neutral = 0\n",
    "polarity = 0\n",
    "tweet_list = []\n",
    "neutral_list = []\n",
    "negative_list = []\n",
    "positive_list = []\n",
    "noOfTweet = 1000\n",
    "\n",
    "negativeCount=0\n",
    "positiveCount=0\n",
    "neutralCount=0\n",
    "\n",
    "for tweet in tweets:\n",
    "    tweet_list.append(tweet)\n",
    "    analysis = TextBlob(tweet)\n",
    "    score = SentimentIntensityAnalyzer().polarity_scores(tweet)\n",
    "    neg = score['neg']\n",
    "    neu = score['neu']\n",
    "    pos = score['pos']\n",
    "    comp = score['compound']\n",
    "    polarity += analysis.sentiment.polarity\n",
    "\n",
    "\n",
    "        \n",
    "        \n",
    "        \n",
    "        \n",
    "    if neg > pos:\n",
    "        negativeCount+=1\n",
    "        negative_list.append(tweet)\n",
    "  \n",
    "    elif pos > neg:\n",
    "        positiveCount+=1\n",
    "        positive_list.append(tweet)\n",
    "    \n",
    "    elif pos == neg:\n",
    "        neutralCount+=1\n",
    "        neutral_list.append(tweet)\n",
    "        \n",
    "    positive = percentage(positive, noOfTweet)\n",
    "    negative = percentage(negative, noOfTweet)\n",
    "    neutral = percentage(neutral, noOfTweet)\n",
    "    polarity = percentage(polarity, noOfTweet)\n",
    "    positive = format(positiveCount, '.1f')\n",
    "    negative = format(negativeCount, '.1f')\n",
    "    neutral = format(neutralCount, '.1f')\n",
    "    \n",
    "print(positive)\n"
   ]
  },
  {
   "cell_type": "code",
   "execution_count": null,
   "metadata": {},
   "outputs": [
    {
     "name": "stdout",
     "output_type": "stream",
     "text": [
      "total number:  6044\n",
      "positive number:  1962\n",
      "negative number:  549\n",
      "neutral number:  3533\n"
     ]
    },
    {
     "data": {
      "text/html": [
       "<div>\n",
       "<style scoped>\n",
       "    .dataframe tbody tr th:only-of-type {\n",
       "        vertical-align: middle;\n",
       "    }\n",
       "\n",
       "    .dataframe tbody tr th {\n",
       "        vertical-align: top;\n",
       "    }\n",
       "\n",
       "    .dataframe thead th {\n",
       "        text-align: right;\n",
       "    }\n",
       "</style>\n",
       "<table border=\"1\" class=\"dataframe\">\n",
       "  <thead>\n",
       "    <tr style=\"text-align: right;\">\n",
       "      <th></th>\n",
       "      <th>0</th>\n",
       "    </tr>\n",
       "  </thead>\n",
       "  <tbody>\n",
       "    <tr>\n",
       "      <th>0</th>\n",
       "      <td>[STREAM] 180330 KBS&amp;lt;Music Bank&amp;gt; เวลา 15.00 น.(ไทย) #GOT7 #EyesOnYou #LOOK►https://t.co/vjCT1ycCuU ►https://t.co/1VX55DNJn4►https://t.co/fF6eBFqiFZ https://t.co/9omvZQZw2I</td>\n",
       "    </tr>\n",
       "    <tr>\n",
       "      <th>1</th>\n",
       "      <td>2 minutes😭💔💔#WelcomeOliviaHye</td>\n",
       "    </tr>\n",
       "    <tr>\n",
       "      <th>2</th>\n",
       "      <td>Poppies..       🌿🌺🌿🌺🌿🌺 #LovelyEvening https://t.co/dYiocpuiX1</td>\n",
       "    </tr>\n",
       "    <tr>\n",
       "      <th>3</th>\n",
       "      <td>#Repost bts.0ffcial (get_repost)・・・JIKOOK or TAEKOOK ?❤.....#BTS #BangtanSonyeondan… https://t.co/LdPytufdo1</td>\n",
       "    </tr>\n",
       "    <tr>\n",
       "      <th>4</th>\n",
       "      <td>Look - GOT7https://t.co/VrzKFobSes#GOT7 #갓세븐#EyesOnYou#Look</td>\n",
       "    </tr>\n",
       "    <tr>\n",
       "      <th>...</th>\n",
       "      <td>...</td>\n",
       "    </tr>\n",
       "    <tr>\n",
       "      <th>6039</th>\n",
       "      <td>[HQ] 1806029 #CHANYEOL #찬열Cr: Playing With Firehttps://t.co/mzqLlzwHarhttps://t.co/0IRlRuXAyShttps://t.co/yxTfHZuuXY#EXO #엑소 @weareoneEXO https://t.co/vvsNXhXFUI</td>\n",
       "    </tr>\n",
       "    <tr>\n",
       "      <th>6040</th>\n",
       "      <td>RT RT mikeshapirodrum #KCAMexico #KCAArgentina #DemiLovato #EchameLaCulpa #SofiaReyes #SofiaReyesTrendy #JBalvin</td>\n",
       "    </tr>\n",
       "    <tr>\n",
       "      <th>6041</th>\n",
       "      <td>[HQ] 180608 #Yebin #Uni_T fansign @ Kobacco Hall (3)#백예빈 #예빈 #다이아 #DIA #유니티 #UNIT @dia_official @official_uni_T https://t.co/XuTnGIAMsG</td>\n",
       "    </tr>\n",
       "    <tr>\n",
       "      <th>6042</th>\n",
       "      <td>Gain 1000 more followers in 35 mins!!✓Retweet to get followed✓ Follow everybody who follows youLet's GO  🔥#GainWithPyeWaw</td>\n",
       "    </tr>\n",
       "    <tr>\n",
       "      <th>6043</th>\n",
       "      <td>Is it Friday yet? ⚡#Energica #MyElectricEgo #Electric #Sportbike #nogasneeded https://t.co/CkxLF4bHo3</td>\n",
       "    </tr>\n",
       "  </tbody>\n",
       "</table>\n",
       "<p>6044 rows × 1 columns</p>\n",
       "</div>"
      ],
      "text/plain": [
       "                                                                                                                                                                                     0\n",
       "0     [STREAM] 180330 KBS&lt;Music Bank&gt; เวลา 15.00 น.(ไทย) #GOT7 #EyesOnYou #LOOK►https://t.co/vjCT1ycCuU ►https://t.co/1VX55DNJn4►https://t.co/fF6eBFqiFZ https://t.co/9omvZQZw2I\n",
       "1                                                                                                                                                        2 minutes😭💔💔#WelcomeOliviaHye\n",
       "2                                                                                                                        Poppies..       🌿🌺🌿🌺🌿🌺 #LovelyEvening https://t.co/dYiocpuiX1\n",
       "3                                                                         #Repost bts.0ffcial (get_repost)・・・JIKOOK or TAEKOOK ?❤.....#BTS #BangtanSonyeondan… https://t.co/LdPytufdo1\n",
       "4                                                                                                                          Look - GOT7https://t.co/VrzKFobSes#GOT7 #갓세븐#EyesOnYou#Look\n",
       "...                                                                                                                                                                                ...\n",
       "6039                 [HQ] 1806029 #CHANYEOL #찬열Cr: Playing With Firehttps://t.co/mzqLlzwHarhttps://t.co/0IRlRuXAyShttps://t.co/yxTfHZuuXY#EXO #엑소 @weareoneEXO https://t.co/vvsNXhXFUI\n",
       "6040                                                                  RT RT mikeshapirodrum #KCAMexico #KCAArgentina #DemiLovato #EchameLaCulpa #SofiaReyes #SofiaReyesTrendy #JBalvin\n",
       "6041                                           [HQ] 180608 #Yebin #Uni_T fansign @ Kobacco Hall (3)#백예빈 #예빈 #다이아 #DIA #유니티 #UNIT @dia_official @official_uni_T https://t.co/XuTnGIAMsG\n",
       "6042                                                         Gain 1000 more followers in 35 mins!!✓Retweet to get followed✓ Follow everybody who follows youLet's GO  🔥#GainWithPyeWaw\n",
       "6043                                                                             Is it Friday yet? ⚡#Energica #MyElectricEgo #Electric #Sportbike #nogasneeded https://t.co/CkxLF4bHo3\n",
       "\n",
       "[6044 rows x 1 columns]"
      ]
     },
     "execution_count": 35,
     "metadata": {},
     "output_type": "execute_result"
    }
   ],
   "source": [
    "#Number of Tweets (Total, Positive, Negative, Neutral)\n",
    "tweet_list = pd.DataFrame(tweet_list)\n",
    "neutral_list = pd.DataFrame(neutral_list)\n",
    "negative_list = pd.DataFrame(negative_list)\n",
    "positive_list = pd.DataFrame(positive_list)\n",
    "print(\"total number: \",len(tweet_list))\n",
    "print(\"positive number: \",len(positive_list))\n",
    "print(\"negative number: \", len(negative_list))\n",
    "print(\"neutral number: \",len(neutral_list))\n",
    "tweet_list"
   ]
  },
  {
   "cell_type": "code",
   "execution_count": null,
   "metadata": {},
   "outputs": [
    {
     "name": "stdout",
     "output_type": "stream",
     "text": [
      "32.46194573130377 9.083388484447386 58.45466578424884\n"
     ]
    },
    {
     "data": {
      "image/png": "[encoded data removed]",
      "text/plain": [
       "<Figure size 432x288 with 1 Axes>"
      ]
     },
     "metadata": {},
     "output_type": "display_data"
    }
   ],
   "source": [
    "positive_percentage = len(positive_list)/len(tweet_list)*100\n",
    "negative_percentage = len(negative_list)/len(tweet_list)*100\n",
    "neutral_percentage = len(neutral_list)/len(tweet_list)*100\n",
    "print(positive_percentage,negative_percentage, neutral_percentage )\n",
    "labels = ['Positive ['+str(positive_percentage)+'%]' , 'Neutral ['+str(neutral_percentage)+'%]','Negative ['+str(negative_percentage)+'%]']\n",
    "sizes = [positive_percentage, neutral_percentage, negative_percentage]\n",
    "colors = ['yellowgreen', 'blue','red']\n",
    "patches, texts = plt.pie(sizes,colors=colors, startangle=90)\n",
    "plt.style.use('default')\n",
    "plt.legend(labels)\n",
    "plt.axis('equal')\n",
    "plt.show()"
   ]
  },
  {
   "cell_type": "code",
   "execution_count": null,
   "metadata": {},
   "outputs": [],
   "source": []
  }
 ],
 "metadata": {
  "interpreter": {
   "hash": "40d3a090f54c6569ab1632332b64b2c03c39dcf918b08424e98f38b5ae0af88f"
  },
  "kernelspec": {
   "display_name": "Python 3.8.5 64-bit (conda)",
   "name": "python3"
  },
  "language_info": {
   "codemirror_mode": {
    "name": "ipython",
    "version": 3
   },
   "file_extension": ".py",
   "mimetype": "text/x-python",
   "name": "python",
   "nbconvert_exporter": "python",
   "pygments_lexer": "ipython3",
   "version": "3.8.5"
  }
 },
 "nbformat": 4,
 "nbformat_minor": 2
}
