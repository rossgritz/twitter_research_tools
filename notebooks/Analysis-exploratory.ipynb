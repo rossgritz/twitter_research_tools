{
 "cells": [
  {
   "cell_type": "markdown",
   "metadata": {},
   "source": [
    "# Exploratory Analysis Notebook"
   ]
  },
  {
   "cell_type": "markdown",
   "metadata": {},
   "source": [
    "#### This notebook contains a demonstration of the tools necessary for conducting exploratory analysis of the data. This includes searching for specific users, topics and hashtags and then using descriptive analytics (e.g. frequency analysis, descripting statistics and temporal frequency)."
   ]
  },
  {
   "cell_type": "code",
   "execution_count": 1,
   "metadata": {
    "scrolled": false
   },
   "outputs": [],
   "source": [
    "import trt_API.process as proc"
   ]
  },
  {
   "cell_type": "markdown",
   "metadata": {},
   "source": [
    "## Variables for Analysis"
   ]
  },
  {
   "cell_type": "code",
   "execution_count": 2,
   "metadata": {},
   "outputs": [],
   "source": [
    "# Set the path to the parent directory containing all Tweets of interest\n",
<<<<<<< HEAD
    "DIRECTORY = './tweets/*'\n",
=======
    "DIRECTORY = './tweets/'\n",
>>>>>>> f267001ef71f06d1b8f180bada6cecdc1936cf0a
    "# Set to True to isolate english language tweets\n",
    "ENGLISH = False"
   ]
  },
  {
   "cell_type": "markdown",
   "metadata": {},
   "source": [
    "## Load Tweet and Generate Dataframe"
   ]
  },
  {
   "cell_type": "code",
<<<<<<< HEAD
   "execution_count": 3,
=======
   "execution_count": 16,
>>>>>>> f267001ef71f06d1b8f180bada6cecdc1936cf0a
   "metadata": {},
   "outputs": [
    {
     "name": "stdout",
     "output_type": "stream",
     "text": [
<<<<<<< HEAD
      "Loaded utf-8 df.\n",
      "Initial size: 26996\n",
      "Dropping duplicates...\n",
      "Final size: 23572\n"
=======
      "Initial size: 72\n",
      "Dropping duplicates...\n",
      "Final size: 71\n"
>>>>>>> f267001ef71f06d1b8f180bada6cecdc1936cf0a
     ]
    }
   ],
   "source": [
    "tweet_objects = proc.loadTweetObjects(DIRECTORY)\n",
    "df = proc.convertTweetsToDataframe(tweet_objects, ENGLISH)"
   ]
  },
  {
   "cell_type": "markdown",
   "metadata": {},
   "source": [
    "## Extract Potential Cashtags"
   ]
  },
  {
   "cell_type": "code",
<<<<<<< HEAD
   "execution_count": 4,
=======
   "execution_count": 17,
>>>>>>> f267001ef71f06d1b8f180bada6cecdc1936cf0a
   "metadata": {},
   "outputs": [
    {
     "name": "stdout",
     "output_type": "stream",
     "text": [
<<<<<<< HEAD
      "Total potential Cashtags: 118\n"
=======
      "Total potential Cashtags: 0\n"
>>>>>>> f267001ef71f06d1b8f180bada6cecdc1936cf0a
     ]
    }
   ],
   "source": [
    "ctdf = proc.extractPossibleCashtags(df)"
   ]
  },
  {
   "cell_type": "markdown",
   "metadata": {},
   "source": [
    "## Removing Noisy Tweets"
   ]
  },
  {
   "cell_type": "code",
<<<<<<< HEAD
   "execution_count": 5,
=======
   "execution_count": 39,
>>>>>>> f267001ef71f06d1b8f180bada6cecdc1936cf0a
   "metadata": {},
   "outputs": [
    {
     "name": "stdout",
     "output_type": "stream",
     "text": [
<<<<<<< HEAD
      "Removed 0 noisy terms.\n"
     ]
    },
    {
     "name": "stderr",
     "output_type": "stream",
     "text": [
      "/Users/rajuy/Documents/twitter_research_tools-master/notebooks/trt_API/process.py:160: UserWarning: Pandas doesn't allow columns to be created via a new attribute name - see https://pandas.pydata.org/pandas-docs/stable/indexing.html#attribute-access\n",
      "  df.bad = df['tweet'].str.lower().str.contains(\\\n"
=======
      "Removed 14 noisy terms.\n"
>>>>>>> f267001ef71f06d1b8f180bada6cecdc1936cf0a
     ]
    }
   ],
   "source": [
    "'''\n",
    "*** Tweets often use popular hashtags with unrelated topics.\n",
    "*** Noisy words can be identified to use to filter such tweets.\n",
    "*** Enter these words below in the noisy_terms list.\n",
    "'''\n",
    "noisy_terms = ['#GoldenGlobes']\n",
    "cldf = proc.removeNoisyTerms(df, noisy_terms)"
   ]
  },
  {
   "cell_type": "code",
   "execution_count": null,
   "metadata": {},
   "outputs": [],
   "source": []
  },
  {
   "cell_type": "code",
<<<<<<< HEAD
   "execution_count": 6,
=======
   "execution_count": 44,
>>>>>>> f267001ef71f06d1b8f180bada6cecdc1936cf0a
   "metadata": {},
   "outputs": [
    {
     "name": "stdout",
     "output_type": "stream",
     "text": [
<<<<<<< HEAD
      "Who is ready to do #EcoFriendly home decor? #DIY #eco â¡ï¸ https://t.co/avGy6YH7gY https://t.co/pWkMJP9dQz\n",
      "\n",
      "\n",
      "Damage from the LA #earthquake https://t.co/dDV9Lcp7Dc\n",
      "\n",
      "\n",
      "Beautiful Pink and Yellow Tulips Garden#Nature #Photo #Flowers #Tulips #Gardens #Spring #Colorful #Cool #Bloom#Pink #Tulip #Pictures #Beauty #Gardening #Plants https://t.co/LpSd4OdF48\n",
      "\n",
      "\n",
      "Flowers and Alpine Cottages at Tatras Tatra Mountains #Poland#Nature #Travel #Photo #Hiking #Mountains #Flowers #Plants #Trekking #Beauty#Photos #Outdoors #Vacations #Polska https://t.co/qSfOnbKcz4\n",
      "\n",
      "\n",
      "#LaikipiaNatureAmbassadorsWay to go\n",
      "\n",
      "\n",
      "Be safe #DTLA  #earthquake https://t.co/ky82ADZC4S\n",
      "\n",
      "\n",
      "Spring Snowdrops ~  https://t.co/cq2TUzNt2p ~ #Art #Photography #NewRiverNature\n",
      "\n",
      "\n",
      "Earth Day 2018#AGPeduli #AGPeduliBumi #AGPEarthDay #EarthDay #EndPlasticPollution #LessPlastic #EarthDay2018 https://t.co/H8zZbryzFs\n",
      "\n",
      "\n",
      "Earth Day 2018#agpeduli #AGPeduliBumi #AGPearthday#EarthDay #EndPlasticPollution #lessplastic #earthday2018 @tamblingwildlife @agpeduli #AGPeduliCitarum #citarumlestari #citarumharum@tamblingID@citarumlestari https://t.co/VqnH6lOHDR\n",
      "\n",
      "\n",
      "House finch. Bad hair day.#photography #nature #bird https://t.co/ChPnb4lM9x\n",
      "\n",
      "\n",
      "0.55 earthquake occurred 7km NW of The Geysers, CA at 03:09 UTC! #earthquake #TheGeysers https://t.co/BsNE4LDKvh\n",
      "\n",
      "\n",
      "GIANNIS!#FearTheDeer https://t.co/MsoHEVq5Qc\n",
      "\n",
      "\n",
      "GIANNIS!#FearTheDeer https://t.co/MsoHEVq5Qc\n",
      "\n",
      "\n",
      "Beauty is everywhere! ð³ð¦ð¹ð»ð¿ð·#gardens #roses #nature #amwriting #amreading https://t.co/lhq7UtziO3\n",
      "\n",
      "\n",
      "Ban plastic bag Stop plastic pollution #agpeduli #AGPeduliBumi #AGPearthday#EarthDay #EndPlasticPollution #lessplastic #earthday2018 @tamblingwildlife @agpeduli #AGPeduliCitarum #citarumlestari #citarumharum@tamblingID@citarumlestari https://t.co/l6WoWLYdmZ\n",
      "\n",
      "\n",
      "Earth Day 2018#agpeduli #AGPeduliBumi #AGPearthday#EarthDay #EndPlasticPollution #lessplastic #earthday2018 @tamblingwildlife @agpeduli #AGPeduliCitarum #citarumlestari #citarumharum@tamblingID@citarumlestari https://t.co/ss7PS92B0Y\n",
      "\n",
      "\n",
      "#nature Life is a voyage of discovery.Unknown\n",
      "\n",
      "\n",
      "#Scotland has responded to the challenge of #ClimateChange with innovation https://t.co/AqJlVkU7zT 68.1% of the countryâs electricity needs were met by #renewables in 2017 #ClimateAction #Talanoa4ambition https://t.co/Jiyl1PrXTF\n",
      "\n",
      "\n",
      "Accuracy â¨@ES_SQU #Ø§ÙÙ",
      "ÙØªÙÙ_Ø§ÙÙÙØ¯Ø³Ù_Ø§ÙØ·ÙØ§Ø¨Ù8 #smart_environment https://t.co/BuIKNyjcp6\n",
      "\n",
      "\n",
      "Lavender Sunset in #Tasmania #Australia#Nature #Travel #Flowers #Gardening #Spring #Photo #Amazing #Flower #Sunset#Gardens #Photos #Lavender #Tours #Colorful https://t.co/gXIeACPjOr\n",
      "\n",
      "\n",
      "Earth day ðð³#agpeduli #AGPeduliBumi #AGPearthday#EarthDay #EndPlasticPollution #lessplastic #earthday2018 @tamblingwildlife @agpeduli #AGPeduliCitarum #citarumlestari #citarumharum@tamblingID@citarumlestari https://t.co/s3ejIKjiKv\n",
      "\n",
      "\n",
      "Bullfinch on a twig in the winter.https://t.co/JSN76mtwlS#birds #birdwatching #nature #photography #animals #wildlife #photographer #gardenlife #winter https://t.co/232es3OCoh\n",
      "\n",
      "\n",
      "butterfly 3d Wallpaper https://t.co/z4Cf1PmoDI #Mobile #Walpapers #Nature #3d #Butterfly #Free https://t.co/eO2Nv5v7CT\n",
      "\n",
      "\n",
      ".@Shell Knew About #ClimateChange Decades Ago  ...Shellâs sophisticated modeling went beyond energy...&amp; economy...addressed society as a whole.. ... predicted storms &amp; legal consequences...detailed  in 1998 Shell Internal ...1998-2020 Senario Report...\"https://t.co/sPEWSqTS7e\"\n",
      "\n",
      "\n",
      "Earthquakes got me feeling shakey about living in Los Angeles ð¤£#DTLA #earthquake\n",
      "\n",
      "\n",
      "Oh Snap! #earthquakeNEW YouTube video posted! ð¬ð¥#linkinbio â¬ï¸â¬ï¸â¬ï¸â¬ï¸ðð¦ @ Los Angeles, California https://t.co/JKQsBUHY9A\n",
      "\n",
      "\n",
      "ðGood Morning Twitter Planet ð#nature #travel #photograpy #earth https://t.co/POf9gLn5KV\n",
      "\n",
      "\n",
      "ðGood Morning Twitter Planet ð#nature #travel #photograpy #earth https://t.co/POf9gLn5KV\n",
      "\n",
      "\n",
      "A reusable pizza box...tell us more @dusty_knuckle ! #ecofriendly #sustainability#pizza https://t.co/tHtl2KmKe9\n",
      "\n",
      "\n",
      "Pak @jokowi @SitiNurbayaLHK @KementerianLHK Earth Day 2018 #agpeduli #AGPeduliBumi #AGPearthday #EarthDay #EndPlasticPollution #lessplastic #earthday2018 @MangroveCare #AGPeduliMangrove #ForumPeduliMangroveBali #FPMB @agpeduli @TamblingID @CitarumLestari https://t.co/zyfv21rHsd\n",
      "\n",
      "\n",
      "She's my #Humpdayhappinessð¿ðð¿ðð¿#beblessedð¯&amp;Enjoy this day!#naturebeshowingoutð¿#2018cannabisstrong ðª https://t.co/GFI7FVzJ2u\n",
      "\n",
      "\n",
      "Earth day ðð³#agpeduli #AGPeduliBumi #AGPearthday#EarthDay #EndPlasticPollution #lessplastic #earthday2018 @tamblingwildlife @agpeduli #AGPeduliCitarum #citarumlestari #citarumharum@tamblingID@citarumlestari https://t.co/YSIuAeeuHa\n",
      "\n",
      "\n",
      "Think GreenEarth Day 2018#agpeduli #AGPeduliBumi #AGPearthday #EarthDay #EndPlasticPollution #lessplastic #earthday2018 @tamblingwildlife @agpeduli #AGPeduliCitarum #citarumlestari #citarumharum@tamblingID @citarumlestari https://t.co/XFbWspohe3\n",
      "\n",
      "\n",
      "Earth day ðð³#agpeduli #AGPeduliBumi #AGPearthday#EarthDay #EndPlasticPollution #lessplastic #earthday2018 @tamblingwildlife @agpeduli #AGPeduliCitarum #citarumlestari #citarumharum@tamblingID@citarumlestari https://t.co/5b6gvc9IwT\n",
      "\n",
      "\n",
      "Amazing concept. Checkout a pen that can grow into a tree. @GlblCtzn #Sustainability #Schel https://t.co/eSriMXAnTl\n",
      "\n",
      "\n",
      "Check out at our research during the next #egu2018 #radon as tracer for #climatestudies: from the enlargement of the atmospheric network to the scientific applications. Tue, 10 Apr, 16:45â17:00, Room 0.49\n",
      "\n",
      "\n",
      "'This cub was so focused on making biscuits\" on his mom's belly that he had to stick his tongue out!'#EarthCapture by @Travel4Wildlife https://t.co/VxXWBDGOqh\"\n",
      "\n",
      "\n",
      "Prague by the River #Prague Czech Republic #Czech#Travel #Photo #Nature #TravelTuesday #Vacation #Holiday #Country #Trips#Castle #Art #Tours #Antique #ÄeskÃ¡ https://t.co/xEsvOK9iBo\n",
      "\n",
      "\n",
      "An #earthquake just occurred on our Santa Cruz Island bald eagle camera! Watch dad &amp; his eaglets withstand the natural disaster. https://t.co/b9AQqiZEqP\n",
      "\n",
      "\n",
      "The snow isn't going to last today, but could be back Saturday night. #EnvironmentCanada #Weather https://t.co/m1vZvRPBnP\n",
      "\n",
      "\n",
      "https://t.co/kySqkGIwAmNew renewable energy capacity double fossil fuel growth in record-breaking 2017: UN report#climate #renewables #transition https://t.co/Gjc9X8cvWg\n",
      "\n",
      "\n",
      "Mountains and Tulips Farm in Kashmir #India#Nature #Photo #Flowers #Tulips #Gardens #Spring #Colorful #Bloom #Tulip#Photos #Mountains #Gardening #Plants #Kashmir #Tours https://t.co/svB9Wkv82X\n",
      "\n",
      "\n",
      "Dear Mayor @Ron_Nirenberg, Area college and university students are doing their part to get San Antonio #ClimateReady! https://t.co/J3f4PQF2SK\n",
      "\n",
      "\n",
      "Earth Day 2018#agpeduli #AGPeduliBumi #AGPearthday#EarthDay #EndPlasticPollution #lessplastic #earthday2018 @tamblingwildlife @agpeduli #AGPeduliCitarum #citarumlestari #citarumharum@tamblingID@citarumlestari https://t.co/UbewliC7GZ\n",
      "\n",
      "\n",
      "We are the Champions!!! ðððð #FearTheBeer ð»\n",
      "\n",
      "\n",
      "And @TheSMBeermen cemented legacy. Finals experience gives their edge!COMEBACK ISRAEL!!!! #FearTheBeer #4PEAT\n",
      "\n",
      "\n",
      "COMEBACK IS REAL!!! ððððºð»#SanMiguelBeermen #FearTheBeerNO MORE GAME 6!#CHAMPIONS\n",
      "\n",
      "\n",
      "How we respond to #climatechange today will determine food security tomorrow. #ZeroHunger https://t.co/3aEv5bRKNx\n",
      "\n",
      "\n",
      "April snow brings June flowers ðºð»ð·ð¸ð #letsgomothernature\n",
      "\n",
      "\n",
      "Earth Day 2018#agpeduli #AGPeduliBumi #AGPearthday#EarthDay #EndPlasticPollution #lessplastic #earthday2018 @tamblingwildlife @agpeduli #AGPeduliCitarum #citarumlestari #citarumharum@tamblingID@citarumlestari https://t.co/fETD5L2Sba\n",
      "\n",
      "\n",
      "Nature is beautiful @FineArtAmerica https://t.co/z8ueRdTNrG#Photography #FineArt #Gifts #ArtForSale #Nature https://t.co/ELgTT3D4lI\n",
      "\n",
      "\n",
      "Nature is beautiful @FineArtAmerica https://t.co/z8ueRdTNrG#Photography #FineArt #Gifts #ArtForSale #Nature https://t.co/ELgTT3D4lI\n",
      "\n",
      "\n",
      "History Maker!!!#FearTheBeer ð» https://t.co/BYnNkU0RhA\n",
      "\n",
      "\n",
      ".@ClimeFish's latest newsletter is out featuring our published #climatechange reports and outcomes from their recent #stakeholder events.  Follow the link to read more: https://t.co/ddDSPx4kBi https://t.co/5hOL3ybnoC\n",
      "\n",
      "\n",
      "Cities suing energy companies over #climatechange may have mischaracterized their own evidence, putting a spotlight on the environmental activists who are steering the campaign: https://t.co/O6dSO9DsnD https://t.co/HOJW9u6ZJf\n",
      "\n",
      "\n",
      "A little Clip for all those that Attack #FlatEarth &amp; #FlatEarthers !!! Enjoy ð #Trolls https://t.co/OUdvSa6HEl\n",
      "\n",
      "\n",
      "#SettlerColonial? or just plain #RACIST? #ApartheidIsRawHELL is #HELLonEarth!  https://t.co/nE6dIo5hE2 https://t.co/vpqxlTbvv5\n",
      "\n",
      "\n",
      "Few more snaps from #Andaman&amp;Nicobar Islands #NoFiltersUsed #naturallight #photography #NaturesCalendar #NaturePhotoDaily https://t.co/zRzUbZ6Sa0\n",
      "\n",
      "\n",
      "Summer Tanager.#birds #songbird #nature #mountains #outdoors #MondayMood https://t.co/WrGDfmB8Ds\n",
      "\n",
      "\n",
      "#Climate change is a more partisan issue than ever, and #DonaldTrump is to blame https://t.co/UZYwVvr5bJ\n",
      "\n",
      "\n",
      "You and sakurað¸#landscape #landscapephotography #nature #naturephotography #cherryblossoms #spring #sakura #beautifulday #SmileMore #art #loveyouall #FullBloom https://t.co/nE2HmtztLy\n",
      "\n",
      "\n",
      "We are the Champions!! ðððð #FearTheBeer ð» @Real_Mateo https://t.co/ypjiyiBLMx\n",
      "\n",
      "\n",
      "USGS reports a M2.03 #earthquake 5km SSE of Cabazon, CA on 4/6/18 @ 16:58:46 UTC https://t.co/FIFFDihgs4 #quake\n",
      "\n",
      "\n",
      "#Earthquakes News - Images show 5.3-magnitude quake rattle Southern California https://t.co/aHOMGPiInh\n",
      "\n",
      "\n",
      "UN sees role for #sport to advance Sustainable Development Goals by @Climate_Action_ https://t.co/zvtiHOSjan #SDGs #peace #sustainability\n",
      "\n",
      "\n",
      "@PeteNBCBoston Wow go from 40 degrees to 33 in um less than hour now snow !? Crazy !! #mothernatureoffhermeds\n",
      "\n",
      "\n",
      "Damage from the LA #earthquake https://t.co/dDV9Lcp7Dc\n",
      "\n",
      "\n",
      "Festeroot Hulk is Warrior card also revealed by PCGamesN! #Witchwood #Hearthstone #CardReveal https://t.co/JmOsP4nJ7J https://t.co/3xXiwhtQXN\n",
      "\n",
      "\n",
      "#B7Canada signature joint statement strong support to #inclusive growth #trade and open markets #resource efficiency #climate change and more opportunities for #SMEs @BusinessEurope https://t.co/VeyYhEKaam\n",
      "\n",
      "\n",
      "2.1 magnitude #earthquake. 93km SSW of Homer, Alaska https://t.co/nKaZlsvbXs\n",
      "\n",
      "\n"
     ]
=======
      "About to watch #ViceMovie! Hope It’s good! -M https://t.co/L0IHcHKWjO\n",
      "\n",
      "\n",
      "One of this year's favorites is #TheFavourite. Now nominated for 10 Academy Awards including Best Picture. In theaters everywhere this weekend. Get your tickets!\n",
      "\n",
      "\n",
      "Congratulations to #ROMACuarón for winning the Golden Globe Award for Best Motion Picture Foreign Language. @alfonsocuaron #GoldenGlobes https://t.co/L02U3EnaLm\n",
      "\n",
      "\n",
      "Congratulations to @alfonsocuaron for winning the Golden Globe Award for Best Director Motion Picture. #ROMACuarón #GoldenGlobes https://t.co/RVzAExAjtL\n",
      "\n",
      "\n",
      "Congratulations to @alfonsocuaron for winning the Golden Globe Award for Best Director Motion Picture. #ROMACuarón #GoldenGlobes https://t.co/RVzAExAjtL\n",
      "\n",
      "\n",
      "Congratulations to @alfonsocuaron for winning the Critics’ Choice Award for Best Cinematography. #ROMACuarón #CriticsChoice https://t.co/jVwietJj5q\n",
      "\n",
      "\n",
      "The #CriticsChoice envelope reveals, @ROMACuaron, as Best Picture. Congratulations to the cast and crew of the film. #romacuaron #cwcriticschoice #criticschoice https://t.co/Xm6UgijbDQ\n",
      "\n",
      "\n",
      "Team @romacuaron celebrating a Best Picture win backstage at the @criticschoice @thecw https://t.co/SYEgM093qQ\n",
      "\n",
      "\n",
      "Congratulations to #ROMACuarón for winning 4 Critics’ Choice Awards, including Best Picture and Best Director! @alfonsocuaron #CriticsChoice https://t.co/huus8qu0IJ\n",
      "\n",
      "\n",
      "2⃣\n",
      "@AlfonsoCuaron was determined to shoot @RomaCuaron not on sets but in real architecture from the '70s. The interiors of the house he grew up in were remodeled so he settled for a similar home nearby &amp; shot exteriors on the same block his family lived on https://t.co/wFovtLXMMr https://t.co/ZNw4ZuRP4h\n",
      "\n",
      "\n",
      "#TheFavourite tells the story of Queen Anne, which in real life unfolded at #KensingtonPalace 👑 Join @Lucy_Worsley for a tour of the rooms that set the scene for much of Anne's reign, plus a peek at the costumes now on display at the palace https://t.co/XHa9FBncZp @the_favourite https://t.co/rLf2JFNSPe\n",
      "\n",
      "\n",
      "Our season exploring the pre-#TheFavourite career of #YorgosLanthimos begins today with a screening of his previous film, the #ColinFarrell &amp; #NicoleKidman-starring revenge tale of the absurd @SacredDeerMovie - screening tonight at 8.20pm!\n",
      "\n",
      "🎟️👉 https://t.co/FGij9iipHQ https://t.co/Ue3cwugTTU\n",
      "\n",
      "\n",
      "Headed to the Golden Globes. Celebrating with the cast of @vicemovie! Congrats everyone on the 6 nominations!!! https://t.co/HvUf0GyQtU\n",
      "\n",
      "\n",
      "#BlacKkKlansman is now nominated for six Academy Awards, including Best Director (Spike Lee) and Best Picture of the Year. See the film back in select theaters now. https://t.co/Y2XiHNmnpE\n",
      "\n",
      "\n",
      "@lilliecgraham @chydolan @billieeilish @ROMACuaron How tho?\n",
      "\n",
      "\n",
      "“WHEN I WAS OLDER” out 1/9. inspired by the film @romacuaron on @netflix https://t.co/Rz55qkbjnI\n",
      "\n",
      "\n",
      "“WHEN I WAS OLDER” out 1/9. inspired by the film @romacuaron on @netflix https://t.co/Rz55qkbjnI\n",
      "\n",
      "\n",
      "“WHEN I WAS OLDER” out 1/9. inspired by the film @romacuaron on @netflix https://t.co/Rz55qkbjnI\n",
      "\n",
      "\n",
      "Huge congratulations to the entire #BlacKkKlansman crew on their #OscarNoms this morning, including BEST PICTURE! https://t.co/EYUoIqUrcx\n",
      "\n",
      "\n",
      "Spike Lee earned the first Best Director #Oscars nomination of his career for #BlacKkKlansman https://t.co/BdrbGEvm8T https://t.co/oiXcA4PfMO\n",
      "\n",
      "\n",
      "#Roma and #TheFavourite lead #Oscar nominations https://t.co/LZRpF6cqD1\n",
      "\n",
      "\n",
      "Congratulations to #ROMACuarón for receiving 10 Academy Award nominations including Best Picture and Best Director! @alfonsocuaron @GarbyRodz #Oscars https://t.co/cfy905CN0z\n",
      "\n",
      "\n",
      "30/91: The four most likely nominees all made Tuesday morning’s shortlist. Marina de Tavira (@RomaCuaron) pulls off the shocking nomination despite no other nominations from any other domestic critic groups or award bodies. https://t.co/dveqAnjlIT\n",
      "\n",
      "\n",
      "Congratulations Adam on your well-deserved #Oscars nomination for #BlacKkKlansman, playing a good man only pretending to be evil! #justsayin \n",
      "👍 https://t.co/zr1lU5QEff\n",
      "\n",
      "\n",
      "And now…the BAFTA nominees for Outstanding British Film! \n",
      "\n",
      "@Beastmov \n",
      "@BoRhapMovie \n",
      "@the_favourite \n",
      "@McQueenFilm  \n",
      "@StanAndOllie \n",
      "@YouWereNeverMov \n",
      "\n",
      "#EEBAFTAs https://t.co/540EvZ3isD\n",
      "\n",
      "\n",
      "@elementaladam I haven't seen it either #TheFavourite.\n",
      "\n",
      "\n",
      "A round of applause for BAFTA's Supporting Actress nominees! \n",
      "\n",
      "Amy Adams | @vicemovie  \n",
      "Claire Foy | @FirstManMovie  \n",
      "Emma Stone | @the_favourite \n",
      "@MargotRobbie  | @MaryQueenMovie \n",
      "Rachel Weisz | @the_favourite  \n",
      "\n",
      "#EEBAFTAs https://t.co/9MjOjbp221\n",
      "\n",
      "\n",
      "“WHEN I WAS OLDER” out 1/9. inspired by the film @romacuaron on @netflix https://t.co/Rz55qkbjnI\n",
      "\n",
      "\n",
      "“WHEN I WAS OLDER” out 1/9. inspired by the film @romacuaron on @netflix https://t.co/Rz55qkbjnI\n",
      "\n",
      "\n",
      "Olivia Colman accepts the award for best actress for #TheFavourite: The real power of movies: using unique stories not to show us how different we all are\n",
      "\n",
      "\n",
      ".@BensOscarMath's calculations show #AStarIsBorn, #GreenBook, #Roma and #BlacKkKlansman leading the pack for Best Picture #Oscars nomination chances https://t.co/gypdAVC2Xd https://t.co/b7zKcCwHox\n",
      "\n",
      "\n",
      "One of this year's favorites is #TheFavourite. Now nominated for 10 Academy Awards including Best Picture. In theaters everywhere this weekend. Get your tickets!\n",
      "\n",
      "\n",
      "Cleeeeeo! 🎤🎶 @YalitzaAparicio @alfonsocuaron @ROMACuaron @QueenWillRock #roma #OscarNoms #oscars #mexico #queen #YalitzaAparicio #RamiMalek https://t.co/AOKrQFckSK\n",
      "\n",
      "\n",
      "#CriticsChoice: @alfonsocuaron wins Best Director for @ROMACuaron https://t.co/rt1qEEaI0G https://t.co/laSJZA3mTU\n",
      "\n",
      "\n",
      "Congratulations to @alfonsocuaron for winning the Critics’ Choice Award for Best Director. #ROMACuarón #CriticsChoice https://t.co/UguJbN76Fd\n",
      "\n",
      "\n",
      "The Favourite Picks Up Two Accolades at the Critics' Choice Awards 2019 #IFTNFilm #TheFavourite #IrishFilm https://t.co/YZRWBrfIJX https://t.co/3p9NziXIzl\n",
      "\n",
      "\n",
      "Olivia Colman accepts @PSFilmFest's achievement award for #TheFavourite: The real power of movies: using unique stories not to show us how different we all are\n",
      "\n",
      "\n",
      "Managed to fit @the1975, @brckhmptn, @earlxsweat, @vicemovie, @Sorry2BotherYou, @ROMACuaron, @FirstReformed, and @tyrelmovie into my latest piece for Verve, exploring the anxious and urgent freak-out\" art of 2018: https://t.co/jr0IaX4mwA https://t.co/Pxwc506t8H\"\n",
      "\n",
      "\n",
      "Finally getting to see The Favourite next week! Did some drawings from the trailer #TheFavourite https://t.co/jICstONtOT\n",
      "\n",
      "\n",
      "“The plan is to take over the place.” #ViceMovie is now nominated for 8 Academy Awards including Best Picture. Don’t miss it in theaters now!\n",
      "\n",
      "\n",
      "@brandonbologna @vicemovie agree to disagree!\n",
      "\n",
      "\n",
      "thats not something the vice president does\"\"it is now\"this is the movies message spelled out in big letters #ViceMovie\"\n",
      "\n",
      "\n",
      "The most honored film of the year. Now nominated for 10 Academy Awards including Best Picture and Best Director. #ROMACuarón https://t.co/YeRrxfz7Tq\n",
      "\n",
      "\n",
      "“WHEN I WAS OLDER” out 1/9. inspired by the film @romacuaron on @netflix https://t.co/Rz55qkbjnI\n",
      "\n",
      "\n",
      "Congrats @vicemovie #ViceMovie https://t.co/K2LdOEy3aV\n",
      "\n",
      "\n",
      "Congratulations to @YalitzaAparicio for her Academy Award nomination for Best Actress! #ROMACuarón #Oscars https://t.co/iNmLNE3N7y\n",
      "\n",
      "\n",
      "Congratulations to #ROMACuarón for receiving 10 Academy Award nominations including Best Picture and Best Director! @alfonsocuaron @GarbyRodz #Oscars https://t.co/cfy905CN0z\n",
      "\n",
      "\n",
      ".@ElementPictures' #TheFavourite makes history as the most-nominated #IrishFilm in @TheAcademy's history 🙌\n",
      "https://t.co/00YmW5cT0X\n",
      "\n",
      "\n",
      "With #BlacKkKlansman, Spike Lee earned his first #Oscars nomination for Best Picture https://t.co/fSPUGERGpD https://t.co/kJsmmNM37h\n",
      "\n",
      "\n",
      "With #BlacKkKlansman, Spike Lee earned his first #Oscars nomination for Best Picture https://t.co/fSPUGERGpD https://t.co/kJsmmNM37h\n",
      "\n",
      "\n",
      "Thrilled for the Supporting Actor nominees!\n",
      " \n",
      "Adam Driver | @BlacKkKlansman  \n",
      "Mahershala Ali | @greenbookmovie  \n",
      "@RichardEGrant  | @cyefm  \n",
      "Sam Rockwell | @vicemovie \n",
      "@RealChalamet  | @beautifulboymov \n",
      "\n",
      "#EEBAFTAs https://t.co/IR1V1CUgQq\n",
      "\n",
      "\n",
      "“WHEN I WAS OLDER” inspired by the film @romacuaron is out now. https://t.co/XxlMrQChDV https://t.co/GmSRwFDSsJ\n",
      "\n",
      "\n",
      ".@Liz_Cheney seems quite bright, but promoting @vicemovie and relitigating her father’s WMD-lying, power-grabbing, torture-loving, friend-shooting tenure strikes me as unwise. How about doing your job, Congresswoman, and voting to reopen the govt.?  https://t.co/4sj8tlNc7P\n",
      "\n",
      "\n",
      "True to its name, #TheFavourite dominated the nominations for the @BAFTA Awards. https://t.co/ak4qZCfbBr\n",
      "\n",
      "\n",
      "Congratulations to #ROMACuarón for their Best Picture and Best Director Academy Award nominations! @alfonsocuaron @GarbyRodz #Oscars https://t.co/BgNCuSSU8l\n",
      "\n",
      "\n",
      "My thread after seeing (now Oscar nominated) #BlacKkKlansman https://t.co/xe7DcUlCBj\n",
      "\n",
      "\n",
      "Ok. Here's are some thoughts on #Blackkklansman.\n",
      "\n",
      "Contains spoilers, so don't read it if you haven't seen it and you don't wanna spoil it. https://t.co/PKfnePrFGy\n",
      "\n",
      "\n"
     ]
    },
    {
     "ename": "IndexError",
     "evalue": "single positional indexer is out-of-bounds",
     "output_type": "error",
     "traceback": [
      "\u001b[0;31m---------------------------------------------------------------------------\u001b[0m",
      "\u001b[0;31mIndexError\u001b[0m                                Traceback (most recent call last)",
      "\u001b[0;32m<ipython-input-44-5a2ee94a11a7>\u001b[0m in \u001b[0;36m<module>\u001b[0;34m\u001b[0m\n\u001b[1;32m      1\u001b[0m \u001b[0;32mfor\u001b[0m \u001b[0mi\u001b[0m \u001b[0;32min\u001b[0m \u001b[0mrange\u001b[0m\u001b[0;34m(\u001b[0m\u001b[0;36m0\u001b[0m\u001b[0;34m,\u001b[0m\u001b[0;36m70\u001b[0m\u001b[0;34m)\u001b[0m\u001b[0;34m:\u001b[0m\u001b[0;34m\u001b[0m\u001b[0;34m\u001b[0m\u001b[0m\n\u001b[0;32m----> 2\u001b[0;31m     \u001b[0;32mif\u001b[0m \u001b[0mcldf\u001b[0m\u001b[0;34m.\u001b[0m\u001b[0moriginal_tweet\u001b[0m\u001b[0;34m.\u001b[0m\u001b[0miloc\u001b[0m\u001b[0;34m[\u001b[0m\u001b[0mi\u001b[0m\u001b[0;34m]\u001b[0m\u001b[0;34m==\u001b[0m \u001b[0;34m'None'\u001b[0m\u001b[0;34m:\u001b[0m\u001b[0;34m\u001b[0m\u001b[0;34m\u001b[0m\u001b[0m\n\u001b[0m\u001b[1;32m      3\u001b[0m         \u001b[0mprint\u001b[0m\u001b[0;34m(\u001b[0m\u001b[0mcldf\u001b[0m\u001b[0;34m.\u001b[0m\u001b[0mtweet\u001b[0m\u001b[0;34m.\u001b[0m\u001b[0miloc\u001b[0m\u001b[0;34m[\u001b[0m\u001b[0mi\u001b[0m\u001b[0;34m]\u001b[0m\u001b[0;34m+\u001b[0m\u001b[0;34m'\\n\\n'\u001b[0m\u001b[0;34m)\u001b[0m\u001b[0;34m\u001b[0m\u001b[0;34m\u001b[0m\u001b[0m\n\u001b[1;32m      4\u001b[0m     \u001b[0;32melse\u001b[0m\u001b[0;34m:\u001b[0m\u001b[0;34m\u001b[0m\u001b[0;34m\u001b[0m\u001b[0m\n\u001b[1;32m      5\u001b[0m         \u001b[0mprint\u001b[0m\u001b[0;34m(\u001b[0m\u001b[0mcldf\u001b[0m\u001b[0;34m.\u001b[0m\u001b[0moriginal_tweet\u001b[0m\u001b[0;34m.\u001b[0m\u001b[0miloc\u001b[0m\u001b[0;34m[\u001b[0m\u001b[0mi\u001b[0m\u001b[0;34m]\u001b[0m\u001b[0;34m+\u001b[0m\u001b[0;34m'\\n\\n'\u001b[0m\u001b[0;34m)\u001b[0m\u001b[0;34m\u001b[0m\u001b[0;34m\u001b[0m\u001b[0m\n",
      "\u001b[0;32m/usr/local/lib/python3.7/site-packages/pandas/core/indexing.py\u001b[0m in \u001b[0;36m__getitem__\u001b[0;34m(self, key)\u001b[0m\n\u001b[1;32m   1766\u001b[0m \u001b[0;34m\u001b[0m\u001b[0m\n\u001b[1;32m   1767\u001b[0m             \u001b[0mmaybe_callable\u001b[0m \u001b[0;34m=\u001b[0m \u001b[0mcom\u001b[0m\u001b[0;34m.\u001b[0m\u001b[0mapply_if_callable\u001b[0m\u001b[0;34m(\u001b[0m\u001b[0mkey\u001b[0m\u001b[0;34m,\u001b[0m \u001b[0mself\u001b[0m\u001b[0;34m.\u001b[0m\u001b[0mobj\u001b[0m\u001b[0;34m)\u001b[0m\u001b[0;34m\u001b[0m\u001b[0;34m\u001b[0m\u001b[0m\n\u001b[0;32m-> 1768\u001b[0;31m             \u001b[0;32mreturn\u001b[0m \u001b[0mself\u001b[0m\u001b[0;34m.\u001b[0m\u001b[0m_getitem_axis\u001b[0m\u001b[0;34m(\u001b[0m\u001b[0mmaybe_callable\u001b[0m\u001b[0;34m,\u001b[0m \u001b[0maxis\u001b[0m\u001b[0;34m=\u001b[0m\u001b[0maxis\u001b[0m\u001b[0;34m)\u001b[0m\u001b[0;34m\u001b[0m\u001b[0;34m\u001b[0m\u001b[0m\n\u001b[0m\u001b[1;32m   1769\u001b[0m \u001b[0;34m\u001b[0m\u001b[0m\n\u001b[1;32m   1770\u001b[0m     \u001b[0;32mdef\u001b[0m \u001b[0m_is_scalar_access\u001b[0m\u001b[0;34m(\u001b[0m\u001b[0mself\u001b[0m\u001b[0;34m,\u001b[0m \u001b[0mkey\u001b[0m\u001b[0;34m:\u001b[0m \u001b[0mTuple\u001b[0m\u001b[0;34m)\u001b[0m\u001b[0;34m:\u001b[0m\u001b[0;34m\u001b[0m\u001b[0;34m\u001b[0m\u001b[0m\n",
      "\u001b[0;32m/usr/local/lib/python3.7/site-packages/pandas/core/indexing.py\u001b[0m in \u001b[0;36m_getitem_axis\u001b[0;34m(self, key, axis)\u001b[0m\n\u001b[1;32m   2136\u001b[0m \u001b[0;34m\u001b[0m\u001b[0m\n\u001b[1;32m   2137\u001b[0m             \u001b[0;31m# validate the location\u001b[0m\u001b[0;34m\u001b[0m\u001b[0;34m\u001b[0m\u001b[0;34m\u001b[0m\u001b[0m\n\u001b[0;32m-> 2138\u001b[0;31m             \u001b[0mself\u001b[0m\u001b[0;34m.\u001b[0m\u001b[0m_validate_integer\u001b[0m\u001b[0;34m(\u001b[0m\u001b[0mkey\u001b[0m\u001b[0;34m,\u001b[0m \u001b[0maxis\u001b[0m\u001b[0;34m)\u001b[0m\u001b[0;34m\u001b[0m\u001b[0;34m\u001b[0m\u001b[0m\n\u001b[0m\u001b[1;32m   2139\u001b[0m \u001b[0;34m\u001b[0m\u001b[0m\n\u001b[1;32m   2140\u001b[0m             \u001b[0;32mreturn\u001b[0m \u001b[0mself\u001b[0m\u001b[0;34m.\u001b[0m\u001b[0m_get_loc\u001b[0m\u001b[0;34m(\u001b[0m\u001b[0mkey\u001b[0m\u001b[0;34m,\u001b[0m \u001b[0maxis\u001b[0m\u001b[0;34m=\u001b[0m\u001b[0maxis\u001b[0m\u001b[0;34m)\u001b[0m\u001b[0;34m\u001b[0m\u001b[0;34m\u001b[0m\u001b[0m\n",
      "\u001b[0;32m/usr/local/lib/python3.7/site-packages/pandas/core/indexing.py\u001b[0m in \u001b[0;36m_validate_integer\u001b[0;34m(self, key, axis)\u001b[0m\n\u001b[1;32m   2061\u001b[0m         \u001b[0mlen_axis\u001b[0m \u001b[0;34m=\u001b[0m \u001b[0mlen\u001b[0m\u001b[0;34m(\u001b[0m\u001b[0mself\u001b[0m\u001b[0;34m.\u001b[0m\u001b[0mobj\u001b[0m\u001b[0;34m.\u001b[0m\u001b[0m_get_axis\u001b[0m\u001b[0;34m(\u001b[0m\u001b[0maxis\u001b[0m\u001b[0;34m)\u001b[0m\u001b[0;34m)\u001b[0m\u001b[0;34m\u001b[0m\u001b[0;34m\u001b[0m\u001b[0m\n\u001b[1;32m   2062\u001b[0m         \u001b[0;32mif\u001b[0m \u001b[0mkey\u001b[0m \u001b[0;34m>=\u001b[0m \u001b[0mlen_axis\u001b[0m \u001b[0;32mor\u001b[0m \u001b[0mkey\u001b[0m \u001b[0;34m<\u001b[0m \u001b[0;34m-\u001b[0m\u001b[0mlen_axis\u001b[0m\u001b[0;34m:\u001b[0m\u001b[0;34m\u001b[0m\u001b[0;34m\u001b[0m\u001b[0m\n\u001b[0;32m-> 2063\u001b[0;31m             \u001b[0;32mraise\u001b[0m \u001b[0mIndexError\u001b[0m\u001b[0;34m(\u001b[0m\u001b[0;34m\"single positional indexer is out-of-bounds\"\u001b[0m\u001b[0;34m)\u001b[0m\u001b[0;34m\u001b[0m\u001b[0;34m\u001b[0m\u001b[0m\n\u001b[0m\u001b[1;32m   2064\u001b[0m \u001b[0;34m\u001b[0m\u001b[0m\n\u001b[1;32m   2065\u001b[0m     \u001b[0;32mdef\u001b[0m \u001b[0m_getitem_tuple\u001b[0m\u001b[0;34m(\u001b[0m\u001b[0mself\u001b[0m\u001b[0;34m,\u001b[0m \u001b[0mtup\u001b[0m\u001b[0;34m:\u001b[0m \u001b[0mTuple\u001b[0m\u001b[0;34m)\u001b[0m\u001b[0;34m:\u001b[0m\u001b[0;34m\u001b[0m\u001b[0;34m\u001b[0m\u001b[0m\n",
      "\u001b[0;31mIndexError\u001b[0m: single positional indexer is out-of-bounds"
     ]
>>>>>>> f267001ef71f06d1b8f180bada6cecdc1936cf0a
    }
   ],
   "source": [
    "for i in range(0,70):\n",
    "    if cldf.original_tweet.iloc[i]== 'None':\n",
    "        print(cldf.tweet.iloc[i]+'\\n\\n')\n",
    "    else:\n",
    "        print(cldf.original_tweet.iloc[i]+'\\n\\n')"
   ]
<<<<<<< HEAD
=======
  },
  {
   "cell_type": "code",
   "execution_count": null,
   "metadata": {},
   "outputs": [],
   "source": []
  },
  {
   "cell_type": "code",
   "execution_count": null,
   "metadata": {},
   "outputs": [],
   "source": []
  },
  {
   "cell_type": "code",
   "execution_count": null,
   "metadata": {},
   "outputs": [],
   "source": []
>>>>>>> f267001ef71f06d1b8f180bada6cecdc1936cf0a
  }
 ],
 "metadata": {
  "kernelspec": {
   "display_name": "Python 3",
   "language": "python",
   "name": "python3"
  },
  "language_info": {
   "codemirror_mode": {
    "name": "ipython",
    "version": 3
   },
   "file_extension": ".py",
   "mimetype": "text/x-python",
   "name": "python",
   "nbconvert_exporter": "python",
   "pygments_lexer": "ipython3",
<<<<<<< HEAD
   "version": "3.8.5"
=======
   "version": "3.7.7"
>>>>>>> f267001ef71f06d1b8f180bada6cecdc1936cf0a
  }
 },
 "nbformat": 4,
 "nbformat_minor": 2
}
