{
 "cells": [
  {
   "cell_type": "markdown",
   "metadata": {},
   "source": [
    "# Exploratory Analysis Notebook"
   ]
  },
  {
   "cell_type": "markdown",
   "metadata": {},
   "source": [
    "#### This notebook contains a demonstration of the tools necessary for conducting exploratory analysis of the data. This includes searching for specific users, topics and hashtags and then using descriptive analytics (e.g. frequency analysis, descripting statistics and temporal frequency)."
   ]
  },
  {
   "cell_type": "code",
   "execution_count": 1,
   "metadata": {
    "scrolled": false
   },
   "outputs": [],
   "source": [
    "import trt_API.process as proc"
   ]
  },
  {
   "cell_type": "markdown",
   "metadata": {},
   "source": [
    "## Variables for Analysis"
   ]
  },
  {
   "cell_type": "code",
   "execution_count": 2,
   "metadata": {},
   "outputs": [],
   "source": [
    "# Set the path to the parent directory containing all Tweets of interest\n",
    "DIRECTORY = './tweets/'\n",
    "# Set to True to isolate english language tweets\n",
    "ENGLISH = False"
   ]
  },
  {
   "cell_type": "markdown",
   "metadata": {},
   "source": [
    "## Load Tweet and Generate Dataframe"
   ]
  },
  {
   "cell_type": "code",
   "execution_count": 16,
   "metadata": {},
   "outputs": [
    {
     "name": "stdout",
     "output_type": "stream",
     "text": [
      "Initial size: 72\n",
      "Dropping duplicates...\n",
      "Final size: 71\n"
     ]
    }
   ],
   "source": [
    "tweet_objects = proc.loadTweetObjects(DIRECTORY)\n",
    "df = proc.convertTweetsToDataframe(tweet_objects, ENGLISH)"
   ]
  },
  {
   "cell_type": "markdown",
   "metadata": {},
   "source": [
    "## Extract Potential Cashtags"
   ]
  },
  {
   "cell_type": "code",
   "execution_count": 17,
   "metadata": {},
   "outputs": [
    {
     "name": "stdout",
     "output_type": "stream",
     "text": [
      "Total potential Cashtags: 0\n"
     ]
    }
   ],
   "source": [
    "ctdf = proc.extractPossibleCashtags(df)"
   ]
  },
  {
   "cell_type": "markdown",
   "metadata": {},
   "source": [
    "## Removing Noisy Tweets"
   ]
  },
  {
   "cell_type": "code",
   "execution_count": 39,
   "metadata": {},
   "outputs": [
    {
     "name": "stdout",
     "output_type": "stream",
     "text": [
      "Removed 14 noisy terms.\n"
     ]
    }
   ],
   "source": [
    "'''\n",
    "*** Tweets often use popular hashtags with unrelated topics.\n",
    "*** Noisy words can be identified to use to filter such tweets.\n",
    "*** Enter these words below in the noisy_terms list.\n",
    "'''\n",
    "noisy_terms = ['#GoldenGlobes']\n",
    "cldf = proc.removeNoisyTerms(df, noisy_terms)"
   ]
  },
  {
   "cell_type": "code",
   "execution_count": null,
   "metadata": {},
   "outputs": [],
   "source": []
  },
  {
   "cell_type": "code",
   "execution_count": 44,
   "metadata": {},
   "outputs": [
    {
     "name": "stdout",
     "output_type": "stream",
     "text": [
      "About to watch #ViceMovie! Hope It’s good! -M https://t.co/L0IHcHKWjO\n",
      "\n",
      "\n",
      "One of this year's favorites is #TheFavourite. Now nominated for 10 Academy Awards including Best Picture. In theaters everywhere this weekend. Get your tickets!\n",
      "\n",
      "\n",
      "Congratulations to #ROMACuarón for winning the Golden Globe Award for Best Motion Picture Foreign Language. @alfonsocuaron #GoldenGlobes https://t.co/L02U3EnaLm\n",
      "\n",
      "\n",
      "Congratulations to @alfonsocuaron for winning the Golden Globe Award for Best Director Motion Picture. #ROMACuarón #GoldenGlobes https://t.co/RVzAExAjtL\n",
      "\n",
      "\n",
      "Congratulations to @alfonsocuaron for winning the Golden Globe Award for Best Director Motion Picture. #ROMACuarón #GoldenGlobes https://t.co/RVzAExAjtL\n",
      "\n",
      "\n",
      "Congratulations to @alfonsocuaron for winning the Critics’ Choice Award for Best Cinematography. #ROMACuarón #CriticsChoice https://t.co/jVwietJj5q\n",
      "\n",
      "\n",
      "The #CriticsChoice envelope reveals, @ROMACuaron, as Best Picture. Congratulations to the cast and crew of the film. #romacuaron #cwcriticschoice #criticschoice https://t.co/Xm6UgijbDQ\n",
      "\n",
      "\n",
      "Team @romacuaron celebrating a Best Picture win backstage at the @criticschoice @thecw https://t.co/SYEgM093qQ\n",
      "\n",
      "\n",
      "Congratulations to #ROMACuarón for winning 4 Critics’ Choice Awards, including Best Picture and Best Director! @alfonsocuaron #CriticsChoice https://t.co/huus8qu0IJ\n",
      "\n",
      "\n",
      "2⃣\n",
      "@AlfonsoCuaron was determined to shoot @RomaCuaron not on sets but in real architecture from the '70s. The interiors of the house he grew up in were remodeled so he settled for a similar home nearby &amp; shot exteriors on the same block his family lived on https://t.co/wFovtLXMMr https://t.co/ZNw4ZuRP4h\n",
      "\n",
      "\n",
      "#TheFavourite tells the story of Queen Anne, which in real life unfolded at #KensingtonPalace 👑 Join @Lucy_Worsley for a tour of the rooms that set the scene for much of Anne's reign, plus a peek at the costumes now on display at the palace https://t.co/XHa9FBncZp @the_favourite https://t.co/rLf2JFNSPe\n",
      "\n",
      "\n",
      "Our season exploring the pre-#TheFavourite career of #YorgosLanthimos begins today with a screening of his previous film, the #ColinFarrell &amp; #NicoleKidman-starring revenge tale of the absurd @SacredDeerMovie - screening tonight at 8.20pm!\n",
      "\n",
      "🎟️👉 https://t.co/FGij9iipHQ https://t.co/Ue3cwugTTU\n",
      "\n",
      "\n",
      "Headed to the Golden Globes. Celebrating with the cast of @vicemovie! Congrats everyone on the 6 nominations!!! https://t.co/HvUf0GyQtU\n",
      "\n",
      "\n",
      "#BlacKkKlansman is now nominated for six Academy Awards, including Best Director (Spike Lee) and Best Picture of the Year. See the film back in select theaters now. https://t.co/Y2XiHNmnpE\n",
      "\n",
      "\n",
      "@lilliecgraham @chydolan @billieeilish @ROMACuaron How tho?\n",
      "\n",
      "\n",
      "“WHEN I WAS OLDER” out 1/9. inspired by the film @romacuaron on @netflix https://t.co/Rz55qkbjnI\n",
      "\n",
      "\n",
      "“WHEN I WAS OLDER” out 1/9. inspired by the film @romacuaron on @netflix https://t.co/Rz55qkbjnI\n",
      "\n",
      "\n",
      "“WHEN I WAS OLDER” out 1/9. inspired by the film @romacuaron on @netflix https://t.co/Rz55qkbjnI\n",
      "\n",
      "\n",
      "Huge congratulations to the entire #BlacKkKlansman crew on their #OscarNoms this morning, including BEST PICTURE! https://t.co/EYUoIqUrcx\n",
      "\n",
      "\n",
      "Spike Lee earned the first Best Director #Oscars nomination of his career for #BlacKkKlansman https://t.co/BdrbGEvm8T https://t.co/oiXcA4PfMO\n",
      "\n",
      "\n",
      "#Roma and #TheFavourite lead #Oscar nominations https://t.co/LZRpF6cqD1\n",
      "\n",
      "\n",
      "Congratulations to #ROMACuarón for receiving 10 Academy Award nominations including Best Picture and Best Director! @alfonsocuaron @GarbyRodz #Oscars https://t.co/cfy905CN0z\n",
      "\n",
      "\n",
      "30/91: The four most likely nominees all made Tuesday morning’s shortlist. Marina de Tavira (@RomaCuaron) pulls off the shocking nomination despite no other nominations from any other domestic critic groups or award bodies. https://t.co/dveqAnjlIT\n",
      "\n",
      "\n",
      "Congratulations Adam on your well-deserved #Oscars nomination for #BlacKkKlansman, playing a good man only pretending to be evil! #justsayin \n",
      "👍 https://t.co/zr1lU5QEff\n",
      "\n",
      "\n",
      "And now…the BAFTA nominees for Outstanding British Film! \n",
      "\n",
      "@Beastmov \n",
      "@BoRhapMovie \n",
      "@the_favourite \n",
      "@McQueenFilm  \n",
      "@StanAndOllie \n",
      "@YouWereNeverMov \n",
      "\n",
      "#EEBAFTAs https://t.co/540EvZ3isD\n",
      "\n",
      "\n",
      "@elementaladam I haven't seen it either #TheFavourite.\n",
      "\n",
      "\n",
      "A round of applause for BAFTA's Supporting Actress nominees! \n",
      "\n",
      "Amy Adams | @vicemovie  \n",
      "Claire Foy | @FirstManMovie  \n",
      "Emma Stone | @the_favourite \n",
      "@MargotRobbie  | @MaryQueenMovie \n",
      "Rachel Weisz | @the_favourite  \n",
      "\n",
      "#EEBAFTAs https://t.co/9MjOjbp221\n",
      "\n",
      "\n",
      "“WHEN I WAS OLDER” out 1/9. inspired by the film @romacuaron on @netflix https://t.co/Rz55qkbjnI\n",
      "\n",
      "\n",
      "“WHEN I WAS OLDER” out 1/9. inspired by the film @romacuaron on @netflix https://t.co/Rz55qkbjnI\n",
      "\n",
      "\n",
      "Olivia Colman accepts the award for best actress for #TheFavourite: The real power of movies: using unique stories not to show us how different we all are\n",
      "\n",
      "\n",
      ".@BensOscarMath's calculations show #AStarIsBorn, #GreenBook, #Roma and #BlacKkKlansman leading the pack for Best Picture #Oscars nomination chances https://t.co/gypdAVC2Xd https://t.co/b7zKcCwHox\n",
      "\n",
      "\n",
      "One of this year's favorites is #TheFavourite. Now nominated for 10 Academy Awards including Best Picture. In theaters everywhere this weekend. Get your tickets!\n",
      "\n",
      "\n",
      "Cleeeeeo! 🎤🎶 @YalitzaAparicio @alfonsocuaron @ROMACuaron @QueenWillRock #roma #OscarNoms #oscars #mexico #queen #YalitzaAparicio #RamiMalek https://t.co/AOKrQFckSK\n",
      "\n",
      "\n",
      "#CriticsChoice: @alfonsocuaron wins Best Director for @ROMACuaron https://t.co/rt1qEEaI0G https://t.co/laSJZA3mTU\n",
      "\n",
      "\n",
      "Congratulations to @alfonsocuaron for winning the Critics’ Choice Award for Best Director. #ROMACuarón #CriticsChoice https://t.co/UguJbN76Fd\n",
      "\n",
      "\n",
      "The Favourite Picks Up Two Accolades at the Critics' Choice Awards 2019 #IFTNFilm #TheFavourite #IrishFilm https://t.co/YZRWBrfIJX https://t.co/3p9NziXIzl\n",
      "\n",
      "\n",
      "Olivia Colman accepts @PSFilmFest's achievement award for #TheFavourite: The real power of movies: using unique stories not to show us how different we all are\n",
      "\n",
      "\n",
      "Managed to fit @the1975, @brckhmptn, @earlxsweat, @vicemovie, @Sorry2BotherYou, @ROMACuaron, @FirstReformed, and @tyrelmovie into my latest piece for Verve, exploring the anxious and urgent freak-out\" art of 2018: https://t.co/jr0IaX4mwA https://t.co/Pxwc506t8H\"\n",
      "\n",
      "\n",
      "Finally getting to see The Favourite next week! Did some drawings from the trailer #TheFavourite https://t.co/jICstONtOT\n",
      "\n",
      "\n",
      "“The plan is to take over the place.” #ViceMovie is now nominated for 8 Academy Awards including Best Picture. Don’t miss it in theaters now!\n",
      "\n",
      "\n",
      "@brandonbologna @vicemovie agree to disagree!\n",
      "\n",
      "\n",
      "thats not something the vice president does\"\"it is now\"this is the movies message spelled out in big letters #ViceMovie\"\n",
      "\n",
      "\n",
      "The most honored film of the year. Now nominated for 10 Academy Awards including Best Picture and Best Director. #ROMACuarón https://t.co/YeRrxfz7Tq\n",
      "\n",
      "\n",
      "“WHEN I WAS OLDER” out 1/9. inspired by the film @romacuaron on @netflix https://t.co/Rz55qkbjnI\n",
      "\n",
      "\n",
      "Congrats @vicemovie #ViceMovie https://t.co/K2LdOEy3aV\n",
      "\n",
      "\n",
      "Congratulations to @YalitzaAparicio for her Academy Award nomination for Best Actress! #ROMACuarón #Oscars https://t.co/iNmLNE3N7y\n",
      "\n",
      "\n",
      "Congratulations to #ROMACuarón for receiving 10 Academy Award nominations including Best Picture and Best Director! @alfonsocuaron @GarbyRodz #Oscars https://t.co/cfy905CN0z\n",
      "\n",
      "\n",
      ".@ElementPictures' #TheFavourite makes history as the most-nominated #IrishFilm in @TheAcademy's history 🙌\n",
      "https://t.co/00YmW5cT0X\n",
      "\n",
      "\n",
      "With #BlacKkKlansman, Spike Lee earned his first #Oscars nomination for Best Picture https://t.co/fSPUGERGpD https://t.co/kJsmmNM37h\n",
      "\n",
      "\n",
      "With #BlacKkKlansman, Spike Lee earned his first #Oscars nomination for Best Picture https://t.co/fSPUGERGpD https://t.co/kJsmmNM37h\n",
      "\n",
      "\n",
      "Thrilled for the Supporting Actor nominees!\n",
      " \n",
      "Adam Driver | @BlacKkKlansman  \n",
      "Mahershala Ali | @greenbookmovie  \n",
      "@RichardEGrant  | @cyefm  \n",
      "Sam Rockwell | @vicemovie \n",
      "@RealChalamet  | @beautifulboymov \n",
      "\n",
      "#EEBAFTAs https://t.co/IR1V1CUgQq\n",
      "\n",
      "\n",
      "“WHEN I WAS OLDER” inspired by the film @romacuaron is out now. https://t.co/XxlMrQChDV https://t.co/GmSRwFDSsJ\n",
      "\n",
      "\n",
      ".@Liz_Cheney seems quite bright, but promoting @vicemovie and relitigating her father’s WMD-lying, power-grabbing, torture-loving, friend-shooting tenure strikes me as unwise. How about doing your job, Congresswoman, and voting to reopen the govt.?  https://t.co/4sj8tlNc7P\n",
      "\n",
      "\n",
      "True to its name, #TheFavourite dominated the nominations for the @BAFTA Awards. https://t.co/ak4qZCfbBr\n",
      "\n",
      "\n",
      "Congratulations to #ROMACuarón for their Best Picture and Best Director Academy Award nominations! @alfonsocuaron @GarbyRodz #Oscars https://t.co/BgNCuSSU8l\n",
      "\n",
      "\n",
      "My thread after seeing (now Oscar nominated) #BlacKkKlansman https://t.co/xe7DcUlCBj\n",
      "\n",
      "\n",
      "Ok. Here's are some thoughts on #Blackkklansman.\n",
      "\n",
      "Contains spoilers, so don't read it if you haven't seen it and you don't wanna spoil it. https://t.co/PKfnePrFGy\n",
      "\n",
      "\n"
     ]
    },
    {
     "ename": "IndexError",
     "evalue": "single positional indexer is out-of-bounds",
     "output_type": "error",
     "traceback": [
      "\u001b[0;31m---------------------------------------------------------------------------\u001b[0m",
      "\u001b[0;31mIndexError\u001b[0m                                Traceback (most recent call last)",
      "\u001b[0;32m<ipython-input-44-5a2ee94a11a7>\u001b[0m in \u001b[0;36m<module>\u001b[0;34m\u001b[0m\n\u001b[1;32m      1\u001b[0m \u001b[0;32mfor\u001b[0m \u001b[0mi\u001b[0m \u001b[0;32min\u001b[0m \u001b[0mrange\u001b[0m\u001b[0;34m(\u001b[0m\u001b[0;36m0\u001b[0m\u001b[0;34m,\u001b[0m\u001b[0;36m70\u001b[0m\u001b[0;34m)\u001b[0m\u001b[0;34m:\u001b[0m\u001b[0;34m\u001b[0m\u001b[0;34m\u001b[0m\u001b[0m\n\u001b[0;32m----> 2\u001b[0;31m     \u001b[0;32mif\u001b[0m \u001b[0mcldf\u001b[0m\u001b[0;34m.\u001b[0m\u001b[0moriginal_tweet\u001b[0m\u001b[0;34m.\u001b[0m\u001b[0miloc\u001b[0m\u001b[0;34m[\u001b[0m\u001b[0mi\u001b[0m\u001b[0;34m]\u001b[0m\u001b[0;34m==\u001b[0m \u001b[0;34m'None'\u001b[0m\u001b[0;34m:\u001b[0m\u001b[0;34m\u001b[0m\u001b[0;34m\u001b[0m\u001b[0m\n\u001b[0m\u001b[1;32m      3\u001b[0m         \u001b[0mprint\u001b[0m\u001b[0;34m(\u001b[0m\u001b[0mcldf\u001b[0m\u001b[0;34m.\u001b[0m\u001b[0mtweet\u001b[0m\u001b[0;34m.\u001b[0m\u001b[0miloc\u001b[0m\u001b[0;34m[\u001b[0m\u001b[0mi\u001b[0m\u001b[0;34m]\u001b[0m\u001b[0;34m+\u001b[0m\u001b[0;34m'\\n\\n'\u001b[0m\u001b[0;34m)\u001b[0m\u001b[0;34m\u001b[0m\u001b[0;34m\u001b[0m\u001b[0m\n\u001b[1;32m      4\u001b[0m     \u001b[0;32melse\u001b[0m\u001b[0;34m:\u001b[0m\u001b[0;34m\u001b[0m\u001b[0;34m\u001b[0m\u001b[0m\n\u001b[1;32m      5\u001b[0m         \u001b[0mprint\u001b[0m\u001b[0;34m(\u001b[0m\u001b[0mcldf\u001b[0m\u001b[0;34m.\u001b[0m\u001b[0moriginal_tweet\u001b[0m\u001b[0;34m.\u001b[0m\u001b[0miloc\u001b[0m\u001b[0;34m[\u001b[0m\u001b[0mi\u001b[0m\u001b[0;34m]\u001b[0m\u001b[0;34m+\u001b[0m\u001b[0;34m'\\n\\n'\u001b[0m\u001b[0;34m)\u001b[0m\u001b[0;34m\u001b[0m\u001b[0;34m\u001b[0m\u001b[0m\n",
      "\u001b[0;32m/usr/local/lib/python3.7/site-packages/pandas/core/indexing.py\u001b[0m in \u001b[0;36m__getitem__\u001b[0;34m(self, key)\u001b[0m\n\u001b[1;32m   1766\u001b[0m \u001b[0;34m\u001b[0m\u001b[0m\n\u001b[1;32m   1767\u001b[0m             \u001b[0mmaybe_callable\u001b[0m \u001b[0;34m=\u001b[0m \u001b[0mcom\u001b[0m\u001b[0;34m.\u001b[0m\u001b[0mapply_if_callable\u001b[0m\u001b[0;34m(\u001b[0m\u001b[0mkey\u001b[0m\u001b[0;34m,\u001b[0m \u001b[0mself\u001b[0m\u001b[0;34m.\u001b[0m\u001b[0mobj\u001b[0m\u001b[0;34m)\u001b[0m\u001b[0;34m\u001b[0m\u001b[0;34m\u001b[0m\u001b[0m\n\u001b[0;32m-> 1768\u001b[0;31m             \u001b[0;32mreturn\u001b[0m \u001b[0mself\u001b[0m\u001b[0;34m.\u001b[0m\u001b[0m_getitem_axis\u001b[0m\u001b[0;34m(\u001b[0m\u001b[0mmaybe_callable\u001b[0m\u001b[0;34m,\u001b[0m \u001b[0maxis\u001b[0m\u001b[0;34m=\u001b[0m\u001b[0maxis\u001b[0m\u001b[0;34m)\u001b[0m\u001b[0;34m\u001b[0m\u001b[0;34m\u001b[0m\u001b[0m\n\u001b[0m\u001b[1;32m   1769\u001b[0m \u001b[0;34m\u001b[0m\u001b[0m\n\u001b[1;32m   1770\u001b[0m     \u001b[0;32mdef\u001b[0m \u001b[0m_is_scalar_access\u001b[0m\u001b[0;34m(\u001b[0m\u001b[0mself\u001b[0m\u001b[0;34m,\u001b[0m \u001b[0mkey\u001b[0m\u001b[0;34m:\u001b[0m \u001b[0mTuple\u001b[0m\u001b[0;34m)\u001b[0m\u001b[0;34m:\u001b[0m\u001b[0;34m\u001b[0m\u001b[0;34m\u001b[0m\u001b[0m\n",
      "\u001b[0;32m/usr/local/lib/python3.7/site-packages/pandas/core/indexing.py\u001b[0m in \u001b[0;36m_getitem_axis\u001b[0;34m(self, key, axis)\u001b[0m\n\u001b[1;32m   2136\u001b[0m \u001b[0;34m\u001b[0m\u001b[0m\n\u001b[1;32m   2137\u001b[0m             \u001b[0;31m# validate the location\u001b[0m\u001b[0;34m\u001b[0m\u001b[0;34m\u001b[0m\u001b[0;34m\u001b[0m\u001b[0m\n\u001b[0;32m-> 2138\u001b[0;31m             \u001b[0mself\u001b[0m\u001b[0;34m.\u001b[0m\u001b[0m_validate_integer\u001b[0m\u001b[0;34m(\u001b[0m\u001b[0mkey\u001b[0m\u001b[0;34m,\u001b[0m \u001b[0maxis\u001b[0m\u001b[0;34m)\u001b[0m\u001b[0;34m\u001b[0m\u001b[0;34m\u001b[0m\u001b[0m\n\u001b[0m\u001b[1;32m   2139\u001b[0m \u001b[0;34m\u001b[0m\u001b[0m\n\u001b[1;32m   2140\u001b[0m             \u001b[0;32mreturn\u001b[0m \u001b[0mself\u001b[0m\u001b[0;34m.\u001b[0m\u001b[0m_get_loc\u001b[0m\u001b[0;34m(\u001b[0m\u001b[0mkey\u001b[0m\u001b[0;34m,\u001b[0m \u001b[0maxis\u001b[0m\u001b[0;34m=\u001b[0m\u001b[0maxis\u001b[0m\u001b[0;34m)\u001b[0m\u001b[0;34m\u001b[0m\u001b[0;34m\u001b[0m\u001b[0m\n",
      "\u001b[0;32m/usr/local/lib/python3.7/site-packages/pandas/core/indexing.py\u001b[0m in \u001b[0;36m_validate_integer\u001b[0;34m(self, key, axis)\u001b[0m\n\u001b[1;32m   2061\u001b[0m         \u001b[0mlen_axis\u001b[0m \u001b[0;34m=\u001b[0m \u001b[0mlen\u001b[0m\u001b[0;34m(\u001b[0m\u001b[0mself\u001b[0m\u001b[0;34m.\u001b[0m\u001b[0mobj\u001b[0m\u001b[0;34m.\u001b[0m\u001b[0m_get_axis\u001b[0m\u001b[0;34m(\u001b[0m\u001b[0maxis\u001b[0m\u001b[0;34m)\u001b[0m\u001b[0;34m)\u001b[0m\u001b[0;34m\u001b[0m\u001b[0;34m\u001b[0m\u001b[0m\n\u001b[1;32m   2062\u001b[0m         \u001b[0;32mif\u001b[0m \u001b[0mkey\u001b[0m \u001b[0;34m>=\u001b[0m \u001b[0mlen_axis\u001b[0m \u001b[0;32mor\u001b[0m \u001b[0mkey\u001b[0m \u001b[0;34m<\u001b[0m \u001b[0;34m-\u001b[0m\u001b[0mlen_axis\u001b[0m\u001b[0;34m:\u001b[0m\u001b[0;34m\u001b[0m\u001b[0;34m\u001b[0m\u001b[0m\n\u001b[0;32m-> 2063\u001b[0;31m             \u001b[0;32mraise\u001b[0m \u001b[0mIndexError\u001b[0m\u001b[0;34m(\u001b[0m\u001b[0;34m\"single positional indexer is out-of-bounds\"\u001b[0m\u001b[0;34m)\u001b[0m\u001b[0;34m\u001b[0m\u001b[0;34m\u001b[0m\u001b[0m\n\u001b[0m\u001b[1;32m   2064\u001b[0m \u001b[0;34m\u001b[0m\u001b[0m\n\u001b[1;32m   2065\u001b[0m     \u001b[0;32mdef\u001b[0m \u001b[0m_getitem_tuple\u001b[0m\u001b[0;34m(\u001b[0m\u001b[0mself\u001b[0m\u001b[0;34m,\u001b[0m \u001b[0mtup\u001b[0m\u001b[0;34m:\u001b[0m \u001b[0mTuple\u001b[0m\u001b[0;34m)\u001b[0m\u001b[0;34m:\u001b[0m\u001b[0;34m\u001b[0m\u001b[0;34m\u001b[0m\u001b[0m\n",
      "\u001b[0;31mIndexError\u001b[0m: single positional indexer is out-of-bounds"
     ]
    }
   ],
   "source": [
    "for i in range(0,70):\n",
    "    if cldf.original_tweet.iloc[i]== 'None':\n",
    "        print(cldf.tweet.iloc[i]+'\\n\\n')\n",
    "    else:\n",
    "        print(cldf.original_tweet.iloc[i]+'\\n\\n')"
   ]
  },
  {
   "cell_type": "code",
   "execution_count": null,
   "metadata": {},
   "outputs": [],
   "source": []
  },
  {
   "cell_type": "code",
   "execution_count": null,
   "metadata": {},
   "outputs": [],
   "source": []
  },
  {
   "cell_type": "code",
   "execution_count": null,
   "metadata": {},
   "outputs": [],
   "source": []
  }
 ],
 "metadata": {
  "kernelspec": {
   "display_name": "Python 3",
   "language": "python",
   "name": "python3"
  },
  "language_info": {
   "codemirror_mode": {
    "name": "ipython",
    "version": 3
   },
   "file_extension": ".py",
   "mimetype": "text/x-python",
   "name": "python",
   "nbconvert_exporter": "python",
   "pygments_lexer": "ipython3",
   "version": "3.7.7"
  }
 },
 "nbformat": 4,
 "nbformat_minor": 2
}
