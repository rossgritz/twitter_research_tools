{
 "cells": [
  {
   "cell_type": "markdown",
   "metadata": {},
   "source": [
    "# Exploratory Analysis Notebook"
   ]
  },
  {
   "cell_type": "markdown",
   "metadata": {},
   "source": [
    "#### This notebook contains a demonstration of the tools necessary for conducting exploratory analysis of the data. This includes searching for specific users, topics and hashtags and then using descriptive analytics (e.g. frequency analysis, descripting statistics and temporal frequency)."
   ]
  },
  {
   "cell_type": "code",
   "execution_count": 2,
   "metadata": {
    "scrolled": false
   },
   "outputs": [],
   "source": [
    "import trt_API.process as proc"
   ]
  },
  {
   "cell_type": "markdown",
   "metadata": {},
   "source": [
    "## Variables for Analysis"
   ]
  },
  {
   "cell_type": "code",
   "execution_count": 3,
   "metadata": {},
   "outputs": [],
   "source": [
    "# Set the path to the parent directory containing all Tweets of interest\n",
    "DIRECTORY = './tweets/*'\n",
    "# Set to True to isolate english language tweets\n",
    "ENGLISH = False"
   ]
  },
  {
   "cell_type": "markdown",
   "metadata": {},
   "source": [
    "## Load Tweet and Generate Dataframe"
   ]
  },
  {
   "cell_type": "code",
<<<<<<< HEAD
   "execution_count": 3,
=======
   "execution_count": 4,
>>>>>>> 717e34eb170fd27fbdc5276871bb8fc330c15005
   "metadata": {},
   "outputs": [
    {
     "name": "stdout",
     "output_type": "stream",
     "text": [
      "Loaded utf-8 df.\n",
      "Initial size: 5065\n",
      "Dropping duplicates...\n",
<<<<<<< HEAD
      "Final size: 23572\n"
=======
      "Final size: 2540\n"
>>>>>>> 717e34eb170fd27fbdc5276871bb8fc330c15005
     ]
    }
   ],
   "source": [
    "tweet_objects = proc.loadTweetObjects(DIRECTORY)\n",
    "df = proc.convertTweetsToDataframe(tweet_objects, ENGLISH)"
   ]
  },
  {
   "cell_type": "markdown",
   "metadata": {},
   "source": [
    "## Extract Potential Cashtags"
   ]
  },
  {
   "cell_type": "code",
<<<<<<< HEAD
   "execution_count": 4,
=======
   "execution_count": 5,
>>>>>>> 717e34eb170fd27fbdc5276871bb8fc330c15005
   "metadata": {},
   "outputs": [
    {
     "name": "stdout",
     "output_type": "stream",
     "text": [
<<<<<<< HEAD
      "Total potential Cashtags: 118\n"
=======
      "Total potential Cashtags: 53\n"
>>>>>>> 717e34eb170fd27fbdc5276871bb8fc330c15005
     ]
    }
   ],
   "source": [
    "ctdf = proc.extractPossibleCashtags(df)"
   ]
  },
  {
   "cell_type": "markdown",
   "metadata": {},
   "source": [
    "## Removing Noisy Tweets"
   ]
  },
  {
   "cell_type": "code",
<<<<<<< HEAD
   "execution_count": 5,
=======
   "execution_count": 6,
>>>>>>> 717e34eb170fd27fbdc5276871bb8fc330c15005
   "metadata": {},
   "outputs": [
    {
     "name": "stdout",
     "output_type": "stream",
     "text": [
      "Removed 0 noisy terms.\n"
     ]
    },
    {
     "name": "stderr",
     "output_type": "stream",
     "text": [
      "/Users/rajuy/Desktop/twitter_research_tools/notebooks/trt_API/process.py:160: UserWarning: Pandas doesn't allow columns to be created via a new attribute name - see https://pandas.pydata.org/pandas-docs/stable/indexing.html#attribute-access\n",
      "  df.bad = df['tweet'].str.lower().str.contains(\\\n"
     ]
    }
   ],
   "source": [
    "'''\n",
    "*** Tweets often use popular hashtags with unrelated topics.\n",
    "*** Noisy words can be identified to use to filter such tweets.\n",
    "*** Enter these words below in the noisy_terms list.\n",
    "'''\n",
    "noisy_terms = ['#GoldenGlobes']\n",
    "cldf = proc.removeNoisyTerms(df, noisy_terms)"
   ]
  },
  {
   "cell_type": "code",
   "execution_count": null,
   "metadata": {},
   "outputs": [],
   "source": []
  },
  {
   "cell_type": "code",
<<<<<<< HEAD
   "execution_count": 6,
=======
   "execution_count": 7,
>>>>>>> 717e34eb170fd27fbdc5276871bb8fc330c15005
   "metadata": {},
   "outputs": [
    {
     "name": "stdout",
     "output_type": "stream",
     "text": [
<<<<<<< HEAD
      "Who is ready to do #EcoFriendly home decor? #DIY #eco â¡ï¸ https://t.co/avGy6YH7gY https://t.co/pWkMJP9dQz\n",
      "\n",
      "\n",
      "Damage from the LA #earthquake https://t.co/dDV9Lcp7Dc\n",
      "\n",
      "\n",
      "Beautiful Pink and Yellow Tulips Garden#Nature #Photo #Flowers #Tulips #Gardens #Spring #Colorful #Cool #Bloom#Pink #Tulip #Pictures #Beauty #Gardening #Plants https://t.co/LpSd4OdF48\n",
      "\n",
      "\n",
      "Flowers and Alpine Cottages at Tatras Tatra Mountains #Poland#Nature #Travel #Photo #Hiking #Mountains #Flowers #Plants #Trekking #Beauty#Photos #Outdoors #Vacations #Polska https://t.co/qSfOnbKcz4\n",
      "\n",
      "\n",
      "#LaikipiaNatureAmbassadorsWay to go\n",
      "\n",
      "\n",
      "Be safe #DTLA  #earthquake https://t.co/ky82ADZC4S\n",
      "\n",
      "\n",
      "Spring Snowdrops ~  https://t.co/cq2TUzNt2p ~ #Art #Photography #NewRiverNature\n",
      "\n",
      "\n",
      "Earth Day 2018#AGPeduli #AGPeduliBumi #AGPEarthDay #EarthDay #EndPlasticPollution #LessPlastic #EarthDay2018 https://t.co/H8zZbryzFs\n",
      "\n",
      "\n",
      "Earth Day 2018#agpeduli #AGPeduliBumi #AGPearthday#EarthDay #EndPlasticPollution #lessplastic #earthday2018 @tamblingwildlife @agpeduli #AGPeduliCitarum #citarumlestari #citarumharum@tamblingID@citarumlestari https://t.co/VqnH6lOHDR\n",
      "\n",
      "\n",
      "House finch. Bad hair day.#photography #nature #bird https://t.co/ChPnb4lM9x\n",
      "\n",
      "\n",
      "0.55 earthquake occurred 7km NW of The Geysers, CA at 03:09 UTC! #earthquake #TheGeysers https://t.co/BsNE4LDKvh\n",
      "\n",
      "\n",
      "GIANNIS!#FearTheDeer https://t.co/MsoHEVq5Qc\n",
      "\n",
      "\n",
      "GIANNIS!#FearTheDeer https://t.co/MsoHEVq5Qc\n",
      "\n",
      "\n",
      "Beauty is everywhere! ð³ð¦ð¹ð»ð¿ð·#gardens #roses #nature #amwriting #amreading https://t.co/lhq7UtziO3\n",
      "\n",
      "\n",
      "Ban plastic bag Stop plastic pollution #agpeduli #AGPeduliBumi #AGPearthday#EarthDay #EndPlasticPollution #lessplastic #earthday2018 @tamblingwildlife @agpeduli #AGPeduliCitarum #citarumlestari #citarumharum@tamblingID@citarumlestari https://t.co/l6WoWLYdmZ\n",
      "\n",
      "\n",
      "Earth Day 2018#agpeduli #AGPeduliBumi #AGPearthday#EarthDay #EndPlasticPollution #lessplastic #earthday2018 @tamblingwildlife @agpeduli #AGPeduliCitarum #citarumlestari #citarumharum@tamblingID@citarumlestari https://t.co/ss7PS92B0Y\n",
      "\n",
      "\n",
      "#nature Life is a voyage of discovery.Unknown\n",
      "\n",
      "\n",
      "#Scotland has responded to the challenge of #ClimateChange with innovation https://t.co/AqJlVkU7zT 68.1% of the countryâs electricity needs were met by #renewables in 2017 #ClimateAction #Talanoa4ambition https://t.co/Jiyl1PrXTF\n",
      "\n",
      "\n",
      "Accuracy â¨@ES_SQU #Ø§ÙÙ\n",
      "ÙØªÙÙ_Ø§ÙÙÙØ¯Ø³Ù_Ø§ÙØ·ÙØ§Ø¨Ù8 #smart_environment https://t.co/BuIKNyjcp6\n",
      "\n",
      "\n",
      "Lavender Sunset in #Tasmania #Australia#Nature #Travel #Flowers #Gardening #Spring #Photo #Amazing #Flower #Sunset#Gardens #Photos #Lavender #Tours #Colorful https://t.co/gXIeACPjOr\n",
      "\n",
      "\n",
      "Earth day ðð³#agpeduli #AGPeduliBumi #AGPearthday#EarthDay #EndPlasticPollution #lessplastic #earthday2018 @tamblingwildlife @agpeduli #AGPeduliCitarum #citarumlestari #citarumharum@tamblingID@citarumlestari https://t.co/s3ejIKjiKv\n",
      "\n",
      "\n",
      "Bullfinch on a twig in the winter.https://t.co/JSN76mtwlS#birds #birdwatching #nature #photography #animals #wildlife #photographer #gardenlife #winter https://t.co/232es3OCoh\n",
      "\n",
      "\n",
      "butterfly 3d Wallpaper https://t.co/z4Cf1PmoDI #Mobile #Walpapers #Nature #3d #Butterfly #Free https://t.co/eO2Nv5v7CT\n",
      "\n",
      "\n",
      ".@Shell Knew About #ClimateChange Decades Ago  ...Shellâs sophisticated modeling went beyond energy...&amp; economy...addressed society as a whole.. ... predicted storms &amp; legal consequences...detailed  in 1998 Shell Internal ...1998-2020 Senario Report...\"https://t.co/sPEWSqTS7e\"\n",
      "\n",
      "\n",
      "Earthquakes got me feeling shakey about living in Los Angeles ð¤£#DTLA #earthquake\n",
      "\n",
      "\n",
      "Oh Snap! #earthquakeNEW YouTube video posted! ð¬ð¥#linkinbio â¬ï¸â¬ï¸â¬ï¸â¬ï¸ðð¦ @ Los Angeles, California https://t.co/JKQsBUHY9A\n",
      "\n",
      "\n",
      "ðGood Morning Twitter Planet ð#nature #travel #photograpy #earth https://t.co/POf9gLn5KV\n",
      "\n",
      "\n",
      "ðGood Morning Twitter Planet ð#nature #travel #photograpy #earth https://t.co/POf9gLn5KV\n",
      "\n",
      "\n",
      "A reusable pizza box...tell us more @dusty_knuckle ! #ecofriendly #sustainability#pizza https://t.co/tHtl2KmKe9\n",
      "\n",
      "\n",
      "Pak @jokowi @SitiNurbayaLHK @KementerianLHK Earth Day 2018 #agpeduli #AGPeduliBumi #AGPearthday #EarthDay #EndPlasticPollution #lessplastic #earthday2018 @MangroveCare #AGPeduliMangrove #ForumPeduliMangroveBali #FPMB @agpeduli @TamblingID @CitarumLestari https://t.co/zyfv21rHsd\n",
      "\n",
      "\n",
      "She's my #Humpdayhappinessð¿ðð¿ðð¿#beblessedð¯&amp;Enjoy this day!#naturebeshowingoutð¿#2018cannabisstrong ðª https://t.co/GFI7FVzJ2u\n",
      "\n",
      "\n",
      "Earth day ðð³#agpeduli #AGPeduliBumi #AGPearthday#EarthDay #EndPlasticPollution #lessplastic #earthday2018 @tamblingwildlife @agpeduli #AGPeduliCitarum #citarumlestari #citarumharum@tamblingID@citarumlestari https://t.co/YSIuAeeuHa\n",
      "\n",
      "\n",
      "Think GreenEarth Day 2018#agpeduli #AGPeduliBumi #AGPearthday #EarthDay #EndPlasticPollution #lessplastic #earthday2018 @tamblingwildlife @agpeduli #AGPeduliCitarum #citarumlestari #citarumharum@tamblingID @citarumlestari https://t.co/XFbWspohe3\n",
      "\n",
      "\n",
      "Earth day ðð³#agpeduli #AGPeduliBumi #AGPearthday#EarthDay #EndPlasticPollution #lessplastic #earthday2018 @tamblingwildlife @agpeduli #AGPeduliCitarum #citarumlestari #citarumharum@tamblingID@citarumlestari https://t.co/5b6gvc9IwT\n",
      "\n",
      "\n",
      "Amazing concept. Checkout a pen that can grow into a tree. @GlblCtzn #Sustainability #Schel https://t.co/eSriMXAnTl\n",
=======
      "Let free entertainment ring. Vote for your favorite patriotic film and the winner will be featured on Delta Studio this September.\n",
>>>>>>> 717e34eb170fd27fbdc5276871bb8fc330c15005
      "\n",
      "\n",
      "Ethiopian Airlines will add new flight routes to #Garowe and #Bosaso ,effective July 15th. #Ethiopian #Somalia https://t.co/MrmXkIpVl6\n",
      "\n",
      "\n",
      "@TomFitton @realDonaldTrump Loved the part when our army took over @British_Airways back in 1776. Very touching indeed.\n",
      "\n",
      "\n",
      "@KenyaAirways @dailynation That is not exactly true. I have photos of your planes that ply west African routes and they are beyond scary\n",
      "\n",
      "\n",
      "@AirFranceFR  I have been waiting for 2 hours for my bag. @Delta this is a horrible partnership. ZERO customer service!!\n",
      "\n",
      "\n",
      "@Ryanair Hello, I am a British citizen travelling from Bristol to Dublin with children aged 5 and 7.Do I need a passport for my children?\n",
      "\n",
      "\n",
      "Mystery of the day: how @skift and @business came to the conclusion that 737 Max grounding led to @emirates using A380 on shorter trips, when @emirates does not own 737 Max in the first place!!\n",
      "\n",
      "\n",
      "In the next days I’ll post here a full story about my several flights in the past few weeks with @AmericanAir I want the world nows what I being through, even in first class. I want people know my story to learn the kind of business @AmericanAir is doing now.\n",
      "\n",
      "\n",
      "@Delta How about “Sully”\n",
      "\n",
      "\n",
      "@banditotreehous @AmericanAir @sauces4dipping I mean I didn't have it worst, couple of people under 21 from my flight were not accommodated at hotels due to liability issues and had to spend the night on the concrete at the airport 😐\n",
      "\n",
      "\n",
      "@SpiritAirlines everybody already hates flying with y’all! Thanks for ensuring none of us fly with you ever again ✌🏽 https://t.co/K1cd3xcVAE\n",
      "\n",
      "\n",
      "It’s 2019 and you’re telling me @SpiritAirlines seriously thought it was a good idea to ask Sis to leave her PAID seat for this heifer?! 💆🏾‍♀️ https://t.co/QnCXE6rEWv\n",
      "\n",
      "\n",
      "It’s 2019 and you’re telling me @SpiritAirlines seriously thought it was a good idea to ask Sis to leave her PAID seat for this heifer?! 💆🏾‍♀️ https://t.co/QnCXE6rEWv\n",
      "\n",
      "\n",
      "It’s 2019 and you’re telling me @SpiritAirlines seriously thought it was a good idea to ask Sis to leave her PAID seat for this heifer?! 💆🏾‍♀️ https://t.co/QnCXE6rEWv\n",
      "\n",
      "\n",
      "@Delta Such a horrible experience, we should have never left the gate.\n",
      "\n",
      "\n",
      "Hey @united My sister tries to change her flight dates because Grandma isn't going to make it and you tell her because she bought basic economy she's SOL but you hope she has a better day? Do you get off on being assholes or are you really that soulless?\n",
      "\n",
      "\n",
      "@united She did, and the response she got was exactly what I posted. So what good would calling again do? None. Shes submitted an online complaint that will take 18-21 business days to review? F that. Media hears about this next\n",
      "\n",
      "\n",
      "@Twitter .@AmericanAir until they respond to me about playing a Marvel movie on an eastbound RED EYE!!! With no eye masks!!!\n",
      "\n",
      "\n",
      "@AmericanAir @SU2C I stand up for my dog.\n",
      "\n",
      "\n",
      "@joshua_becker @AmericanAir Similar experiences with them over the last couple months. Enough that I’m considering switching to a different carrier going forward.\n",
      "\n",
      "\n",
      "@AmericanAir I’m glad your lack of a flight crews is resulting in my flights being delayed 2 hours.\n",
      "\n",
      "\n",
      "DENCS MD @LukeatUnited giving Lead Al R. his ‼️45‼️ years @united milestone pin!🏆✈️ Congratulations Al! 🌟 Thank you for delivering safe, caring, dependable, efficient for almost half a century! 45 years dedicated to #Core4 excellence! 💫 #beingUnited @Steveatunited #UnitedinDEN https://t.co/R9GVVaJznP\n",
      "\n",
      "\n",
      "@SpiritAirlines Fuck you guys as a staff, record label, and muhfukin’ crew and if you’re down with Spirit... fuck you too!\n",
      "\n",
      "\n",
      "Hey @delta - thank your check in associate Ellen at your D terminal in LGA, who listened to my vent as I shared how awful I felt telling my son I might not fulfill my promise of making it home and seeing him in the morning, since my flight to MSP has been drastically delayed.\n",
      "\n",
      "\n",
      "I keep reading tweets from other people to @united and everyone is pissed off. Everyone.\n",
      "\n",
      "\n",
      "Won’t lie, not having a great night.  Trying to get home to my son, @delta keeps changing flight, reducing hope that I’ll ever get home tonight.  But this brightened my night and then some. #BendLikeRapinoe @mPinoe #USWNT #FutureIsFemale #soccer https://t.co/hOk1VyA74I\n",
      "\n",
      "\n",
      "Always good to be on board with @emirates ✈️#ArsenalinUSA 🇺🇸 https://t.co/DhnUtUXISr\n",
      "\n",
      "\n",
      "@Delta I wonder why my flight number DL1426 has been delayed 4 times already with more than 4 hours compared to the original time?\n",
      "\n",
      "\n",
      "@drewisgooden @SharikaSoal84 @Delta Wait it out Delta, he won't survive the fall. 😂🤷‍♂️🤦‍♂️\n",
      "\n",
      "\n",
      "We never stop, and we are all set for our next journey. Photo Credit: @planes_by_damian#CSAir #planelovers #planespotter #planespotting #travel https://t.co/L9x9loGzXm\n",
      "\n",
      "\n",
      "Here is what i was wearing when @AmericanAir asked me to deplane for a talk. At which point I was asked  to “cover up”. When defending my outfit I was threatened with not getting back on the flight unless I walked down the aisle wrapped in a blanket. #notsofriendlyskies https://t.co/AYQNNriLcq\n",
      "\n",
      "\n",
      "@TeniEntertainer @emirates @VirginAtlantic @qatarairways take note. Sugar Mumsy wants Budw always ..\n",
      "\n",
      "\n",
      "We can't wait to see you, LA! 🤩✈️ @emirates #FlyEmiratesFlyBetter 🇺🇸 #ArsenalinUSA https://t.co/i3naWWL32M\n",
      "\n",
      "\n",
      "We can't wait to see you, LA! 🤩✈️ @emirates #FlyEmiratesFlyBetter 🇺🇸 #ArsenalinUSA https://t.co/i3naWWL32M\n",
      "\n",
      "\n",
      "@AlexGam2013 @Arsenal @emirates Kelechi calm down small we dey work on am\n",
      "\n",
      "\n",
<<<<<<< HEAD
      "2.1 magnitude #earthquake. 93km SSW of Homer, Alaska https://t.co/nKaZlsvbXs\n",
=======
      "@AirCanada I’m at the Air Canada Gate. They’ve put me on standby even though I paid for the flight months ago. The people next to me got canceled and attendant won’t even give her name - says she doesn’t have to. Some business. They’re missing their cruise\n",
      "\n",
      "\n",
      "@Ryanair the EU261 flight compensation laws apply to you too. And a refusal to explain the extraordinary circumstances\" certainly don't make us any happier. #flightcompensation #ryanair\"\n",
      "\n",
      "\n",
      "An @AirCanada plane en route to Sydney hit unexpected turbulence, flinging passengers into the ceiling and aisles. Australians onboard say there was no warning, describing the terrifying moment after an emergency landing in Hawaii. https://t.co/QATEamvusU @MyleeHogan #7NEWS https://t.co/DBt5xCJ83F\n",
      "\n",
      "\n",
      "Due to forecasted weather conditions, service to New Orleans, Panama City Beach, and Pensacola may be disrupted through Saturday, July 13. Check your flight status and explore rebooking options: https://t.co/c90Lvt5utp https://t.co/Y5OnDZyZZ3\n",
      "\n",
      "\n",
      "Due to forecasted weather conditions, service to New Orleans, Panama City Beach, and Pensacola may be disrupted through Saturday, July 13. Check your flight status and explore rebooking options: https://t.co/c90Lvt5utp https://t.co/Y5OnDZyZZ3\n",
      "\n",
      "\n",
      "A first look inside @Delta’s A330neo. The airline placed the new aircraft into service today from Seattle to Shanghai. More: https://t.co/3W8yNZiO1c https://t.co/pcEhQPI9m0\n",
      "\n",
      "\n",
      "Always good to be on board with @emirates ✈️#ArsenalinUSA 🇺🇸 https://t.co/DhnUtUXISr\n",
      "\n",
      "\n",
      "Video I took from my seat on my flight from Atlanta to Baltimore yesterday! Thanks @Delta for the silly smooth emergency landing! #perfect #execution To use this video in a commercial player or in broadcasts, please email licensing@storyful.com https://t.co/TUFzREl0Lc\n",
      "\n",
      "\n",
      "@united how do I speak to someone in Customer Care? 18-21 days is too long to respond to an email. You overcharged my credit card.\n",
      "\n",
      "\n",
      "Extremely confused on how @SouthwestAir cancelled a whole flight\n",
      "\n",
      "\n",
      "@Arsenal @Aubameyang7 @emirates I guess u crazy or stupid,I’m talking about u admin...stop it with preseason.signings is wat we want fool\n",
      "\n",
      "\n",
      "@AirCanada No reply yet?????\n",
      "\n",
      "\n",
      "Hey @Delta! You broke my @away bag last time I flew, but you have an amazing claims manager who fixed everything. Give that man a raise!!!! F. Reed ext #5020038\n",
      "\n",
      "\n",
      "@kmorrissey23 @SouthwestAir @ROAD2NSPRA What a shame! Hopefully you can score some @SouthwestAir drink tickets? #NSPRA2019\n",
      "\n",
      "\n",
      "@SpiritAirlines DM sent.\n",
      "\n",
      "\n",
      "#WIN a trip to the Bahamas and a gift card for a diving excursion. from @SouthwestAir! #Sweepstakes #DiveStuartCoves #SharkWeek Enter Here: https://t.co/NPVw3gAbkO#winit #Sweeps #Giveaway #GiveawayAlert #Contest #ContestAlert #Competition #CompetitionTime #DavesSweeps\n",
      "\n",
      "\n",
      "A special trip to NYC.Our @AlaskaAir Away Days winner Chris took us along for the ride for their epic getaway to our match against NYCFC. #RCTID https://t.co/Q9GhI0NdhB\n",
      "\n",
      "\n",
      "@RunningFoodie @Martin_Provo @united Your posts are spot on! I love them. I hope you get to spend some time with your brother.\n",
      "\n",
      "\n",
      "@AmericanAir and it’s been 24 hours we didn’t get our bags delivered - as promised and after n follow ups. Do you hear me after .. my lil ones (8 months old) luggage is stuck. So frustrating..\n",
      "\n",
      "\n",
      "@aaronbronsteter @sportsrage @AmericanAir Yeah....I kinda have a bad relationship with American Airlines\n",
      "\n",
      "\n",
      "Explosive revelations in the PCoI report into @flysrilankan and @MihinOnline operations, with allegations of corruption, incompetence and political interference, among other allegations. #lka #SriLanka https://t.co/19lFUuXu0R https://t.co/YER98KhvMN\n",
      "\n",
      "\n",
      "@Ryanairsucks1 @Ryanair At the left most check-in desk in T1 it's the super long queue\n",
      "\n",
      "\n",
      "A(bother) reason not to fly @qantas #auspol\n",
      "\n",
      "\n",
      "The heavy fine on @British_Airways so soon after #GDPR in force - 1.5% global turnover should make #pharmacies &amp; other #healthcare providers sit up https://t.co/wF90ia62FX Health data breaches may be viewed as much more serious than credit card info.\n",
      "\n",
      "\n",
      "The heavy fine on @British_Airways so soon after #GDPR in force - 1.5% global turnover should make #pharmacies &amp; other #healthcare providers sit up https://t.co/wF90ia62FX Health data breaches may be viewed as much more serious than credit card info.\n",
      "\n",
      "\n",
      "@TheRickWilson @AmericanAir Can’t win em all buddy...\n",
      "\n",
      "\n",
      "Worst airline in the WORLD?@AmericanAir5 hrs delay with no info, nobody knows nothing. Every other airline is flying with no issues.\n",
      "\n",
      "\n",
      "Since 1985 we’ve gone from 2 destinations to over 200 🙌And to celebrate our 34th birthday today we're giving away a €100 Ryanair voucher - so you can explore some of our newest routes 🥳Just retweet and tell us where you paused the video and include #RyanairBirthdayBreaks👇 https://t.co/da0QeCBn63\n",
      "\n",
      "\n",
      "@Ryanair #RyanairBirthdayBreaks Kosice https://t.co/rRNrQP9Aqc\n",
      "\n",
      "\n",
      "very disappointing, @British_Airways &amp; poor response from your CEO. I expect my data to be better protected regardless of whether you have evidence of fraudulent activity\" on my account. https://t.co/PdxiTfnn58\"\n",
      "\n",
      "\n",
      "@Flight_Refunds @MichaelWeadock @easyJet Ta. Not ya. That just sounds silly\n",
      "\n",
      "\n",
      "@TheRickWilson @AmericanAir Same yesterday. All I can say nice about @AmericanAir is that they aren’t @united\n",
      "\n",
      "\n",
      "@femalehobbyist Ill see if my @SouthwestAir pilot will make a pitstop\n",
      "\n",
      "\n",
      "@amyallantdf @Delta That’s totally insane!!! So sorry!!! Delta get your act together!!\n",
      "\n",
      "\n",
      "Since 1985 we’ve gone from 2 destinations to over 200 🙌And to celebrate our 34th birthday today we're giving away a €100 Ryanair voucher - so you can explore some of our newest routes 🥳Just retweet and tell us where you paused the video and include #RyanairBirthdayBreaks👇 https://t.co/da0QeCBn63\n",
>>>>>>> 717e34eb170fd27fbdc5276871bb8fc330c15005
      "\n",
      "\n"
     ]
    }
   ],
   "source": [
    "for i in range(0,70):\n",
    "    if cldf.original_tweet.iloc[i]== 'None':\n",
    "        print(cldf.tweet.iloc[i]+'\\n\\n')\n",
    "    else:\n",
    "        print(cldf.original_tweet.iloc[i]+'\\n\\n')"
   ]
  }
 ],
 "metadata": {
  "interpreter": {
   "hash": "40d3a090f54c6569ab1632332b64b2c03c39dcf918b08424e98f38b5ae0af88f"
  },
  "kernelspec": {
   "display_name": "Python 3.8.5 64-bit (conda)",
   "name": "python3"
  },
  "language_info": {
   "codemirror_mode": {
    "name": "ipython",
    "version": 3
   },
   "file_extension": ".py",
   "mimetype": "text/x-python",
   "name": "python",
   "nbconvert_exporter": "python",
   "pygments_lexer": "ipython3",
   "version": "3.8.5"
  }
 },
 "nbformat": 4,
 "nbformat_minor": 2
}
