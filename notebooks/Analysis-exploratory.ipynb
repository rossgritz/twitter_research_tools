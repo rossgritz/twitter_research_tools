{
 "cells": [
  {
   "cell_type": "markdown",
   "metadata": {},
   "source": [
    "# Exploratory Analysis Notebook"
   ]
  },
  {
   "cell_type": "markdown",
   "metadata": {},
   "source": [
    "#### This notebook contains a demonstration of the tools necessary for conducting exploratory analysis of the data. This includes searching for specific users, topics and hashtags and then using descriptive analytics (e.g. frequency analysis, descripting statistics and temporal frequency)."
   ]
  },
  {
   "cell_type": "code",
   "execution_count": 1,
   "metadata": {
    "scrolled": false
   },
   "outputs": [],
   "source": [
    "import trt_API.process as proc"
   ]
  },
  {
   "cell_type": "markdown",
   "metadata": {},
   "source": [
    "## Variables for Analysis"
   ]
  },
  {
   "cell_type": "code",
   "execution_count": 2,
   "metadata": {},
   "outputs": [],
   "source": [
    "# Set the path to the parent directory containing all Tweets of interest\n",
    "DIRECTORY = './tweets/*'\n",
    "# Set to True to isolate english language tweets\n",
    "ENGLISH = False"
   ]
  },
  {
   "cell_type": "markdown",
   "metadata": {},
   "source": [
    "## Load Tweet and Generate Dataframe"
   ]
  },
  {
   "cell_type": "code",
   "execution_count": 3,
   "metadata": {},
   "outputs": [
    {
     "name": "stdout",
     "output_type": "stream",
     "text": [
      "Loaded utf-8 df.\n",
      "Initial size: 26996\n",
      "Dropping duplicates...\n",
      "Final size: 23572\n"
     ]
    }
   ],
   "source": [
    "tweet_objects = proc.loadTweetObjects(DIRECTORY)\n",
    "df = proc.convertTweetsToDataframe(tweet_objects, ENGLISH)"
   ]
  },
  {
   "cell_type": "markdown",
   "metadata": {},
   "source": [
    "## Extract Potential Cashtags"
   ]
  },
  {
   "cell_type": "code",
   "execution_count": 4,
   "metadata": {},
   "outputs": [
    {
     "name": "stdout",
     "output_type": "stream",
     "text": [
      "Total potential Cashtags: 118\n"
     ]
    }
   ],
   "source": [
    "ctdf = proc.extractPossibleCashtags(df)"
   ]
  },
  {
   "cell_type": "markdown",
   "metadata": {},
   "source": [
    "## Removing Noisy Tweets"
   ]
  },
  {
   "cell_type": "code",
   "execution_count": 5,
   "metadata": {},
   "outputs": [
    {
     "name": "stdout",
     "output_type": "stream",
     "text": [
      "Removed 0 noisy terms.\n"
     ]
    },
    {
     "name": "stderr",
     "output_type": "stream",
     "text": [
      "/Users/rajuy/Documents/twitter_research_tools-master/notebooks/trt_API/process.py:160: UserWarning: Pandas doesn't allow columns to be created via a new attribute name - see https://pandas.pydata.org/pandas-docs/stable/indexing.html#attribute-access\n",
      "  df.bad = df['tweet'].str.lower().str.contains(\\\n"
     ]
    }
   ],
   "source": [
    "'''\n",
    "*** Tweets often use popular hashtags with unrelated topics.\n",
    "*** Noisy words can be identified to use to filter such tweets.\n",
    "*** Enter these words below in the noisy_terms list.\n",
    "'''\n",
    "noisy_terms = ['#GoldenGlobes']\n",
    "cldf = proc.removeNoisyTerms(df, noisy_terms)"
   ]
  },
  {
   "cell_type": "code",
   "execution_count": null,
   "metadata": {},
   "outputs": [],
   "source": []
  },
  {
   "cell_type": "code",
   "execution_count": 6,
   "metadata": {},
   "outputs": [
    {
     "name": "stdout",
     "output_type": "stream",
     "text": [
      "Who is ready to do #EcoFriendly home decor? #DIY #eco â¡ï¸ https://t.co/avGy6YH7gY https://t.co/pWkMJP9dQz\n",
      "\n",
      "\n",
      "Damage from the LA #earthquake https://t.co/dDV9Lcp7Dc\n",
      "\n",
      "\n",
      "Beautiful Pink and Yellow Tulips Garden#Nature #Photo #Flowers #Tulips #Gardens #Spring #Colorful #Cool #Bloom#Pink #Tulip #Pictures #Beauty #Gardening #Plants https://t.co/LpSd4OdF48\n",
      "\n",
      "\n",
      "Flowers and Alpine Cottages at Tatras Tatra Mountains #Poland#Nature #Travel #Photo #Hiking #Mountains #Flowers #Plants #Trekking #Beauty#Photos #Outdoors #Vacations #Polska https://t.co/qSfOnbKcz4\n",
      "\n",
      "\n",
      "#LaikipiaNatureAmbassadorsWay to go\n",
      "\n",
      "\n",
      "Be safe #DTLA  #earthquake https://t.co/ky82ADZC4S\n",
      "\n",
      "\n",
      "Spring Snowdrops ~  https://t.co/cq2TUzNt2p ~ #Art #Photography #NewRiverNature\n",
      "\n",
      "\n",
      "Earth Day 2018#AGPeduli #AGPeduliBumi #AGPEarthDay #EarthDay #EndPlasticPollution #LessPlastic #EarthDay2018 https://t.co/H8zZbryzFs\n",
      "\n",
      "\n",
      "Earth Day 2018#agpeduli #AGPeduliBumi #AGPearthday#EarthDay #EndPlasticPollution #lessplastic #earthday2018 @tamblingwildlife @agpeduli #AGPeduliCitarum #citarumlestari #citarumharum@tamblingID@citarumlestari https://t.co/VqnH6lOHDR\n",
      "\n",
      "\n",
      "House finch. Bad hair day.#photography #nature #bird https://t.co/ChPnb4lM9x\n",
      "\n",
      "\n",
      "0.55 earthquake occurred 7km NW of The Geysers, CA at 03:09 UTC! #earthquake #TheGeysers https://t.co/BsNE4LDKvh\n",
      "\n",
      "\n",
      "GIANNIS!#FearTheDeer https://t.co/MsoHEVq5Qc\n",
      "\n",
      "\n",
      "GIANNIS!#FearTheDeer https://t.co/MsoHEVq5Qc\n",
      "\n",
      "\n",
      "Beauty is everywhere! ð³ð¦ð¹ð»ð¿ð·#gardens #roses #nature #amwriting #amreading https://t.co/lhq7UtziO3\n",
      "\n",
      "\n",
      "Ban plastic bag Stop plastic pollution #agpeduli #AGPeduliBumi #AGPearthday#EarthDay #EndPlasticPollution #lessplastic #earthday2018 @tamblingwildlife @agpeduli #AGPeduliCitarum #citarumlestari #citarumharum@tamblingID@citarumlestari https://t.co/l6WoWLYdmZ\n",
      "\n",
      "\n",
      "Earth Day 2018#agpeduli #AGPeduliBumi #AGPearthday#EarthDay #EndPlasticPollution #lessplastic #earthday2018 @tamblingwildlife @agpeduli #AGPeduliCitarum #citarumlestari #citarumharum@tamblingID@citarumlestari https://t.co/ss7PS92B0Y\n",
      "\n",
      "\n",
      "#nature Life is a voyage of discovery.Unknown\n",
      "\n",
      "\n",
      "#Scotland has responded to the challenge of #ClimateChange with innovation https://t.co/AqJlVkU7zT 68.1% of the countryâs electricity needs were met by #renewables in 2017 #ClimateAction #Talanoa4ambition https://t.co/Jiyl1PrXTF\n",
      "\n",
      "\n",
      "Accuracy â¨@ES_SQU #Ø§ÙÙ",
      "ÙØªÙÙ_Ø§ÙÙÙØ¯Ø³Ù_Ø§ÙØ·ÙØ§Ø¨Ù8 #smart_environment https://t.co/BuIKNyjcp6\n",
      "\n",
      "\n",
      "Lavender Sunset in #Tasmania #Australia#Nature #Travel #Flowers #Gardening #Spring #Photo #Amazing #Flower #Sunset#Gardens #Photos #Lavender #Tours #Colorful https://t.co/gXIeACPjOr\n",
      "\n",
      "\n",
      "Earth day ðð³#agpeduli #AGPeduliBumi #AGPearthday#EarthDay #EndPlasticPollution #lessplastic #earthday2018 @tamblingwildlife @agpeduli #AGPeduliCitarum #citarumlestari #citarumharum@tamblingID@citarumlestari https://t.co/s3ejIKjiKv\n",
      "\n",
      "\n",
      "Bullfinch on a twig in the winter.https://t.co/JSN76mtwlS#birds #birdwatching #nature #photography #animals #wildlife #photographer #gardenlife #winter https://t.co/232es3OCoh\n",
      "\n",
      "\n",
      "butterfly 3d Wallpaper https://t.co/z4Cf1PmoDI #Mobile #Walpapers #Nature #3d #Butterfly #Free https://t.co/eO2Nv5v7CT\n",
      "\n",
      "\n",
      ".@Shell Knew About #ClimateChange Decades Ago  ...Shellâs sophisticated modeling went beyond energy...&amp; economy...addressed society as a whole.. ... predicted storms &amp; legal consequences...detailed  in 1998 Shell Internal ...1998-2020 Senario Report...\"https://t.co/sPEWSqTS7e\"\n",
      "\n",
      "\n",
      "Earthquakes got me feeling shakey about living in Los Angeles ð¤£#DTLA #earthquake\n",
      "\n",
      "\n",
      "Oh Snap! #earthquakeNEW YouTube video posted! ð¬ð¥#linkinbio â¬ï¸â¬ï¸â¬ï¸â¬ï¸ðð¦ @ Los Angeles, California https://t.co/JKQsBUHY9A\n",
      "\n",
      "\n",
      "ðGood Morning Twitter Planet ð#nature #travel #photograpy #earth https://t.co/POf9gLn5KV\n",
      "\n",
      "\n",
      "ðGood Morning Twitter Planet ð#nature #travel #photograpy #earth https://t.co/POf9gLn5KV\n",
      "\n",
      "\n",
      "A reusable pizza box...tell us more @dusty_knuckle ! #ecofriendly #sustainability#pizza https://t.co/tHtl2KmKe9\n",
      "\n",
      "\n",
      "Pak @jokowi @SitiNurbayaLHK @KementerianLHK Earth Day 2018 #agpeduli #AGPeduliBumi #AGPearthday #EarthDay #EndPlasticPollution #lessplastic #earthday2018 @MangroveCare #AGPeduliMangrove #ForumPeduliMangroveBali #FPMB @agpeduli @TamblingID @CitarumLestari https://t.co/zyfv21rHsd\n",
      "\n",
      "\n",
      "She's my #Humpdayhappinessð¿ðð¿ðð¿#beblessedð¯&amp;Enjoy this day!#naturebeshowingoutð¿#2018cannabisstrong ðª https://t.co/GFI7FVzJ2u\n",
      "\n",
      "\n",
      "Earth day ðð³#agpeduli #AGPeduliBumi #AGPearthday#EarthDay #EndPlasticPollution #lessplastic #earthday2018 @tamblingwildlife @agpeduli #AGPeduliCitarum #citarumlestari #citarumharum@tamblingID@citarumlestari https://t.co/YSIuAeeuHa\n",
      "\n",
      "\n",
      "Think GreenEarth Day 2018#agpeduli #AGPeduliBumi #AGPearthday #EarthDay #EndPlasticPollution #lessplastic #earthday2018 @tamblingwildlife @agpeduli #AGPeduliCitarum #citarumlestari #citarumharum@tamblingID @citarumlestari https://t.co/XFbWspohe3\n",
      "\n",
      "\n",
      "Earth day ðð³#agpeduli #AGPeduliBumi #AGPearthday#EarthDay #EndPlasticPollution #lessplastic #earthday2018 @tamblingwildlife @agpeduli #AGPeduliCitarum #citarumlestari #citarumharum@tamblingID@citarumlestari https://t.co/5b6gvc9IwT\n",
      "\n",
      "\n",
      "Amazing concept. Checkout a pen that can grow into a tree. @GlblCtzn #Sustainability #Schel https://t.co/eSriMXAnTl\n",
      "\n",
      "\n",
      "Check out at our research during the next #egu2018 #radon as tracer for #climatestudies: from the enlargement of the atmospheric network to the scientific applications. Tue, 10 Apr, 16:45â17:00, Room 0.49\n",
      "\n",
      "\n",
      "'This cub was so focused on making biscuits\" on his mom's belly that he had to stick his tongue out!'#EarthCapture by @Travel4Wildlife https://t.co/VxXWBDGOqh\"\n",
      "\n",
      "\n",
      "Prague by the River #Prague Czech Republic #Czech#Travel #Photo #Nature #TravelTuesday #Vacation #Holiday #Country #Trips#Castle #Art #Tours #Antique #ÄeskÃ¡ https://t.co/xEsvOK9iBo\n",
      "\n",
      "\n",
      "An #earthquake just occurred on our Santa Cruz Island bald eagle camera! Watch dad &amp; his eaglets withstand the natural disaster. https://t.co/b9AQqiZEqP\n",
      "\n",
      "\n",
      "The snow isn't going to last today, but could be back Saturday night. #EnvironmentCanada #Weather https://t.co/m1vZvRPBnP\n",
      "\n",
      "\n",
      "https://t.co/kySqkGIwAmNew renewable energy capacity double fossil fuel growth in record-breaking 2017: UN report#climate #renewables #transition https://t.co/Gjc9X8cvWg\n",
      "\n",
      "\n",
      "Mountains and Tulips Farm in Kashmir #India#Nature #Photo #Flowers #Tulips #Gardens #Spring #Colorful #Bloom #Tulip#Photos #Mountains #Gardening #Plants #Kashmir #Tours https://t.co/svB9Wkv82X\n",
      "\n",
      "\n",
      "Dear Mayor @Ron_Nirenberg, Area college and university students are doing their part to get San Antonio #ClimateReady! https://t.co/J3f4PQF2SK\n",
      "\n",
      "\n",
      "Earth Day 2018#agpeduli #AGPeduliBumi #AGPearthday#EarthDay #EndPlasticPollution #lessplastic #earthday2018 @tamblingwildlife @agpeduli #AGPeduliCitarum #citarumlestari #citarumharum@tamblingID@citarumlestari https://t.co/UbewliC7GZ\n",
      "\n",
      "\n",
      "We are the Champions!!! ðððð #FearTheBeer ð»\n",
      "\n",
      "\n",
      "And @TheSMBeermen cemented legacy. Finals experience gives their edge!COMEBACK ISRAEL!!!! #FearTheBeer #4PEAT\n",
      "\n",
      "\n",
      "COMEBACK IS REAL!!! ððððºð»#SanMiguelBeermen #FearTheBeerNO MORE GAME 6!#CHAMPIONS\n",
      "\n",
      "\n",
      "How we respond to #climatechange today will determine food security tomorrow. #ZeroHunger https://t.co/3aEv5bRKNx\n",
      "\n",
      "\n",
      "April snow brings June flowers ðºð»ð·ð¸ð #letsgomothernature\n",
      "\n",
      "\n",
      "Earth Day 2018#agpeduli #AGPeduliBumi #AGPearthday#EarthDay #EndPlasticPollution #lessplastic #earthday2018 @tamblingwildlife @agpeduli #AGPeduliCitarum #citarumlestari #citarumharum@tamblingID@citarumlestari https://t.co/fETD5L2Sba\n",
      "\n",
      "\n",
      "Nature is beautiful @FineArtAmerica https://t.co/z8ueRdTNrG#Photography #FineArt #Gifts #ArtForSale #Nature https://t.co/ELgTT3D4lI\n",
      "\n",
      "\n",
      "Nature is beautiful @FineArtAmerica https://t.co/z8ueRdTNrG#Photography #FineArt #Gifts #ArtForSale #Nature https://t.co/ELgTT3D4lI\n",
      "\n",
      "\n",
      "History Maker!!!#FearTheBeer ð» https://t.co/BYnNkU0RhA\n",
      "\n",
      "\n",
      ".@ClimeFish's latest newsletter is out featuring our published #climatechange reports and outcomes from their recent #stakeholder events.  Follow the link to read more: https://t.co/ddDSPx4kBi https://t.co/5hOL3ybnoC\n",
      "\n",
      "\n",
      "Cities suing energy companies over #climatechange may have mischaracterized their own evidence, putting a spotlight on the environmental activists who are steering the campaign: https://t.co/O6dSO9DsnD https://t.co/HOJW9u6ZJf\n",
      "\n",
      "\n",
      "A little Clip for all those that Attack #FlatEarth &amp; #FlatEarthers !!! Enjoy ð #Trolls https://t.co/OUdvSa6HEl\n",
      "\n",
      "\n",
      "#SettlerColonial? or just plain #RACIST? #ApartheidIsRawHELL is #HELLonEarth!  https://t.co/nE6dIo5hE2 https://t.co/vpqxlTbvv5\n",
      "\n",
      "\n",
      "Few more snaps from #Andaman&amp;Nicobar Islands #NoFiltersUsed #naturallight #photography #NaturesCalendar #NaturePhotoDaily https://t.co/zRzUbZ6Sa0\n",
      "\n",
      "\n",
      "Summer Tanager.#birds #songbird #nature #mountains #outdoors #MondayMood https://t.co/WrGDfmB8Ds\n",
      "\n",
      "\n",
      "#Climate change is a more partisan issue than ever, and #DonaldTrump is to blame https://t.co/UZYwVvr5bJ\n",
      "\n",
      "\n",
      "You and sakurað¸#landscape #landscapephotography #nature #naturephotography #cherryblossoms #spring #sakura #beautifulday #SmileMore #art #loveyouall #FullBloom https://t.co/nE2HmtztLy\n",
      "\n",
      "\n",
      "We are the Champions!! ðððð #FearTheBeer ð» @Real_Mateo https://t.co/ypjiyiBLMx\n",
      "\n",
      "\n",
      "USGS reports a M2.03 #earthquake 5km SSE of Cabazon, CA on 4/6/18 @ 16:58:46 UTC https://t.co/FIFFDihgs4 #quake\n",
      "\n",
      "\n",
      "#Earthquakes News - Images show 5.3-magnitude quake rattle Southern California https://t.co/aHOMGPiInh\n",
      "\n",
      "\n",
      "UN sees role for #sport to advance Sustainable Development Goals by @Climate_Action_ https://t.co/zvtiHOSjan #SDGs #peace #sustainability\n",
      "\n",
      "\n",
      "@PeteNBCBoston Wow go from 40 degrees to 33 in um less than hour now snow !? Crazy !! #mothernatureoffhermeds\n",
      "\n",
      "\n",
      "Damage from the LA #earthquake https://t.co/dDV9Lcp7Dc\n",
      "\n",
      "\n",
      "Festeroot Hulk is Warrior card also revealed by PCGamesN! #Witchwood #Hearthstone #CardReveal https://t.co/JmOsP4nJ7J https://t.co/3xXiwhtQXN\n",
      "\n",
      "\n",
      "#B7Canada signature joint statement strong support to #inclusive growth #trade and open markets #resource efficiency #climate change and more opportunities for #SMEs @BusinessEurope https://t.co/VeyYhEKaam\n",
      "\n",
      "\n",
      "2.1 magnitude #earthquake. 93km SSW of Homer, Alaska https://t.co/nKaZlsvbXs\n",
      "\n",
      "\n"
     ]
    }
   ],
   "source": [
    "for i in range(0,70):\n",
    "    if cldf.original_tweet.iloc[i]== 'None':\n",
    "        print(cldf.tweet.iloc[i]+'\\n\\n')\n",
    "    else:\n",
    "        print(cldf.original_tweet.iloc[i]+'\\n\\n')"
   ]
  }
 ],
 "metadata": {
  "kernelspec": {
   "display_name": "Python 3",
   "language": "python",
   "name": "python3"
  },
  "language_info": {
   "codemirror_mode": {
    "name": "ipython",
    "version": 3
   },
   "file_extension": ".py",
   "mimetype": "text/x-python",
   "name": "python",
   "nbconvert_exporter": "python",
   "pygments_lexer": "ipython3",
   "version": "3.8.5"
  }
 },
 "nbformat": 4,
 "nbformat_minor": 2
}
