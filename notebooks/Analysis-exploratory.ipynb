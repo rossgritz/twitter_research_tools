{
 "cells": [
  {
   "cell_type": "markdown",
   "metadata": {},
   "source": [
    "# Exploratory Analysis Notebook"
   ]
  },
  {
   "cell_type": "markdown",
   "metadata": {},
   "source": [
    "#### This notebook contains a demonstration of the tools necessary for conducting exploratory analysis of the data. This includes searching for specific users, topics and hashtags and then using descriptive analytics (e.g. frequency analysis, descripting statistics and temporal frequency)."
   ]
  },
  {
   "cell_type": "code",
   "execution_count": 1,
   "metadata": {
    "scrolled": false
   },
   "outputs": [],
   "source": [
    "import trt_API.process as proc"
   ]
  },
  {
   "cell_type": "markdown",
   "metadata": {},
   "source": [
    "## Variables for Analysis"
   ]
  },
  {
   "cell_type": "code",
   "execution_count": 2,
   "metadata": {},
   "outputs": [],
   "source": [
    "# Set the path to the parent directory containing all Tweets of interest\n",
    "DIRECTORY = './tweets/*'\n",
    "# Set to True to isolate english language tweets\n",
    "ENGLISH = False"
   ]
  },
  {
   "cell_type": "markdown",
   "metadata": {},
   "source": [
    "## Load Tweet and Generate Dataframe"
   ]
  },
  {
   "cell_type": "code",
   "execution_count": 3,
   "metadata": {},
   "outputs": [
    {
     "name": "stdout",
     "output_type": "stream",
     "text": [
      "Loaded utf-8 df.\n",
      "Initial size: 16042\n",
      "Dropping duplicates...\n",
      "Final size: 10472\n"
     ]
    }
   ],
   "source": [
    "tweet_objects = proc.loadTweetObjects(DIRECTORY)\n",
    "df = proc.convertTweetsToDataframe(tweet_objects, ENGLISH)"
   ]
  },
  {
   "cell_type": "markdown",
   "metadata": {},
   "source": [
    "## Extract Potential Cashtags"
   ]
  },
  {
   "cell_type": "code",
   "execution_count": 4,
   "metadata": {},
   "outputs": [
    {
     "name": "stdout",
     "output_type": "stream",
     "text": [
      "Total potential Cashtags: 25\n"
     ]
    }
   ],
   "source": [
    "ctdf = proc.extractPossibleCashtags(df)"
   ]
  },
  {
   "cell_type": "markdown",
   "metadata": {},
   "source": [
    "## Removing Noisy Tweets"
   ]
  },
  {
   "cell_type": "code",
   "execution_count": 5,
   "metadata": {},
   "outputs": [
    {
     "name": "stdout",
     "output_type": "stream",
     "text": [
      "Removed 0 noisy terms.\n"
     ]
    },
    {
     "name": "stderr",
     "output_type": "stream",
     "text": [
      "/Users/rajuy/Desktop/twitter_research_tools/notebooks/trt_API/process.py:160: UserWarning: Pandas doesn't allow columns to be created via a new attribute name - see https://pandas.pydata.org/pandas-docs/stable/indexing.html#attribute-access\n",
      "  df.bad = df['tweet'].str.lower().str.contains(\\\n"
     ]
    }
   ],
   "source": [
    "'''\n",
    "*** Tweets often use popular hashtags with unrelated topics.\n",
    "*** Noisy words can be identified to use to filter such tweets.\n",
    "*** Enter these words below in the noisy_terms list.\n",
    "'''\n",
    "noisy_terms = ['#GoldenGlobes']\n",
    "cldf = proc.removeNoisyTerms(df, noisy_terms)"
   ]
  },
  {
   "cell_type": "code",
   "execution_count": null,
   "metadata": {},
   "outputs": [],
   "source": []
  },
  {
   "cell_type": "code",
   "execution_count": 6,
   "metadata": {},
   "outputs": [
    {
     "name": "stdout",
     "output_type": "stream",
     "text": [
      "@AnthonyParasole @kanyewest All right didn't know but I agree, Pusha T opus is better. Let's see Cudi now. Cheers\n",
      "\n",
      "\n",
      "Give #NewMusicFriday a try. 🎶🎵 @DanAndShay ➖ Alone Together🎵 @Drake ➖ I'm Upset🎵 @FLAGALine➖ Simple🎵 @kanyewest ➖ ye🎵 @maroon5 ft. @iamcardib ➖ Girls Like You🎵 @the1975 ➖ Give Yourself a TryTweet what you're listening to. 👇\n",
      "\n",
      "\n",
      "[ #GOT7NOW ] See you tomorrow, Berlin I GOT7 🐥#GOT7#갓세븐#EyesOnYou#GOT7WORLDTOUR https://t.co/HtO7G7SQLO\n",
      "\n",
      "\n",
      "#CHANYEOL #EXO #Monster #찬열 @weareoneEXO 🍾 Monster 200M 👻😈🎉 https://t.co/CJ3fhvIdek https://t.co/uraD3nrlfW\n",
      "\n",
      "\n",
      "[ #GOT7NOW ] See you tomorrow, Berlin I GOT7 🐥#GOT7#갓세븐#EyesOnYou#GOT7WORLDTOUR https://t.co/HtO7G7SQLO\n",
      "\n",
      "\n",
      "reborn is so beautiful @KidCudi @kanyewest #KidsSeeGhosts\n",
      "\n",
      "\n",
      "[ #GOT7NOW ] See you tomorrow, Berlin I GOT7 🐥#GOT7#갓세븐#EyesOnYou#GOT7WORLDTOUR https://t.co/HtO7G7SQLO\n",
      "\n",
      "\n",
      "[ #GOT7NOW ] See you tomorrow, Berlin I GOT7 🐥#GOT7#갓세븐#EyesOnYou#GOT7WORLDTOUR https://t.co/HtO7G7SQLO\n",
      "\n",
      "\n",
      "Best shirt of the day 😂❤️ #GOT7 #GOT7inBerlin #GOT7WORLDTOUR #EyesOnYou @GOT7Official @BamBam1A https://t.co/sWnJLV8Qrn\n",
      "\n",
      "\n",
      "180606 Eyes On You in Moscow @mtuan93 #GOT7⁠ ⁠ #갓세븐⁠ ⁠ #Mark #마크#EyesOnYou #GOT7WORLDTOUR https://t.co/oHLa5Xk49M\n",
      "\n",
      "\n",
      "Best shirt of the day 😂❤️ #GOT7 #GOT7inBerlin #GOT7WORLDTOUR #EyesOnYou @GOT7Official @BamBam1A https://t.co/sWnJLV8Qrn\n",
      "\n",
      "\n",
      "Hyeri's birthday support#걸스데이 #혜리 #생일 #Hyeri cr. hyeri dcinside galeryhttps://t.co/5VySQd9Vcs https://t.co/Ey5IKy3EEK\n",
      "\n",
      "\n",
      "GOT7 2018 WORLD TOUR ‘EYES ON YOU’ BANGKOK DAY 1#GOT7#갓세븐#EyesOnYou#GOT7WORLDTOUR https://t.co/ta3b8pnGTe\n",
      "\n",
      "\n",
      "Best shirt of the day 😂❤️ #GOT7 #GOT7inBerlin #GOT7WORLDTOUR #EyesOnYou @GOT7Official @BamBam1A https://t.co/sWnJLV8Qrn\n",
      "\n",
      "\n",
      "#Happy 😊 #first #Thursday of #June 2018...one of my #favourite #months of the #year (as long as the #temperature doesn’t rise too #high ) So far the #weather has #cooperated #perfectly #according to my #preferences (dry&amp;cool)Have a #healthy &amp; #happy #evening dear #friends 😘😘😘 https://t.co/O0UsRvhEck\n",
      "\n",
      "\n",
      "#인피니트#인피니트_8주년#8주년_인피니트가_빛나는날#인피니트와_네버엔딩_8주년_되는_날#8YearsWithINFINITE#8YearsWithHOYA  #INFINITE #infinite8thanniversaryIt’s D-DAY. HAPPY BIRTHDAYYYYYYYY ❤️❤️❤️❤️❤️❤️❤️❤️❤️❤️ https://t.co/iLeLngiks8\n",
      "\n",
      "\n",
      "Happy Birthday babe @kanyewest !!!!! It’s been a wild year but we’re here &amp; life is good! So proud of you dropping back to back albums &amp; fulfilling your dreams. You inspire me to make the impossible always become a reality. Love you 💕 https://t.co/lflFE6ePdQ\n",
      "\n",
      "\n",
      "[#8YearsWithINFINITE] Thank you for being our energy for the past 8 years 💕Let's create more special moments together for our never ending story ∞#인피니트 #인피니트와_네버엔딩_8주년_되는_날 https://t.co/mMwmYevly8\n",
      "\n",
      "\n",
      "When life changes to be harderChange yourself to be stronger#yes_you_can 💪#eslam_elshibl\n",
      "\n",
      "\n",
      "180608 Eyes on you in Berlin#갓세븐⁠ ⁠⁠ ⁠ #GOT7⁠ ⁠⁠ ⁠ #유겸 #Yugyeom https://t.co/rzvee8ToF3\n",
      "\n",
      "\n",
      "180608 Eyes On You in Berlin @mtuan93 #GOT7   ⁠ #갓세븐   ⁠ ⁠ #Mark #마크#EYESONYOUINBERLIN #GOT7WORLDTOUR https://t.co/j7PGnZuel1\n",
      "\n",
      "\n",
      "180608 my paradise 💕#BamBam#GOT7  ⁠ ⁠#갓세븐  ⁠ ⁠  ⁠ ⁠#GOT7WORLDTOUR  #GOT7lNBerlin#EYESONYOUINBERLIN https://t.co/g3gfPBIYnr\n",
      "\n",
      "\n",
      "MOOD https://t.co/w2yYQIgc35\n",
      "\n",
      "\n",
      "TAEYEON 'Something New' MV Teaser#TAEYEON #태연 #SomethingNew #GirlsGeneration https://t.co/DzH2qHKQ29\n",
      "\n",
      "\n",
      "When Rena is scared?🦊: It's not scary. Rena is always my baby.#บิ้นกยอง #Minkyebin https://t.co/v7cpuINNDJ\n",
      "\n",
      "\n",
      "I killed my ego\n",
      "\n",
      "\n",
      "[📽] 11TH MINI ALBUM THIS IS US\" AUDIO SNIPPET2018.06.18 18:00 (KST)#비투비 #BTOB #THIS_IS_US#Call_me #너_없인_안_된다 #Yeah #Blue_Moon #IceBreaker #하나_둘_셋 #The_Feeling&gt; https://t.co/TNsT5Yfbll https://t.co/d908Wxe5Jh\"\n",
      "\n",
      "\n",
      "180610 I still think about you ❥@GOTYJ_Ars_Vita 🌙#영재 #Ars #YoungJae#GOT7⁠ ⁠⁠ ⁠⁠#갓세븐⁠ ⁠⁠ ⁠⁠#EyesOnYou⁠ ⁠⁠ ⁠⁠ ⁠ #GOT7WORLDTOUR⁠ ⁠⁠ ⁠⁠ ⁠ #GOT7WORLDTOURinParis#dafBAMA2018GOT7@GOT7Official https://t.co/7X6Np8h2Dk\n",
      "\n",
      "\n",
      "no matter what, we’re together.#virtuemoir #olympics #olympics2018 #pyeongchang2018 #love #tessavirtue #scottmoir https://t.co/Mqfu7u7O92\n",
      "\n",
      "\n",
      "sometimes I have trouble saying no because I want to help everyone\n",
      "\n",
      "\n",
      "Don't forget today Day2: My Star ✨of the #OneYearOneThrone#강다니엘 #kangdaniel https://t.co/5pcaW7db8I\n",
      "\n",
      "\n",
      "Sold Out ~ 🙅🏻‍♀️ #Taeyeon_JapanShowCaseTour #Fukuoka https://t.co/ZOnieEAz1c\n",
      "\n",
      "\n",
      "Thank you #taeyeonjapanshowcase https://t.co/o84t0Af5Mn\n",
      "\n",
      "\n",
      "sometimes I have trouble saying no because I want to help everyone\n",
      "\n",
      "\n",
      "North serving LOOKS on her 5th birthday!!!!! https://t.co/75skyPJFFY\n",
      "\n",
      "\n",
      "North serving LOOKS on her 5th birthday!!!!! https://t.co/75skyPJFFY\n",
      "\n",
      "\n",
      "Hey North American #IGOT7! Who’s ready for #EyesOnYouInNA?! Make sure you go to https://t.co/lxp2fIYGyJ and order your merch!!! Even Kitsune is ready for #EyesOnYouInLA! #papaspantsarenotforsale #sorry 😂 https://t.co/x3m40qQkfl\n",
      "\n",
      "\n",
      "HEY YAH #Yugyeom #유겸 https://t.co/uNkXqQseOZ\n",
      "\n",
      "\n",
      "RT RT RT RT RT jonesn4crossfit #KCAMexico #DemiLovato #EchameLaCulpa #SofiaReyes #SofiaReyes123 #SofiaReyesTrendy #JBalvin\n",
      "\n",
      "\n",
      "GOT7 Eyes On You Monograph coming on V LIVE +#GOT7 #EyesOnYou @GOT7Official https://t.co/tIEXhb0RpV\n",
      "\n",
      "\n",
      "No! Our hearts are breaking for #LeeJoonGi in this tragic scene from #LawlessLawyer! Watch more on Viki: https://t.co/0ooc80ecma https://t.co/xHOpgK6BWi\n",
      "\n",
      "\n",
      "A message from Yugyeom to I GOT7. #GOT7 #갓세븐 #EyesOnYou https://t.co/qGjAlPleNc\n",
      "\n",
      "\n",
      "Video of #SuperJunior arriving at Fox 5!! #Eunhyuk #Donghae #Siwon #Leeteuk #Shindong #Yesung #NYC https://t.co/QeplbLIP4Y\n",
      "\n",
      "\n",
      "#SuperJunior arrived at Fox 5!!  #NYC #Eunhyuk #Donghae #Shindong #Leeteuk #Yesung (I couldnt get a good pic of Siwon 😭) https://t.co/IyWi5hirQc\n",
      "\n",
      "\n",
      "Hey North American #IGOT7! Who’s ready for #EyesOnYouInNA?! Make sure you go to https://t.co/lxp2fIYGyJ and order your merch!!! Even Kitsune is ready for #EyesOnYouInLA! #papaspantsarenotforsale #sorry 😂 https://t.co/x3m40qQkfl\n",
      "\n",
      "\n",
      "[HQ] 180616 EYES ON YOU in TAIPEI_(´ཀ`」 ∠)_#GOT7 #갓세븐 #EyesOnYou #GOT7WORLDTOUR #GOT7inTaipei #JacksonWang #잭슨 #王嘉爾 https://t.co/D21hbdMdjK\n",
      "\n",
      "\n",
      "Classic amateur babe #cumsprayed in mouth #Peterborough https://t.co/TumB2KwSjI\n",
      "\n",
      "\n",
      "600 fast retweets : 600 followers RETWEET to get followedFollow everyone who RETWEETS#TrapaDrive#GainWithPyeWaw 🔥\n",
      "\n",
      "\n",
      "RT RT RT RT RT RT splattfinger #KCAMexico #DemiLovato #EchameLaCulpa #SofiaReyes #SofiaReyes123 #SofiaReyesTrendy #JBalvin\n",
      "\n",
      "\n",
      "@minikmeraklar Evet #KararımHÜDAPAR#1oyErdoğana1oyHÜDAPARa\n",
      "\n",
      "\n",
      "girl on fire #SofiaReyes #SofiaReyes123 #SofiaReyesTrendy #JBalvin #LaloBrito #MaiaReficco #KallysMashup #KCAMexico\n",
      "\n",
      "\n",
      "20180616 EYES ON YOU IN TAIPEIRT if you like it!💚❤️#GOT7WORLDTOUR⁠ ⁠⁠ ⁠⁠ ⁠ #EYESONYOU⁠ ⁠⁠ ⁠⁠ ⁠ #EYESONYOUINTAIPEI #GOT7⁠ ⁠⁠ ⁠⁠ ⁠ #IGOT7 #AHGASAE #JYP #KPOP #갓세븐⁠ ⁠⁠ ⁠⁠ #아가새 @GOT7Official #BringGOT7toTheEllenShow https://t.co/HpckNGOiVO\n",
      "\n",
      "\n",
      "180505♥️tokyo release event🐯🐸💜💙#고결 #KOGYEOL #비토 #BITTO#업텐션 #UP10TION @UP10TIONの https://t.co/Xo06xCP1ra\n",
      "\n",
      "\n",
      ".@kanyewest occupies the entire Top 7 on the US Spotify Top 50 Chart with his new album ‘ye.’ https://t.co/AxRi8VOSAQ\n",
      "\n",
      "\n",
      "Secret Queen Makers - CHANYEOL and SEHUN opening #chanyeol #sehun #찬열 #세훈 @weareoneEXO https://t.co/RY04zrhceQ\n",
      "\n",
      "\n",
      "Our public token sale begins in just ten minutes!Here is a detailed guide on how to purchase $ELY using #MyEtherWallet.#elysian #elycoin #blockchain #cryptocurrency #crypto #fintech #ecommerce #tokensale #publicsale #TGE #ICO #MEWhttps://t.co/gvtBgSYqAS\n",
      "\n",
      "\n",
      "A.C.E Adventures in Wonderland_COVER IMAGE_#20180607_PM6#ACE #JUN #DONGHUN #WOW #KIMBYEONGKWAN#COMEBACK https://t.co/Tqh1hbTLX9\n",
      "\n",
      "\n",
      "#bizimhikaye i will not be  😂😂😂mad with your promo is the last episode and i will be there even if baris have 7  childrens like fikri my filiz will b 🍀❣️happy some day but in the next season i guess  😞@bizimhikayedizi #hazalkaya #burakdeniz\n",
      "\n",
      "\n",
      "Mirror mirror, who‘s the handsomest of them all?#WANNAONE #KANGDANIEL#워너원 #강다니엘#DantheSamoyed https://t.co/1JdddSjNek\n",
      "\n",
      "\n",
      "600 fast RT = 600 followers !RT if you follow back!!Follow Me &amp; all who RT #RYdrive 🔥#TrapaDrive#GainWithPyeWaw#GainWithXtianDela 🔥\n",
      "\n",
      "\n",
      "GOT7 2018 WORLD TOUR ‘EYES ON YOU’ IN MACAO#GOT7#갓세븐#EyesOnYou#GOT7WORLDTOUR https://t.co/kExr9rGPTn\n",
      "\n",
      "\n",
      "I feel so blessed.  For everyone that didn't turn they back. I'm in tears right now. I love all of you https://t.co/8jwIALBsDu\n",
      "\n",
      "\n",
      "My king 👑💕 @BamBam1A #GOT7⁠#갓세븐⁠#EyesOnYou⁠#GOT7WORLDTOUR⁠ ⁠⁠ ⁠⁠ ⁠⁠ ⁠⁠#GOT7inParis#EYESONYOUINPARIS https://t.co/hZPeSXvvdT\n",
      "\n",
      "\n",
      "1806010 EYES ON YOU in Paris @BamBam1A  ㅠㅠㅠㅠㅠㅠㅠㅠㅠㅠㅠㅠ #뱀뱀 #BamBam #갓세븐⁠ #GOT7⁠ ⁠⁠ #EyesOnYou⁠ ⁠#GOT7WORLDTOUR⁠ ⁠#GOT7inParis https://t.co/3EVfYFNijB\n",
      "\n",
      "\n",
      "King of dance 😍😍😍  #GOT7 #GOT7WORLDTOUR #GOT7inParis #EyesOnYou #EyesOnYouinParis https://t.co/kV0SKTpUlj\n",
      "\n",
      "\n",
      "1806010 EYES ON YOU in Paris @BamBam1A  🎥 Beggin on my knees#뱀뱀 #BamBam #갓세븐⁠ ⁠⁠⁠ #GOT7⁠ ⁠⁠ ⁠⁠ ⁠⁠ ⁠⁠ ⁠⁠ ⁠⁠ #EyesOnYou⁠ ⁠⁠⁠⁠ ⁠#GOT7WORLDTOUR⁠ ⁠⁠ #GOT7inParis https://t.co/Hus3Bk1Hhs\n",
      "\n",
      "\n",
      "180610 EYES ON YOU IN PARIS #GOT7 #MARK #갓세븐 #마크 #EyesOnYou #GOT7WORLDTOUR https://t.co/ZPDLYvhWrF\n",
      "\n",
      "\n",
      "☀️180610☀️  Eyes On You in Paris🇫🇷 @mtuan93 #갓세븐 #GOT7 #마크 #MARK #LOOK #EyesOnYou https://t.co/qeQvkBGrdn\n",
      "\n",
      "\n",
      "180610“EYES ON YOU”world tour in Paris【PREVIEW】 #갓세븐⁠ ⁠⁠ ⁠⁠ ⁠⁠ ⁠ #유겸 #GOT7⁠ ⁠⁠ ⁠⁠ ⁠⁠ ⁠ #yugyeom https://t.co/DcgBzsPXHx\n",
      "\n",
      "\n",
      "IGOT7 🐥 💚 GOT7 💚💚💚💚💚💚💚#GOT7#갓세븐#EyesOnYou#GOT7WORLDTOUR#dafBAMA2018Got7 @GOT7Official https://t.co/Su1N7v3Q17\n",
      "\n",
      "\n"
     ]
    }
   ],
   "source": [
    "for i in range(0,70):\n",
    "    if cldf.original_tweet.iloc[i]== 'None':\n",
    "        print(cldf.tweet.iloc[i]+'\\n\\n')\n",
    "    else:\n",
    "        print(cldf.original_tweet.iloc[i]+'\\n\\n')"
   ]
  }
 ],
 "metadata": {
  "interpreter": {
   "hash": "40d3a090f54c6569ab1632332b64b2c03c39dcf918b08424e98f38b5ae0af88f"
  },
  "kernelspec": {
   "display_name": "Python 3.8.5 64-bit (conda)",
   "name": "python3"
  },
  "language_info": {
   "codemirror_mode": {
    "name": "ipython",
    "version": 3
   },
   "file_extension": ".py",
   "mimetype": "text/x-python",
   "name": "python",
   "nbconvert_exporter": "python",
   "pygments_lexer": "ipython3",
   "version": "3.8.5"
  }
 },
 "nbformat": 4,
 "nbformat_minor": 2
}
