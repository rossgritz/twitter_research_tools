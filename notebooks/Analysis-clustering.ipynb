{
 "cells": [
  {
   "cell_type": "markdown",
   "metadata": {},
   "source": [
    "# Clustering Analysis Notebook"
   ]
  },
  {
   "cell_type": "markdown",
   "metadata": {},
   "source": [
    "#### This notebook contains a demonstration of the tools necessary for conducting clustering on Twitter data. "
   ]
  },
  {
   "cell_type": "code",
   "execution_count": null,
   "metadata": {},
   "outputs": [],
   "source": [
    "import trt_API.process as proc\n",
    "import trt_API.analysis as ana\n",
    "import trt_API.clustering as cluster\n",
    "import trt_API.org_research as org \n",
    "\n",
    "import datetime\n",
    "from sklearn.feature_extraction import text \n",
    "\n",
    "SORTED = False"
   ]
  },
  {
   "cell_type": "markdown",
   "metadata": {},
   "source": [
    "## PREPROCESSING"
   ]
  },
  {
   "cell_type": "markdown",
   "metadata": {},
   "source": [
    "### Variables for Analysis"
   ]
  },
  {
   "cell_type": "code",
   "execution_count": null,
   "metadata": {},
   "outputs": [],
   "source": [
    "# Set the path to the parent directory containing all Tweets of interest\n",
    "DIRECTORY = './tweets/*'\n",
    "# Set to True to isolate english language tweets\n",
    "ENGLISH = True"
   ]
  },
  {
   "cell_type": "markdown",
   "metadata": {},
   "source": [
    "### Load Tweet and Generate Dataframe"
   ]
  },
  {
   "cell_type": "code",
   "execution_count": null,
   "metadata": {
    "scrolled": true
   },
   "outputs": [],
   "source": [
    "tweet_objects = proc.loadTweetObjects(DIRECTORY)\n",
    "encoding = False\n",
    "df = proc.convertTweetsToDataframe(tweet_objects, ENGLISH, encoding)"
   ]
  },
  {
   "cell_type": "markdown",
   "metadata": {},
   "source": [
    "### Extract Potential Cashtags"
   ]
  },
  {
   "cell_type": "code",
   "execution_count": null,
   "metadata": {},
   "outputs": [],
   "source": [
    "ctdf = proc.extractPossibleCashtags(df)"
   ]
  },
  {
   "cell_type": "markdown",
   "metadata": {},
   "source": [
    "### Removing Noisy Tweets"
   ]
  },
  {
   "cell_type": "code",
   "execution_count": null,
   "metadata": {},
   "outputs": [],
   "source": [
    "'''\n",
    "*** Tweets often use popular hashtags with unrelated topics.\n",
    "*** Noisy words can be identified to use to filter such tweets.\n",
    "*** Enter these words below in the noisy_terms list.\n",
    "'''\n",
    "noisy_terms = []\n",
    "cldf = proc.removeNoisyTerms(df, noisy_terms)\n",
    "cldf['original_tweet'][cldf.original_tweet == 'None'] = cldf['tweet']\n",
    "cldf['tweet'] = cldf['original_tweet']\n",
    "del cldf['original_tweet']"
   ]
  },
  {
   "cell_type": "markdown",
   "metadata": {},
   "source": [
    "### Remove Retweets"
   ]
  },
  {
   "cell_type": "code",
   "execution_count": null,
   "metadata": {},
   "outputs": [],
   "source": [
    "cldf_no_RT, cldf = proc.removeRetweets(cldf)"
   ]
  },
  {
   "cell_type": "code",
   "execution_count": null,
   "metadata": {},
   "outputs": [],
   "source": [
    "print(cldf_no_RT.shape[0])"
   ]
  },
  {
   "cell_type": "markdown",
   "metadata": {},
   "source": [
    "## SPLITTING DATA"
   ]
  },
  {
   "cell_type": "markdown",
   "metadata": {},
   "source": [
    "### By date"
   ]
  },
  {
   "cell_type": "code",
   "execution_count": null,
   "metadata": {},
   "outputs": [],
   "source": [
    "cldf, SORTED = ana.sortByDate(cldf,SORTED,PRINT_TOP=False,TOP=10)\n",
    "begin = datetime.datetime(2018,8,1,0,00) #year, month, day, hour, minute\n",
    "end = datetime.datetime(2019,2,24,23,59)\n",
    "specific_range_cldf = cldf[cldf.date > begin]\n",
    "specific_range_cldf = specific_range_cldf[specific_range_cldf.date < end]"
   ]
  },
  {
   "cell_type": "markdown",
   "metadata": {},
   "source": [
    "### By terms"
   ]
  },
  {
   "cell_type": "code",
   "execution_count": null,
   "metadata": {},
   "outputs": [],
   "source": [
    "terms_of_interest = []\n",
    "bsdf = proc.findTerms(specific_range_cldf, terms_of_interest)"
   ]
  },
  {
   "cell_type": "markdown",
   "metadata": {},
   "source": [
    "## CLUSTERING"
   ]
  },
  {
   "cell_type": "code",
   "execution_count": null,
   "metadata": {},
   "outputs": [],
   "source": [
    "'''\n",
    "*** Enter additional stop words here.\n",
    "*** This will ignore the words rather than removing tweets as with noisy Tweets.\n",
    "'''\n",
    "ADDITIONAL_STOP_WORDS = ['rt','wa','http','ha','1','amp']\n",
    "stop_words = text.ENGLISH_STOP_WORDS.union(org.STOP_WORDS)\n",
    "stop_words = stop_words.union(ADDITIONAL_STOP_WORDS)"
   ]
  },
  {
   "cell_type": "code",
   "execution_count": null,
   "metadata": {},
   "outputs": [],
   "source": [
    "'''\n",
    "*** Clustering requires the use of a number of parameters for tuning.\n",
    "*** These are included below and should be set based on your project.\n",
    "'''\n",
    "n_FEATURES = 300\n",
    "n_TOPICS = 10\n",
    "n_TOP_WORDS = 10\n",
    "n_TOP_TWEETS = 10\n",
    "NGRAM = 3"
   ]
  },
  {
   "cell_type": "code",
   "execution_count": null,
   "metadata": {},
   "outputs": [],
   "source": [
    "tfidf, tfidf_feature_names = cluster.tfidf(specific_range_cldf, n_FEATURES, \\\n",
    "                                           NGRAM, stop_words)"
   ]
  },
  {
   "cell_type": "code",
   "execution_count": null,
   "metadata": {},
   "outputs": [],
   "source": [
    "km, kmeans_embedding = cluster.KMeans(tfidf, n_TOPICS)"
   ]
  },
  {
   "cell_type": "code",
   "execution_count": null,
   "metadata": {},
   "outputs": [],
   "source": [
    "cluster.printClusterResults(specific_range_cldf, km, tfidf, tfidf_feature_names,\\\n",
    "                   n_TOP_WORDS, n_TOPICS, n_TOP_TWEETS)"
   ]
  },
  {
   "cell_type": "code",
   "execution_count": null,
   "metadata": {},
   "outputs": [],
   "source": [
    "PERPLEXITY = 2.0\n",
    "cluster.tSNE(kmeans_embedding, PERPLEXITY, n_TOPICS, title = \\\n",
    "             't-SNE Visualization of Data')"
   ]
  },
  {
   "cell_type": "markdown",
   "metadata": {},
   "source": [
    "## Compute Inertia to Determine Optimal Clusters"
   ]
  },
  {
   "cell_type": "code",
   "execution_count": null,
   "metadata": {},
   "outputs": [],
   "source": [
    "LOOPS = 5\n",
    "n_TOPICS_START = 5\n",
    "n_TOPICS_END = 25\n",
    "cluster.optimalClustersKMeans(tfidf, LOOPS, n_TOPICS_START, n_TOPICS_END)"
   ]
  },
  {
   "cell_type": "code",
   "execution_count": null,
   "metadata": {},
   "outputs": [],
   "source": []
  }
 ],
 "metadata": {
  "kernelspec": {
   "display_name": "Python 3",
   "language": "python",
   "name": "python3"
  },
  "language_info": {
   "codemirror_mode": {
    "name": "ipython",
    "version": 3
   },
   "file_extension": ".py",
   "mimetype": "text/x-python",
   "name": "python",
   "nbconvert_exporter": "python",
   "pygments_lexer": "ipython3",
   "version": "3.9.2"
  }
 },
 "nbformat": 4,
 "nbformat_minor": 2
}
