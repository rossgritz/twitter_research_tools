{
 "cells": [
  {
   "cell_type": "markdown",
   "metadata": {},
   "source": [
    "# Clustering Analysis Notebook"
   ]
  },
  {
   "cell_type": "markdown",
   "metadata": {},
   "source": [
    "#### This notebook contains a demonstration of the tools necessary for conducting clustering on Twitter data. "
   ]
  },
  {
   "cell_type": "code",
   "execution_count": 1,
   "metadata": {},
   "outputs": [
    {
     "name": "stderr",
     "output_type": "stream",
     "text": [
      "[nltk_data] Downloading package wordnet to /Users/rajuy/nltk_data...\n",
      "[nltk_data]   Package wordnet is already up-to-date!\n"
     ]
    }
   ],
   "source": [
    "import trt_API.process as proc\n",
    "import trt_API.analysis as ana\n",
    "import trt_API.clustering as cluster\n",
    "import trt_API.org_research as org \n",
    "import matplotlib as plt\n",
    "import datetime\n",
    "from sklearn.feature_extraction import text \n",
    "\n",
    "SORTED = False"
   ]
  },
  {
   "cell_type": "markdown",
   "metadata": {},
   "source": [
    "## PREPROCESSING"
   ]
  },
  {
   "cell_type": "markdown",
   "metadata": {},
   "source": [
    "### Variables for Analysis"
   ]
  },
  {
   "cell_type": "code",
   "execution_count": 2,
   "metadata": {},
   "outputs": [],
   "source": [
    "# Set the path to the parent directory containing all Tweets of interest\n",
    "DIRECTORY = './tweets/*'\n",
    "# Set to True to isolate english language tweets\n",
    "ENGLISH = False"
   ]
  },
  {
   "cell_type": "markdown",
   "metadata": {},
   "source": [
    "### Load Tweet and Generate Dataframe"
   ]
  },
  {
   "cell_type": "code",
   "execution_count": 3,
   "metadata": {
    "scrolled": false
   },
   "outputs": [
    {
     "name": "stdout",
     "output_type": "stream",
     "text": [
      "Initial size: 16042\n",
      "Dropping duplicates...\n",
      "Final size: 10472\n"
     ]
    }
   ],
   "source": [
    "tweet_objects = proc.loadTweetObjects(DIRECTORY)\n",
    "encoding = False\n",
    "df = proc.convertTweetsToDataframe(tweet_objects, ENGLISH, encoding)"
   ]
  },
  {
   "cell_type": "markdown",
   "metadata": {},
   "source": [
    "### Extract Potential Cashtags"
   ]
  },
  {
   "cell_type": "code",
   "execution_count": 4,
   "metadata": {},
   "outputs": [
    {
     "name": "stdout",
     "output_type": "stream",
     "text": [
      "Total potential Cashtags: 25\n"
     ]
    },
    {
     "data": {
      "text/html": [
       "<div>\n",
       "<style scoped>\n",
       "    .dataframe tbody tr th:only-of-type {\n",
       "        vertical-align: middle;\n",
       "    }\n",
       "\n",
       "    .dataframe tbody tr th {\n",
       "        vertical-align: top;\n",
       "    }\n",
       "\n",
       "    .dataframe thead th {\n",
       "        text-align: right;\n",
       "    }\n",
       "</style>\n",
       "<table border=\"1\" class=\"dataframe\">\n",
       "  <thead>\n",
       "    <tr style=\"text-align: right;\">\n",
       "      <th></th>\n",
       "    </tr>\n",
       "  </thead>\n",
       "  <tbody>\n",
       "  </tbody>\n",
       "</table>\n",
       "</div>"
      ],
      "text/plain": [
       "Empty DataFrame\n",
       "Columns: []\n",
       "Index: []"
      ]
     },
     "execution_count": 4,
     "metadata": {},
     "output_type": "execute_result"
    }
   ],
   "source": [
    "ctdf = proc.extractPossibleCashtags(df)\n",
    "ctdf"
   ]
  },
  {
   "cell_type": "markdown",
   "metadata": {},
   "source": [
    "### Removing Noisy Tweets"
   ]
  },
  {
   "cell_type": "code",
   "execution_count": 5,
   "metadata": {},
   "outputs": [
    {
     "name": "stdout",
     "output_type": "stream",
     "text": [
      "Removed 0 noisy terms.\n"
     ]
    },
    {
     "name": "stderr",
     "output_type": "stream",
     "text": [
      "<ipython-input-5-e6a76ca186c9>:9: SettingWithCopyWarning: \n",
      "A value is trying to be set on a copy of a slice from a DataFrame\n",
      "\n",
      "See the caveats in the documentation: https://pandas.pydata.org/pandas-docs/stable/user_guide/indexing.html#returning-a-view-versus-a-copy\n",
      "  cldf['original_tweet'][cldf.original_tweet == 'None'] = cldf['tweet']\n"
     ]
    },
    {
     "data": {
      "text/html": [
       "<div>\n",
       "<style scoped>\n",
       "    .dataframe tbody tr th:only-of-type {\n",
       "        vertical-align: middle;\n",
       "    }\n",
       "\n",
       "    .dataframe tbody tr th {\n",
       "        vertical-align: top;\n",
       "    }\n",
       "\n",
       "    .dataframe thead th {\n",
       "        text-align: right;\n",
       "    }\n",
       "</style>\n",
       "<table border=\"1\" class=\"dataframe\">\n",
       "  <thead>\n",
       "    <tr style=\"text-align: right;\">\n",
       "      <th></th>\n",
       "      <th>date</th>\n",
       "      <th>followers</th>\n",
       "      <th>username</th>\n",
       "      <th>location</th>\n",
       "      <th>tweet</th>\n",
       "    </tr>\n",
       "  </thead>\n",
       "  <tbody>\n",
       "    <tr>\n",
       "      <th>0</th>\n",
       "      <td>Jun 01 20:02:51 2018\\t0</td>\n",
       "      <td>88</td>\n",
       "      <td>Yohanan_L</td>\n",
       "      <td>France</td>\n",
       "      <td>1002641647736377346</td>\n",
       "    </tr>\n",
       "    <tr>\n",
       "      <th>1</th>\n",
       "      <td>Jun 01 22:19:01 2018\\t0</td>\n",
       "      <td>464</td>\n",
       "      <td>Kiakkye30</td>\n",
       "      <td>Haiti</td>\n",
       "      <td>1002675915221098496</td>\n",
       "    </tr>\n",
       "    <tr>\n",
       "      <th>2</th>\n",
       "      <td>Jun 08 00:04:48 2018\\t0</td>\n",
       "      <td>1019</td>\n",
       "      <td>KessprdGB</td>\n",
       "      <td>None</td>\n",
       "      <td>1004876863670374401</td>\n",
       "    </tr>\n",
       "    <tr>\n",
       "      <th>3</th>\n",
       "      <td>Jun 08 03:27:48 2018\\t0</td>\n",
       "      <td>24</td>\n",
       "      <td>quynhnguyen153</td>\n",
       "      <td>None</td>\n",
       "      <td>1004927950293045248</td>\n",
       "    </tr>\n",
       "    <tr>\n",
       "      <th>4</th>\n",
       "      <td>Jun 08 07:44:53 2018\\t0</td>\n",
       "      <td>1</td>\n",
       "      <td>mlqbuot27</td>\n",
       "      <td>กรุงเทพมหานคร, ประเทศไทย</td>\n",
       "      <td>1004992647411298310</td>\n",
       "    </tr>\n",
       "    <tr>\n",
       "      <th>...</th>\n",
       "      <td>...</td>\n",
       "      <td>...</td>\n",
       "      <td>...</td>\n",
       "      <td>...</td>\n",
       "      <td>...</td>\n",
       "    </tr>\n",
       "    <tr>\n",
       "      <th>136</th>\n",
       "      <td>Jun 11 10:31:58 2018\\t0</td>\n",
       "      <td>208</td>\n",
       "      <td>JuNe_0621</td>\n",
       "      <td>Thailand</td>\n",
       "      <td>1006121858918305792</td>\n",
       "    </tr>\n",
       "    <tr>\n",
       "      <th>137</th>\n",
       "      <td>Jun 11 10:32:45 2018\\t0</td>\n",
       "      <td>10</td>\n",
       "      <td>7im_mi7</td>\n",
       "      <td>None</td>\n",
       "      <td>1006122056029618176</td>\n",
       "    </tr>\n",
       "    <tr>\n",
       "      <th>138</th>\n",
       "      <td>Jun 11 11:01:28 2018\\t0</td>\n",
       "      <td>10</td>\n",
       "      <td>tangsundae</td>\n",
       "      <td>None</td>\n",
       "      <td>1006129282827948033</td>\n",
       "    </tr>\n",
       "    <tr>\n",
       "      <th>139</th>\n",
       "      <td>Jun 11 13:41:43 2018\\t0</td>\n",
       "      <td>195</td>\n",
       "      <td>smile_wangGOT7</td>\n",
       "      <td>ในใจพี่แจ็คสัน😍</td>\n",
       "      <td>1006169611081928704</td>\n",
       "    </tr>\n",
       "    <tr>\n",
       "      <th>141</th>\n",
       "      <td>Jun 11 13:58:01 2018\\t0</td>\n",
       "      <td>499</td>\n",
       "      <td>asyifa139</td>\n",
       "      <td>Rain City</td>\n",
       "      <td>1006173713107042304</td>\n",
       "    </tr>\n",
       "  </tbody>\n",
       "</table>\n",
       "<p>100 rows × 5 columns</p>\n",
       "</div>"
      ],
      "text/plain": [
       "                        date  followers        username  \\\n",
       "0    Jun 01 20:02:51 2018\\t0         88       Yohanan_L   \n",
       "1    Jun 01 22:19:01 2018\\t0        464       Kiakkye30   \n",
       "2    Jun 08 00:04:48 2018\\t0       1019       KessprdGB   \n",
       "3    Jun 08 03:27:48 2018\\t0         24  quynhnguyen153   \n",
       "4    Jun 08 07:44:53 2018\\t0          1       mlqbuot27   \n",
       "..                       ...        ...             ...   \n",
       "136  Jun 11 10:31:58 2018\\t0        208       JuNe_0621   \n",
       "137  Jun 11 10:32:45 2018\\t0         10         7im_mi7   \n",
       "138  Jun 11 11:01:28 2018\\t0         10      tangsundae   \n",
       "139  Jun 11 13:41:43 2018\\t0        195  smile_wangGOT7   \n",
       "141  Jun 11 13:58:01 2018\\t0        499       asyifa139   \n",
       "\n",
       "                     location                tweet  \n",
       "0                      France  1002641647736377346  \n",
       "1                       Haiti  1002675915221098496  \n",
       "2                        None  1004876863670374401  \n",
       "3                        None  1004927950293045248  \n",
       "4    กรุงเทพมหานคร, ประเทศไทย  1004992647411298310  \n",
       "..                        ...                  ...  \n",
       "136                  Thailand  1006121858918305792  \n",
       "137                      None  1006122056029618176  \n",
       "138                      None  1006129282827948033  \n",
       "139           ในใจพี่แจ็คสัน😍  1006169611081928704  \n",
       "141                 Rain City  1006173713107042304  \n",
       "\n",
       "[100 rows x 5 columns]"
      ]
     },
     "execution_count": 5,
     "metadata": {},
     "output_type": "execute_result"
    }
   ],
   "source": [
    "'''\n",
    "*** Tweets often use popular hashtags with unrelated topics.\n",
    "*** Noisy words can be identified to use to filter such tweets.\n",
    "*** Enter these words below in the noisy_terms list.\n",
    "'''\n",
    "words = open('../resources/stop_words.csv').read().split(\",\")\n",
    "noisy_terms = []\n",
    "cldf = proc.removeNoisyTerms(df, noisy_terms)\n",
    "cldf['original_tweet'][cldf.original_tweet == 'None'] = cldf['tweet']\n",
    "cldf['tweet'] = cldf['original_tweet']\n",
    "del cldf['original_tweet']\n",
    "cldf[:100]"
   ]
  },
  {
   "cell_type": "markdown",
   "metadata": {},
   "source": [
    "### Remove Retweets"
   ]
  },
  {
   "cell_type": "code",
   "execution_count": 6,
   "metadata": {},
   "outputs": [
    {
     "name": "stdout",
     "output_type": "stream",
     "text": [
      "Removed 3 duplicates.\n"
     ]
    },
    {
     "name": "stderr",
     "output_type": "stream",
     "text": [
      "/Users/rajuy/Desktop/twitter_research_tools/notebooks/trt_API/process.py:210: SettingWithCopyWarning: \n",
      "A value is trying to be set on a copy of a slice from a DataFrame\n",
      "\n",
      "See the caveats in the documentation: https://pandas.pydata.org/pandas-docs/stable/user_guide/indexing.html#returning-a-view-versus-a-copy\n",
      "  df['RT'][df.tweet.astype(str).str[0:2] == 'RT'] = df.tweet.str.split(':',expand=True).iloc[:,0]\n"
     ]
    }
   ],
   "source": [
    "cldf_no_RT, cldf = proc.removeRetweets(cldf)\n"
   ]
  },
  {
   "cell_type": "code",
   "execution_count": 7,
   "metadata": {},
   "outputs": [
    {
     "name": "stdout",
     "output_type": "stream",
     "text": [
      "10469\n"
     ]
    }
   ],
   "source": [
    "print(cldf_no_RT.shape[0])"
   ]
  },
  {
   "cell_type": "markdown",
   "metadata": {},
   "source": [
    "## SPLITTING DATA"
   ]
  },
  {
   "cell_type": "markdown",
   "metadata": {},
   "source": [
    "### By date"
   ]
  },
  {
   "cell_type": "code",
   "execution_count": 8,
   "metadata": {},
   "outputs": [],
   "source": [
    "cldf, SORTED = ana.sortByDate(cldf,SORTED,PRINT_TOP=False,TOP=10)\n",
    "begin = datetime.datetime(2017,8,1,0,00) #year, month, day, hour, minute\n",
    "end = datetime.datetime(2019,2,24,23,59)\n",
    "specific_range_cldf = cldf[cldf.date > begin]\n",
    "specific_range_cldf = specific_range_cldf[specific_range_cldf.date < end]"
   ]
  },
  {
   "cell_type": "markdown",
   "metadata": {},
   "source": [
    "### By terms"
   ]
  },
  {
   "cell_type": "code",
   "execution_count": 9,
   "metadata": {},
   "outputs": [
    {
     "name": "stdout",
     "output_type": "stream",
     "text": [
      "Found 0 terms of interest.\n"
     ]
    },
    {
     "name": "stderr",
     "output_type": "stream",
     "text": [
      "/Users/rajuy/Desktop/twitter_research_tools/notebooks/trt_API/process.py:177: UserWarning: Pandas doesn't allow columns to be created via a new attribute name - see https://pandas.pydata.org/pandas-docs/stable/indexing.html#attribute-access\n",
      "  df.good = df['tweet'].str.lower().str.contains(\\\n"
     ]
    },
    {
     "data": {
      "text/html": [
       "<div>\n",
       "<style scoped>\n",
       "    .dataframe tbody tr th:only-of-type {\n",
       "        vertical-align: middle;\n",
       "    }\n",
       "\n",
       "    .dataframe tbody tr th {\n",
       "        vertical-align: top;\n",
       "    }\n",
       "\n",
       "    .dataframe thead th {\n",
       "        text-align: right;\n",
       "    }\n",
       "</style>\n",
       "<table border=\"1\" class=\"dataframe\">\n",
       "  <thead>\n",
       "    <tr style=\"text-align: right;\">\n",
       "      <th></th>\n",
       "      <th>date</th>\n",
       "      <th>followers</th>\n",
       "      <th>username</th>\n",
       "      <th>location</th>\n",
       "      <th>tweet</th>\n",
       "      <th>RT</th>\n",
       "    </tr>\n",
       "  </thead>\n",
       "  <tbody>\n",
       "  </tbody>\n",
       "</table>\n",
       "</div>"
      ],
      "text/plain": [
       "Empty DataFrame\n",
       "Columns: [date, followers, username, location, tweet, RT]\n",
       "Index: []"
      ]
     },
     "execution_count": 9,
     "metadata": {},
     "output_type": "execute_result"
    }
   ],
   "source": [
    "terms_of_interest = [\"climate\"]\n",
    "bsdf = proc.findTerms(specific_range_cldf, terms_of_interest)\n",
    "bsdf"
   ]
  },
  {
   "cell_type": "markdown",
   "metadata": {},
   "source": [
    "## CLUSTERING"
   ]
  },
  {
   "cell_type": "code",
   "execution_count": 10,
   "metadata": {},
   "outputs": [],
   "source": [
    "'''\n",
    "*** Enter additional stop words here.\n",
    "*** This will ignore the words rather than removing tweets as with noisy Tweets.\n",
    "'''\n",
    "ADDITIONAL_STOP_WORDS = []\n",
    "stop_words = text.ENGLISH_STOP_WORDS.union(org.STOP_WORDS)\n",
    "stop_words = stop_words.union(ADDITIONAL_STOP_WORDS)"
   ]
  },
  {
   "cell_type": "code",
   "execution_count": 11,
   "metadata": {},
   "outputs": [],
   "source": [
    "'''\n",
    "*** Clustering requires the use of a number of parameters for tuning.\n",
    "*** These are included below and should be set based on your project.\n",
    "'''\n",
    "n_FEATURES = 300\n",
    "n_TOPICS = 10\n",
    "n_TOP_WORDS = 10\n",
    "n_TOP_TWEETS = 10\n",
    "NGRAM = 3 "
   ]
  },
  {
   "cell_type": "code",
   "execution_count": 12,
   "metadata": {},
   "outputs": [
    {
     "name": "stderr",
     "output_type": "stream",
     "text": [
      "/opt/anaconda3/lib/python3.8/site-packages/sklearn/feature_extraction/text.py:396: UserWarning: Your stop_words may be inconsistent with your preprocessing. Tokenizing the stop words generated tokens ['change', 'doe', 'greeting', 'ha', 'le', 'regard', 'wa'] not in stop_words.\n",
      "  warnings.warn(\n",
      "/opt/anaconda3/lib/python3.8/site-packages/sklearn/utils/deprecation.py:87: FutureWarning: Function get_feature_names is deprecated; get_feature_names is deprecated in 1.0 and will be removed in 1.2. Please use get_feature_names_out instead.\n",
      "  warnings.warn(msg, category=FutureWarning)\n"
     ]
    }
   ],
   "source": [
    "tfidf, tfidf_feature_names = cluster.tfidf(specific_range_cldf, n_FEATURES, \\\n",
    "                                           NGRAM, stop_words)"
   ]
  },
  {
   "cell_type": "code",
   "execution_count": 13,
   "metadata": {},
   "outputs": [
    {
     "name": "stdout",
     "output_type": "stream",
     "text": [
      "Initialization complete\n",
      "Iteration 0, inertia 0.0\n",
      "Converged at iteration 0: center shift 0.0 within tolerance 1.3840803861593884e-07.\n"
     ]
    },
    {
     "name": "stderr",
     "output_type": "stream",
     "text": [
      "/Users/rajuy/Desktop/twitter_research_tools/notebooks/trt_API/clustering.py:88: ConvergenceWarning: Number of distinct clusters (2) found smaller than n_clusters (10). Possibly due to duplicate points in X.\n",
      "  km.fit(tfidf)\n"
     ]
    }
   ],
   "source": [
    "km, kmeans_embedding = cluster.KMeans(tfidf, n_TOPICS)"
   ]
  },
  {
   "cell_type": "code",
   "execution_count": 14,
   "metadata": {},
   "outputs": [
    {
     "name": "stdout",
     "output_type": "stream",
     "text": [
      "Topic 1:\n",
      "http\n",
      "\n",
      "1) 979544798431342593\n",
      "2) 979553463859326977\n",
      "3) 979614826510008320\n",
      "4) 979642177570656257\n",
      "5) 979663375595655168\n",
      "6) 979671890024308736\n",
      "7) 979695243917385728\n",
      "8) 979700436444721152\n",
      "9) 979706232968654850\n",
      "10) 979708275603120128\n",
      "\n",
      "\n",
      "\n",
      "Topic 2:\n",
      "http\n",
      "\n",
      "1)  @BenSimmons25 and @spidadmitchell. #RookieOfTheYear https://t.c…\"\n",
      "2)  Poor Woman\"https://t.co/grzIwxGErC https://…\"\n",
      "3)  any claims stating otherwise must be viewed as a stooge for Israel\" @VeteransToday #IsraelNukesYemen#Yemen #Sanaa https://t.co/X6yGYrTdaO\"\n",
      "4)  Too?\"https://t.co/yKE1xrIdN4 https://t.co/QT54B4…\"\n",
      "5)  my friend\".#DiayEsMiConsejo https://t.co/zaIdfrSCp9\"\n",
      "6)  I left him right here.\" Photo: Maite HF#cosplay #cosplayer #marvel #mcu #marvelcosplay #mcucospmay #thor #thorodinson #thorcosplay #thorodinsoncosplay #loki #lokilaufeyson #lokicosplay #lokilaufeysoncosplay #comic #comiccosplay #spanishcosplay #thorki #thorkicosplay https://t.co/Q9FB8ov35u\"\n",
      "7)  major loser\" - Tess Tyler #10yearsofcamprock https://t.co/dQEVCOHNaz\"\n",
      "8)  won't you stay with me?'Cause you're all I need.\"#1yearago #brolin #merthur #bradleyjames #colinmorgan #merlin https://t.co/RVz0OmjwPG\"\n",
      "9)  including inmates of a prison in Hodeidah\" #HodeidahSuffers#Yemen #اليمن https://t.co/5itx8r22A8\"\n",
      "10)  o' course.”#21YearsPhilosophersStone https://…\"\n",
      "\n",
      "\n",
      "\n",
      "Topic 3:\n",
      "http\n",
      "\n",
      "\n",
      "\n",
      "\n",
      "Topic 4:\n",
      "http\n",
      "\n",
      "\n",
      "\n",
      "\n",
      "Topic 5:\n",
      "http\n",
      "\n",
      "\n",
      "\n",
      "\n",
      "Topic 6:\n",
      "http\n",
      "\n",
      "\n",
      "\n",
      "\n",
      "Topic 7:\n",
      "http\n",
      "\n",
      "\n",
      "\n",
      "\n",
      "Topic 8:\n",
      "http\n",
      "\n",
      "\n",
      "\n",
      "\n",
      "Topic 9:\n",
      "http\n",
      "\n",
      "\n",
      "\n",
      "\n",
      "Topic 10:\n",
      "http\n",
      "\n",
      "\n",
      "\n",
      "\n"
     ]
    }
   ],
   "source": [
    "cluster.printClusterResults(specific_range_cldf, km, tfidf, tfidf_feature_names,\\\n",
    "                   n_TOP_WORDS, n_TOPICS, n_TOP_TWEETS)"
   ]
  },
  {
   "cell_type": "code",
   "execution_count": 15,
   "metadata": {},
   "outputs": [
    {
     "data": {
      "text/plain": [
       "<10101x1 sparse matrix of type '<class 'numpy.float64'>'\n",
       "\twith 14 stored elements in Compressed Sparse Row format>"
      ]
     },
     "execution_count": 15,
     "metadata": {},
     "output_type": "execute_result"
    }
   ],
   "source": [
    "tfidf"
   ]
  },
  {
   "cell_type": "code",
   "execution_count": 16,
   "metadata": {},
   "outputs": [
    {
     "name": "stderr",
     "output_type": "stream",
     "text": [
      "/opt/anaconda3/lib/python3.8/site-packages/sklearn/manifold/_t_sne.py:790: FutureWarning: The default learning rate in TSNE will change from 200.0 to 'auto' in 1.2.\n",
      "  warnings.warn(\n",
      "/opt/anaconda3/lib/python3.8/site-packages/sklearn/manifold/_t_sne.py:819: FutureWarning: 'square_distances' has been introduced in 0.24 to help phase out legacy squaring behavior. The 'legacy' setting will be removed in 1.1 (renaming of 0.26), and the default setting will be changed to True. In 1.3, 'square_distances' will be removed altogether, and distances will be squared by default. Set 'square_distances'=True to silence this warning.\n",
      "  warnings.warn(\n",
      "/opt/anaconda3/lib/python3.8/site-packages/sklearn/manifold/_t_sne.py:982: FutureWarning: The PCA initialization in TSNE will change to have the standard deviation of PC1 equal to 1e-4 in 1.2. This will ensure better convergence.\n",
      "  warnings.warn(\n"
     ]
    },
    {
     "data": {
      "image/png": "[encoded data removed]",
      "text/plain": [
       "<Figure size 2160x1440 with 1 Axes>"
      ]
     },
     "metadata": {},
     "output_type": "display_data"
    }
   ],
   "source": [
    "PERPLEXITY = 2.0\n",
    "cluster.tSNE(kmeans_embedding, PERPLEXITY, n_TOPICS, title = \\\n",
    "              't-SNE Visualization of Data')"
   ]
  },
  {
   "cell_type": "markdown",
   "metadata": {},
   "source": [
    "## Compute Inertia to Determine Optimal Clusters"
   ]
  },
  {
   "cell_type": "code",
   "execution_count": 17,
   "metadata": {},
   "outputs": [
    {
     "name": "stderr",
     "output_type": "stream",
     "text": [
      "/Users/rajuy/Desktop/twitter_research_tools/notebooks/trt_API/clustering.py:122: ConvergenceWarning: Number of distinct clusters (2) found smaller than n_clusters (5). Possibly due to duplicate points in X.\n",
      "  model.fit(vectors)\n",
      "/Users/rajuy/Desktop/twitter_research_tools/notebooks/trt_API/clustering.py:122: ConvergenceWarning: Number of distinct clusters (2) found smaller than n_clusters (6). Possibly due to duplicate points in X.\n",
      "  model.fit(vectors)\n",
      "/Users/rajuy/Desktop/twitter_research_tools/notebooks/trt_API/clustering.py:122: ConvergenceWarning: Number of distinct clusters (2) found smaller than n_clusters (7). Possibly due to duplicate points in X.\n",
      "  model.fit(vectors)\n",
      "/Users/rajuy/Desktop/twitter_research_tools/notebooks/trt_API/clustering.py:122: ConvergenceWarning: Number of distinct clusters (2) found smaller than n_clusters (8). Possibly due to duplicate points in X.\n",
      "  model.fit(vectors)\n",
      "/Users/rajuy/Desktop/twitter_research_tools/notebooks/trt_API/clustering.py:122: ConvergenceWarning: Number of distinct clusters (2) found smaller than n_clusters (9). Possibly due to duplicate points in X.\n",
      "  model.fit(vectors)\n",
      "/Users/rajuy/Desktop/twitter_research_tools/notebooks/trt_API/clustering.py:122: ConvergenceWarning: Number of distinct clusters (2) found smaller than n_clusters (10). Possibly due to duplicate points in X.\n",
      "  model.fit(vectors)\n",
      "/Users/rajuy/Desktop/twitter_research_tools/notebooks/trt_API/clustering.py:122: ConvergenceWarning: Number of distinct clusters (2) found smaller than n_clusters (11). Possibly due to duplicate points in X.\n",
      "  model.fit(vectors)\n",
      "/Users/rajuy/Desktop/twitter_research_tools/notebooks/trt_API/clustering.py:122: ConvergenceWarning: Number of distinct clusters (2) found smaller than n_clusters (12). Possibly due to duplicate points in X.\n",
      "  model.fit(vectors)\n",
      "/Users/rajuy/Desktop/twitter_research_tools/notebooks/trt_API/clustering.py:122: ConvergenceWarning: Number of distinct clusters (2) found smaller than n_clusters (13). Possibly due to duplicate points in X.\n",
      "  model.fit(vectors)\n",
      "/Users/rajuy/Desktop/twitter_research_tools/notebooks/trt_API/clustering.py:122: ConvergenceWarning: Number of distinct clusters (2) found smaller than n_clusters (14). Possibly due to duplicate points in X.\n",
      "  model.fit(vectors)\n",
      "/Users/rajuy/Desktop/twitter_research_tools/notebooks/trt_API/clustering.py:122: ConvergenceWarning: Number of distinct clusters (2) found smaller than n_clusters (15). Possibly due to duplicate points in X.\n",
      "  model.fit(vectors)\n",
      "/Users/rajuy/Desktop/twitter_research_tools/notebooks/trt_API/clustering.py:122: ConvergenceWarning: Number of distinct clusters (2) found smaller than n_clusters (16). Possibly due to duplicate points in X.\n",
      "  model.fit(vectors)\n",
      "/Users/rajuy/Desktop/twitter_research_tools/notebooks/trt_API/clustering.py:122: ConvergenceWarning: Number of distinct clusters (2) found smaller than n_clusters (17). Possibly due to duplicate points in X.\n",
      "  model.fit(vectors)\n",
      "/Users/rajuy/Desktop/twitter_research_tools/notebooks/trt_API/clustering.py:122: ConvergenceWarning: Number of distinct clusters (2) found smaller than n_clusters (18). Possibly due to duplicate points in X.\n",
      "  model.fit(vectors)\n",
      "/Users/rajuy/Desktop/twitter_research_tools/notebooks/trt_API/clustering.py:122: ConvergenceWarning: Number of distinct clusters (2) found smaller than n_clusters (19). Possibly due to duplicate points in X.\n",
      "  model.fit(vectors)\n",
      "/Users/rajuy/Desktop/twitter_research_tools/notebooks/trt_API/clustering.py:122: ConvergenceWarning: Number of distinct clusters (2) found smaller than n_clusters (20). Possibly due to duplicate points in X.\n",
      "  model.fit(vectors)\n",
      "/Users/rajuy/Desktop/twitter_research_tools/notebooks/trt_API/clustering.py:122: ConvergenceWarning: Number of distinct clusters (2) found smaller than n_clusters (21). Possibly due to duplicate points in X.\n",
      "  model.fit(vectors)\n",
      "/Users/rajuy/Desktop/twitter_research_tools/notebooks/trt_API/clustering.py:122: ConvergenceWarning: Number of distinct clusters (2) found smaller than n_clusters (22). Possibly due to duplicate points in X.\n",
      "  model.fit(vectors)\n",
      "/Users/rajuy/Desktop/twitter_research_tools/notebooks/trt_API/clustering.py:122: ConvergenceWarning: Number of distinct clusters (2) found smaller than n_clusters (23). Possibly due to duplicate points in X.\n",
      "  model.fit(vectors)\n",
      "/Users/rajuy/Desktop/twitter_research_tools/notebooks/trt_API/clustering.py:122: ConvergenceWarning: Number of distinct clusters (2) found smaller than n_clusters (24). Possibly due to duplicate points in X.\n",
      "  model.fit(vectors)\n",
      "/Users/rajuy/Desktop/twitter_research_tools/notebooks/trt_API/clustering.py:122: ConvergenceWarning: Number of distinct clusters (2) found smaller than n_clusters (25). Possibly due to duplicate points in X.\n",
      "  model.fit(vectors)\n",
      "/Users/rajuy/Desktop/twitter_research_tools/notebooks/trt_API/clustering.py:122: ConvergenceWarning: Number of distinct clusters (2) found smaller than n_clusters (5). Possibly due to duplicate points in X.\n",
      "  model.fit(vectors)\n",
      "/Users/rajuy/Desktop/twitter_research_tools/notebooks/trt_API/clustering.py:122: ConvergenceWarning: Number of distinct clusters (2) found smaller than n_clusters (6). Possibly due to duplicate points in X.\n",
      "  model.fit(vectors)\n",
      "/Users/rajuy/Desktop/twitter_research_tools/notebooks/trt_API/clustering.py:122: ConvergenceWarning: Number of distinct clusters (2) found smaller than n_clusters (7). Possibly due to duplicate points in X.\n",
      "  model.fit(vectors)\n",
      "/Users/rajuy/Desktop/twitter_research_tools/notebooks/trt_API/clustering.py:122: ConvergenceWarning: Number of distinct clusters (2) found smaller than n_clusters (8). Possibly due to duplicate points in X.\n",
      "  model.fit(vectors)\n",
      "/Users/rajuy/Desktop/twitter_research_tools/notebooks/trt_API/clustering.py:122: ConvergenceWarning: Number of distinct clusters (2) found smaller than n_clusters (9). Possibly due to duplicate points in X.\n",
      "  model.fit(vectors)\n",
      "/Users/rajuy/Desktop/twitter_research_tools/notebooks/trt_API/clustering.py:122: ConvergenceWarning: Number of distinct clusters (2) found smaller than n_clusters (10). Possibly due to duplicate points in X.\n",
      "  model.fit(vectors)\n",
      "/Users/rajuy/Desktop/twitter_research_tools/notebooks/trt_API/clustering.py:122: ConvergenceWarning: Number of distinct clusters (2) found smaller than n_clusters (11). Possibly due to duplicate points in X.\n",
      "  model.fit(vectors)\n",
      "/Users/rajuy/Desktop/twitter_research_tools/notebooks/trt_API/clustering.py:122: ConvergenceWarning: Number of distinct clusters (2) found smaller than n_clusters (12). Possibly due to duplicate points in X.\n",
      "  model.fit(vectors)\n",
      "/Users/rajuy/Desktop/twitter_research_tools/notebooks/trt_API/clustering.py:122: ConvergenceWarning: Number of distinct clusters (2) found smaller than n_clusters (13). Possibly due to duplicate points in X.\n",
      "  model.fit(vectors)\n",
      "/Users/rajuy/Desktop/twitter_research_tools/notebooks/trt_API/clustering.py:122: ConvergenceWarning: Number of distinct clusters (2) found smaller than n_clusters (14). Possibly due to duplicate points in X.\n",
      "  model.fit(vectors)\n",
      "/Users/rajuy/Desktop/twitter_research_tools/notebooks/trt_API/clustering.py:122: ConvergenceWarning: Number of distinct clusters (2) found smaller than n_clusters (15). Possibly due to duplicate points in X.\n",
      "  model.fit(vectors)\n",
      "/Users/rajuy/Desktop/twitter_research_tools/notebooks/trt_API/clustering.py:122: ConvergenceWarning: Number of distinct clusters (2) found smaller than n_clusters (16). Possibly due to duplicate points in X.\n",
      "  model.fit(vectors)\n",
      "/Users/rajuy/Desktop/twitter_research_tools/notebooks/trt_API/clustering.py:122: ConvergenceWarning: Number of distinct clusters (2) found smaller than n_clusters (17). Possibly due to duplicate points in X.\n",
      "  model.fit(vectors)\n",
      "/Users/rajuy/Desktop/twitter_research_tools/notebooks/trt_API/clustering.py:122: ConvergenceWarning: Number of distinct clusters (2) found smaller than n_clusters (18). Possibly due to duplicate points in X.\n",
      "  model.fit(vectors)\n",
      "/Users/rajuy/Desktop/twitter_research_tools/notebooks/trt_API/clustering.py:122: ConvergenceWarning: Number of distinct clusters (2) found smaller than n_clusters (19). Possibly due to duplicate points in X.\n",
      "  model.fit(vectors)\n",
      "/Users/rajuy/Desktop/twitter_research_tools/notebooks/trt_API/clustering.py:122: ConvergenceWarning: Number of distinct clusters (2) found smaller than n_clusters (20). Possibly due to duplicate points in X.\n",
      "  model.fit(vectors)\n",
      "/Users/rajuy/Desktop/twitter_research_tools/notebooks/trt_API/clustering.py:122: ConvergenceWarning: Number of distinct clusters (2) found smaller than n_clusters (21). Possibly due to duplicate points in X.\n",
      "  model.fit(vectors)\n",
      "/Users/rajuy/Desktop/twitter_research_tools/notebooks/trt_API/clustering.py:122: ConvergenceWarning: Number of distinct clusters (2) found smaller than n_clusters (22). Possibly due to duplicate points in X.\n",
      "  model.fit(vectors)\n",
      "/Users/rajuy/Desktop/twitter_research_tools/notebooks/trt_API/clustering.py:122: ConvergenceWarning: Number of distinct clusters (2) found smaller than n_clusters (23). Possibly due to duplicate points in X.\n",
      "  model.fit(vectors)\n",
      "/Users/rajuy/Desktop/twitter_research_tools/notebooks/trt_API/clustering.py:122: ConvergenceWarning: Number of distinct clusters (2) found smaller than n_clusters (24). Possibly due to duplicate points in X.\n",
      "  model.fit(vectors)\n",
      "/Users/rajuy/Desktop/twitter_research_tools/notebooks/trt_API/clustering.py:122: ConvergenceWarning: Number of distinct clusters (2) found smaller than n_clusters (25). Possibly due to duplicate points in X.\n",
      "  model.fit(vectors)\n",
      "/Users/rajuy/Desktop/twitter_research_tools/notebooks/trt_API/clustering.py:122: ConvergenceWarning: Number of distinct clusters (2) found smaller than n_clusters (5). Possibly due to duplicate points in X.\n",
      "  model.fit(vectors)\n",
      "/Users/rajuy/Desktop/twitter_research_tools/notebooks/trt_API/clustering.py:122: ConvergenceWarning: Number of distinct clusters (2) found smaller than n_clusters (6). Possibly due to duplicate points in X.\n",
      "  model.fit(vectors)\n",
      "/Users/rajuy/Desktop/twitter_research_tools/notebooks/trt_API/clustering.py:122: ConvergenceWarning: Number of distinct clusters (2) found smaller than n_clusters (7). Possibly due to duplicate points in X.\n",
      "  model.fit(vectors)\n",
      "/Users/rajuy/Desktop/twitter_research_tools/notebooks/trt_API/clustering.py:122: ConvergenceWarning: Number of distinct clusters (2) found smaller than n_clusters (8). Possibly due to duplicate points in X.\n",
      "  model.fit(vectors)\n",
      "/Users/rajuy/Desktop/twitter_research_tools/notebooks/trt_API/clustering.py:122: ConvergenceWarning: Number of distinct clusters (2) found smaller than n_clusters (9). Possibly due to duplicate points in X.\n",
      "  model.fit(vectors)\n",
      "/Users/rajuy/Desktop/twitter_research_tools/notebooks/trt_API/clustering.py:122: ConvergenceWarning: Number of distinct clusters (2) found smaller than n_clusters (10). Possibly due to duplicate points in X.\n",
      "  model.fit(vectors)\n",
      "/Users/rajuy/Desktop/twitter_research_tools/notebooks/trt_API/clustering.py:122: ConvergenceWarning: Number of distinct clusters (2) found smaller than n_clusters (11). Possibly due to duplicate points in X.\n",
      "  model.fit(vectors)\n",
      "/Users/rajuy/Desktop/twitter_research_tools/notebooks/trt_API/clustering.py:122: ConvergenceWarning: Number of distinct clusters (2) found smaller than n_clusters (12). Possibly due to duplicate points in X.\n",
      "  model.fit(vectors)\n",
      "/Users/rajuy/Desktop/twitter_research_tools/notebooks/trt_API/clustering.py:122: ConvergenceWarning: Number of distinct clusters (2) found smaller than n_clusters (13). Possibly due to duplicate points in X.\n",
      "  model.fit(vectors)\n",
      "/Users/rajuy/Desktop/twitter_research_tools/notebooks/trt_API/clustering.py:122: ConvergenceWarning: Number of distinct clusters (2) found smaller than n_clusters (14). Possibly due to duplicate points in X.\n",
      "  model.fit(vectors)\n",
      "/Users/rajuy/Desktop/twitter_research_tools/notebooks/trt_API/clustering.py:122: ConvergenceWarning: Number of distinct clusters (2) found smaller than n_clusters (15). Possibly due to duplicate points in X.\n",
      "  model.fit(vectors)\n",
      "/Users/rajuy/Desktop/twitter_research_tools/notebooks/trt_API/clustering.py:122: ConvergenceWarning: Number of distinct clusters (2) found smaller than n_clusters (16). Possibly due to duplicate points in X.\n",
      "  model.fit(vectors)\n",
      "/Users/rajuy/Desktop/twitter_research_tools/notebooks/trt_API/clustering.py:122: ConvergenceWarning: Number of distinct clusters (2) found smaller than n_clusters (17). Possibly due to duplicate points in X.\n",
      "  model.fit(vectors)\n",
      "/Users/rajuy/Desktop/twitter_research_tools/notebooks/trt_API/clustering.py:122: ConvergenceWarning: Number of distinct clusters (2) found smaller than n_clusters (18). Possibly due to duplicate points in X.\n",
      "  model.fit(vectors)\n",
      "/Users/rajuy/Desktop/twitter_research_tools/notebooks/trt_API/clustering.py:122: ConvergenceWarning: Number of distinct clusters (2) found smaller than n_clusters (19). Possibly due to duplicate points in X.\n",
      "  model.fit(vectors)\n",
      "/Users/rajuy/Desktop/twitter_research_tools/notebooks/trt_API/clustering.py:122: ConvergenceWarning: Number of distinct clusters (2) found smaller than n_clusters (20). Possibly due to duplicate points in X.\n",
      "  model.fit(vectors)\n",
      "/Users/rajuy/Desktop/twitter_research_tools/notebooks/trt_API/clustering.py:122: ConvergenceWarning: Number of distinct clusters (2) found smaller than n_clusters (21). Possibly due to duplicate points in X.\n",
      "  model.fit(vectors)\n",
      "/Users/rajuy/Desktop/twitter_research_tools/notebooks/trt_API/clustering.py:122: ConvergenceWarning: Number of distinct clusters (2) found smaller than n_clusters (22). Possibly due to duplicate points in X.\n",
      "  model.fit(vectors)\n",
      "/Users/rajuy/Desktop/twitter_research_tools/notebooks/trt_API/clustering.py:122: ConvergenceWarning: Number of distinct clusters (2) found smaller than n_clusters (23). Possibly due to duplicate points in X.\n",
      "  model.fit(vectors)\n",
      "/Users/rajuy/Desktop/twitter_research_tools/notebooks/trt_API/clustering.py:122: ConvergenceWarning: Number of distinct clusters (2) found smaller than n_clusters (24). Possibly due to duplicate points in X.\n",
      "  model.fit(vectors)\n",
      "/Users/rajuy/Desktop/twitter_research_tools/notebooks/trt_API/clustering.py:122: ConvergenceWarning: Number of distinct clusters (2) found smaller than n_clusters (25). Possibly due to duplicate points in X.\n",
      "  model.fit(vectors)\n",
      "/Users/rajuy/Desktop/twitter_research_tools/notebooks/trt_API/clustering.py:122: ConvergenceWarning: Number of distinct clusters (2) found smaller than n_clusters (5). Possibly due to duplicate points in X.\n",
      "  model.fit(vectors)\n",
      "/Users/rajuy/Desktop/twitter_research_tools/notebooks/trt_API/clustering.py:122: ConvergenceWarning: Number of distinct clusters (2) found smaller than n_clusters (6). Possibly due to duplicate points in X.\n",
      "  model.fit(vectors)\n",
      "/Users/rajuy/Desktop/twitter_research_tools/notebooks/trt_API/clustering.py:122: ConvergenceWarning: Number of distinct clusters (2) found smaller than n_clusters (7). Possibly due to duplicate points in X.\n",
      "  model.fit(vectors)\n",
      "/Users/rajuy/Desktop/twitter_research_tools/notebooks/trt_API/clustering.py:122: ConvergenceWarning: Number of distinct clusters (2) found smaller than n_clusters (8). Possibly due to duplicate points in X.\n",
      "  model.fit(vectors)\n",
      "/Users/rajuy/Desktop/twitter_research_tools/notebooks/trt_API/clustering.py:122: ConvergenceWarning: Number of distinct clusters (2) found smaller than n_clusters (9). Possibly due to duplicate points in X.\n",
      "  model.fit(vectors)\n",
      "/Users/rajuy/Desktop/twitter_research_tools/notebooks/trt_API/clustering.py:122: ConvergenceWarning: Number of distinct clusters (2) found smaller than n_clusters (10). Possibly due to duplicate points in X.\n",
      "  model.fit(vectors)\n",
      "/Users/rajuy/Desktop/twitter_research_tools/notebooks/trt_API/clustering.py:122: ConvergenceWarning: Number of distinct clusters (2) found smaller than n_clusters (11). Possibly due to duplicate points in X.\n",
      "  model.fit(vectors)\n",
      "/Users/rajuy/Desktop/twitter_research_tools/notebooks/trt_API/clustering.py:122: ConvergenceWarning: Number of distinct clusters (2) found smaller than n_clusters (12). Possibly due to duplicate points in X.\n",
      "  model.fit(vectors)\n",
      "/Users/rajuy/Desktop/twitter_research_tools/notebooks/trt_API/clustering.py:122: ConvergenceWarning: Number of distinct clusters (2) found smaller than n_clusters (13). Possibly due to duplicate points in X.\n",
      "  model.fit(vectors)\n",
      "/Users/rajuy/Desktop/twitter_research_tools/notebooks/trt_API/clustering.py:122: ConvergenceWarning: Number of distinct clusters (2) found smaller than n_clusters (14). Possibly due to duplicate points in X.\n",
      "  model.fit(vectors)\n",
      "/Users/rajuy/Desktop/twitter_research_tools/notebooks/trt_API/clustering.py:122: ConvergenceWarning: Number of distinct clusters (2) found smaller than n_clusters (15). Possibly due to duplicate points in X.\n",
      "  model.fit(vectors)\n",
      "/Users/rajuy/Desktop/twitter_research_tools/notebooks/trt_API/clustering.py:122: ConvergenceWarning: Number of distinct clusters (2) found smaller than n_clusters (16). Possibly due to duplicate points in X.\n",
      "  model.fit(vectors)\n",
      "/Users/rajuy/Desktop/twitter_research_tools/notebooks/trt_API/clustering.py:122: ConvergenceWarning: Number of distinct clusters (2) found smaller than n_clusters (17). Possibly due to duplicate points in X.\n",
      "  model.fit(vectors)\n",
      "/Users/rajuy/Desktop/twitter_research_tools/notebooks/trt_API/clustering.py:122: ConvergenceWarning: Number of distinct clusters (2) found smaller than n_clusters (18). Possibly due to duplicate points in X.\n",
      "  model.fit(vectors)\n",
      "/Users/rajuy/Desktop/twitter_research_tools/notebooks/trt_API/clustering.py:122: ConvergenceWarning: Number of distinct clusters (2) found smaller than n_clusters (19). Possibly due to duplicate points in X.\n",
      "  model.fit(vectors)\n",
      "/Users/rajuy/Desktop/twitter_research_tools/notebooks/trt_API/clustering.py:122: ConvergenceWarning: Number of distinct clusters (2) found smaller than n_clusters (20). Possibly due to duplicate points in X.\n",
      "  model.fit(vectors)\n",
      "/Users/rajuy/Desktop/twitter_research_tools/notebooks/trt_API/clustering.py:122: ConvergenceWarning: Number of distinct clusters (2) found smaller than n_clusters (21). Possibly due to duplicate points in X.\n",
      "  model.fit(vectors)\n",
      "/Users/rajuy/Desktop/twitter_research_tools/notebooks/trt_API/clustering.py:122: ConvergenceWarning: Number of distinct clusters (2) found smaller than n_clusters (22). Possibly due to duplicate points in X.\n",
      "  model.fit(vectors)\n",
      "/Users/rajuy/Desktop/twitter_research_tools/notebooks/trt_API/clustering.py:122: ConvergenceWarning: Number of distinct clusters (2) found smaller than n_clusters (23). Possibly due to duplicate points in X.\n",
      "  model.fit(vectors)\n",
      "/Users/rajuy/Desktop/twitter_research_tools/notebooks/trt_API/clustering.py:122: ConvergenceWarning: Number of distinct clusters (2) found smaller than n_clusters (24). Possibly due to duplicate points in X.\n",
      "  model.fit(vectors)\n",
      "/Users/rajuy/Desktop/twitter_research_tools/notebooks/trt_API/clustering.py:122: ConvergenceWarning: Number of distinct clusters (2) found smaller than n_clusters (25). Possibly due to duplicate points in X.\n",
      "  model.fit(vectors)\n",
      "/Users/rajuy/Desktop/twitter_research_tools/notebooks/trt_API/clustering.py:122: ConvergenceWarning: Number of distinct clusters (2) found smaller than n_clusters (5). Possibly due to duplicate points in X.\n",
      "  model.fit(vectors)\n",
      "/Users/rajuy/Desktop/twitter_research_tools/notebooks/trt_API/clustering.py:122: ConvergenceWarning: Number of distinct clusters (2) found smaller than n_clusters (6). Possibly due to duplicate points in X.\n",
      "  model.fit(vectors)\n",
      "/Users/rajuy/Desktop/twitter_research_tools/notebooks/trt_API/clustering.py:122: ConvergenceWarning: Number of distinct clusters (2) found smaller than n_clusters (7). Possibly due to duplicate points in X.\n",
      "  model.fit(vectors)\n",
      "/Users/rajuy/Desktop/twitter_research_tools/notebooks/trt_API/clustering.py:122: ConvergenceWarning: Number of distinct clusters (2) found smaller than n_clusters (8). Possibly due to duplicate points in X.\n",
      "  model.fit(vectors)\n",
      "/Users/rajuy/Desktop/twitter_research_tools/notebooks/trt_API/clustering.py:122: ConvergenceWarning: Number of distinct clusters (2) found smaller than n_clusters (9). Possibly due to duplicate points in X.\n",
      "  model.fit(vectors)\n",
      "/Users/rajuy/Desktop/twitter_research_tools/notebooks/trt_API/clustering.py:122: ConvergenceWarning: Number of distinct clusters (2) found smaller than n_clusters (10). Possibly due to duplicate points in X.\n",
      "  model.fit(vectors)\n",
      "/Users/rajuy/Desktop/twitter_research_tools/notebooks/trt_API/clustering.py:122: ConvergenceWarning: Number of distinct clusters (2) found smaller than n_clusters (11). Possibly due to duplicate points in X.\n",
      "  model.fit(vectors)\n",
      "/Users/rajuy/Desktop/twitter_research_tools/notebooks/trt_API/clustering.py:122: ConvergenceWarning: Number of distinct clusters (2) found smaller than n_clusters (12). Possibly due to duplicate points in X.\n",
      "  model.fit(vectors)\n",
      "/Users/rajuy/Desktop/twitter_research_tools/notebooks/trt_API/clustering.py:122: ConvergenceWarning: Number of distinct clusters (2) found smaller than n_clusters (13). Possibly due to duplicate points in X.\n",
      "  model.fit(vectors)\n",
      "/Users/rajuy/Desktop/twitter_research_tools/notebooks/trt_API/clustering.py:122: ConvergenceWarning: Number of distinct clusters (2) found smaller than n_clusters (14). Possibly due to duplicate points in X.\n",
      "  model.fit(vectors)\n",
      "/Users/rajuy/Desktop/twitter_research_tools/notebooks/trt_API/clustering.py:122: ConvergenceWarning: Number of distinct clusters (2) found smaller than n_clusters (15). Possibly due to duplicate points in X.\n",
      "  model.fit(vectors)\n",
      "/Users/rajuy/Desktop/twitter_research_tools/notebooks/trt_API/clustering.py:122: ConvergenceWarning: Number of distinct clusters (2) found smaller than n_clusters (16). Possibly due to duplicate points in X.\n",
      "  model.fit(vectors)\n",
      "/Users/rajuy/Desktop/twitter_research_tools/notebooks/trt_API/clustering.py:122: ConvergenceWarning: Number of distinct clusters (2) found smaller than n_clusters (17). Possibly due to duplicate points in X.\n",
      "  model.fit(vectors)\n",
      "/Users/rajuy/Desktop/twitter_research_tools/notebooks/trt_API/clustering.py:122: ConvergenceWarning: Number of distinct clusters (2) found smaller than n_clusters (18). Possibly due to duplicate points in X.\n",
      "  model.fit(vectors)\n",
      "/Users/rajuy/Desktop/twitter_research_tools/notebooks/trt_API/clustering.py:122: ConvergenceWarning: Number of distinct clusters (2) found smaller than n_clusters (19). Possibly due to duplicate points in X.\n",
      "  model.fit(vectors)\n",
      "/Users/rajuy/Desktop/twitter_research_tools/notebooks/trt_API/clustering.py:122: ConvergenceWarning: Number of distinct clusters (2) found smaller than n_clusters (20). Possibly due to duplicate points in X.\n",
      "  model.fit(vectors)\n",
      "/Users/rajuy/Desktop/twitter_research_tools/notebooks/trt_API/clustering.py:122: ConvergenceWarning: Number of distinct clusters (2) found smaller than n_clusters (21). Possibly due to duplicate points in X.\n",
      "  model.fit(vectors)\n",
      "/Users/rajuy/Desktop/twitter_research_tools/notebooks/trt_API/clustering.py:122: ConvergenceWarning: Number of distinct clusters (2) found smaller than n_clusters (22). Possibly due to duplicate points in X.\n",
      "  model.fit(vectors)\n",
      "/Users/rajuy/Desktop/twitter_research_tools/notebooks/trt_API/clustering.py:122: ConvergenceWarning: Number of distinct clusters (2) found smaller than n_clusters (23). Possibly due to duplicate points in X.\n",
      "  model.fit(vectors)\n",
      "/Users/rajuy/Desktop/twitter_research_tools/notebooks/trt_API/clustering.py:122: ConvergenceWarning: Number of distinct clusters (2) found smaller than n_clusters (24). Possibly due to duplicate points in X.\n",
      "  model.fit(vectors)\n",
      "/Users/rajuy/Desktop/twitter_research_tools/notebooks/trt_API/clustering.py:122: ConvergenceWarning: Number of distinct clusters (2) found smaller than n_clusters (25). Possibly due to duplicate points in X.\n",
      "  model.fit(vectors)\n"
     ]
    },
    {
     "data": {
      "image/png": "[encoded data removed]",
      "text/plain": [
       "<Figure size 432x288 with 1 Axes>"
      ]
     },
     "metadata": {},
     "output_type": "display_data"
    }
   ],
   "source": [
    "LOOPS = 5\n",
    "n_TOPICS_START = 5\n",
    "n_TOPICS_END = 25\n",
    "cluster.optimalClustersKMeans(tfidf, LOOPS, n_TOPICS_START, n_TOPICS_END)"
   ]
  },
  {
   "cell_type": "code",
   "execution_count": null,
   "metadata": {},
   "outputs": [],
   "source": []
  },
  {
   "cell_type": "code",
   "execution_count": null,
   "metadata": {},
   "outputs": [],
   "source": []
  },
  {
   "cell_type": "code",
   "execution_count": null,
   "metadata": {},
   "outputs": [],
   "source": []
  }
 ],
 "metadata": {
  "interpreter": {
   "hash": "40d3a090f54c6569ab1632332b64b2c03c39dcf918b08424e98f38b5ae0af88f"
  },
  "kernelspec": {
   "display_name": "Python 3.8.5 64-bit (conda)",
   "name": "python3"
  },
  "language_info": {
   "codemirror_mode": {
    "name": "ipython",
    "version": 3
   },
   "file_extension": ".py",
   "mimetype": "text/x-python",
   "name": "python",
   "nbconvert_exporter": "python",
   "pygments_lexer": "ipython3",
   "version": "3.8.5"
  }
 },
 "nbformat": 4,
 "nbformat_minor": 2
}
