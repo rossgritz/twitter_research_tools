{
 "cells": [
  {
   "cell_type": "markdown",
   "metadata": {},
   "source": [
    "# Sentiment Analysis Notebook"
   ]
  },
  {
   "cell_type": "markdown",
   "metadata": {},
   "source": [
    "#### This notebook contains a demonstration of the tools necessary for conducting descriptive analysis of the data. This includes things such as frequency analysis, descripting statistics and temporal frequency."
   ]
  },
  {
   "cell_type": "code",
   "execution_count": 41,
   "metadata": {},
   "outputs": [],
   "source": [
    "import trt_API.process as proc\n",
    "import trt_API.analysis as ana\n",
    "import trt_API.sentiment as sent\n",
    "from pathlib import Path\n",
    "import pandas as pd\n",
    "import datetime\n",
    "SORTED = False\n",
    "pd.set_option('display.max_rows', 500)"
   ]
  },
  {
   "cell_type": "markdown",
   "metadata": {},
   "source": [
    "## Variables for Analysis"
   ]
  },
  {
   "cell_type": "code",
   "execution_count": 42,
   "metadata": {},
   "outputs": [],
   "source": [
    "# Set the path to the parent directory containing all Tweets of interest\n",
    "DIRECTORY = './tweets/*'\n",
    "# Set to True to isolate english language tweets\n",
    "ENGLISH = False\n"
   ]
  },
  {
   "cell_type": "markdown",
   "metadata": {},
   "source": [
    "## Load Tweet and Generate Dataframe"
   ]
  },
  {
   "cell_type": "code",
   "execution_count": 43,
   "metadata": {},
   "outputs": [
    {
     "name": "stdout",
     "output_type": "stream",
     "text": [
      "5066\n",
      "Loaded utf-8 df.\n",
      "Initial size: 5065\n",
      "Dropping duplicates...\n",
      "Final size: 2540\n",
      "2540\n"
     ]
    }
   ],
   "source": [
    "tweet_objects = proc.loadTweetObjects(DIRECTORY)\n",
    "print(len(tweet_objects))\n",
    "df = proc.convertTweetsToDataframe(tweet_objects, ENGLISH)\n",
    "print(df.shape[0])    "
   ]
  },
  {
   "cell_type": "markdown",
   "metadata": {},
   "source": [
    "## Extract Potential Cashtags"
   ]
  },
  {
   "cell_type": "code",
   "execution_count": 44,
   "metadata": {},
   "outputs": [
    {
     "name": "stdout",
     "output_type": "stream",
     "text": [
      "Total potential Cashtags: 53\n"
     ]
    }
   ],
   "source": [
    "ctdf = proc.extractPossibleCashtags(df)"
   ]
  },
  {
   "cell_type": "markdown",
   "metadata": {},
   "source": [
    "## Removing Noisy Tweets"
   ]
  },
  {
   "cell_type": "code",
   "execution_count": 45,
   "metadata": {},
   "outputs": [
    {
     "name": "stdout",
     "output_type": "stream",
     "text": [
      "Removed 0 noisy terms.\n"
     ]
    }
   ],
   "source": [
    "'''\n",
    "*** Tweets often use popular hashtags with unrelated topics.\n",
    "*** Noisy words can be identified to use to filter such tweets.\n",
    "*** Enter these words below in the noisy_terms list.\n",
    "'''\n",
    "noisy_terms = []\n",
    "cldf = proc.removeNoisyTerms(df, noisy_terms)"
   ]
  },
  {
   "cell_type": "markdown",
   "metadata": {},
   "source": [
    "## Remove Retweets"
   ]
  },
  {
   "cell_type": "code",
   "execution_count": 46,
   "metadata": {},
   "outputs": [
    {
     "name": "stdout",
     "output_type": "stream",
     "text": [
      "Removed 555 duplicates.\n"
     ]
    },
    {
     "name": "stderr",
     "output_type": "stream",
     "text": [
      "/Users/rajuy/Documents/twitter_research_tools-master/notebooks/trt_API/process.py:210: SettingWithCopyWarning: \n",
      "A value is trying to be set on a copy of a slice from a DataFrame\n",
      "\n",
      "See the caveats in the documentation: https://pandas.pydata.org/pandas-docs/stable/user_guide/indexing.html#returning-a-view-versus-a-copy\n",
      "  df['RT'][df.tweet.astype(str).str[0:2] == 'RT'] = df.tweet.str.split(':',expand=True).iloc[:,0]\n"
     ]
    }
   ],
   "source": [
    "cldf_no_RT, cldf = proc.removeRetweets(cldf)\n",
    "pd.set_option('display.max_colwidth', None)"
   ]
  },
  {
   "cell_type": "code",
   "execution_count": 47,
   "metadata": {},
   "outputs": [
    {
     "name": "stdout",
     "output_type": "stream",
     "text": [
      "2540\n",
      "1985\n"
     ]
    }
   ],
   "source": [
    "print(cldf.shape[0])\n",
    "print(cldf_no_RT.shape[0])"
   ]
  },
  {
   "cell_type": "markdown",
   "metadata": {},
   "source": [
    "## SPLITTING DATA"
   ]
  },
  {
   "cell_type": "markdown",
   "metadata": {},
   "source": [
    "### By date"
   ]
  },
  {
   "cell_type": "code",
   "execution_count": 48,
   "metadata": {},
   "outputs": [],
   "source": [
    "cldf_no_RT, SORTED = ana.sortByDate(cldf_no_RT,SORTED,PRINT_TOP=False,TOP=10)"
   ]
  },
  {
   "cell_type": "markdown",
   "metadata": {},
   "source": [
    "### By term"
   ]
  },
  {
   "cell_type": "code",
   "execution_count": 49,
   "metadata": {},
   "outputs": [
    {
     "name": "stdout",
     "output_type": "stream",
     "text": [
      "Found 0 terms of interest.\n",
      "Found 0 terms of interest.\n"
     ]
    },
    {
     "name": "stderr",
     "output_type": "stream",
     "text": [
      "/Users/rajuy/Documents/twitter_research_tools-master/notebooks/trt_API/process.py:177: UserWarning: Pandas doesn't allow columns to be created via a new attribute name - see https://pandas.pydata.org/pandas-docs/stable/indexing.html#attribute-access\n",
      "  df.good = df['tweet'].str.lower().str.contains(\\\n"
     ]
    }
   ],
   "source": [
    "terms_of_interest = ['beale street','bealestreet']\n",
    "more_terms_of_interest = ['black panther','blackpanther']\n",
    "bsdf = proc.findTerms(cldf_no_RT, terms_of_interest)\n",
    "bpdf = proc.findTerms(cldf_no_RT, more_terms_of_interest)"
   ]
  },
  {
   "cell_type": "markdown",
   "metadata": {},
   "source": [
    "## Convert Tweets to List"
   ]
  },
  {
   "cell_type": "code",
   "execution_count": 69,
   "metadata": {},
   "outputs": [
    {
     "name": "stdout",
     "output_type": "stream",
     "text": [
      "                    date  followers        username           location  \\\n",
      "477  2019-07-02 01:24:13        227  WarrenLewisCPA  3609 O Street, NW   \n",
      "4092 2019-07-02 01:32:33          9      hdcloutpay  Detroit Beach, MI   \n",
      "4093 2019-07-02 01:36:54         45        BenKeefe          Minnesota   \n",
      "4094 2019-07-02 01:49:01       2313     tisharowemd        Houston, TX   \n",
      "4098 2019-07-02 01:57:44        649   nindalorthrup       Columbus, OH   \n",
      "\n",
      "                                                                                                                                                                                                                                                                                                             tweet  \\\n",
      "477                                                       @tisharowemd @mstwill @AmericanAir That’s crazy. There is nothing revealing about wearing a romper which has been around since the 50’s. Plus, it’s just a plane ride full of people trying to be relaxed and comfortable. It wasn’t a ball gown affair.   \n",
      "4092        Here is what i was wearing when @AmericanAir asked me to deplane for a talk. At which point I was asked  to “cover up”. When defending my outfit I was threatened with not getting back on the flight unless I walked down the aisle wrapped in a blanket. #notsofriendlyskies https://t.co/AYQNNriLcq   \n",
      "4093                                                                                                                                                                                        Plus - had to pay for my own overnight accommodations. Here’s to hoping the later flight I’m on is a go. 🤞@AmericanAir   \n",
      "4094                                                                                                                                                             @tisharowemd @AmericanAir We are flying @Americanair on Friday for vacation. I’ll make sure to wear my speedo. #ridiculous #someoneneedstobefired   \n",
      "4098  Cubs fans are the greatest in the world #MyCubsJourney with @AmericanAir Share a photo of your Cubs fandom using #MyCubsJourney, #sweepstakesentry, @AmericanAir and @Cubs for a chance to win two tickets in the American Airlines 1914 Club. https://t.co/eXxkBAzsOs #AAambassador https://t.co/dkWU4M9bZY   \n",
      "\n",
      "                       id  \\\n",
      "477   1145865729218101250   \n",
      "4092  1145867826370158595   \n",
      "4093  1145868921091833861   \n",
      "4094  1145871970371821568   \n",
      "4098  1145874163992866816   \n",
      "\n",
      "                                                                                                                                                                                                                                                            rt  \n",
      "477   @tisharowemd @mstwill @AmericanAir That’s crazy. There is nothing revealing about wearing a romper which has been around since the 50’s. Plus, it’s just a plane ride full of people trying to be relaxed and comfortable. It wasn’t a ball gown affair.  \n",
      "4092                                                                                                                                                                                                        @omfgitschyyy @Atx_Miguell @JeffreeStar @KLM https  \n",
      "4093                                                                                                                                                                                                                                        RT @AliceKeefeABC6  \n",
      "4094                                                                                                                                                                                                                                          RT @CuriouZMedic  \n",
      "4098                                                                                                                                                                                                                                              RT @ARizzo44  \n"
     ]
    },
    {
     "name": "stderr",
     "output_type": "stream",
     "text": [
      "<ipython-input-69-cb5c7012204d>:1: SettingWithCopyWarning: \n",
      "A value is trying to be set on a copy of a slice from a DataFrame\n",
      "\n",
      "See the caveats in the documentation: https://pandas.pydata.org/pandas-docs/stable/user_guide/indexing.html#returning-a-view-versus-a-copy\n",
      "  cldf_no_RT['original_tweet'][cldf_no_RT.original_tweet == 'None'] = cldf_no_RT['tweet']\n"
     ]
    }
   ],
   "source": [
    "cldf_no_RT['original_tweet'][cldf_no_RT.original_tweet == 'None'] = cldf_no_RT['tweet']\n",
    "cldf_no_RT['tweet'] = cldf_no_RT['original_tweet']\n",
    "del cldf_no_RT['original_tweet']\n",
    "print(cldf_no_RT.head())\n",
    "tweets = list(cldf_no_RT.tweet)"
   ]
  },
  {
   "cell_type": "markdown",
   "metadata": {},
   "source": [
    "## Sentiment"
   ]
  },
  {
   "cell_type": "markdown",
   "metadata": {},
   "source": [
    "### Total Sentiment"
   ]
  },
  {
   "cell_type": "code",
   "execution_count": 51,
   "metadata": {
    "scrolled": true
   },
   "outputs": [
    {
     "data": {
      "image/png": "[encoded data removed]",
      "text/plain": [
       "<Figure size 432x288 with 1 Axes>"
      ]
     },
     "metadata": {
      "needs_background": "light"
     },
     "output_type": "display_data"
    },
    {
     "data": {
      "image/png": "[encoded data removed]",
      "text/plain": [
       "<Figure size 432x288 with 1 Axes>"
      ]
     },
     "metadata": {
      "needs_background": "light"
     },
     "output_type": "display_data"
    }
   ],
   "source": [
    "'''\n",
    "*** First we can look at overall sentiment.\n",
    "*** Here we will look at a histogram and a binary comparison (ignoring neutral).\n",
    "'''\n",
    "srange = (-8,10) # sentiment range (for plot)\n",
    "sent.plotTotalSentiment(tweets,srange)"
   ]
  },
  {
   "cell_type": "markdown",
   "metadata": {},
   "source": [
    "### Hashtag & Username Raw Sentiment"
   ]
  },
  {
   "cell_type": "code",
   "execution_count": 52,
   "metadata": {},
   "outputs": [],
   "source": [
    "NORMALIZED = False\n",
    "PLOT = True"
   ]
  },
  {
   "cell_type": "markdown",
   "metadata": {},
   "source": [
    "#### Hashtags"
   ]
  },
  {
   "cell_type": "code",
   "execution_count": 53,
   "metadata": {},
   "outputs": [
    {
     "data": {
      "image/png": "[encoded data removed]",
      "text/plain": [
       "<Figure size 432x288 with 1 Axes>"
      ]
     },
     "metadata": {
      "needs_background": "light"
     },
     "output_type": "display_data"
    }
   ],
   "source": [
    "'''\n",
    "*** Here we compute sentiment for each hashtag of interest.\n",
    "'''\n",
    "hashtags = [\"climate\"]\n",
    "raw_htag_sent = sent.computeHashtagSentiment(tweets,hashtags,NORMALIZED,PLOT)"
   ]
  },
  {
   "cell_type": "markdown",
   "metadata": {},
   "source": [
    "#### Usernames"
   ]
  },
  {
   "cell_type": "code",
   "execution_count": 54,
   "metadata": {},
   "outputs": [
    {
     "data": {
      "image/png": "[encoded data removed]",
      "text/plain": [
       "<Figure size 432x288 with 1 Axes>"
      ]
     },
     "metadata": {
      "needs_background": "light"
     },
     "output_type": "display_data"
    }
   ],
   "source": [
    "'''\n",
    "*** Here we compute sentiment for each username of interest.\n",
    "'''\n",
    "usernames = [\"Trump\"]\n",
    "raw_user_sent = sent.computeHashtagSentiment(tweets,usernames,NORMALIZED,PLOT)"
   ]
  },
  {
   "cell_type": "markdown",
   "metadata": {},
   "source": [
    "### Hashtag & Username Normalized Sentiment"
   ]
  },
  {
   "cell_type": "code",
   "execution_count": 65,
   "metadata": {},
   "outputs": [],
   "source": [
    "NORMALIZED = True"
   ]
  },
  {
   "cell_type": "markdown",
   "metadata": {},
   "source": [
    "#### Hashtags"
   ]
  },
  {
   "cell_type": "markdown",
   "metadata": {},
   "source": [
    "#### Usernames"
   ]
  },
  {
   "cell_type": "code",
   "execution_count": 64,
   "metadata": {},
   "outputs": [
    {
     "data": {
      "image/png": "[encoded data removed]",
      "text/plain": [
       "<Figure size 432x288 with 1 Axes>"
      ]
     },
     "metadata": {
      "needs_background": "light"
     },
     "output_type": "display_data"
    }
   ],
   "source": [
    "'''\n",
    "*** Here we compute sentiment for each username of interest.\n",
    "'''\n",
    "usernames = []\n",
    "norm_user_sent = sent.computeHashtagSentiment(tweets,usernames,NORMALIZED,PLOT)"
   ]
  },
  {
   "cell_type": "markdown",
   "metadata": {},
   "source": [
    "## View Sentiment over Time"
   ]
  },
  {
   "cell_type": "code",
   "execution_count": 71,
   "metadata": {},
   "outputs": [
    {
     "name": "stderr",
     "output_type": "stream",
     "text": [
      "/opt/anaconda3/lib/python3.8/site-packages/pandas/core/indexing.py:670: SettingWithCopyWarning: \n",
      "A value is trying to be set on a copy of a slice from a DataFrame\n",
      "\n",
      "See the caveats in the documentation: https://pandas.pydata.org/pandas-docs/stable/user_guide/indexing.html#returning-a-view-versus-a-copy\n",
      "  iloc._setitem_with_indexer(indexer, value)\n"
     ]
    }
   ],
   "source": [
    "cldf_no_RT = sent.computeDataframeSentiment(cldf_no_RT)"
   ]
  },
  {
   "cell_type": "code",
   "execution_count": 72,
   "metadata": {},
   "outputs": [
    {
     "data": {
      "text/plain": [
       "<AxesSubplot:xlabel='date,date'>"
      ]
     },
     "execution_count": 72,
     "metadata": {},
     "output_type": "execute_result"
    },
    {
     "data": {
      "image/png": "[encoded data removed]",
      "text/plain": [
       "<Figure size 432x288 with 1 Axes>"
      ]
     },
     "metadata": {
      "needs_background": "light"
     },
     "output_type": "display_data"
    }
   ],
   "source": [
    "# df['Date'] = pd.to_datetime(df['Date'], errors='coerce')\n",
    "cldf_no_RT.sentiment.groupby([cldf_no_RT['date'].dt.year,cldf_no_RT[\"date\"].dt.month]).mean().plot(kind=\"bar\")"
   ]
  },
  {
   "cell_type": "markdown",
   "metadata": {},
   "source": [
    "### Subset Sentiment by Date"
   ]
  },
  {
   "cell_type": "markdown",
   "metadata": {},
   "source": [
    "## Compare Sentiment from Different Dataframes"
   ]
  },
  {
   "cell_type": "code",
   "execution_count": 73,
   "metadata": {},
   "outputs": [
    {
     "data": {
      "image/png": "[encoded data removed]",
      "text/plain": [
       "<Figure size 432x288 with 1 Axes>"
      ]
     },
     "metadata": {
      "needs_background": "light"
     },
     "output_type": "display_data"
    }
   ],
   "source": [
    "df_list = [bsdf,bpdf]\n",
    "normalized = True\n",
    "labels = ['1','2']\n",
    "sent.compareSentimentByDataframe(df_list,normalized,labels)"
   ]
  },
  {
   "cell_type": "code",
   "execution_count": 74,
   "metadata": {},
   "outputs": [
    {
     "data": {
      "image/png": "[encoded data removed]",
      "text/plain": [
       "<Figure size 432x288 with 1 Axes>"
      ]
     },
     "metadata": {
      "needs_background": "light"
     },
     "output_type": "display_data"
    }
   ],
   "source": [
    "import matplotlib.pyplot as plt\n",
    "\n",
    "unq = set(tweets)\n",
    "\n",
    "freq = {uname: tweets.count(uname) for uname in unq}\n",
    "plt.bar(range(len(unq)), freq.values())\n",
    "plt.show()"
   ]
  },
  {
   "cell_type": "code",
   "execution_count": 75,
   "metadata": {},
   "outputs": [
    {
     "name": "stderr",
     "output_type": "stream",
     "text": [
      "[nltk_data] Downloading package vader_lexicon to\n",
      "[nltk_data]     /Users/rajuy/nltk_data...\n",
      "[nltk_data]   Package vader_lexicon is already up-to-date!\n"
     ]
    },
    {
     "name": "stdout",
     "output_type": "stream",
     "text": [
      "859.0\n"
     ]
    }
   ],
   "source": [
    "from textblob import TextBlob\n",
    "import tweepy\n",
    "import matplotlib.pyplot as plt\n",
    "import pandas as pd\n",
    "import numpy as np\n",
    "import os\n",
    "from nltk.sentiment.vader import SentimentIntensityAnalyzer\n",
    "import nltk\n",
    "nltk.download('vader_lexicon')\n",
    "\n",
    "\n",
    "\n",
    "def percentage(part,whole):\n",
    " return 100 * float(part)/float(whole)\n",
    "\n",
    "positive = 0\n",
    "negative = 0\n",
    "neutral = 0\n",
    "polarity = 0\n",
    "tweet_list = []\n",
    "neutral_list = []\n",
    "negative_list = []\n",
    "positive_list = []\n",
    "noOfTweet = 1000\n",
    "\n",
    "negativeCount=0\n",
    "positiveCount=0\n",
    "neutralCount=0\n",
    "\n",
    "for tweet in tweets:\n",
    "    tweet_list.append(tweet)\n",
    "    analysis = TextBlob(tweet)\n",
    "    score = SentimentIntensityAnalyzer().polarity_scores(tweet)\n",
    "    neg = score['neg']\n",
    "    neu = score['neu']\n",
    "    pos = score['pos']\n",
    "    comp = score['compound']\n",
    "    polarity += analysis.sentiment.polarity\n",
    "\n",
    "\n",
    "        \n",
    "        \n",
    "        \n",
    "        \n",
    "    if neg > pos:\n",
    "        negativeCount+=1\n",
    "        negative_list.append(tweet)\n",
    "  \n",
    "    elif pos > neg:\n",
    "        positiveCount+=1\n",
    "        positive_list.append(tweet)\n",
    "    \n",
    "    elif pos == neg:\n",
    "        neutralCount+=1\n",
    "        neutral_list.append(tweet)\n",
    "        \n",
    "    positive = percentage(positive, noOfTweet)\n",
    "    negative = percentage(negative, noOfTweet)\n",
    "    neutral = percentage(neutral, noOfTweet)\n",
    "    polarity = percentage(polarity, noOfTweet)\n",
    "    positive = format(positiveCount, '.1f')\n",
    "    negative = format(negativeCount, '.1f')\n",
    "    neutral = format(neutralCount, '.1f')\n",
    "    \n",
    "print(positive)\n"
   ]
  },
  {
   "cell_type": "code",
   "execution_count": 76,
   "metadata": {},
   "outputs": [
    {
     "name": "stdout",
     "output_type": "stream",
     "text": [
      "total number:  1985\n",
      "positive number:  859\n",
      "negative number:  626\n",
      "neutral number:  500\n"
     ]
    },
    {
     "data": {
      "text/html": [
       "<div>\n",
       "<style scoped>\n",
       "    .dataframe tbody tr th:only-of-type {\n",
       "        vertical-align: middle;\n",
       "    }\n",
       "\n",
       "    .dataframe tbody tr th {\n",
       "        vertical-align: top;\n",
       "    }\n",
       "\n",
       "    .dataframe thead th {\n",
       "        text-align: right;\n",
       "    }\n",
       "</style>\n",
       "<table border=\"1\" class=\"dataframe\">\n",
       "  <thead>\n",
       "    <tr style=\"text-align: right;\">\n",
       "      <th></th>\n",
       "      <th>0</th>\n",
       "    </tr>\n",
       "  </thead>\n",
       "  <tbody>\n",
       "    <tr>\n",
       "      <th>0</th>\n",
       "      <td>@tisharowemd @mstwill @AmericanAir That’s crazy. There is nothing revealing about wearing a romper which has been around since the 50’s. Plus, it’s just a plane ride full of people trying to be relaxed and comfortable. It wasn’t a ball gown affair.</td>\n",
       "    </tr>\n",
       "    <tr>\n",
       "      <th>1</th>\n",
       "      <td>Here is what i was wearing when @AmericanAir asked me to deplane for a talk. At which point I was asked  to “cover up”. When defending my outfit I was threatened with not getting back on the flight unless I walked down the aisle wrapped in a blanket. #notsofriendlyskies https://t.co/AYQNNriLcq</td>\n",
       "    </tr>\n",
       "    <tr>\n",
       "      <th>2</th>\n",
       "      <td>Plus - had to pay for my own overnight accommodations. Here’s to hoping the later flight I’m on is a go. 🤞@AmericanAir</td>\n",
       "    </tr>\n",
       "    <tr>\n",
       "      <th>3</th>\n",
       "      <td>@tisharowemd @AmericanAir We are flying @Americanair on Friday for vacation. I’ll make sure to wear my speedo. #ridiculous #someoneneedstobefired</td>\n",
       "    </tr>\n",
       "    <tr>\n",
       "      <th>4</th>\n",
       "      <td>Cubs fans are the greatest in the world #MyCubsJourney with @AmericanAir Share a photo of your Cubs fandom using #MyCubsJourney, #sweepstakesentry, @AmericanAir and @Cubs for a chance to win two tickets in the American Airlines 1914 Club. https://t.co/eXxkBAzsOs #AAambassador https://t.co/dkWU4M9bZY</td>\n",
       "    </tr>\n",
       "    <tr>\n",
       "      <th>...</th>\n",
       "      <td>...</td>\n",
       "    </tr>\n",
       "    <tr>\n",
       "      <th>1980</th>\n",
       "      <td>Hey, @AmericanAir, why would you board #2119 DCA to BOS when the pilot/co-pilot were not on board? 40 minutes later all passengers are sitting on the plane in 88 degree heat. Luckily, the pilot from prior flight came back after 30 min to turn on AC... #AAFail #NoFreddieAward</td>\n",
       "    </tr>\n",
       "    <tr>\n",
       "      <th>1981</th>\n",
       "      <td>Flight Update: @Delta Airlines has cancelled all flights from #MSY today.</td>\n",
       "    </tr>\n",
       "    <tr>\n",
       "      <th>1982</th>\n",
       "      <td>Flight Update: @Delta Airlines has cancelled all flights from #MSY today.</td>\n",
       "    </tr>\n",
       "    <tr>\n",
       "      <th>1983</th>\n",
       "      <td>Was just harassed by a @Delta gate agent for carrying a TSA-approved breast pump on the plane. Something I do often w no issue.He tried to take it 3x so I nicely explained. Then he says this:“Well, where is your baby?”Well, sir, perhaps you haven’t met a working mom before.</td>\n",
       "    </tr>\n",
       "    <tr>\n",
       "      <th>1984</th>\n",
       "      <td>Non-stop from London, UK to Antigua for only £393 roundtrip with @British_Airways https://t.co/98qHYMVodW https://t.co/O9ujFdAIJ6</td>\n",
       "    </tr>\n",
       "  </tbody>\n",
       "</table>\n",
       "<p>1985 rows × 1 columns</p>\n",
       "</div>"
      ],
      "text/plain": [
       "                                                                                                                                                                                                                                                                                                                 0\n",
       "0                                                         @tisharowemd @mstwill @AmericanAir That’s crazy. There is nothing revealing about wearing a romper which has been around since the 50’s. Plus, it’s just a plane ride full of people trying to be relaxed and comfortable. It wasn’t a ball gown affair.\n",
       "1           Here is what i was wearing when @AmericanAir asked me to deplane for a talk. At which point I was asked  to “cover up”. When defending my outfit I was threatened with not getting back on the flight unless I walked down the aisle wrapped in a blanket. #notsofriendlyskies https://t.co/AYQNNriLcq\n",
       "2                                                                                                                                                                                           Plus - had to pay for my own overnight accommodations. Here’s to hoping the later flight I’m on is a go. 🤞@AmericanAir\n",
       "3                                                                                                                                                                @tisharowemd @AmericanAir We are flying @Americanair on Friday for vacation. I’ll make sure to wear my speedo. #ridiculous #someoneneedstobefired\n",
       "4     Cubs fans are the greatest in the world #MyCubsJourney with @AmericanAir Share a photo of your Cubs fandom using #MyCubsJourney, #sweepstakesentry, @AmericanAir and @Cubs for a chance to win two tickets in the American Airlines 1914 Club. https://t.co/eXxkBAzsOs #AAambassador https://t.co/dkWU4M9bZY\n",
       "...                                                                                                                                                                                                                                                                                                            ...\n",
       "1980                           Hey, @AmericanAir, why would you board #2119 DCA to BOS when the pilot/co-pilot were not on board? 40 minutes later all passengers are sitting on the plane in 88 degree heat. Luckily, the pilot from prior flight came back after 30 min to turn on AC... #AAFail #NoFreddieAward\n",
       "1981                                                                                                                                                                                                                                     Flight Update: @Delta Airlines has cancelled all flights from #MSY today.\n",
       "1982                                                                                                                                                                                                                                     Flight Update: @Delta Airlines has cancelled all flights from #MSY today.\n",
       "1983                            Was just harassed by a @Delta gate agent for carrying a TSA-approved breast pump on the plane. Something I do often w no issue.He tried to take it 3x so I nicely explained. Then he says this:“Well, where is your baby?”Well, sir, perhaps you haven’t met a working mom before.\n",
       "1984                                                                                                                                                                             Non-stop from London, UK to Antigua for only £393 roundtrip with @British_Airways https://t.co/98qHYMVodW https://t.co/O9ujFdAIJ6\n",
       "\n",
       "[1985 rows x 1 columns]"
      ]
     },
     "execution_count": 76,
     "metadata": {},
     "output_type": "execute_result"
    }
   ],
   "source": [
    "#Number of Tweets (Total, Positive, Negative, Neutral)\n",
    "tweet_list = pd.DataFrame(tweet_list)\n",
    "neutral_list = pd.DataFrame(neutral_list)\n",
    "negative_list = pd.DataFrame(negative_list)\n",
    "positive_list = pd.DataFrame(positive_list)\n",
    "print(\"total number: \",len(tweet_list))\n",
    "print(\"positive number: \",len(positive_list))\n",
    "print(\"negative number: \", len(negative_list))\n",
    "print(\"neutral number: \",len(neutral_list))\n",
    "tweet_list"
   ]
  },
  {
   "cell_type": "code",
   "execution_count": 77,
   "metadata": {},
   "outputs": [
    {
     "name": "stdout",
     "output_type": "stream",
     "text": [
      "43.27455919395466 31.536523929471034 25.188916876574307\n"
     ]
    },
    {
     "data": {
      "image/png": "[encoded data removed]",
      "text/plain": [
       "<Figure size 432x288 with 1 Axes>"
      ]
     },
     "metadata": {},
     "output_type": "display_data"
    }
   ],
   "source": [
    "positive_percentage = len(positive_list)/len(tweet_list)*100\n",
    "negative_percentage = len(negative_list)/len(tweet_list)*100\n",
    "neutral_percentage = len(neutral_list)/len(tweet_list)*100\n",
    "print(positive_percentage,negative_percentage, neutral_percentage )\n",
    "labels = ['Positive ['+str(positive_percentage)+'%]' , 'Neutral ['+str(neutral_percentage)+'%]','Negative ['+str(negative_percentage)+'%]']\n",
    "sizes = [positive_percentage, neutral_percentage, negative_percentage]\n",
    "colors = ['yellowgreen', 'blue','red']\n",
    "patches, texts = plt.pie(sizes,colors=colors, startangle=90)\n",
    "plt.style.use('default')\n",
    "plt.legend(labels)\n",
    "plt.axis('equal')\n",
    "plt.show()"
   ]
  },
  {
   "cell_type": "code",
   "execution_count": null,
   "metadata": {},
   "outputs": [],
   "source": []
  }
 ],
 "metadata": {
  "kernelspec": {
   "display_name": "Python 3",
   "language": "python",
   "name": "python3"
  },
  "language_info": {
   "codemirror_mode": {
    "name": "ipython",
    "version": 3
   },
   "file_extension": ".py",
   "mimetype": "text/x-python",
   "name": "python",
   "nbconvert_exporter": "python",
   "pygments_lexer": "ipython3",
   "version": "3.8.5"
  }
 },
 "nbformat": 4,
 "nbformat_minor": 2
}
