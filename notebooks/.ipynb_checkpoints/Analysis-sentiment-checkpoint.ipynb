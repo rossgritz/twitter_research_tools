{
 "cells": [
  {
   "cell_type": "markdown",
   "metadata": {},
   "source": [
    "# Sentiment Analysis Notebook"
   ]
  },
  {
   "cell_type": "markdown",
   "metadata": {},
   "source": [
    "#### This notebook contains a demonstration of the tools necessary for conducting descriptive analysis of the data. This includes things such as frequency analysis, descripting statistics and temporal frequency."
   ]
  },
  {
   "cell_type": "code",
   "execution_count": 11,
   "metadata": {},
   "outputs": [],
   "source": [
    "import trt_API.process as proc\n",
    "import trt_API.analysis as ana\n",
    "import trt_API.sentiment as sent\n",
    "from pathlib import Path\n",
    "import pandas as pd\n",
    "import datetime\n",
    "SORTED = False\n",
    "pd.set_option('display.max_rows', 500)"
   ]
  },
  {
   "cell_type": "markdown",
   "metadata": {},
   "source": [
    "## Variables for Analysis"
   ]
  },
  {
   "cell_type": "code",
   "execution_count": 40,
   "metadata": {},
   "outputs": [],
   "source": [
    "# Set the path to the parent directory containing all Tweets of interest\n",
    "DIRECTORY = './tweets/*'\n",
    "# Set to True to isolate english language tweets\n",
    "ENGLISH = False\n"
   ]
  },
  {
   "cell_type": "markdown",
   "metadata": {},
   "source": [
    "## Load Tweet and Generate Dataframe"
   ]
  },
  {
   "cell_type": "code",
   "execution_count": 41,
   "metadata": {},
   "outputs": [
    {
     "name": "stdout",
     "output_type": "stream",
     "text": [
      "15300\n",
      "Loaded utf-8 df.\n",
      "Initial size: 15298\n",
      "Dropping duplicates...\n",
      "Final size: 10101\n",
      "                          date  followers        username  \\\n",
      "0      Jun 01 20:02:51 2018\\t0         88       Yohanan_L   \n",
      "1      Jun 01 22:19:01 2018\\t0        464       Kiakkye30   \n",
      "2      Jun 08 00:04:48 2018\\t0       1019       KessprdGB   \n",
      "3      Jun 08 03:27:48 2018\\t0         24  quynhnguyen153   \n",
      "4      Jun 08 07:44:53 2018\\t0          1       mlqbuot27   \n",
      "...                        ...        ...             ...   \n",
      "15286  Jun 27 19:15:03 2018\\t0      99303  General_Sharaf   \n",
      "15288  Jun 27 19:18:51 2018\\t0      33365      IlseHorann   \n",
      "15290  Jun 27 19:21:41 2018\\t0       8250       Tulip_360   \n",
      "15292  Jun 27 20:43:10 2018\\t0          5   bubbIefxck124   \n",
      "15296  Jun 27 23:26:48 2018\\t0       1498       itsdafnet   \n",
      "\n",
      "                       location  \\\n",
      "0                        France   \n",
      "1                         Haiti   \n",
      "2                          None   \n",
      "3                          None   \n",
      "4      กรุงเทพมหานคร, ประเทศไทย   \n",
      "...                         ...   \n",
      "15286                      None   \n",
      "15288        Depressions sucks    \n",
      "15290            تغريداتي في ❤️   \n",
      "15292               Orlando, FL   \n",
      "15296                  » 🇲🇽🇰🇷🇨🇦   \n",
      "\n",
      "                                                                                                                                                                                                    tweet  \\\n",
      "0                                                                                       @AnthonyParasole @kanyewest All right didn't know but I agree, Pusha T opus is better. Let's see Cudi now. Cheers   \n",
      "1                                                                 RT @TwitterMusic: Give #NewMusicFriday a try. 🎶🎵 @DanAndShay ➖ Alone Together🎵 @Drake ➖ I'm Upset🎵 @FLAGALine➖ Simple🎵 @kanyewest ➖ ye…   \n",
      "2                                                                               RT @GOT7Official: [ #GOT7NOW ] See you tomorrow, Berlin I GOT7 🐥#GOT7#갓세븐#EyesOnYou#GOT7WORLDTOUR https://t.co/HtO7G7SQLO   \n",
      "3                                                                             RT @chanyeolit: #CHANYEOL #EXO #Monster #찬열 @weareoneEXO 🍾 Monster 200M 👻😈🎉 https://t.co/CJ3fhvIdek https://t.co/uraD3nrlfW   \n",
      "4                                                                               RT @GOT7Official: [ #GOT7NOW ] See you tomorrow, Berlin I GOT7 🐥#GOT7#갓세븐#EyesOnYou#GOT7WORLDTOUR https://t.co/HtO7G7SQLO   \n",
      "...                                                                                                                                                                                                   ...   \n",
      "15286  The aggression clearly violates the human rights of #Yemen, especially the children of #Hodeidah under international and international auspices #CoalitionCrimesInHodeidah https://t.co/uuczmeHFHC   \n",
      "15288                                                                                        RT @fz355: 🌸🌸Follow me to get instant new followers 🌸🌸100% follow Back #TurkeyDrive #IFBDrive #iHarryEmpires   \n",
      "15290                                                               He was hoping to make it out alive.. Raids targeted Zaydiya prison #Hodeidah #CoalitionCrimesInHodeidah#Yemen https://t.co/N2jLTru0Lo   \n",
      "15292                                                                                                RT Guy173 #KCAMexico #KCAArgentina #DemiLovato #EchameLaCulpa #SofiaReyes #SofiaReyesTrendy #JBalvin   \n",
      "15296                                                           RT @tuliosalvemari1: Morning We can make we can do itLet's all do this ..fighting#dafBAMA2018Got7 #갓세븐 #EyesOnYOU #GOT7WORLDTOUR #GOT7 @…   \n",
      "\n",
      "                        id  \\\n",
      "0      1002641647736377346   \n",
      "1      1002675915221098496   \n",
      "2      1004876863670374401   \n",
      "3      1004927950293045248   \n",
      "4      1004992647411298310   \n",
      "...                    ...   \n",
      "15286  1012051702990680066   \n",
      "15288  1012052659312971782   \n",
      "15290  1012053372327923715   \n",
      "15292  1012073878280200192   \n",
      "15296  1012115057939906561   \n",
      "\n",
      "                                                                                                                                                                                                                        original_tweet  \n",
      "0                                                                                                                                                                                                                                 None  \n",
      "1      Give #NewMusicFriday a try. 🎶🎵 @DanAndShay ➖ Alone Together🎵 @Drake ➖ I'm Upset🎵 @FLAGALine➖ Simple🎵 @kanyewest ➖ ye🎵 @maroon5 ft. @iamcardib ➖ Girls Like You🎵 @the1975 ➖ Give Yourself a TryTweet what you're listening to. 👇  \n",
      "2                                                                                                                              [ #GOT7NOW ] See you tomorrow, Berlin I GOT7 🐥#GOT7#갓세븐#EyesOnYou#GOT7WORLDTOUR https://t.co/HtO7G7SQLO  \n",
      "3                                                                                                                          #CHANYEOL #EXO #Monster #찬열 @weareoneEXO 🍾 Monster 200M 👻😈🎉 https://t.co/CJ3fhvIdek https://t.co/uraD3nrlfW  \n",
      "4                                                                                                                              [ #GOT7NOW ] See you tomorrow, Berlin I GOT7 🐥#GOT7#갓세븐#EyesOnYou#GOT7WORLDTOUR https://t.co/HtO7G7SQLO  \n",
      "...                                                                                                                                                                                                                                ...  \n",
      "15286                                                                                                                                                                                                                             None  \n",
      "15288                                                                                                                                🌸🌸Follow me to get instant new followers 🌸🌸100% follow Back #TurkeyDrive #IFBDrive #iHarryEmpires  \n",
      "15290                                                                                                                                                                                                                             None  \n",
      "15292                                                                                                                                                                                                                             None  \n",
      "15296                                                                                                  Morning We can make we can do itLet's all do this ..fighting#dafBAMA2018Got7 #갓세븐 #EyesOnYOU #GOT7WORLDTOUR #GOT7 @GOT7Official  \n",
      "\n",
      "[10101 rows x 7 columns]\n"
     ]
    }
   ],
   "source": [
    "tweet_objects = proc.loadTweetObjects(DIRECTORY)\n",
    "print(len(tweet_objects))\n",
    "df = proc.convertTweetsToDataframe(tweet_objects, ENGLISH)\n",
    "print(df)    "
   ]
  },
  {
   "cell_type": "markdown",
   "metadata": {},
   "source": [
    "## Extract Potential Cashtags"
   ]
  },
  {
   "cell_type": "code",
   "execution_count": 42,
   "metadata": {},
   "outputs": [
    {
     "name": "stdout",
     "output_type": "stream",
     "text": [
      "Total potential Cashtags: 15\n"
     ]
    }
   ],
   "source": [
    "ctdf = proc.extractPossibleCashtags(df)"
   ]
  },
  {
   "cell_type": "markdown",
   "metadata": {},
   "source": [
    "## Removing Noisy Tweets"
   ]
  },
  {
   "cell_type": "code",
   "execution_count": 45,
   "metadata": {},
   "outputs": [
    {
     "name": "stdout",
     "output_type": "stream",
     "text": [
      "Removed 0 noisy terms.\n"
     ]
    }
   ],
   "source": [
    "'''\n",
    "*** Tweets often use popular hashtags with unrelated topics.\n",
    "*** Noisy words can be identified to use to filter such tweets.\n",
    "*** Enter these words below in the noisy_terms list.\n",
    "'''\n",
    "noisy_terms = []\n",
    "cldf = proc.removeNoisyTerms(df, noisy_terms)"
   ]
  },
  {
   "cell_type": "markdown",
   "metadata": {},
   "source": [
    "## Remove Retweets"
   ]
  },
  {
   "cell_type": "code",
   "execution_count": 50,
   "metadata": {},
   "outputs": [
    {
     "name": "stdout",
     "output_type": "stream",
     "text": [
      "Removed 4057 duplicates.\n"
     ]
    },
    {
     "name": "stderr",
     "output_type": "stream",
     "text": [
      "/Users/rajuy/Desktop/twitter_research_tools/notebooks/trt_API/process.py:210: SettingWithCopyWarning: \n",
      "A value is trying to be set on a copy of a slice from a DataFrame\n",
      "\n",
      "See the caveats in the documentation: https://pandas.pydata.org/pandas-docs/stable/user_guide/indexing.html#returning-a-view-versus-a-copy\n",
      "  df['RT'][df.tweet.astype(str).str[0:2] == 'RT'] = df.tweet.str.split(':',expand=True).iloc[:,0]\n"
     ]
    },
    {
     "data": {
      "text/html": [
       "<div>\n",
       "<style scoped>\n",
       "    .dataframe tbody tr th:only-of-type {\n",
       "        vertical-align: middle;\n",
       "    }\n",
       "\n",
       "    .dataframe tbody tr th {\n",
       "        vertical-align: top;\n",
       "    }\n",
       "\n",
       "    .dataframe thead th {\n",
       "        text-align: right;\n",
       "    }\n",
       "</style>\n",
       "<table border=\"1\" class=\"dataframe\">\n",
       "  <thead>\n",
       "    <tr style=\"text-align: right;\">\n",
       "      <th></th>\n",
       "      <th>date</th>\n",
       "      <th>followers</th>\n",
       "      <th>username</th>\n",
       "      <th>location</th>\n",
       "      <th>tweet</th>\n",
       "      <th>id</th>\n",
       "      <th>original_tweet</th>\n",
       "      <th>RT</th>\n",
       "    </tr>\n",
       "  </thead>\n",
       "  <tbody>\n",
       "    <tr>\n",
       "      <th>0</th>\n",
       "      <td>Jun 01 20:02:51 2018\\t0</td>\n",
       "      <td>88</td>\n",
       "      <td>Yohanan_L</td>\n",
       "      <td>France</td>\n",
       "      <td>@AnthonyParasole @kanyewest All right didn't know but I agree, Pusha T opus is better. Let's see Cudi now. Cheers</td>\n",
       "      <td>1002641647736377346</td>\n",
       "      <td>None</td>\n",
       "      <td>None</td>\n",
       "    </tr>\n",
       "    <tr>\n",
       "      <th>1</th>\n",
       "      <td>Jun 01 22:19:01 2018\\t0</td>\n",
       "      <td>464</td>\n",
       "      <td>Kiakkye30</td>\n",
       "      <td>Haiti</td>\n",
       "      <td>RT @TwitterMusic: Give #NewMusicFriday a try. 🎶🎵 @DanAndShay ➖ Alone Together🎵 @Drake ➖ I'm Upset🎵 @FLAGALine➖ Simple🎵 @kanyewest ➖ ye…</td>\n",
       "      <td>1002675915221098496</td>\n",
       "      <td>Give #NewMusicFriday a try. 🎶🎵 @DanAndShay ➖ Alone Together🎵 @Drake ➖ I'm Upset🎵 @FLAGALine➖ Simple🎵 @kanyewest ➖ ye🎵 @maroon5 ft. @iamcardib ➖ Girls Like You🎵 @the1975 ➖ Give Yourself a TryTweet what you're listening to. 👇</td>\n",
       "      <td>RT @TwitterMusic</td>\n",
       "    </tr>\n",
       "    <tr>\n",
       "      <th>2</th>\n",
       "      <td>Jun 08 00:04:48 2018\\t0</td>\n",
       "      <td>1019</td>\n",
       "      <td>KessprdGB</td>\n",
       "      <td>None</td>\n",
       "      <td>RT @GOT7Official: [ #GOT7NOW ] See you tomorrow, Berlin I GOT7 🐥#GOT7#갓세븐#EyesOnYou#GOT7WORLDTOUR https://t.co/HtO7G7SQLO</td>\n",
       "      <td>1004876863670374401</td>\n",
       "      <td>[ #GOT7NOW ] See you tomorrow, Berlin I GOT7 🐥#GOT7#갓세븐#EyesOnYou#GOT7WORLDTOUR https://t.co/HtO7G7SQLO</td>\n",
       "      <td>RT @GOT7Official</td>\n",
       "    </tr>\n",
       "    <tr>\n",
       "      <th>3</th>\n",
       "      <td>Jun 08 03:27:48 2018\\t0</td>\n",
       "      <td>24</td>\n",
       "      <td>quynhnguyen153</td>\n",
       "      <td>None</td>\n",
       "      <td>RT @chanyeolit: #CHANYEOL #EXO #Monster #찬열 @weareoneEXO 🍾 Monster 200M 👻😈🎉 https://t.co/CJ3fhvIdek https://t.co/uraD3nrlfW</td>\n",
       "      <td>1004927950293045248</td>\n",
       "      <td>#CHANYEOL #EXO #Monster #찬열 @weareoneEXO 🍾 Monster 200M 👻😈🎉 https://t.co/CJ3fhvIdek https://t.co/uraD3nrlfW</td>\n",
       "      <td>RT @chanyeolit</td>\n",
       "    </tr>\n",
       "    <tr>\n",
       "      <th>4</th>\n",
       "      <td>Jun 08 07:44:53 2018\\t0</td>\n",
       "      <td>1</td>\n",
       "      <td>mlqbuot27</td>\n",
       "      <td>กรุงเทพมหานคร, ประเทศไทย</td>\n",
       "      <td>RT @GOT7Official: [ #GOT7NOW ] See you tomorrow, Berlin I GOT7 🐥#GOT7#갓세븐#EyesOnYou#GOT7WORLDTOUR https://t.co/HtO7G7SQLO</td>\n",
       "      <td>1004992647411298310</td>\n",
       "      <td>[ #GOT7NOW ] See you tomorrow, Berlin I GOT7 🐥#GOT7#갓세븐#EyesOnYou#GOT7WORLDTOUR https://t.co/HtO7G7SQLO</td>\n",
       "      <td>RT @GOT7Official</td>\n",
       "    </tr>\n",
       "    <tr>\n",
       "      <th>...</th>\n",
       "      <td>...</td>\n",
       "      <td>...</td>\n",
       "      <td>...</td>\n",
       "      <td>...</td>\n",
       "      <td>...</td>\n",
       "      <td>...</td>\n",
       "      <td>...</td>\n",
       "      <td>...</td>\n",
       "    </tr>\n",
       "    <tr>\n",
       "      <th>15286</th>\n",
       "      <td>Jun 27 19:15:03 2018\\t0</td>\n",
       "      <td>99303</td>\n",
       "      <td>General_Sharaf</td>\n",
       "      <td>None</td>\n",
       "      <td>The aggression clearly violates the human rights of #Yemen, especially the children of #Hodeidah under international and international auspices #CoalitionCrimesInHodeidah https://t.co/uuczmeHFHC</td>\n",
       "      <td>1012051702990680066</td>\n",
       "      <td>None</td>\n",
       "      <td>None</td>\n",
       "    </tr>\n",
       "    <tr>\n",
       "      <th>15288</th>\n",
       "      <td>Jun 27 19:18:51 2018\\t0</td>\n",
       "      <td>33365</td>\n",
       "      <td>IlseHorann</td>\n",
       "      <td>Depressions sucks</td>\n",
       "      <td>RT @fz355: 🌸🌸Follow me to get instant new followers 🌸🌸100% follow Back #TurkeyDrive #IFBDrive #iHarryEmpires</td>\n",
       "      <td>1012052659312971782</td>\n",
       "      <td>🌸🌸Follow me to get instant new followers 🌸🌸100% follow Back #TurkeyDrive #IFBDrive #iHarryEmpires</td>\n",
       "      <td>RT @fz355</td>\n",
       "    </tr>\n",
       "    <tr>\n",
       "      <th>15290</th>\n",
       "      <td>Jun 27 19:21:41 2018\\t0</td>\n",
       "      <td>8250</td>\n",
       "      <td>Tulip_360</td>\n",
       "      <td>تغريداتي في ❤️</td>\n",
       "      <td>He was hoping to make it out alive.. Raids targeted Zaydiya prison #Hodeidah #CoalitionCrimesInHodeidah#Yemen https://t.co/N2jLTru0Lo</td>\n",
       "      <td>1012053372327923715</td>\n",
       "      <td>None</td>\n",
       "      <td>None</td>\n",
       "    </tr>\n",
       "    <tr>\n",
       "      <th>15292</th>\n",
       "      <td>Jun 27 20:43:10 2018\\t0</td>\n",
       "      <td>5</td>\n",
       "      <td>bubbIefxck124</td>\n",
       "      <td>Orlando, FL</td>\n",
       "      <td>RT Guy173 #KCAMexico #KCAArgentina #DemiLovato #EchameLaCulpa #SofiaReyes #SofiaReyesTrendy #JBalvin</td>\n",
       "      <td>1012073878280200192</td>\n",
       "      <td>None</td>\n",
       "      <td>RT Guy173 #KCAMexico #KCAArgentina #DemiLovato #EchameLaCulpa #SofiaReyes #SofiaReyesTrendy #JBalvin</td>\n",
       "    </tr>\n",
       "    <tr>\n",
       "      <th>15296</th>\n",
       "      <td>Jun 27 23:26:48 2018\\t0</td>\n",
       "      <td>1498</td>\n",
       "      <td>itsdafnet</td>\n",
       "      <td>» 🇲🇽🇰🇷🇨🇦</td>\n",
       "      <td>RT @tuliosalvemari1: Morning We can make we can do itLet's all do this ..fighting#dafBAMA2018Got7 #갓세븐 #EyesOnYOU #GOT7WORLDTOUR #GOT7 @…</td>\n",
       "      <td>1012115057939906561</td>\n",
       "      <td>Morning We can make we can do itLet's all do this ..fighting#dafBAMA2018Got7 #갓세븐 #EyesOnYOU #GOT7WORLDTOUR #GOT7 @GOT7Official</td>\n",
       "      <td>RT @tuliosalvemari1</td>\n",
       "    </tr>\n",
       "  </tbody>\n",
       "</table>\n",
       "<p>10101 rows × 8 columns</p>\n",
       "</div>"
      ],
      "text/plain": [
       "                          date  followers        username  \\\n",
       "0      Jun 01 20:02:51 2018\\t0         88       Yohanan_L   \n",
       "1      Jun 01 22:19:01 2018\\t0        464       Kiakkye30   \n",
       "2      Jun 08 00:04:48 2018\\t0       1019       KessprdGB   \n",
       "3      Jun 08 03:27:48 2018\\t0         24  quynhnguyen153   \n",
       "4      Jun 08 07:44:53 2018\\t0          1       mlqbuot27   \n",
       "...                        ...        ...             ...   \n",
       "15286  Jun 27 19:15:03 2018\\t0      99303  General_Sharaf   \n",
       "15288  Jun 27 19:18:51 2018\\t0      33365      IlseHorann   \n",
       "15290  Jun 27 19:21:41 2018\\t0       8250       Tulip_360   \n",
       "15292  Jun 27 20:43:10 2018\\t0          5   bubbIefxck124   \n",
       "15296  Jun 27 23:26:48 2018\\t0       1498       itsdafnet   \n",
       "\n",
       "                       location  \\\n",
       "0                        France   \n",
       "1                         Haiti   \n",
       "2                          None   \n",
       "3                          None   \n",
       "4      กรุงเทพมหานคร, ประเทศไทย   \n",
       "...                         ...   \n",
       "15286                      None   \n",
       "15288        Depressions sucks    \n",
       "15290            تغريداتي في ❤️   \n",
       "15292               Orlando, FL   \n",
       "15296                  » 🇲🇽🇰🇷🇨🇦   \n",
       "\n",
       "                                                                                                                                                                                                    tweet  \\\n",
       "0                                                                                       @AnthonyParasole @kanyewest All right didn't know but I agree, Pusha T opus is better. Let's see Cudi now. Cheers   \n",
       "1                                                                 RT @TwitterMusic: Give #NewMusicFriday a try. 🎶🎵 @DanAndShay ➖ Alone Together🎵 @Drake ➖ I'm Upset🎵 @FLAGALine➖ Simple🎵 @kanyewest ➖ ye…   \n",
       "2                                                                               RT @GOT7Official: [ #GOT7NOW ] See you tomorrow, Berlin I GOT7 🐥#GOT7#갓세븐#EyesOnYou#GOT7WORLDTOUR https://t.co/HtO7G7SQLO   \n",
       "3                                                                             RT @chanyeolit: #CHANYEOL #EXO #Monster #찬열 @weareoneEXO 🍾 Monster 200M 👻😈🎉 https://t.co/CJ3fhvIdek https://t.co/uraD3nrlfW   \n",
       "4                                                                               RT @GOT7Official: [ #GOT7NOW ] See you tomorrow, Berlin I GOT7 🐥#GOT7#갓세븐#EyesOnYou#GOT7WORLDTOUR https://t.co/HtO7G7SQLO   \n",
       "...                                                                                                                                                                                                   ...   \n",
       "15286  The aggression clearly violates the human rights of #Yemen, especially the children of #Hodeidah under international and international auspices #CoalitionCrimesInHodeidah https://t.co/uuczmeHFHC   \n",
       "15288                                                                                        RT @fz355: 🌸🌸Follow me to get instant new followers 🌸🌸100% follow Back #TurkeyDrive #IFBDrive #iHarryEmpires   \n",
       "15290                                                               He was hoping to make it out alive.. Raids targeted Zaydiya prison #Hodeidah #CoalitionCrimesInHodeidah#Yemen https://t.co/N2jLTru0Lo   \n",
       "15292                                                                                                RT Guy173 #KCAMexico #KCAArgentina #DemiLovato #EchameLaCulpa #SofiaReyes #SofiaReyesTrendy #JBalvin   \n",
       "15296                                                           RT @tuliosalvemari1: Morning We can make we can do itLet's all do this ..fighting#dafBAMA2018Got7 #갓세븐 #EyesOnYOU #GOT7WORLDTOUR #GOT7 @…   \n",
       "\n",
       "                        id  \\\n",
       "0      1002641647736377346   \n",
       "1      1002675915221098496   \n",
       "2      1004876863670374401   \n",
       "3      1004927950293045248   \n",
       "4      1004992647411298310   \n",
       "...                    ...   \n",
       "15286  1012051702990680066   \n",
       "15288  1012052659312971782   \n",
       "15290  1012053372327923715   \n",
       "15292  1012073878280200192   \n",
       "15296  1012115057939906561   \n",
       "\n",
       "                                                                                                                                                                                                                        original_tweet  \\\n",
       "0                                                                                                                                                                                                                                 None   \n",
       "1      Give #NewMusicFriday a try. 🎶🎵 @DanAndShay ➖ Alone Together🎵 @Drake ➖ I'm Upset🎵 @FLAGALine➖ Simple🎵 @kanyewest ➖ ye🎵 @maroon5 ft. @iamcardib ➖ Girls Like You🎵 @the1975 ➖ Give Yourself a TryTweet what you're listening to. 👇   \n",
       "2                                                                                                                              [ #GOT7NOW ] See you tomorrow, Berlin I GOT7 🐥#GOT7#갓세븐#EyesOnYou#GOT7WORLDTOUR https://t.co/HtO7G7SQLO   \n",
       "3                                                                                                                          #CHANYEOL #EXO #Monster #찬열 @weareoneEXO 🍾 Monster 200M 👻😈🎉 https://t.co/CJ3fhvIdek https://t.co/uraD3nrlfW   \n",
       "4                                                                                                                              [ #GOT7NOW ] See you tomorrow, Berlin I GOT7 🐥#GOT7#갓세븐#EyesOnYou#GOT7WORLDTOUR https://t.co/HtO7G7SQLO   \n",
       "...                                                                                                                                                                                                                                ...   \n",
       "15286                                                                                                                                                                                                                             None   \n",
       "15288                                                                                                                                🌸🌸Follow me to get instant new followers 🌸🌸100% follow Back #TurkeyDrive #IFBDrive #iHarryEmpires   \n",
       "15290                                                                                                                                                                                                                             None   \n",
       "15292                                                                                                                                                                                                                             None   \n",
       "15296                                                                                                  Morning We can make we can do itLet's all do this ..fighting#dafBAMA2018Got7 #갓세븐 #EyesOnYOU #GOT7WORLDTOUR #GOT7 @GOT7Official   \n",
       "\n",
       "                                                                                                         RT  \n",
       "0                                                                                                      None  \n",
       "1                                                                                          RT @TwitterMusic  \n",
       "2                                                                                          RT @GOT7Official  \n",
       "3                                                                                            RT @chanyeolit  \n",
       "4                                                                                          RT @GOT7Official  \n",
       "...                                                                                                     ...  \n",
       "15286                                                                                                  None  \n",
       "15288                                                                                             RT @fz355  \n",
       "15290                                                                                                  None  \n",
       "15292  RT Guy173 #KCAMexico #KCAArgentina #DemiLovato #EchameLaCulpa #SofiaReyes #SofiaReyesTrendy #JBalvin  \n",
       "15296                                                                                   RT @tuliosalvemari1  \n",
       "\n",
       "[10101 rows x 8 columns]"
      ]
     },
     "execution_count": 50,
     "metadata": {},
     "output_type": "execute_result"
    }
   ],
   "source": [
    "cldf_no_RT, cldf = proc.removeRetweets(cldf)\n",
    "pd.set_option('display.max_colwidth', None)\n",
    "cldf"
   ]
  },
  {
   "cell_type": "code",
   "execution_count": 47,
   "metadata": {},
   "outputs": [
    {
     "name": "stdout",
     "output_type": "stream",
     "text": [
      "10101\n",
      "6044\n"
     ]
    }
   ],
   "source": [
    "print(cldf.shape[0])\n",
    "print(cldf_no_RT.shape[0])"
   ]
  },
  {
   "cell_type": "markdown",
   "metadata": {},
   "source": [
    "## SPLITTING DATA"
   ]
  },
  {
   "cell_type": "markdown",
   "metadata": {},
   "source": [
    "### By date"
   ]
  },
  {
   "cell_type": "code",
   "execution_count": 51,
   "metadata": {},
   "outputs": [
    {
     "data": {
      "text/html": [
       "<div>\n",
       "<style scoped>\n",
       "    .dataframe tbody tr th:only-of-type {\n",
       "        vertical-align: middle;\n",
       "    }\n",
       "\n",
       "    .dataframe tbody tr th {\n",
       "        vertical-align: top;\n",
       "    }\n",
       "\n",
       "    .dataframe thead th {\n",
       "        text-align: right;\n",
       "    }\n",
       "</style>\n",
       "<table border=\"1\" class=\"dataframe\">\n",
       "  <thead>\n",
       "    <tr style=\"text-align: right;\">\n",
       "      <th></th>\n",
       "      <th>date</th>\n",
       "      <th>followers</th>\n",
       "      <th>username</th>\n",
       "      <th>location</th>\n",
       "      <th>tweet</th>\n",
       "      <th>id</th>\n",
       "      <th>original_tweet</th>\n",
       "      <th>RT</th>\n",
       "    </tr>\n",
       "  </thead>\n",
       "  <tbody>\n",
       "    <tr>\n",
       "      <th>13591</th>\n",
       "      <td>Apr 01 00:12:39 2018\\t0</td>\n",
       "      <td>70</td>\n",
       "      <td>RachelLaraBrav3</td>\n",
       "      <td>En Un Lugar Del Mundo</td>\n",
       "      <td>RT @Nyaan_doodles: Koya and Joonie  ✨#bangtansonyeondan #방탄소년단 #digitalart #btsfanart #KPOP #fanart #BT21 #BTS #RM https://t.co/jIGqlMsr0E</td>\n",
       "      <td>980236464331149313</td>\n",
       "      <td>Koya and Joonie  ✨#bangtansonyeondan #방탄소년단 #digitalart #btsfanart #KPOP #fanart #BT21 #BTS #RM https://t.co/jIGqlMsr0E</td>\n",
       "      <td>RT @Nyaan_doodles</td>\n",
       "    </tr>\n",
       "    <tr>\n",
       "      <th>13592</th>\n",
       "      <td>Apr 01 02:00:23 2018\\t0</td>\n",
       "      <td>853</td>\n",
       "      <td>srsly_jikook</td>\n",
       "      <td>Somewhere</td>\n",
       "      <td>Who like my updates to my profile (pic, banner, name) ? 😏😏😏😂😂😂#beardtansonyeondan #Beardtan #beardtanboys #BeardTS #BeardYourself #Hello_We_Are_Beardtan #AprilFoolsDay PS. It's not april fools here yet, but i know it is in korea so HAPPY APRIL FOOLS EVERYONE ♥😏😂</td>\n",
       "      <td>980263576303697921</td>\n",
       "      <td>Koya and Joonie  ✨#bangtansonyeondan #방탄소년단 #digitalart #btsfanart #KPOP #fanart #BT21 #BTS #RM https://t.co/jIGqlMsr0E</td>\n",
       "      <td>None</td>\n",
       "    </tr>\n",
       "    <tr>\n",
       "      <th>13593</th>\n",
       "      <td>Apr 01 03:00:28 2018\\t0</td>\n",
       "      <td>269</td>\n",
       "      <td>umjee161cm</td>\n",
       "      <td>None</td>\n",
       "      <td>RT @Exofanbase: No matter what happen, we are always together with exo. Promise me stay forever okay fam??? #6yearsofEXODebutStage#EXO #…</td>\n",
       "      <td>980278696748638208</td>\n",
       "      <td>No matter what happen, we are always together with exo. Promise me stay forever okay fam??? #6yearsofEXODebutStage#EXO #엑소 @weareoneEXO https://t.co/NrtzKLt5CP</td>\n",
       "      <td>RT @Exofanbase</td>\n",
       "    </tr>\n",
       "    <tr>\n",
       "      <th>13594</th>\n",
       "      <td>Apr 01 03:15:08 2018\\t0</td>\n",
       "      <td>48</td>\n",
       "      <td>wonsoa_jyjy</td>\n",
       "      <td>wherever, with kdyoo</td>\n",
       "      <td>RT @NCTsmtovvm: NCT U ‘YESTODAY' Teaser Lucas#NCT2018_EMPATHY#NCT_U_YESTODAY  #YESTODAY #NCT #NCT2018 #NCT_U https://t.co/wZHhCUdN3y</td>\n",
       "      <td>980282387740246018</td>\n",
       "      <td>NCT U ‘YESTODAY' Teaser Lucas#NCT2018_EMPATHY#NCT_U_YESTODAY  #YESTODAY #NCT #NCT2018 #NCT_U https://t.co/wZHhCUdN3y</td>\n",
       "      <td>RT @NCTsmtovvm</td>\n",
       "    </tr>\n",
       "    <tr>\n",
       "      <th>13596</th>\n",
       "      <td>Apr 01 06:57:24 2018\\t0</td>\n",
       "      <td>6</td>\n",
       "      <td>Btsmartinarios</td>\n",
       "      <td>None</td>\n",
       "      <td>RT @AMM_KT: 180330 Sinchon Fansign ... My my eyes on you! 55555555 ล้อพี่ 😂😂😂 #GOT7 #Yugyeom #Jackson #Bambam #Youngjae https://t.co/O1bru0…</td>\n",
       "      <td>980338322991124480</td>\n",
       "      <td>180330 Sinchon Fansign ... My my eyes on you! 55555555 ล้อพี่ 😂😂😂 #GOT7 #Yugyeom #Jackson #Bambam #Youngjae https://t.co/O1bru09pNW</td>\n",
       "      <td>RT @AMM_KT</td>\n",
       "    </tr>\n",
       "    <tr>\n",
       "      <th>...</th>\n",
       "      <td>...</td>\n",
       "      <td>...</td>\n",
       "      <td>...</td>\n",
       "      <td>...</td>\n",
       "      <td>...</td>\n",
       "      <td>...</td>\n",
       "      <td>...</td>\n",
       "      <td>...</td>\n",
       "    </tr>\n",
       "    <tr>\n",
       "      <th>2864</th>\n",
       "      <td>May 31 10:24:45 2018\\t0</td>\n",
       "      <td>12</td>\n",
       "      <td>Choiceland0523</td>\n",
       "      <td>Morocco</td>\n",
       "      <td>RT @official_ACE7: A.C.E Adventures in WonderlandA.C.EDAY ver. 2_#20180607_PM6#ACE #JUN #DONGHUN #WOW #KIMBYEONGKWAN#COMEBACK https:/…</td>\n",
       "      <td>1002133776271634432</td>\n",
       "      <td>A.C.E Adventures in WonderlandA.C.EDAY ver. 2_#20180607_PM6#ACE #JUN #DONGHUN #WOW #KIMBYEONGKWAN#COMEBACK https://t.co/6LwDpfPlDK</td>\n",
       "      <td>RT @official_ACE7</td>\n",
       "    </tr>\n",
       "    <tr>\n",
       "      <th>2865</th>\n",
       "      <td>May 31 10:49:38 2018\\t0</td>\n",
       "      <td>320</td>\n",
       "      <td>rahoufabelle</td>\n",
       "      <td>Nice, France</td>\n",
       "      <td>RT @fahriyeevcenaf: Loreal 😍✨Beautyyy🔥😥❤️#FahriyeEvcen #LorealParis 😍❤️🙏🏻 https://t.co/ZVaMIHElaR</td>\n",
       "      <td>1002140038350688258</td>\n",
       "      <td>Loreal 😍✨Beautyyy🔥😥❤️#FahriyeEvcen #LorealParis 😍❤️🙏🏻 https://t.co/ZVaMIHElaR</td>\n",
       "      <td>RT @fahriyeevcenaf</td>\n",
       "    </tr>\n",
       "    <tr>\n",
       "      <th>2866</th>\n",
       "      <td>May 31 15:08:24 2018\\t0</td>\n",
       "      <td>22</td>\n",
       "      <td>Maiedawn_</td>\n",
       "      <td>헤더_본인그림ㅣ타장르_실친</td>\n",
       "      <td>RT @Zeroing0601: Happy Birthday!!#HAPPYEDAWNDAY #Flowerdawnieday #펜타곤 #PENTAGON #EDAWN #이던 #효종 #イドン     @CUBE_PTG https://t.co/C4cQN01jU5</td>\n",
       "      <td>1002205159131299841</td>\n",
       "      <td>Happy Birthday!!#HAPPYEDAWNDAY #Flowerdawnieday #펜타곤 #PENTAGON #EDAWN #이던 #효종 #イドン     @CUBE_PTG https://t.co/C4cQN01jU5</td>\n",
       "      <td>RT @Zeroing0601</td>\n",
       "    </tr>\n",
       "    <tr>\n",
       "      <th>2867</th>\n",
       "      <td>May 31 18:12:57 2018\\t0</td>\n",
       "      <td>34</td>\n",
       "      <td>IKaay__</td>\n",
       "      <td>None</td>\n",
       "      <td>GORGEOUS 💥...#FahriyeEvcen https://t.co/Ajso2QfCtW</td>\n",
       "      <td>1002251602663796736</td>\n",
       "      <td>None</td>\n",
       "      <td>None</td>\n",
       "    </tr>\n",
       "    <tr>\n",
       "      <th>2868</th>\n",
       "      <td>May 31 18:40:15 2018\\t0</td>\n",
       "      <td>1085</td>\n",
       "      <td>HecquetEugenie</td>\n",
       "      <td>Arras, France</td>\n",
       "      <td>RT @benzohadids: #GigiForVogueEyewear, #TOMMYxGIGI, #GIGIxMAYBELLINE and #MessikaByGigiHadid taking over the world 😍💥 @GiGiHadid https://t.…</td>\n",
       "      <td>1002258472933707776</td>\n",
       "      <td>#GigiForVogueEyewear, #TOMMYxGIGI, #GIGIxMAYBELLINE and #MessikaByGigiHadid taking over the world 😍💥 @GiGiHadid https://t.co/u4BSWpYme2</td>\n",
       "      <td>RT @benzohadids</td>\n",
       "    </tr>\n",
       "  </tbody>\n",
       "</table>\n",
       "<p>10101 rows × 8 columns</p>\n",
       "</div>"
      ],
      "text/plain": [
       "                          date  followers         username  \\\n",
       "13591  Apr 01 00:12:39 2018\\t0         70  RachelLaraBrav3   \n",
       "13592  Apr 01 02:00:23 2018\\t0        853     srsly_jikook   \n",
       "13593  Apr 01 03:00:28 2018\\t0        269       umjee161cm   \n",
       "13594  Apr 01 03:15:08 2018\\t0         48      wonsoa_jyjy   \n",
       "13596  Apr 01 06:57:24 2018\\t0          6   Btsmartinarios   \n",
       "...                        ...        ...              ...   \n",
       "2864   May 31 10:24:45 2018\\t0         12   Choiceland0523   \n",
       "2865   May 31 10:49:38 2018\\t0        320     rahoufabelle   \n",
       "2866   May 31 15:08:24 2018\\t0         22        Maiedawn_   \n",
       "2867   May 31 18:12:57 2018\\t0         34          IKaay__   \n",
       "2868   May 31 18:40:15 2018\\t0       1085   HecquetEugenie   \n",
       "\n",
       "                    location  \\\n",
       "13591  En Un Lugar Del Mundo   \n",
       "13592              Somewhere   \n",
       "13593                   None   \n",
       "13594   wherever, with kdyoo   \n",
       "13596                   None   \n",
       "...                      ...   \n",
       "2864                 Morocco   \n",
       "2865            Nice, France   \n",
       "2866          헤더_본인그림ㅣ타장르_실친   \n",
       "2867                    None   \n",
       "2868          Arras, France    \n",
       "\n",
       "                                                                                                                                                                                                                                                                        tweet  \\\n",
       "13591                                                                                                                              RT @Nyaan_doodles: Koya and Joonie  ✨#bangtansonyeondan #방탄소년단 #digitalart #btsfanart #KPOP #fanart #BT21 #BTS #RM https://t.co/jIGqlMsr0E   \n",
       "13592  Who like my updates to my profile (pic, banner, name) ? 😏😏😏😂😂😂#beardtansonyeondan #Beardtan #beardtanboys #BeardTS #BeardYourself #Hello_We_Are_Beardtan #AprilFoolsDay PS. It's not april fools here yet, but i know it is in korea so HAPPY APRIL FOOLS EVERYONE ♥😏😂   \n",
       "13593                                                                                                                               RT @Exofanbase: No matter what happen, we are always together with exo. Promise me stay forever okay fam??? #6yearsofEXODebutStage#EXO #…   \n",
       "13594                                                                                                                                    RT @NCTsmtovvm: NCT U ‘YESTODAY' Teaser Lucas#NCT2018_EMPATHY#NCT_U_YESTODAY  #YESTODAY #NCT #NCT2018 #NCT_U https://t.co/wZHhCUdN3y   \n",
       "13596                                                                                                                            RT @AMM_KT: 180330 Sinchon Fansign ... My my eyes on you! 55555555 ล้อพี่ 😂😂😂 #GOT7 #Yugyeom #Jackson #Bambam #Youngjae https://t.co/O1bru0…   \n",
       "...                                                                                                                                                                                                                                                                       ...   \n",
       "2864                                                                                                                                   RT @official_ACE7: A.C.E Adventures in WonderlandA.C.EDAY ver. 2_#20180607_PM6#ACE #JUN #DONGHUN #WOW #KIMBYEONGKWAN#COMEBACK https:/…   \n",
       "2865                                                                                                                                                                        RT @fahriyeevcenaf: Loreal 😍✨Beautyyy🔥😥❤️#FahriyeEvcen #LorealParis 😍❤️🙏🏻 https://t.co/ZVaMIHElaR   \n",
       "2866                                                                                                                                RT @Zeroing0601: Happy Birthday!!#HAPPYEDAWNDAY #Flowerdawnieday #펜타곤 #PENTAGON #EDAWN #이던 #효종 #イドン     @CUBE_PTG https://t.co/C4cQN01jU5   \n",
       "2867                                                                                                                                                                                                                       GORGEOUS 💥...#FahriyeEvcen https://t.co/Ajso2QfCtW   \n",
       "2868                                                                                                                             RT @benzohadids: #GigiForVogueEyewear, #TOMMYxGIGI, #GIGIxMAYBELLINE and #MessikaByGigiHadid taking over the world 😍💥 @GiGiHadid https://t.…   \n",
       "\n",
       "                        id  \\\n",
       "13591   980236464331149313   \n",
       "13592   980263576303697921   \n",
       "13593   980278696748638208   \n",
       "13594   980282387740246018   \n",
       "13596   980338322991124480   \n",
       "...                    ...   \n",
       "2864   1002133776271634432   \n",
       "2865   1002140038350688258   \n",
       "2866   1002205159131299841   \n",
       "2867   1002251602663796736   \n",
       "2868   1002258472933707776   \n",
       "\n",
       "                                                                                                                                                        original_tweet  \\\n",
       "13591                                          Koya and Joonie  ✨#bangtansonyeondan #방탄소년단 #digitalart #btsfanart #KPOP #fanart #BT21 #BTS #RM https://t.co/jIGqlMsr0E   \n",
       "13592                                          Koya and Joonie  ✨#bangtansonyeondan #방탄소년단 #digitalart #btsfanart #KPOP #fanart #BT21 #BTS #RM https://t.co/jIGqlMsr0E   \n",
       "13593  No matter what happen, we are always together with exo. Promise me stay forever okay fam??? #6yearsofEXODebutStage#EXO #엑소 @weareoneEXO https://t.co/NrtzKLt5CP   \n",
       "13594                                             NCT U ‘YESTODAY' Teaser Lucas#NCT2018_EMPATHY#NCT_U_YESTODAY  #YESTODAY #NCT #NCT2018 #NCT_U https://t.co/wZHhCUdN3y   \n",
       "13596                              180330 Sinchon Fansign ... My my eyes on you! 55555555 ล้อพี่ 😂😂😂 #GOT7 #Yugyeom #Jackson #Bambam #Youngjae https://t.co/O1bru09pNW   \n",
       "...                                                                                                                                                                ...   \n",
       "2864                                A.C.E Adventures in WonderlandA.C.EDAY ver. 2_#20180607_PM6#ACE #JUN #DONGHUN #WOW #KIMBYEONGKWAN#COMEBACK https://t.co/6LwDpfPlDK   \n",
       "2865                                                                                     Loreal 😍✨Beautyyy🔥😥❤️#FahriyeEvcen #LorealParis 😍❤️🙏🏻 https://t.co/ZVaMIHElaR   \n",
       "2866                                          Happy Birthday!!#HAPPYEDAWNDAY #Flowerdawnieday #펜타곤 #PENTAGON #EDAWN #이던 #효종 #イドン     @CUBE_PTG https://t.co/C4cQN01jU5   \n",
       "2867                                                                                                                                                              None   \n",
       "2868                           #GigiForVogueEyewear, #TOMMYxGIGI, #GIGIxMAYBELLINE and #MessikaByGigiHadid taking over the world 😍💥 @GiGiHadid https://t.co/u4BSWpYme2   \n",
       "\n",
       "                       RT  \n",
       "13591   RT @Nyaan_doodles  \n",
       "13592                None  \n",
       "13593      RT @Exofanbase  \n",
       "13594      RT @NCTsmtovvm  \n",
       "13596          RT @AMM_KT  \n",
       "...                   ...  \n",
       "2864    RT @official_ACE7  \n",
       "2865   RT @fahriyeevcenaf  \n",
       "2866      RT @Zeroing0601  \n",
       "2867                 None  \n",
       "2868      RT @benzohadids  \n",
       "\n",
       "[10101 rows x 8 columns]"
      ]
     },
     "execution_count": 51,
     "metadata": {},
     "output_type": "execute_result"
    }
   ],
   "source": [
    "cldf, SORTED = ana.sortByDate(cldf,SORTED,PRINT_TOP=False,TOP=10)\n",
    "cldf"
   ]
  },
  {
   "cell_type": "markdown",
   "metadata": {},
   "source": [
    "### By term"
   ]
  },
  {
   "cell_type": "code",
   "execution_count": 22,
   "metadata": {},
   "outputs": [
    {
     "name": "stdout",
     "output_type": "stream",
     "text": [
      "Found 0 terms of interest.\n",
      "Found 1 terms of interest.\n"
     ]
    },
    {
     "name": "stderr",
     "output_type": "stream",
     "text": [
      "/Users/rajuy/Desktop/twitter_research_tools/notebooks/trt_API/process.py:177: UserWarning: Pandas doesn't allow columns to be created via a new attribute name - see https://pandas.pydata.org/pandas-docs/stable/indexing.html#attribute-access\n",
      "  df.good = df['tweet'].str.lower().str.contains(\\\n"
     ]
    }
   ],
   "source": [
    "terms_of_interest = ['beale street','bealestreet']\n",
    "more_terms_of_interest = ['black panther','blackpanther']\n",
    "bsdf = proc.findTerms(cldf_no_RT, terms_of_interest)\n",
    "bpdf = proc.findTerms(cldf_no_RT, more_terms_of_interest)"
   ]
  },
  {
   "cell_type": "markdown",
   "metadata": {},
   "source": [
    "## Convert Tweets to List"
   ]
  },
  {
   "cell_type": "code",
   "execution_count": 23,
   "metadata": {},
   "outputs": [
    {
     "name": "stdout",
     "output_type": "stream",
     "text": [
      "                     date  followers        username               location  \\\n",
      "13247 2018-03-30 02:24:13         86         got7run               31/05/15   \n",
      "13248 2018-03-30 02:58:39        271           Xreo0                   None   \n",
      "13249 2018-03-30 07:02:29      47858         AraiEij                   None   \n",
      "13250 2018-03-30 08:51:10        909  DAYDREAM_09_04  Corrientes, Argentina   \n",
      "13251 2018-03-30 10:15:24         26          dldbr5                   None   \n",
      "\n",
      "                                                                                                                                                                                  tweet  \\\n",
      "13247  [STREAM] 180330 KBS&lt;Music Bank&gt; เวลา 15.00 น.(ไทย) #GOT7 #EyesOnYou #LOOK►https://t.co/vjCT1ycCuU ►https://t.co/1VX55DNJn4►https://t.co/fF6eBFqiFZ https://t.co/9omvZQZw2I   \n",
      "13248                                                                                                                                                     2 minutes😭💔💔#WelcomeOliviaHye   \n",
      "13249                                                                                                                     Poppies..       🌿🌺🌿🌺🌿🌺 #LovelyEvening https://t.co/dYiocpuiX1   \n",
      "13250                                                                      #Repost bts.0ffcial (get_repost)・・・JIKOOK or TAEKOOK ?❤.....#BTS #BangtanSonyeondan… https://t.co/LdPytufdo1   \n",
      "13251                                                                                                                       Look - GOT7https://t.co/VrzKFobSes#GOT7 #갓세븐#EyesOnYou#Look   \n",
      "\n",
      "                       id  \\\n",
      "13247  979544798431342593   \n",
      "13248  979553463859326977   \n",
      "13249  979614826510008320   \n",
      "13250  979642177570656257   \n",
      "13251  979663375595655168   \n",
      "\n",
      "                                                                                               rt  \n",
      "13247                                                                              RT @CRUSHonBAM  \n",
      "13248                                                               2 minutes😭💔💔#WelcomeOliviaHye  \n",
      "13249                                                                               RT @semljnika  \n",
      "13250  #Repost bts.0ffcial (get_repost)・・・JIKOOK or TAEKOOK ?❤.....#BTS #BangtanSonyeondan… https  \n",
      "13251                                                                            RT @GOT7Official  \n"
     ]
    },
    {
     "name": "stderr",
     "output_type": "stream",
     "text": [
      "<ipython-input-23-cb5c7012204d>:1: SettingWithCopyWarning: \n",
      "A value is trying to be set on a copy of a slice from a DataFrame\n",
      "\n",
      "See the caveats in the documentation: https://pandas.pydata.org/pandas-docs/stable/user_guide/indexing.html#returning-a-view-versus-a-copy\n",
      "  cldf_no_RT['original_tweet'][cldf_no_RT.original_tweet == 'None'] = cldf_no_RT['tweet']\n"
     ]
    }
   ],
   "source": [
    "cldf_no_RT['original_tweet'][cldf_no_RT.original_tweet == 'None'] = cldf_no_RT['tweet']\n",
    "cldf_no_RT['tweet'] = cldf_no_RT['original_tweet']\n",
    "del cldf_no_RT['original_tweet']\n",
    "print(cldf_no_RT.head())\n",
    "tweets = list(cldf_no_RT.tweet)"
   ]
  },
  {
   "cell_type": "markdown",
   "metadata": {},
   "source": [
    "## Sentiment"
   ]
  },
  {
   "cell_type": "markdown",
   "metadata": {},
   "source": [
    "### Total Sentiment"
   ]
  },
  {
   "cell_type": "code",
   "execution_count": 24,
   "metadata": {
    "scrolled": true
   },
   "outputs": [
    {
     "data": {
      "image/png": "[encoded data removed]",
      "text/plain": [
       "<Figure size 432x288 with 1 Axes>"
      ]
     },
     "metadata": {
      "needs_background": "light"
     },
     "output_type": "display_data"
    },
    {
     "data": {
      "image/png": "[encoded data removed]",
      "text/plain": [
       "<Figure size 432x288 with 1 Axes>"
      ]
     },
     "metadata": {
      "needs_background": "light"
     },
     "output_type": "display_data"
    }
   ],
   "source": [
    "'''\n",
    "*** First we can look at overall sentiment.\n",
    "*** Here we will look at a histogram and a binary comparison (ignoring neutral).\n",
    "'''\n",
    "srange = (-8,10) # sentiment range (for plot)\n",
    "sent.plotTotalSentiment(tweets,srange)"
   ]
  },
  {
   "cell_type": "markdown",
   "metadata": {},
   "source": [
    "### Hashtag & Username Raw Sentiment"
   ]
  },
  {
   "cell_type": "code",
   "execution_count": 25,
   "metadata": {},
   "outputs": [],
   "source": [
    "NORMALIZED = False\n",
    "PLOT = True"
   ]
  },
  {
   "cell_type": "markdown",
   "metadata": {},
   "source": [
    "#### Hashtags"
   ]
  },
  {
   "cell_type": "code",
   "execution_count": 26,
   "metadata": {},
   "outputs": [
    {
     "data": {
      "image/png": "[encoded data removed]",
      "text/plain": [
       "<Figure size 432x288 with 1 Axes>"
      ]
     },
     "metadata": {
      "needs_background": "light"
     },
     "output_type": "display_data"
    }
   ],
   "source": [
    "'''\n",
    "*** Here we compute sentiment for each hashtag of interest.\n",
    "'''\n",
    "hashtags = [\"climate\"]\n",
    "raw_htag_sent = sent.computeHashtagSentiment(tweets,hashtags,NORMALIZED,PLOT)"
   ]
  },
  {
   "cell_type": "markdown",
   "metadata": {},
   "source": [
    "#### Usernames"
   ]
  },
  {
   "cell_type": "code",
   "execution_count": 27,
   "metadata": {},
   "outputs": [
    {
     "data": {
      "image/png": "[encoded data removed]",
      "text/plain": [
       "<Figure size 432x288 with 1 Axes>"
      ]
     },
     "metadata": {
      "needs_background": "light"
     },
     "output_type": "display_data"
    }
   ],
   "source": [
    "'''\n",
    "*** Here we compute sentiment for each username of interest.\n",
    "'''\n",
    "usernames = [\"Trump\"]\n",
    "raw_user_sent = sent.computeHashtagSentiment(tweets,usernames,NORMALIZED,PLOT)"
   ]
  },
  {
   "cell_type": "markdown",
   "metadata": {},
   "source": [
    "### Hashtag & Username Normalized Sentiment"
   ]
  },
  {
   "cell_type": "code",
   "execution_count": 28,
   "metadata": {},
   "outputs": [],
   "source": [
    "NORMALIZED = True"
   ]
  },
  {
   "cell_type": "markdown",
   "metadata": {},
   "source": [
    "#### Hashtags"
   ]
  },
  {
   "cell_type": "markdown",
   "metadata": {},
   "source": [
    "#### Usernames"
   ]
  },
  {
   "cell_type": "code",
   "execution_count": 29,
   "metadata": {},
   "outputs": [
    {
     "data": {
      "image/png": "[encoded data removed]",
      "text/plain": [
       "<Figure size 432x288 with 1 Axes>"
      ]
     },
     "metadata": {
      "needs_background": "light"
     },
     "output_type": "display_data"
    }
   ],
   "source": [
    "'''\n",
    "*** Here we compute sentiment for each username of interest.\n",
    "'''\n",
    "usernames = []\n",
    "norm_user_sent = sent.computeHashtagSentiment(tweets,usernames,NORMALIZED,PLOT)"
   ]
  },
  {
   "cell_type": "markdown",
   "metadata": {},
   "source": [
    "## View Sentiment over Time"
   ]
  },
  {
   "cell_type": "code",
   "execution_count": 30,
   "metadata": {},
   "outputs": [
    {
     "name": "stderr",
     "output_type": "stream",
     "text": [
      "/opt/anaconda3/lib/python3.8/site-packages/pandas/core/indexing.py:670: SettingWithCopyWarning: \n",
      "A value is trying to be set on a copy of a slice from a DataFrame\n",
      "\n",
      "See the caveats in the documentation: https://pandas.pydata.org/pandas-docs/stable/user_guide/indexing.html#returning-a-view-versus-a-copy\n",
      "  iloc._setitem_with_indexer(indexer, value)\n"
     ]
    }
   ],
   "source": [
    "cldf_no_RT = sent.computeDataframeSentiment(cldf_no_RT)"
   ]
  },
  {
   "cell_type": "code",
   "execution_count": 31,
   "metadata": {},
   "outputs": [
    {
     "data": {
      "text/plain": [
       "<matplotlib.axes._subplots.AxesSubplot at 0x7f8eb1bcbf10>"
      ]
     },
     "execution_count": 31,
     "metadata": {},
     "output_type": "execute_result"
    },
    {
     "data": {
      "image/png": "[encoded data removed]",
      "text/plain": [
       "<Figure size 432x288 with 1 Axes>"
      ]
     },
     "metadata": {
      "needs_background": "light"
     },
     "output_type": "display_data"
    }
   ],
   "source": [
    "# df['Date'] = pd.to_datetime(df['Date'], errors='coerce')\n",
    "cldf_no_RT.sentiment.groupby([cldf_no_RT['date'].dt.year,cldf_no_RT[\"date\"].dt.month]).mean().plot(kind=\"bar\")"
   ]
  },
  {
   "cell_type": "markdown",
   "metadata": {},
   "source": [
    "### Subset Sentiment by Date"
   ]
  },
  {
   "cell_type": "markdown",
   "metadata": {},
   "source": [
    "## Compare Sentiment from Different Dataframes"
   ]
  },
  {
   "cell_type": "code",
   "execution_count": 32,
   "metadata": {},
   "outputs": [
    {
     "data": {
      "image/png": "[encoded data removed]",
      "text/plain": [
       "<Figure size 432x288 with 1 Axes>"
      ]
     },
     "metadata": {
      "needs_background": "light"
     },
     "output_type": "display_data"
    }
   ],
   "source": [
    "df_list = [bsdf,bpdf]\n",
    "normalized = True\n",
    "labels = ['1','2']\n",
    "sent.compareSentimentByDataframe(df_list,normalized,labels)"
   ]
  },
  {
   "cell_type": "code",
   "execution_count": 33,
   "metadata": {},
   "outputs": [
    {
     "data": {
      "image/png": "[encoded data removed]",
      "text/plain": [
       "<Figure size 432x288 with 1 Axes>"
      ]
     },
     "metadata": {
      "needs_background": "light"
     },
     "output_type": "display_data"
    }
   ],
   "source": [
    "import matplotlib.pyplot as plt\n",
    "\n",
    "unq = set(tweets)\n",
    "\n",
    "freq = {uname: tweets.count(uname) for uname in unq}\n",
    "plt.bar(range(len(unq)), freq.values())\n",
    "plt.show()"
   ]
  },
  {
   "cell_type": "code",
   "execution_count": 34,
   "metadata": {},
   "outputs": [
    {
     "name": "stderr",
     "output_type": "stream",
     "text": [
      "/opt/anaconda3/lib/python3.8/site-packages/requests/__init__.py:89: RequestsDependencyWarning: urllib3 (1.26.7) or chardet (3.0.4) doesn't match a supported version!\n",
      "  warnings.warn(\"urllib3 ({}) or chardet ({}) doesn't match a supported \"\n",
      "[nltk_data] Downloading package vader_lexicon to\n",
      "[nltk_data]     /Users/rajuy/nltk_data...\n",
      "[nltk_data]   Package vader_lexicon is already up-to-date!\n"
     ]
    },
    {
     "name": "stdout",
     "output_type": "stream",
     "text": [
      "1962.0\n"
     ]
    }
   ],
   "source": [
    "from textblob import TextBlob\n",
    "import tweepy\n",
    "import matplotlib.pyplot as plt\n",
    "import pandas as pd\n",
    "import numpy as np\n",
    "import os\n",
    "from nltk.sentiment.vader import SentimentIntensityAnalyzer\n",
    "import nltk\n",
    "nltk.download('vader_lexicon')\n",
    "\n",
    "\n",
    "\n",
    "def percentage(part,whole):\n",
    " return 100 * float(part)/float(whole)\n",
    "\n",
    "positive = 0\n",
    "negative = 0\n",
    "neutral = 0\n",
    "polarity = 0\n",
    "tweet_list = []\n",
    "neutral_list = []\n",
    "negative_list = []\n",
    "positive_list = []\n",
    "noOfTweet = 1000\n",
    "\n",
    "negativeCount=0\n",
    "positiveCount=0\n",
    "neutralCount=0\n",
    "\n",
    "for tweet in tweets:\n",
    "    tweet_list.append(tweet)\n",
    "    analysis = TextBlob(tweet)\n",
    "    score = SentimentIntensityAnalyzer().polarity_scores(tweet)\n",
    "    neg = score['neg']\n",
    "    neu = score['neu']\n",
    "    pos = score['pos']\n",
    "    comp = score['compound']\n",
    "    polarity += analysis.sentiment.polarity\n",
    "\n",
    "\n",
    "        \n",
    "        \n",
    "        \n",
    "        \n",
    "    if neg > pos:\n",
    "        negativeCount+=1\n",
    "        negative_list.append(tweet)\n",
    "  \n",
    "    elif pos > neg:\n",
    "        positiveCount+=1\n",
    "        positive_list.append(tweet)\n",
    "    \n",
    "    elif pos == neg:\n",
    "        neutralCount+=1\n",
    "        neutral_list.append(tweet)\n",
    "        \n",
    "    positive = percentage(positive, noOfTweet)\n",
    "    negative = percentage(negative, noOfTweet)\n",
    "    neutral = percentage(neutral, noOfTweet)\n",
    "    polarity = percentage(polarity, noOfTweet)\n",
    "    positive = format(positiveCount, '.1f')\n",
    "    negative = format(negativeCount, '.1f')\n",
    "    neutral = format(neutralCount, '.1f')\n",
    "    \n",
    "print(positive)\n"
   ]
  },
  {
   "cell_type": "code",
   "execution_count": 35,
   "metadata": {},
   "outputs": [
    {
     "name": "stdout",
     "output_type": "stream",
     "text": [
      "total number:  6044\n",
      "positive number:  1962\n",
      "negative number:  549\n",
      "neutral number:  3533\n"
     ]
    },
    {
     "data": {
      "text/html": [
       "<div>\n",
       "<style scoped>\n",
       "    .dataframe tbody tr th:only-of-type {\n",
       "        vertical-align: middle;\n",
       "    }\n",
       "\n",
       "    .dataframe tbody tr th {\n",
       "        vertical-align: top;\n",
       "    }\n",
       "\n",
       "    .dataframe thead th {\n",
       "        text-align: right;\n",
       "    }\n",
       "</style>\n",
       "<table border=\"1\" class=\"dataframe\">\n",
       "  <thead>\n",
       "    <tr style=\"text-align: right;\">\n",
       "      <th></th>\n",
       "      <th>0</th>\n",
       "    </tr>\n",
       "  </thead>\n",
       "  <tbody>\n",
       "    <tr>\n",
       "      <th>0</th>\n",
       "      <td>[STREAM] 180330 KBS&amp;lt;Music Bank&amp;gt; เวลา 15.00 น.(ไทย) #GOT7 #EyesOnYou #LOOK►https://t.co/vjCT1ycCuU ►https://t.co/1VX55DNJn4►https://t.co/fF6eBFqiFZ https://t.co/9omvZQZw2I</td>\n",
       "    </tr>\n",
       "    <tr>\n",
       "      <th>1</th>\n",
       "      <td>2 minutes😭💔💔#WelcomeOliviaHye</td>\n",
       "    </tr>\n",
       "    <tr>\n",
       "      <th>2</th>\n",
       "      <td>Poppies..       🌿🌺🌿🌺🌿🌺 #LovelyEvening https://t.co/dYiocpuiX1</td>\n",
       "    </tr>\n",
       "    <tr>\n",
       "      <th>3</th>\n",
       "      <td>#Repost bts.0ffcial (get_repost)・・・JIKOOK or TAEKOOK ?❤.....#BTS #BangtanSonyeondan… https://t.co/LdPytufdo1</td>\n",
       "    </tr>\n",
       "    <tr>\n",
       "      <th>4</th>\n",
       "      <td>Look - GOT7https://t.co/VrzKFobSes#GOT7 #갓세븐#EyesOnYou#Look</td>\n",
       "    </tr>\n",
       "    <tr>\n",
       "      <th>...</th>\n",
       "      <td>...</td>\n",
       "    </tr>\n",
       "    <tr>\n",
       "      <th>6039</th>\n",
       "      <td>[HQ] 1806029 #CHANYEOL #찬열Cr: Playing With Firehttps://t.co/mzqLlzwHarhttps://t.co/0IRlRuXAyShttps://t.co/yxTfHZuuXY#EXO #엑소 @weareoneEXO https://t.co/vvsNXhXFUI</td>\n",
       "    </tr>\n",
       "    <tr>\n",
       "      <th>6040</th>\n",
       "      <td>RT RT mikeshapirodrum #KCAMexico #KCAArgentina #DemiLovato #EchameLaCulpa #SofiaReyes #SofiaReyesTrendy #JBalvin</td>\n",
       "    </tr>\n",
       "    <tr>\n",
       "      <th>6041</th>\n",
       "      <td>[HQ] 180608 #Yebin #Uni_T fansign @ Kobacco Hall (3)#백예빈 #예빈 #다이아 #DIA #유니티 #UNIT @dia_official @official_uni_T https://t.co/XuTnGIAMsG</td>\n",
       "    </tr>\n",
       "    <tr>\n",
       "      <th>6042</th>\n",
       "      <td>Gain 1000 more followers in 35 mins!!✓Retweet to get followed✓ Follow everybody who follows youLet's GO  🔥#GainWithPyeWaw</td>\n",
       "    </tr>\n",
       "    <tr>\n",
       "      <th>6043</th>\n",
       "      <td>Is it Friday yet? ⚡#Energica #MyElectricEgo #Electric #Sportbike #nogasneeded https://t.co/CkxLF4bHo3</td>\n",
       "    </tr>\n",
       "  </tbody>\n",
       "</table>\n",
       "<p>6044 rows × 1 columns</p>\n",
       "</div>"
      ],
      "text/plain": [
       "                                                                                                                                                                                     0\n",
       "0     [STREAM] 180330 KBS&lt;Music Bank&gt; เวลา 15.00 น.(ไทย) #GOT7 #EyesOnYou #LOOK►https://t.co/vjCT1ycCuU ►https://t.co/1VX55DNJn4►https://t.co/fF6eBFqiFZ https://t.co/9omvZQZw2I\n",
       "1                                                                                                                                                        2 minutes😭💔💔#WelcomeOliviaHye\n",
       "2                                                                                                                        Poppies..       🌿🌺🌿🌺🌿🌺 #LovelyEvening https://t.co/dYiocpuiX1\n",
       "3                                                                         #Repost bts.0ffcial (get_repost)・・・JIKOOK or TAEKOOK ?❤.....#BTS #BangtanSonyeondan… https://t.co/LdPytufdo1\n",
       "4                                                                                                                          Look - GOT7https://t.co/VrzKFobSes#GOT7 #갓세븐#EyesOnYou#Look\n",
       "...                                                                                                                                                                                ...\n",
       "6039                 [HQ] 1806029 #CHANYEOL #찬열Cr: Playing With Firehttps://t.co/mzqLlzwHarhttps://t.co/0IRlRuXAyShttps://t.co/yxTfHZuuXY#EXO #엑소 @weareoneEXO https://t.co/vvsNXhXFUI\n",
       "6040                                                                  RT RT mikeshapirodrum #KCAMexico #KCAArgentina #DemiLovato #EchameLaCulpa #SofiaReyes #SofiaReyesTrendy #JBalvin\n",
       "6041                                           [HQ] 180608 #Yebin #Uni_T fansign @ Kobacco Hall (3)#백예빈 #예빈 #다이아 #DIA #유니티 #UNIT @dia_official @official_uni_T https://t.co/XuTnGIAMsG\n",
       "6042                                                         Gain 1000 more followers in 35 mins!!✓Retweet to get followed✓ Follow everybody who follows youLet's GO  🔥#GainWithPyeWaw\n",
       "6043                                                                             Is it Friday yet? ⚡#Energica #MyElectricEgo #Electric #Sportbike #nogasneeded https://t.co/CkxLF4bHo3\n",
       "\n",
       "[6044 rows x 1 columns]"
      ]
     },
     "execution_count": 35,
     "metadata": {},
     "output_type": "execute_result"
    }
   ],
   "source": [
    "#Number of Tweets (Total, Positive, Negative, Neutral)\n",
    "tweet_list = pd.DataFrame(tweet_list)\n",
    "neutral_list = pd.DataFrame(neutral_list)\n",
    "negative_list = pd.DataFrame(negative_list)\n",
    "positive_list = pd.DataFrame(positive_list)\n",
    "print(\"total number: \",len(tweet_list))\n",
    "print(\"positive number: \",len(positive_list))\n",
    "print(\"negative number: \", len(negative_list))\n",
    "print(\"neutral number: \",len(neutral_list))\n",
    "tweet_list"
   ]
  },
  {
   "cell_type": "code",
   "execution_count": 36,
   "metadata": {},
   "outputs": [
    {
     "name": "stdout",
     "output_type": "stream",
     "text": [
      "32.46194573130377 9.083388484447386 58.45466578424884\n"
     ]
    },
    {
     "data": {
      "image/png": "[encoded data removed]",
      "text/plain": [
       "<Figure size 432x288 with 1 Axes>"
      ]
     },
     "metadata": {},
     "output_type": "display_data"
    }
   ],
   "source": [
    "positive_percentage = len(positive_list)/len(tweet_list)*100\n",
    "negative_percentage = len(negative_list)/len(tweet_list)*100\n",
    "neutral_percentage = len(neutral_list)/len(tweet_list)*100\n",
    "print(positive_percentage,negative_percentage, neutral_percentage )\n",
    "labels = ['Positive ['+str(positive_percentage)+'%]' , 'Neutral ['+str(neutral_percentage)+'%]','Negative ['+str(negative_percentage)+'%]']\n",
    "sizes = [positive_percentage, neutral_percentage, negative_percentage]\n",
    "colors = ['yellowgreen', 'blue','red']\n",
    "patches, texts = plt.pie(sizes,colors=colors, startangle=90)\n",
    "plt.style.use('default')\n",
    "plt.legend(labels)\n",
    "plt.axis('equal')\n",
    "plt.show()"
   ]
  },
  {
   "cell_type": "code",
   "execution_count": null,
   "metadata": {},
   "outputs": [],
   "source": []
  }
 ],
 "metadata": {
  "kernelspec": {
   "display_name": "Python 3",
   "language": "python",
   "name": "python3"
  },
  "language_info": {
   "codemirror_mode": {
    "name": "ipython",
    "version": 3
   },
   "file_extension": ".py",
   "mimetype": "text/x-python",
   "name": "python",
   "nbconvert_exporter": "python",
   "pygments_lexer": "ipython3",
   "version": "3.8.5"
  }
 },
 "nbformat": 4,
 "nbformat_minor": 2
}
