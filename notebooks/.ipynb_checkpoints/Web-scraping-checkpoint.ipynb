{
 "cells": [
  {
   "cell_type": "code",
   "execution_count": 3,
   "metadata": {
    "scrolled": true
   },
   "outputs": [
    {
     "ename": "AttributeError",
     "evalue": "'NoneType' object has no attribute 'find_all'",
     "output_type": "error",
     "traceback": [
      "\u001b[0;31m---------------------------------------------------------------------------\u001b[0m",
      "\u001b[0;31mAttributeError\u001b[0m                            Traceback (most recent call last)",
      "\u001b[0;32m<ipython-input-3-729a63db094b>\u001b[0m in \u001b[0;36m<module>\u001b[0;34m\u001b[0m\n\u001b[1;32m     24\u001b[0m \u001b[0mtime\u001b[0m\u001b[0;34m.\u001b[0m\u001b[0msleep\u001b[0m\u001b[0;34m(\u001b[0m\u001b[0;36m5\u001b[0m\u001b[0;34m)\u001b[0m\u001b[0;34m\u001b[0m\u001b[0;34m\u001b[0m\u001b[0m\n\u001b[1;32m     25\u001b[0m \u001b[0mcountData\u001b[0m \u001b[0;34m=\u001b[0m \u001b[0msoup\u001b[0m\u001b[0;34m.\u001b[0m\u001b[0mfind\u001b[0m\u001b[0;34m(\u001b[0m\u001b[0;34m\"div\"\u001b[0m\u001b[0;34m,\u001b[0m \u001b[0mclass_\u001b[0m\u001b[0;34m=\u001b[0m\u001b[0;34m\"css-1dbjc4n r-2sztyj r-1efd50x r-5kkj8d r-13awgt0 r-18u37iz r-tzz3ar r-s1qlax r-1yzf0co\"\u001b[0m\u001b[0;34m)\u001b[0m\u001b[0;34m\u001b[0m\u001b[0;34m\u001b[0m\u001b[0m\n\u001b[0;32m---> 26\u001b[0;31m \u001b[0mretweetCount\u001b[0m \u001b[0;34m=\u001b[0m \u001b[0mcountData\u001b[0m\u001b[0;34m.\u001b[0m\u001b[0mfind_all\u001b[0m\u001b[0;34m(\u001b[0m\u001b[0;34m\"span\"\u001b[0m\u001b[0;34m,\u001b[0m \u001b[0mclass_\u001b[0m\u001b[0;34m=\u001b[0m\u001b[0;34m\"css-901oao css-16my406 r-poiln3 r-b88u0q r-bcqeeo r-qvutc0\"\u001b[0m\u001b[0;34m)\u001b[0m\u001b[0;34m\u001b[0m\u001b[0;34m\u001b[0m\u001b[0m\n\u001b[0m\u001b[1;32m     27\u001b[0m \u001b[0mreplies\u001b[0m \u001b[0;34m=\u001b[0m \u001b[0msoup\u001b[0m\u001b[0;34m.\u001b[0m\u001b[0mfind_all\u001b[0m\u001b[0;34m(\u001b[0m\u001b[0;34m\"div\"\u001b[0m\u001b[0;34m,\u001b[0m \u001b[0mclass_\u001b[0m\u001b[0;34m=\u001b[0m \u001b[0;34m\"css-1dbjc4n r-1iusvr4 r-16y2uox r-1777fci r-kzbkwu\"\u001b[0m\u001b[0;34m)\u001b[0m\u001b[0;34m\u001b[0m\u001b[0;34m\u001b[0m\u001b[0m\n\u001b[1;32m     28\u001b[0m \u001b[0;31m# reply = replies.find_all(\"div\", class_=\"css-901oao r-1fmj7o5 r-37j5jr r-a023e6 r-16dba41 r-rjixqe r-bcqeeo r-bnwqim r-qvutc0\")\u001b[0m\u001b[0;34m\u001b[0m\u001b[0;34m\u001b[0m\u001b[0;34m\u001b[0m\u001b[0m\n",
      "\u001b[0;31mAttributeError\u001b[0m: 'NoneType' object has no attribute 'find_all'"
     ]
    }
   ],
   "source": [
    "import time\n",
    "import bs4 \n",
    "import html\n",
    "import re\n",
    "import requests\n",
    "import json\n",
    "from flask import Flask, request, abort\n",
    "from selenium.webdriver.support.ui import WebDriverWait\n",
    "from selenium.webdriver.common.by import By\n",
    "from selenium.webdriver.support import expected_conditions as EC\n",
    "from selenium import webdriver\n",
    "from webdriver_manager.chrome import ChromeDriverManager\n",
    "import csv\n",
    "import mysql.connector\n",
    "from mysql.connector import errorcode\n",
    "from datetime import datetime\n",
    "import threading\n",
    "\n",
    "driver = webdriver.Chrome(executable_path=\"/Users/rajuy/Downloads/chromedriver\")\n",
    "driver.get(\"https://twitter.com/LinuxSeb/status/1445120862764421129\")\n",
    "time.sleep(5)\n",
    "page_source = driver.page_source\n",
    "soup = bs4.BeautifulSoup(page_source, 'lxml')\n",
    "time.sleep(5)\n",
    "countData = soup.find(\"div\", class_=\"css-1dbjc4n r-2sztyj r-1efd50x r-5kkj8d r-13awgt0 r-18u37iz r-tzz3ar r-s1qlax r-1yzf0co\")\n",
    "retweetCount = countData.find_all(\"span\", class_=\"css-901oao css-16my406 r-poiln3 r-b88u0q r-bcqeeo r-qvutc0\")\n",
    "replies = soup.find_all(\"div\", class_= \"css-1dbjc4n r-1iusvr4 r-16y2uox r-1777fci r-kzbkwu\")\n",
    "# reply = replies.find_all(\"div\", class_=\"css-901oao r-1fmj7o5 r-37j5jr r-a023e6 r-16dba41 r-rjixqe r-bcqeeo r-bnwqim r-qvutc0\")\n",
    "# print(reply)\n",
    "print(\"Retweets\", retweetCount[0].text)\n",
    "print(\"Quote Tweets\", retweetCount[1].text)\n",
    "print(\"Likes\", retweetCount[2].text)\n",
    "for i in replies:\n",
    "    print(i.prettify())"
   ]
  },
  {
   "cell_type": "code",
   "execution_count": 33,
   "metadata": {},
   "outputs": [],
   "source": [
    "import trt_API.process as proc\n",
    "import trt_API.analysis as ana\n",
    "import trt_API.clustering as cluster\n",
    "import trt_API.org_research as org \n",
    "import matplotlib as plt\n",
    "import datetime\n",
    "from sklearn.feature_extraction import text \n",
    "\n",
    "SORTED = False\n",
    "# Set the path to the parent directory containing all Tweets of interest\n",
    "DIRECTORY = './tweets/*'\n",
    "# Set to True to isolate english language tweets\n",
    "ENGLISH = False\n",
    "tweet_objects = proc.loadTweetObjects(DIRECTORY)\n",
    "encoding = False"
   ]
  },
  {
   "cell_type": "code",
   "execution_count": 34,
   "metadata": {},
   "outputs": [
    {
     "name": "stdout",
     "output_type": "stream",
     "text": [
      "1146944848173383681 claimcompanies\n",
      "Retweets 2\n",
      "Likes 1\n",
      "[]\n",
      "1146944848173383681 claimcompanies\n",
      "Retweets 2\n",
      "Likes 1\n",
      "[]\n",
      "1146982559135469568 Atelibecirevic\n",
      "Retweets 1\n"
     ]
    },
    {
     "ename": "IndexError",
     "evalue": "list index out of range",
     "output_type": "error",
     "traceback": [
      "\u001b[0;31m---------------------------------------------------------------------------\u001b[0m",
      "\u001b[0;31mIndexError\u001b[0m                                Traceback (most recent call last)",
      "\u001b[0;32m<ipython-input-34-425c36b20117>\u001b[0m in \u001b[0;36m<module>\u001b[0;34m\u001b[0m\n\u001b[1;32m     32\u001b[0m     \u001b[0mprint\u001b[0m\u001b[0;34m(\u001b[0m\u001b[0;34m\"Retweets\"\u001b[0m\u001b[0;34m,\u001b[0m \u001b[0mretweetCount\u001b[0m\u001b[0;34m[\u001b[0m\u001b[0;36m0\u001b[0m\u001b[0;34m]\u001b[0m\u001b[0;34m.\u001b[0m\u001b[0mtext\u001b[0m\u001b[0;34m)\u001b[0m\u001b[0;34m\u001b[0m\u001b[0;34m\u001b[0m\u001b[0m\n\u001b[1;32m     33\u001b[0m \u001b[0;31m#     print(\"Quote Tweets\", retweetCount[1].text)\u001b[0m\u001b[0;34m\u001b[0m\u001b[0;34m\u001b[0m\u001b[0;34m\u001b[0m\u001b[0m\n\u001b[0;32m---> 34\u001b[0;31m     \u001b[0mprint\u001b[0m\u001b[0;34m(\u001b[0m\u001b[0;34m\"Likes\"\u001b[0m\u001b[0;34m,\u001b[0m \u001b[0mretweetCount\u001b[0m\u001b[0;34m[\u001b[0m\u001b[0;36m2\u001b[0m\u001b[0;34m]\u001b[0m\u001b[0;34m.\u001b[0m\u001b[0mtext\u001b[0m\u001b[0;34m)\u001b[0m\u001b[0;34m\u001b[0m\u001b[0;34m\u001b[0m\u001b[0m\n\u001b[0m\u001b[1;32m     35\u001b[0m     \u001b[0mprint\u001b[0m\u001b[0;34m(\u001b[0m\u001b[0mrepliesSoup\u001b[0m\u001b[0;34m)\u001b[0m\u001b[0;34m\u001b[0m\u001b[0;34m\u001b[0m\u001b[0m\n\u001b[1;32m     36\u001b[0m     \u001b[0mobj\u001b[0m\u001b[0;34m=\u001b[0m\u001b[0;34m{\u001b[0m\u001b[0;34m\"tweet_id\"\u001b[0m\u001b[0;34m:\u001b[0m\u001b[0;36m1445120862764421129\u001b[0m\u001b[0;34m,\u001b[0m \u001b[0;34m\"retweets\"\u001b[0m\u001b[0;34m:\u001b[0m \u001b[0mretweetCount\u001b[0m\u001b[0;34m[\u001b[0m\u001b[0;36m0\u001b[0m\u001b[0;34m]\u001b[0m\u001b[0;34m.\u001b[0m\u001b[0mtext\u001b[0m\u001b[0;34m,\u001b[0m \u001b[0;34m\"quote_tweets\"\u001b[0m\u001b[0;34m:\u001b[0m\u001b[0mretweetCount\u001b[0m\u001b[0;34m[\u001b[0m\u001b[0;36m1\u001b[0m\u001b[0;34m]\u001b[0m\u001b[0;34m.\u001b[0m\u001b[0mtext\u001b[0m\u001b[0;34m,\u001b[0m \u001b[0;34m\"likes\"\u001b[0m\u001b[0;34m:\u001b[0m \u001b[0mretweetCount\u001b[0m\u001b[0;34m[\u001b[0m\u001b[0;36m2\u001b[0m\u001b[0;34m]\u001b[0m\u001b[0;34m.\u001b[0m\u001b[0mtext\u001b[0m\u001b[0;34m}\u001b[0m\u001b[0;34m\u001b[0m\u001b[0;34m\u001b[0m\u001b[0m\n",
      "\u001b[0;31mIndexError\u001b[0m: list index out of range"
     ]
    }
   ],
   "source": [
    "import time\n",
    "import bs4 \n",
    "import html\n",
    "import re\n",
    "import requests\n",
    "import json\n",
    "from flask import Flask, request, abort\n",
    "from selenium.webdriver.support.ui import WebDriverWait\n",
    "from selenium.webdriver.common.by import By\n",
    "from selenium.webdriver.support import expected_conditions as EC\n",
    "from selenium import webdriver\n",
    "from webdriver_manager.chrome import ChromeDriverManager\n",
    "import csv\n",
    "import mysql.connector\n",
    "from mysql.connector import errorcode\n",
    "from datetime import datetime\n",
    "import threading\n",
    "retweetData=[]\n",
    "driver = webdriver.Chrome(executable_path=\"/Users/rajuy/Downloads/chromedriver\")\n",
    "for i in tweet_objects[0:10]:\n",
    "    print(i[\"id\"], i[\"user\"][\"screen_name\"])\n",
    "    driver.get(\"https://twitter.com/\"+i[\"user\"][\"screen_name\"]+\"/status/\"+str(i[\"id\"])+\"\")\n",
    "    time.sleep(10)\n",
    "    page_source = driver.page_source\n",
    "    soup = bs4.BeautifulSoup(page_source, 'lxml')\n",
    "    countData = soup.find(\"div\", class_=\"css-1dbjc4n r-2sztyj r-1efd50x r-5kkj8d r-13awgt0 r-18u37iz r-tzz3ar r-s1qlax r-1yzf0co\")\n",
    "    retweetCount = countData.find_all(\"span\", class_=\"css-901oao css-16my406 r-poiln3 r-b88u0q r-bcqeeo r-qvutc0\")\n",
    "    time.sleep(10)\n",
    "    page_source = driver.page_source\n",
    "    soup = bs4.BeautifulSoup(page_source, 'lxml')\n",
    "    repliesSoup = soup.find_all(\"div\", class_= \"css-901oao r-1fmj7o5 r-37j5jr r-a023e6 r-16dba41 r-rjixqe r-bcqeeo r-bnwqim r-qvutc0\")\n",
    "    if  retweetCount and retweetCount[0]:\n",
    "        print(\"Retweets\", retweetCount[0].text)\n",
    "    #     print(\"Quote Tweets\", retweetCount[1].text)\n",
    "        print(\"Likes\", retweetCount[2].text)\n",
    "        print(repliesSoup)\n",
    "        obj={\"tweet_id\":1445120862764421129, \"retweets\": retweetCount[0].text, \"quote_tweets\":retweetCount[1].text, \"likes\": retweetCount[2].text}\n",
    "        retweetData.append(obj)\n",
    "print(retweetData)"
   ]
  },
  {
   "cell_type": "code",
   "execution_count": null,
   "metadata": {},
   "outputs": [],
   "source": []
  }
 ],
 "metadata": {
  "kernelspec": {
   "display_name": "Python 3",
   "language": "python",
   "name": "python3"
  },
  "language_info": {
   "codemirror_mode": {
    "name": "ipython",
    "version": 3
   },
   "file_extension": ".py",
   "mimetype": "text/x-python",
   "name": "python",
   "nbconvert_exporter": "python",
   "pygments_lexer": "ipython3",
   "version": "3.8.5"
  }
 },
 "nbformat": 4,
 "nbformat_minor": 4
}
