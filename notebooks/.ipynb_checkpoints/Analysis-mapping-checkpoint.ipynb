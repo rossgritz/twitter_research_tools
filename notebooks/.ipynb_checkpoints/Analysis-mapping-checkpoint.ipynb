{
 "cells": [
  {
   "cell_type": "markdown",
   "metadata": {},
   "source": [
    "# Mapping Analysis Notebook\n",
    "# <font color='red'> *NOTE: Make sure to update the trt_API files!* </font>"
   ]
  },
  {
   "cell_type": "markdown",
   "metadata": {},
   "source": [
    "#### This notebook contains a demonstration of the tools necessary for conducting descriptive analysis of the data. This includes things such as frequency analysis, descripting statistics and temporal frequency."
   ]
  },
  {
   "cell_type": "code",
<<<<<<< HEAD
   "execution_count": 3,
   "metadata": {},
   "outputs": [],
   "source": [
    "\n",
    "import folium\n",
    "import json\n",
    "from folium import plugins"
   ]
  },
  {
   "cell_type": "markdown",
   "metadata": {},
   "source": [
    "## Variables for Analysis"
   ]
  },
  {
   "cell_type": "code",
   "execution_count": 4,
   "metadata": {},
   "outputs": [],
   "source": [
    "import trt_API.process as proc\n",
    "import trt_API.process as cleanText\n",
    "import trt_API.analysis as ana\n",
    "\n",
    "import datetime\n",
    "import pandas as pd\n",
    "import numpy as np\n",
    "import matplotlib.pyplot as plt\n",
    "\n",
    "SORTED = False"
=======
   "execution_count": null,
   "metadata": {},
   "outputs": [],
   "source": [
    "import trt_API.process as proc\n",
    "import trt_API.analysis as ana\n",
    "\n",
    "import datetime\n",
    "import pandas as pd\n",
    "import numpy as np\n",
    "import matplotlib.pyplot as plt\n",
    "\n",
    "SORTED = False"
   ]
  },
  {
   "cell_type": "code",
   "execution_count": null,
   "metadata": {},
   "outputs": [],
   "source": [
    "!pip3 install folium\n",
    "import folium\n",
    "import json\n",
    "from folium import plugins"
   ]
  },
  {
   "cell_type": "markdown",
   "metadata": {},
   "source": [
    "## Variables for Analysis"
>>>>>>> f267001ef71f06d1b8f180bada6cecdc1936cf0a
   ]
  },
  {
   "cell_type": "code",
<<<<<<< HEAD
   "execution_count": 5,
=======
   "execution_count": null,
>>>>>>> f267001ef71f06d1b8f180bada6cecdc1936cf0a
   "metadata": {},
   "outputs": [],
   "source": [
    "# Set the path to the parent directory containing all Tweets of interest\n",
    "DIRECTORY = './tweets/*'\n",
    "# Set to True to isolate english language tweets\n",
    "ENGLISH = False"
   ]
  },
  {
   "cell_type": "markdown",
   "metadata": {},
   "source": [
    "## Load Tweet and Generate Dataframe"
   ]
  },
  {
   "cell_type": "code",
<<<<<<< HEAD
   "execution_count": 6,
   "metadata": {},
   "outputs": [
    {
     "name": "stdout",
     "output_type": "stream",
     "text": [
      "Loaded utf-8 df.\n",
      "Initial size: 26996\n",
      "Dropping duplicates...\n",
      "Final size: 23572\n"
     ]
    }
   ],
=======
   "execution_count": null,
   "metadata": {},
   "outputs": [],
>>>>>>> f267001ef71f06d1b8f180bada6cecdc1936cf0a
   "source": [
    "tweet_objects = proc.loadTweetObjects(DIRECTORY)\n",
    "encoding = True #Use False on Macs for better results\n",
    "df = proc.convertTweetsToDataframe(tweet_objects, ENGLISH, encoding)"
   ]
  },
  {
   "cell_type": "markdown",
   "metadata": {},
   "source": [
    "## Extract Potential Cashtags"
   ]
  },
  {
   "cell_type": "code",
<<<<<<< HEAD
   "execution_count": 7,
   "metadata": {},
   "outputs": [
    {
     "name": "stdout",
     "output_type": "stream",
     "text": [
      "Total potential Cashtags: 118\n"
     ]
    }
   ],
   "source": [
    "ctdf = proc.extractPossibleCashtags(df)\n",
    "pd.set_option('display.max_rows', None)"
=======
   "execution_count": null,
   "metadata": {},
   "outputs": [],
   "source": [
    "ctdf = proc.extractPossibleCashtags(df)"
>>>>>>> f267001ef71f06d1b8f180bada6cecdc1936cf0a
   ]
  },
  {
   "cell_type": "markdown",
   "metadata": {},
   "source": [
    "## Removing Noisy Tweets"
   ]
  },
  {
   "cell_type": "code",
<<<<<<< HEAD
   "execution_count": 8,
   "metadata": {},
   "outputs": [
    {
     "name": "stdout",
     "output_type": "stream",
     "text": [
      "Removed 0 noisy terms.\n"
     ]
    },
    {
     "name": "stderr",
     "output_type": "stream",
     "text": [
      "IOPub data rate exceeded.\n",
      "The notebook server will temporarily stop sending output\n",
      "to the client in order to avoid crashing it.\n",
      "To change this limit, set the config variable\n",
      "`--NotebookApp.iopub_data_rate_limit`.\n",
      "\n",
      "Current values:\n",
      "NotebookApp.iopub_data_rate_limit=1000000.0 (bytes/sec)\n",
      "NotebookApp.rate_limit_window=3.0 (secs)\n",
      "\n"
     ]
    }
   ],
=======
   "execution_count": null,
   "metadata": {},
   "outputs": [],
>>>>>>> f267001ef71f06d1b8f180bada6cecdc1936cf0a
   "source": [
    "'''\n",
    "*** Tweets often use popular hashtags with unrelated topics.\n",
    "*** Noisy words can be identified to use to filter such tweets.\n",
    "*** Enter these words below in the noisy_terms list.\n",
    "'''\n",
    "noisy_terms = []\n",
<<<<<<< HEAD
    "cldf = proc.removeNoisyTerms(df, noisy_terms)\n",
    "print(cldf)"
   ]
  },
  {
   "cell_type": "code",
   "execution_count": 9,
   "metadata": {},
   "outputs": [
    {
     "ename": "SyntaxError",
     "evalue": "invalid syntax (<ipython-input-9-d47a2b9d9b86>, line 1)",
     "output_type": "error",
     "traceback": [
      "\u001b[0;36m  File \u001b[0;32m\"<ipython-input-9-d47a2b9d9b86>\"\u001b[0;36m, line \u001b[0;32m1\u001b[0m\n\u001b[0;31m    //removing unwanted characters from tweets\u001b[0m\n\u001b[0m    ^\u001b[0m\n\u001b[0;31mSyntaxError\u001b[0m\u001b[0;31m:\u001b[0m invalid syntax\n"
     ]
    }
   ],
   "source": [
    "//removing unwanted characters from tweets\n",
    "spec_chars = [\"!\",'\"',\"#\",\"%\",\"&\",\"'\",\"(\",\")\",\n",
    "              \"*\",\"+\",\",\",\"-\",\".\",\"/\",\":\",\";\",\"<\",\n",
    "              \"=\",\">\",\"?\",\"@\",\"[\",\"\\\\\",\"]\",\"^\",\"_\",\n",
    "              \"`\",\"{\",\"|\",\"}\",\"~\",\"–\", \"ð\", \"https\"]\n",
    "for char in spec_chars:\n",
    "    cldf['tweet'] = cldf['tweet'].str.replace(char, ' ')\n",
    "cldf[500:2000]['tweet']"
=======
    "cldf = proc.removeNoisyTerms(df, noisy_terms)"
>>>>>>> f267001ef71f06d1b8f180bada6cecdc1936cf0a
   ]
  },
  {
   "cell_type": "markdown",
   "metadata": {},
   "source": [
    "## Remove Retweets"
   ]
  },
  {
   "cell_type": "code",
   "execution_count": null,
   "metadata": {},
   "outputs": [],
   "source": [
<<<<<<< HEAD
    "cldf_no_RT, cldf = proc.removeRetweets(cldf)\n",
    "print(cldf[300:500])"
=======
    "cldf_no_RT, cldf = proc.removeRetweets(cldf)"
>>>>>>> f267001ef71f06d1b8f180bada6cecdc1936cf0a
   ]
  },
  {
   "cell_type": "code",
   "execution_count": null,
   "metadata": {},
   "outputs": [],
   "source": [
    "print(cldf_no_RT.shape[0])"
   ]
  },
  {
   "cell_type": "markdown",
   "metadata": {},
   "source": [
    "## SPLITTING DATA"
   ]
  },
  {
   "cell_type": "markdown",
   "metadata": {},
   "source": [
    "### By date"
   ]
  },
  {
   "cell_type": "code",
<<<<<<< HEAD
   "execution_count": 10,
=======
   "execution_count": null,
>>>>>>> f267001ef71f06d1b8f180bada6cecdc1936cf0a
   "metadata": {},
   "outputs": [],
   "source": [
    "cldf, SORTED = ana.sortByDate(cldf,SORTED,PRINT_TOP=False,TOP=10)\n",
<<<<<<< HEAD
    "begin = datetime.datetime(2016,10,2,23,59) #year, month, day, hour, minute\n",
=======
    "begin = datetime.datetime(2018,10,2,23,59) #year, month, day, hour, minute\n",
>>>>>>> f267001ef71f06d1b8f180bada6cecdc1936cf0a
    "end = datetime.datetime(2019,1,2,23,59)\n",
    "specific_range_cldf = cldf[cldf.date > begin]\n",
    "specific_range_cldf = specific_range_cldf[specific_range_cldf.date < end]"
   ]
  },
  {
   "cell_type": "markdown",
   "metadata": {},
   "source": [
    "### By term"
   ]
  },
  {
   "cell_type": "code",
<<<<<<< HEAD
   "execution_count": 11,
   "metadata": {},
   "outputs": [
    {
     "name": "stdout",
     "output_type": "stream",
     "text": [
      "Found 206 terms of interest.\n",
      "                     date  followers        username  \\\n",
      "9492  2018-03-30 05:19:11  2          UnknownSubvert   \n",
      "4895  2018-03-30 05:37:22  36936      brecordernews    \n",
      "23069 2018-03-30 15:21:28  1490       EarthMineYours   \n",
      "14120 2018-03-30 23:26:09  232        mdblevins2       \n",
      "15284 2018-03-31 14:31:54  12823      leoniehaimson    \n",
      "\n",
      "                         location  \\\n",
      "9492   None                         \n",
      "4895   Karachi-Pakistan             \n",
      "23069  Richmond, British Columbia   \n",
      "14120  None                         \n",
      "15284  NYC                          \n",
      "\n",
      "                                                                                                                                                                                                              tweet  \\\n",
      "9492   I love when the US government denies #climatescience.  Its great to know that our politicians are paid to destroy the environment so lied to coal miners can continue to be unemployed during the Trump era.   \n",
      "4895   #US on track to meet #climatetargets despite #Trump: #UNchief#BRupdates #BusinessRecorderDetails Herehttps://t.co/zjzda50lge https://t.co/V32lsZ9Mhv                                                           \n",
      "23069  RT @ResistTrumpNow_: About half of Americans donât think #climatechange will affect them â hereâs why https://t.co/YvPL85fAmb                                                                            \n",
      "14120  RT @LilaSquad: On #GoodFriday let's pledge to be good to Mother Earth! The Trump administration is busily rolling back #environment protectâ¦                                                                 \n",
      "15284  Yup but his claim that positions &amp; actions of govts like #climatevillains @realdonaldtrump @EPAScottPruitt less relevant is sadly wrong https://t.co/H80sHg5P0u                                            \n",
      "\n",
      "                                                                                                                                                                                                                                                                     original_tweet  \n",
      "9492   The @Bucks go into Oakland and defeat the @warriors 116-107 behind 32 PTS, 5 AST, 4 REB for Giannis Antetokounmpo! #FearTheDeer MIL maintains the 8th spot in the East.Middleton: 23 PTSBledsoe 20 PTS, 6 ASTQuinn Cook: Career-high 30 PTS, 5-5 3PM https://t.co/JLQRcgqZMb  \n",
      "4895   Aquilegia &amp; Wildflowers Sunset at Rocky Mountains in #Colorado#Nature #Travel #Photo #TravelTuesday #Hiking #Outdoors #Alps #Mountains#Trekking #Flowers #Mountain #Rockies #Plants https://t.co/pPaZzEBGVK                                                               \n",
      "23069  About half of Americans donât think #climatechange will affect them â hereâs why https://t.co/YvPL85fAmb                                                                                                                                                                \n",
      "14120  On #GoodFriday let's pledge to be good to Mother Earth! The Trump administration is busily rolling back #environment protections. We cannot let this pass. https://t.co/BEZbBP5TdW                                                                                            \n",
      "15284  Ice cream #NaturePhotography #Wildlifephotography https://t.co/PrgyTJ6r2Y                                                                                                                                                                                                     \n"
     ]
    },
    {
     "name": "stderr",
     "output_type": "stream",
     "text": [
      "/Users/rajuy/Documents/twitter_research_tools-master/notebooks/trt_API/process.py:177: UserWarning: Pandas doesn't allow columns to be created via a new attribute name - see https://pandas.pydata.org/pandas-docs/stable/indexing.html#attribute-access\n",
      "  df.good = df['tweet'].str.lower().str.contains(\\\n"
     ]
    }
   ],
   "source": [
    "terms_of_interest = [\"Trump\"]\n",
    "bsdf = proc.findTerms(cldf, terms_of_interest)\n",
    "print(bsdf[:5])"
=======
   "execution_count": null,
   "metadata": {},
   "outputs": [],
   "source": [
    "terms_of_interest = []\n",
    "bsdf = proc.findTerms(cldf, terms_of_interest)"
>>>>>>> f267001ef71f06d1b8f180bada6cecdc1936cf0a
   ]
  },
  {
   "cell_type": "markdown",
   "metadata": {},
   "source": [
    "## MAPPING"
   ]
  },
  {
   "cell_type": "code",
<<<<<<< HEAD
   "execution_count": 12,
=======
   "execution_count": null,
>>>>>>> f267001ef71f06d1b8f180bada6cecdc1936cf0a
   "metadata": {},
   "outputs": [],
   "source": [
    "with open('./trt_API/us-states.json',encoding='latin1') as f:\n",
    "    usa = json.load(f)"
   ]
  },
  {
   "cell_type": "code",
<<<<<<< HEAD
   "execution_count": 13,
   "metadata": {},
   "outputs": [],
   "source": [
    "\n",
=======
   "execution_count": null,
   "metadata": {},
   "outputs": [],
   "source": [
>>>>>>> f267001ef71f06d1b8f180bada6cecdc1936cf0a
    "citiestxt = open('./../resources/cities.txt','r')\n",
    "cities = []\n",
    "for line in citiestxt:\n",
    "    line = line.split('\\t')\n",
    "    names = []\n",
    "    names.append(line[2])\n",
    "    names = names + line[3].split(',')\n",
    "    for i in range(len(names)):\n",
    "        names[i] = names[i].lower()\n",
    "    names.append(line[4])\n",
    "    names.append(line[5])    \n",
    "    cities.append(names)"
   ]
  },
  {
   "cell_type": "code",
<<<<<<< HEAD
   "execution_count": 16,
   "metadata": {},
   "outputs": [],
   "source": [
    "def ngrams(string, n=3):\n",
    "    string = re.sub(r'[,-./]|\\sBD',r'', string)\n",
    "    ngrams = zip(*[string[i:] for i in range(n)])\n",
    "    return [''.join(ngram) for ngram in ngrams]"
   ]
  },
  {
   "cell_type": "code",
   "execution_count": 21,
   "metadata": {},
   "outputs": [
    {
     "name": "stdout",
     "output_type": "stream",
     "text": [
      "  (0, 811)\t0.7071067811865476\n",
      "  (0, 248)\t0.7071067811865476\n"
     ]
    },
    {
     "name": "stderr",
     "output_type": "stream",
     "text": [
      "<ipython-input-21-4d4e540c6fda>:9: FutureWarning: Passing a negative integer is deprecated in version 1.0 and will not be supported in future version. Instead, use None to not limit the column width.\n",
      "  pd.set_option('display.max_colwidth', -1)\n"
     ]
    }
   ],
   "source": [
    "import pandas as pd \n",
    "import re\n",
    "from sklearn.feature_extraction.text import TfidfVectorizer\n",
    "import numpy as np\n",
    "from scipy.sparse import csr_matrix\n",
    "import sparse_dot_topn.sparse_dot_topn as ct  # Leading Juice for us\n",
    "import time\n",
    "\n",
    "pd.set_option('display.max_colwidth', -1)\n",
    "location = bsdf['location']\n",
    "vectorizer = TfidfVectorizer(min_df=1, analyzer=ngrams)\n",
    "tf_idf_matrix = vectorizer.fit_transform(location)\n",
    "print(tf_idf_matrix[0])"
   ]
  },
  {
   "cell_type": "code",
   "execution_count": 19,
   "metadata": {},
   "outputs": [],
   "source": [
    "def awesome_cossim_top(A, B, ntop, lower_bound=0):\n",
    "    # force A and B as a CSR matrix.\n",
    "    # If they have already been CSR, there is no overhead\n",
    "    A = A.tocsr()\n",
    "    B = B.tocsr()\n",
    "    M, _ = A.shape\n",
    "    _, N = B.shape\n",
    " \n",
    "    idx_dtype = np.int32\n",
    " \n",
    "    nnz_max = M*ntop\n",
    " \n",
    "    indptr = np.zeros(M+1, dtype=idx_dtype)\n",
    "    indices = np.zeros(nnz_max, dtype=idx_dtype)\n",
    "    data = np.zeros(nnz_max, dtype=A.dtype)\n",
    "    ct.sparse_dot_topn(\n",
    "        M, N, np.asarray(A.indptr, dtype=idx_dtype),\n",
    "        np.asarray(A.indices, dtype=idx_dtype),\n",
    "        A.data,\n",
    "        np.asarray(B.indptr, dtype=idx_dtype),\n",
    "        np.asarray(B.indices, dtype=idx_dtype),\n",
    "        B.data,\n",
    "        ntop,\n",
    "        lower_bound,\n",
    "        indptr, indices, data)\n",
    "    return csr_matrix((data,indices,indptr),shape=(M,N))"
   ]
  },
  {
   "cell_type": "code",
   "execution_count": 33,
   "metadata": {},
   "outputs": [
    {
     "name": "stdout",
     "output_type": "stream",
     "text": [
      "SELFTIMED: 0.009550094604492188\n",
      "  (0, 182)\t1.0000000000000002\n",
      "  (0, 171)\t1.0000000000000002\n",
      "  (0, 195)\t1.0000000000000002\n",
      "  (0, 181)\t1.0000000000000002\n",
      "  (0, 175)\t1.0000000000000002\n",
      "  (0, 189)\t1.0000000000000002\n",
      "  (0, 205)\t1.0000000000000002\n",
      "  (0, 199)\t1.0000000000000002\n",
      "  (0, 190)\t1.0000000000000002\n",
      "  (0, 180)\t1.0000000000000002\n",
      "  (1, 1)\t1.0\n",
      "  (2, 2)\t1.0\n",
      "  (3, 182)\t1.0000000000000002\n",
      "  (3, 171)\t1.0000000000000002\n",
      "  (3, 195)\t1.0000000000000002\n",
      "  (3, 181)\t1.0000000000000002\n",
      "  (3, 175)\t1.0000000000000002\n",
      "  (3, 189)\t1.0000000000000002\n",
      "  (3, 205)\t1.0000000000000002\n",
      "  (3, 199)\t1.0000000000000002\n",
      "  (3, 190)\t1.0000000000000002\n",
      "  (3, 180)\t1.0000000000000002\n",
      "  (4, 4)\t1.0\n",
      "  (5, 182)\t1.0000000000000002\n",
      "  (5, 171)\t1.0000000000000002\n",
      "  :\t:\n",
      "  (199, 195)\t1.0000000000000002\n",
      "  (199, 181)\t1.0000000000000002\n",
      "  (199, 175)\t1.0000000000000002\n",
      "  (199, 189)\t1.0000000000000002\n",
      "  (199, 205)\t1.0000000000000002\n",
      "  (199, 199)\t1.0000000000000002\n",
      "  (199, 190)\t1.0000000000000002\n",
      "  (199, 180)\t1.0000000000000002\n",
      "  (200, 200)\t1.0\n",
      "  (200, 173)\t1.0\n",
      "  (201, 201)\t1.0000000000000004\n",
      "  (202, 202)\t1.0000000000000002\n",
      "  (202, 198)\t1.0000000000000002\n",
      "  (203, 203)\t1.0000000000000002\n",
      "  (204, 204)\t1.0000000000000002\n",
      "  (205, 182)\t1.0000000000000002\n",
      "  (205, 171)\t1.0000000000000002\n",
      "  (205, 195)\t1.0000000000000002\n",
      "  (205, 181)\t1.0000000000000002\n",
      "  (205, 175)\t1.0000000000000002\n",
      "  (205, 189)\t1.0000000000000002\n",
      "  (205, 205)\t1.0000000000000002\n",
      "  (205, 199)\t1.0000000000000002\n",
      "  (205, 190)\t1.0000000000000002\n",
      "  (205, 180)\t1.0000000000000002\n"
     ]
    }
   ],
   "source": [
    "t1 = time.time()\n",
    "matches = awesome_cossim_top(tf_idf_matrix, tf_idf_matrix.transpose(), 10, 0.8)\n",
    "t = time.time()-t1\n",
    "print(\"SELFTIMED:\", t)"
   ]
  },
  {
   "cell_type": "code",
   "execution_count": 32,
   "metadata": {},
   "outputs": [
    {
     "ename": "KeyError",
     "evalue": "0",
     "output_type": "error",
     "traceback": [
      "\u001b[0;31m---------------------------------------------------------------------------\u001b[0m",
      "\u001b[0;31mKeyError\u001b[0m                                  Traceback (most recent call last)",
      "\u001b[0;32m/opt/anaconda3/lib/python3.8/site-packages/pandas/core/indexes/base.py\u001b[0m in \u001b[0;36mget_loc\u001b[0;34m(self, key, method, tolerance)\u001b[0m\n\u001b[1;32m   2894\u001b[0m             \u001b[0;32mtry\u001b[0m\u001b[0;34m:\u001b[0m\u001b[0;34m\u001b[0m\u001b[0;34m\u001b[0m\u001b[0m\n\u001b[0;32m-> 2895\u001b[0;31m                 \u001b[0;32mreturn\u001b[0m \u001b[0mself\u001b[0m\u001b[0;34m.\u001b[0m\u001b[0m_engine\u001b[0m\u001b[0;34m.\u001b[0m\u001b[0mget_loc\u001b[0m\u001b[0;34m(\u001b[0m\u001b[0mcasted_key\u001b[0m\u001b[0;34m)\u001b[0m\u001b[0;34m\u001b[0m\u001b[0;34m\u001b[0m\u001b[0m\n\u001b[0m\u001b[1;32m   2896\u001b[0m             \u001b[0;32mexcept\u001b[0m \u001b[0mKeyError\u001b[0m \u001b[0;32mas\u001b[0m \u001b[0merr\u001b[0m\u001b[0;34m:\u001b[0m\u001b[0;34m\u001b[0m\u001b[0;34m\u001b[0m\u001b[0m\n",
      "\u001b[0;32mpandas/_libs/index.pyx\u001b[0m in \u001b[0;36mpandas._libs.index.IndexEngine.get_loc\u001b[0;34m()\u001b[0m\n",
      "\u001b[0;32mpandas/_libs/index.pyx\u001b[0m in \u001b[0;36mpandas._libs.index.IndexEngine.get_loc\u001b[0;34m()\u001b[0m\n",
      "\u001b[0;32mpandas/_libs/hashtable_class_helper.pxi\u001b[0m in \u001b[0;36mpandas._libs.hashtable.Int64HashTable.get_item\u001b[0;34m()\u001b[0m\n",
      "\u001b[0;32mpandas/_libs/hashtable_class_helper.pxi\u001b[0m in \u001b[0;36mpandas._libs.hashtable.Int64HashTable.get_item\u001b[0;34m()\u001b[0m\n",
      "\u001b[0;31mKeyError\u001b[0m: 0",
      "\nThe above exception was the direct cause of the following exception:\n",
      "\u001b[0;31mKeyError\u001b[0m                                  Traceback (most recent call last)",
      "\u001b[0;32m<ipython-input-32-38a542581deb>\u001b[0m in \u001b[0;36m<module>\u001b[0;34m\u001b[0m\n\u001b[1;32m     23\u001b[0m                            'similairity': similairity})\n\u001b[1;32m     24\u001b[0m \u001b[0;31m# print(location)\u001b[0m\u001b[0;34m\u001b[0m\u001b[0;34m\u001b[0m\u001b[0;34m\u001b[0m\u001b[0m\n\u001b[0;32m---> 25\u001b[0;31m \u001b[0mmatches_df\u001b[0m \u001b[0;34m=\u001b[0m \u001b[0mget_matches_df\u001b[0m\u001b[0;34m(\u001b[0m\u001b[0mmatches\u001b[0m\u001b[0;34m,\u001b[0m \u001b[0mlocation\u001b[0m\u001b[0;34m,\u001b[0m \u001b[0mtop\u001b[0m\u001b[0;34m=\u001b[0m\u001b[0;36m2\u001b[0m\u001b[0;34m)\u001b[0m\u001b[0;34m\u001b[0m\u001b[0;34m\u001b[0m\u001b[0m\n\u001b[0m\u001b[1;32m     26\u001b[0m \u001b[0;31m# matches_df = matches_df[matches_df['similairity'] < 0.99999] # For removing all exact matches\u001b[0m\u001b[0;34m\u001b[0m\u001b[0;34m\u001b[0m\u001b[0;34m\u001b[0m\u001b[0m\n\u001b[1;32m     27\u001b[0m \u001b[0;31m# matches_df.sample(10)\u001b[0m\u001b[0;34m\u001b[0m\u001b[0;34m\u001b[0m\u001b[0;34m\u001b[0m\u001b[0m\n",
      "\u001b[0;32m<ipython-input-32-38a542581deb>\u001b[0m in \u001b[0;36mget_matches_df\u001b[0;34m(sparse_matrix, name_vector, top)\u001b[0m\n\u001b[1;32m     15\u001b[0m \u001b[0;34m\u001b[0m\u001b[0m\n\u001b[1;32m     16\u001b[0m     \u001b[0;32mfor\u001b[0m \u001b[0mindex\u001b[0m \u001b[0;32min\u001b[0m \u001b[0mrange\u001b[0m\u001b[0;34m(\u001b[0m\u001b[0;36m0\u001b[0m\u001b[0;34m,\u001b[0m \u001b[0mnr_matches\u001b[0m\u001b[0;34m)\u001b[0m\u001b[0;34m:\u001b[0m\u001b[0;34m\u001b[0m\u001b[0;34m\u001b[0m\u001b[0m\n\u001b[0;32m---> 17\u001b[0;31m         \u001b[0mleft_side\u001b[0m\u001b[0;34m[\u001b[0m\u001b[0mindex\u001b[0m\u001b[0;34m]\u001b[0m \u001b[0;34m=\u001b[0m \u001b[0mname_vector\u001b[0m\u001b[0;34m[\u001b[0m\u001b[0msparserows\u001b[0m\u001b[0;34m[\u001b[0m\u001b[0mindex\u001b[0m\u001b[0;34m]\u001b[0m\u001b[0;34m]\u001b[0m\u001b[0;34m\u001b[0m\u001b[0;34m\u001b[0m\u001b[0m\n\u001b[0m\u001b[1;32m     18\u001b[0m         \u001b[0mright_side\u001b[0m\u001b[0;34m[\u001b[0m\u001b[0mindex\u001b[0m\u001b[0;34m]\u001b[0m \u001b[0;34m=\u001b[0m \u001b[0mname_vector\u001b[0m\u001b[0;34m[\u001b[0m\u001b[0msparsecols\u001b[0m\u001b[0;34m[\u001b[0m\u001b[0mindex\u001b[0m\u001b[0;34m]\u001b[0m\u001b[0;34m]\u001b[0m\u001b[0;34m\u001b[0m\u001b[0;34m\u001b[0m\u001b[0m\n\u001b[1;32m     19\u001b[0m         \u001b[0msimilairity\u001b[0m\u001b[0;34m[\u001b[0m\u001b[0mindex\u001b[0m\u001b[0;34m]\u001b[0m \u001b[0;34m=\u001b[0m \u001b[0msparse_matrix\u001b[0m\u001b[0;34m.\u001b[0m\u001b[0mdata\u001b[0m\u001b[0;34m[\u001b[0m\u001b[0mindex\u001b[0m\u001b[0;34m]\u001b[0m\u001b[0;34m\u001b[0m\u001b[0;34m\u001b[0m\u001b[0m\n",
      "\u001b[0;32m/opt/anaconda3/lib/python3.8/site-packages/pandas/core/series.py\u001b[0m in \u001b[0;36m__getitem__\u001b[0;34m(self, key)\u001b[0m\n\u001b[1;32m    880\u001b[0m \u001b[0;34m\u001b[0m\u001b[0m\n\u001b[1;32m    881\u001b[0m         \u001b[0;32melif\u001b[0m \u001b[0mkey_is_scalar\u001b[0m\u001b[0;34m:\u001b[0m\u001b[0;34m\u001b[0m\u001b[0;34m\u001b[0m\u001b[0m\n\u001b[0;32m--> 882\u001b[0;31m             \u001b[0;32mreturn\u001b[0m \u001b[0mself\u001b[0m\u001b[0;34m.\u001b[0m\u001b[0m_get_value\u001b[0m\u001b[0;34m(\u001b[0m\u001b[0mkey\u001b[0m\u001b[0;34m)\u001b[0m\u001b[0;34m\u001b[0m\u001b[0;34m\u001b[0m\u001b[0m\n\u001b[0m\u001b[1;32m    883\u001b[0m \u001b[0;34m\u001b[0m\u001b[0m\n\u001b[1;32m    884\u001b[0m         \u001b[0;32mif\u001b[0m \u001b[0mis_hashable\u001b[0m\u001b[0;34m(\u001b[0m\u001b[0mkey\u001b[0m\u001b[0;34m)\u001b[0m\u001b[0;34m:\u001b[0m\u001b[0;34m\u001b[0m\u001b[0;34m\u001b[0m\u001b[0m\n",
      "\u001b[0;32m/opt/anaconda3/lib/python3.8/site-packages/pandas/core/series.py\u001b[0m in \u001b[0;36m_get_value\u001b[0;34m(self, label, takeable)\u001b[0m\n\u001b[1;32m    987\u001b[0m \u001b[0;34m\u001b[0m\u001b[0m\n\u001b[1;32m    988\u001b[0m         \u001b[0;31m# Similar to Index.get_value, but we do not fall back to positional\u001b[0m\u001b[0;34m\u001b[0m\u001b[0;34m\u001b[0m\u001b[0;34m\u001b[0m\u001b[0m\n\u001b[0;32m--> 989\u001b[0;31m         \u001b[0mloc\u001b[0m \u001b[0;34m=\u001b[0m \u001b[0mself\u001b[0m\u001b[0;34m.\u001b[0m\u001b[0mindex\u001b[0m\u001b[0;34m.\u001b[0m\u001b[0mget_loc\u001b[0m\u001b[0;34m(\u001b[0m\u001b[0mlabel\u001b[0m\u001b[0;34m)\u001b[0m\u001b[0;34m\u001b[0m\u001b[0;34m\u001b[0m\u001b[0m\n\u001b[0m\u001b[1;32m    990\u001b[0m         \u001b[0;32mreturn\u001b[0m \u001b[0mself\u001b[0m\u001b[0;34m.\u001b[0m\u001b[0mindex\u001b[0m\u001b[0;34m.\u001b[0m\u001b[0m_get_values_for_loc\u001b[0m\u001b[0;34m(\u001b[0m\u001b[0mself\u001b[0m\u001b[0;34m,\u001b[0m \u001b[0mloc\u001b[0m\u001b[0;34m,\u001b[0m \u001b[0mlabel\u001b[0m\u001b[0;34m)\u001b[0m\u001b[0;34m\u001b[0m\u001b[0;34m\u001b[0m\u001b[0m\n\u001b[1;32m    991\u001b[0m \u001b[0;34m\u001b[0m\u001b[0m\n",
      "\u001b[0;32m/opt/anaconda3/lib/python3.8/site-packages/pandas/core/indexes/base.py\u001b[0m in \u001b[0;36mget_loc\u001b[0;34m(self, key, method, tolerance)\u001b[0m\n\u001b[1;32m   2895\u001b[0m                 \u001b[0;32mreturn\u001b[0m \u001b[0mself\u001b[0m\u001b[0;34m.\u001b[0m\u001b[0m_engine\u001b[0m\u001b[0;34m.\u001b[0m\u001b[0mget_loc\u001b[0m\u001b[0;34m(\u001b[0m\u001b[0mcasted_key\u001b[0m\u001b[0;34m)\u001b[0m\u001b[0;34m\u001b[0m\u001b[0;34m\u001b[0m\u001b[0m\n\u001b[1;32m   2896\u001b[0m             \u001b[0;32mexcept\u001b[0m \u001b[0mKeyError\u001b[0m \u001b[0;32mas\u001b[0m \u001b[0merr\u001b[0m\u001b[0;34m:\u001b[0m\u001b[0;34m\u001b[0m\u001b[0;34m\u001b[0m\u001b[0m\n\u001b[0;32m-> 2897\u001b[0;31m                 \u001b[0;32mraise\u001b[0m \u001b[0mKeyError\u001b[0m\u001b[0;34m(\u001b[0m\u001b[0mkey\u001b[0m\u001b[0;34m)\u001b[0m \u001b[0;32mfrom\u001b[0m \u001b[0merr\u001b[0m\u001b[0;34m\u001b[0m\u001b[0;34m\u001b[0m\u001b[0m\n\u001b[0m\u001b[1;32m   2898\u001b[0m \u001b[0;34m\u001b[0m\u001b[0m\n\u001b[1;32m   2899\u001b[0m         \u001b[0;32mif\u001b[0m \u001b[0mtolerance\u001b[0m \u001b[0;32mis\u001b[0m \u001b[0;32mnot\u001b[0m \u001b[0;32mNone\u001b[0m\u001b[0;34m:\u001b[0m\u001b[0;34m\u001b[0m\u001b[0;34m\u001b[0m\u001b[0m\n",
      "\u001b[0;31mKeyError\u001b[0m: 0"
     ]
    }
   ],
   "source": [
    "def get_matches_df(sparse_matrix, name_vector, top=100):\n",
    "    non_zeros = sparse_matrix.nonzero()\n",
    "    \n",
    "    sparserows = non_zeros[0]\n",
    "    sparsecols = non_zeros[1]\n",
    "    \n",
    "    if top:\n",
    "        nr_matches = top\n",
    "    else:\n",
    "        nr_matches = sparsecols.size\n",
    "    \n",
    "    left_side = np.empty([nr_matches], dtype=object)\n",
    "    right_side = np.empty([nr_matches], dtype=object)\n",
    "    similairity = np.zeros(nr_matches)\n",
    "    \n",
    "    for index in range(0, nr_matches):\n",
    "        left_side[index] = name_vector[sparserows[index]]\n",
    "        right_side[index] = name_vector[sparsecols[index]]\n",
    "        similairity[index] = sparse_matrix.data[index]\n",
    "    \n",
    "    return pd.DataFrame({'left_side': left_side,\n",
    "                          'right_side': right_side,\n",
    "                           'similairity': similairity})\n",
    "# print(location)\n",
    "matches_df = get_matches_df(matches, location, top=200)\n",
    "# matches_df = matches_df[matches_df['similairity'] < 0.99999] # For removing all exact matches\n",
    "# matches_df.sample(10)"
   ]
  },
  {
   "cell_type": "code",
   "execution_count": 120,
   "metadata": {
    "scrolled": true
   },
   "outputs": [
    {
     "name": "stdout",
     "output_type": "stream",
     "text": [
      "9492                                                  None\n",
      "4895                                      Karachi-Pakistan\n",
      "14120                                                 None\n",
      "10825                                                 None\n",
      "1732                                         29 Palms, Ca.\n",
      "19880    ð#TheRESISTANCEðhas a Rendezvous with De...\n",
      "4969                                                  None\n",
      "23160                                    Hannover, Germany\n",
      "21636                                        United States\n",
      "26087                                      Glens Falls, NY\n",
      "3932                                   North Carolina, USA\n",
      "17691                                           Tucson, AZ\n",
      "7602                                           Jersey Girl\n",
      "16736                                  northern california\n",
      "25641                                                 None\n",
      "13590                                        United States\n",
      "9039                                  1 Thessalonians 4:16\n",
      "81                                                    None\n",
      "22672                                                 None\n",
      "4511                                                  None\n",
      "109                                                 Global\n",
      "19457                                                 None\n",
      "1274                                        Greensboro, NC\n",
      "5802                                         Cork, Ireland\n",
      "14928                                                 None\n",
      "24372                                   ValparaÃ­so, Chile\n",
      "19926    ð¥ððððð ðððððð...\n",
      "6339                                                  None\n",
      "6340                                                  None\n",
      "10893                                 valley village,  Ca.\n",
      "24412                                          Georgia USA\n",
      "600                                    West Des Moines, IA\n",
      "669                                             Malibu, CA\n",
      "21781                              Ottawa, Ontario, Canada\n",
      "26163                                                 None\n",
      "8733                                                  None\n",
      "7700                                               Toronto\n",
      "25721                                                 None\n",
      "21376                                        Las Vegas, NV\n",
      "4616                                                Global\n",
      "10443                                        United States\n",
      "14309                                          Deutschland\n",
      "5127                                          Freetown, MA\n",
      "14381                                BAMAgal in H2O Down S\n",
      "14395                                          Seattle, WA\n",
      "3220                                       Proud American \n",
      "12434                                                 USA \n",
      "12447                                                Japan\n",
      "219                                        Resistance, USA\n",
      "18405                                        International\n",
      "4736                                                  None\n",
      "341                                                   None\n",
      "1475                                       California, USA\n",
      "15124                                        Daly City, CA\n",
      "15131                       Patriots of the New Revolution\n",
      "1491                                                  None\n",
      "10657                                                 None\n",
      "15166                                       South Carolina\n",
      "20158                                    Land O' Lakes, FL\n",
      "20315                                               Kansas\n",
      "24851                                          Chicago, IL\n",
      "6854                                    Charlotte, NC, USA\n",
      "15968                                                 None\n",
      "6870                                                London\n",
      "2294                                       Clarksville, IN\n",
      "6933                                                  None\n",
      "20594                                               London\n",
      "16156                                                 None\n",
      "25095                                           Makaha, HI\n",
      "11614                                Long Island, New York\n",
      "16209                                        New York, USA\n",
      "20677                                   Longueuil, QuÃ©bec\n",
      "11661                                                 None\n",
      "16235                                                 None\n",
      "7130                                                  None\n",
      "2549                                       Twin Cities, MN\n",
      "11702                                           Cumming Ga\n",
      "20751                                Sick bay #GeeksResist\n",
      "25186                                            Bruce, Ms\n",
      "2588                                     Savage Pellucidar\n",
      "2603                                        Washington, DC\n",
      "16320                        stichtingdemussentoevlucht.nl\n",
      "2647                                        Sedona, AZ,USA\n",
      "20921                                                   NC\n",
      "11883                                                 None\n",
      "21018                                       Tennessee, USA\n",
      "11942                                          Poulsbo, WA\n",
      "25449                                               Canada\n",
      "21041                                          Phoenix, AZ\n",
      "14403                                      Los Angeles, CA\n",
      "23356                                                 None\n",
      "14437                                                 None\n",
      "14461                                                 None\n",
      "5319                                       Kansas City, MO\n",
      "14506                                                 None\n",
      "898                                     Shaker Heights, OH\n",
      "19081                                               Canada\n",
      "10002                           Sh!thole San Francisco, CA\n",
      "10026                                   I'm in my bunker. \n",
      "1019                                                H[AUM]\n",
      "5536                                                   USA\n",
      "10146                                                 None\n",
      "19253                                                 None\n",
      "14714                                               Global\n",
      "23718                                              America\n",
      "19315                                               Global\n",
      "10270                                    Dhaka, Bangladesh\n",
      "3736                                           Nevada, USA\n",
      "17485                               RIGHT hereððð\n",
      "17486                                           Texas, USA\n",
      "12914                              Sydney, New South Wales\n",
      "22015                                          Switzerland\n",
      "17561                                          RockInSpace\n",
      "17986                                        United States\n",
      "22454                                        New York, USA\n",
      "13440                                          RockInSpace\n",
      "26862                                          RockInSpace\n",
      "22478                         Belgium ð§ðª EU ðªðº\n",
      "4293                                                  None\n",
      "13478                                                 None\n",
      "3274                                                 Earth\n",
      "3278                                                Global\n",
      "3312                                               Mass RI\n",
      "12497                                        New York, NY \n",
      "7950                                                 EARTH\n",
      "355                                                   None\n",
      "1586                                                  None\n",
      "16592                          Sault Ste. Marie, ON Canada\n",
      "7514                                                Global\n",
      "10287                                              Hotazel\n",
      "23789                              Sydney, New South Wales\n",
      "5736                                                  None\n",
      "3849                                                  None\n",
      "3904                                          Florida, USA\n",
      "17657                                      Llanrwst, Wales\n",
      "13052                           WE DO NOT OWN ANY CONTENT!\n",
      "17663                                      Readfield Maine\n",
      "8575                                                  None\n",
      "8954                                            World Wide\n",
      "8961                                     Bangkok, Thailand\n",
      "4356                                 PolynÃ©sie FranÃ§aise\n",
      "26945                                                 None\n",
      "18120                                                Earth\n",
      "18128                                 Dublin City, Ireland\n",
      "26991                                PolynÃ©sie FranÃ§aise\n",
      "8002                            RT's Are FYI Purposes Only\n",
      "17151                                        Illinois, USA\n",
      "18639                                                 None\n",
      "Name: location, dtype: object\n"
     ]
    },
    {
     "ename": "NameError",
     "evalue": "name 'locations' is not defined",
     "output_type": "error",
     "traceback": [
      "\u001b[0;31m---------------------------------------------------------------------------\u001b[0m",
      "\u001b[0;31mNameError\u001b[0m                                 Traceback (most recent call last)",
      "\u001b[0;32m<ipython-input-120-518c625a4053>\u001b[0m in \u001b[0;36m<module>\u001b[0;34m\u001b[0m\n\u001b[1;32m     26\u001b[0m     \u001b[0;32mfor\u001b[0m \u001b[0mcity\u001b[0m \u001b[0;32min\u001b[0m \u001b[0mcities\u001b[0m\u001b[0;34m:\u001b[0m\u001b[0;34m\u001b[0m\u001b[0;34m\u001b[0m\u001b[0m\n\u001b[1;32m     27\u001b[0m         \u001b[0;32mif\u001b[0m \u001b[0ml\u001b[0m\u001b[0;34m[\u001b[0m\u001b[0;36m0\u001b[0m\u001b[0;34m]\u001b[0m\u001b[0;34m.\u001b[0m\u001b[0mlower\u001b[0m\u001b[0;34m(\u001b[0m\u001b[0;34m)\u001b[0m \u001b[0;32min\u001b[0m \u001b[0mcity\u001b[0m\u001b[0;34m:\u001b[0m\u001b[0;34m\u001b[0m\u001b[0;34m\u001b[0m\u001b[0m\n\u001b[0;32m---> 28\u001b[0;31m             \u001b[0mlocations\u001b[0m\u001b[0;34m.\u001b[0m\u001b[0mappend\u001b[0m\u001b[0;34m(\u001b[0m\u001b[0;34m(\u001b[0m\u001b[0mfloat\u001b[0m\u001b[0;34m(\u001b[0m\u001b[0mcity\u001b[0m\u001b[0;34m[\u001b[0m\u001b[0;34m-\u001b[0m\u001b[0;36m2\u001b[0m\u001b[0;34m]\u001b[0m\u001b[0;34m)\u001b[0m\u001b[0;34m,\u001b[0m\u001b[0mfloat\u001b[0m\u001b[0;34m(\u001b[0m\u001b[0mcity\u001b[0m\u001b[0;34m[\u001b[0m\u001b[0;34m-\u001b[0m\u001b[0;36m1\u001b[0m\u001b[0;34m]\u001b[0m\u001b[0;34m)\u001b[0m\u001b[0;34m)\u001b[0m\u001b[0;34m)\u001b[0m\u001b[0;34m\u001b[0m\u001b[0;34m\u001b[0m\u001b[0m\n\u001b[0m\u001b[1;32m     29\u001b[0m             \u001b[0;32mbreak\u001b[0m\u001b[0;34m\u001b[0m\u001b[0;34m\u001b[0m\u001b[0m\n",
      "\u001b[0;31mNameError\u001b[0m: name 'locations' is not defined"
     ]
    },
    {
     "data": {
      "image/png": "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\n",
      "text/plain": [
       "<Figure size 432x288 with 1 Axes>"
      ]
     },
     "metadata": {
      "needs_background": "light"
     },
     "output_type": "display_data"
    }
   ],
   "source": [
    "count=0\n",
    "locData={}\n",
    "print(bsdf.location)\n",
    "for i, ele  in enumerate(bsdf.location):\n",
    "    \n",
    "    count=0\n",
    "    for j, item in enumerate(bsdf.location):\n",
    "        if(ele == item and (item!=\"None\" or ele!=\"None\")):\n",
    "            count+=1\n",
    "            \n",
    "        if count>=2 and j<=len(bsdf.location)-1:\n",
    "            locData[ele]=count           \n",
    "       \n",
    "group_data = list(locData.values())\n",
    "group_names = list(locData.keys())\n",
    "group_mean = np.mean(group_data)\n",
    "\n",
    "fig, ax = plt.subplots()\n",
    "ax.barh(group_names, group_data)\n",
    "\n",
=======
   "execution_count": null,
   "metadata": {},
   "outputs": [],
   "source": [
    "locations = []\n",
>>>>>>> f267001ef71f06d1b8f180bada6cecdc1936cf0a
    "for l in bsdf.location:\n",
    "    try:\n",
    "        l = l.split(',')\n",
    "    except:\n",
<<<<<<< HEAD
=======
    "        print(l)\n",
>>>>>>> f267001ef71f06d1b8f180bada6cecdc1936cf0a
    "        continue\n",
    "    for city in cities:\n",
    "        if l[0].lower() in city:\n",
    "            locations.append((float(city[-2]),float(city[-1])))\n",
    "            break"
   ]
  },
  {
   "cell_type": "code",
   "execution_count": null,
   "metadata": {},
   "outputs": [],
<<<<<<< HEAD
   "source": []
  },
  {
   "cell_type": "code",
   "execution_count": 17,
   "metadata": {},
   "outputs": [],
=======
>>>>>>> f267001ef71f06d1b8f180bada6cecdc1936cf0a
   "source": [
    "locs = np.asarray(locations)"
   ]
  },
  {
   "cell_type": "code",
<<<<<<< HEAD
   "execution_count": 28,
=======
   "execution_count": null,
>>>>>>> f267001ef71f06d1b8f180bada6cecdc1936cf0a
   "metadata": {},
   "outputs": [],
   "source": [
    "tweetsMap = folium.Map(location=[34.0522,-118.2437], tiles='Stamen Toner', zoom_start=9)\n",
    "folium.GeoJson(usa).add_to(tweetsMap)\n",
    "for i in range(0,len(locs)):\n",
    "    folium.CircleMarker((locs[i,0],locs[i,1]), radius=3, weight=1, color='blue', \\\n",
    "                        fill_color='blue', fill_opacity=.5).add_to(tweetsMap)  \n",
<<<<<<< HEAD
    "tweetsMap.add_child(plugins.HeatMap(data=locs, radius=5, blur=10))\n",
=======
    "tweetsMap.add_children(plugins.HeatMap(data=locs, radius=5, blur=10))\n",
>>>>>>> f267001ef71f06d1b8f180bada6cecdc1936cf0a
    "tweetsMap.save('../tweetsMap.html')"
   ]
  },
  {
   "cell_type": "code",
   "execution_count": null,
   "metadata": {},
   "outputs": [],
   "source": []
  },
  {
   "cell_type": "code",
   "execution_count": null,
   "metadata": {},
   "outputs": [],
   "source": []
<<<<<<< HEAD
=======
  },
  {
   "cell_type": "code",
   "execution_count": null,
   "metadata": {},
   "outputs": [],
   "source": []
>>>>>>> f267001ef71f06d1b8f180bada6cecdc1936cf0a
  }
 ],
 "metadata": {
  "kernelspec": {
   "display_name": "Python 3",
   "language": "python",
   "name": "python3"
<<<<<<< HEAD
=======
  },
  "language_info": {
   "codemirror_mode": {
    "name": "ipython",
    "version": 3
   },
   "file_extension": ".py",
   "mimetype": "text/x-python",
   "name": "python",
   "nbconvert_exporter": "python",
   "pygments_lexer": "ipython3",
   "version": "3.9.2"
>>>>>>> f267001ef71f06d1b8f180bada6cecdc1936cf0a
  }
 },
 "nbformat": 4,
 "nbformat_minor": 2
}
