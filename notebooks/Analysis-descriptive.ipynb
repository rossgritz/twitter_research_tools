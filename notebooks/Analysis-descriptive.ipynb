{
 "cells": [
  {
   "cell_type": "markdown",
   "metadata": {},
   "source": [
    "# Descriptive Analysis Notebook"
   ]
  },
  {
   "cell_type": "markdown",
   "metadata": {},
   "source": [
    "#### This notebook contains a demonstration of the tools necessary for conducting descriptive analysis of the data. This includes things such as frequency analysis, descripting statistics and temporal frequency."
   ]
  },
  {
   "cell_type": "code",
   "execution_count": 2,
   "metadata": {},
   "outputs": [],
   "source": [
    "import trt_API.process as proc\n",
    "import trt_API.analysis as ana\n",
    "import pandas as pd\n",
    "import matplotlib.pyplot as plt\n",
    "SORTED = False"
   ]
  },
  {
   "cell_type": "markdown",
   "metadata": {},
   "source": [
    "## Variables for Analysis"
   ]
  },
  {
   "cell_type": "code",
   "execution_count": 3,
   "metadata": {},
   "outputs": [],
   "source": [
    "# Set the path to the parent directory containing all Tweets of interest\n",
    "DIRECTORY = './tweets/*'\n",
    "# Set to True to isolate english language tweets\n",
    "ENGLISH = False"
   ]
  },
  {
   "cell_type": "markdown",
   "metadata": {},
   "source": [
    "## Load Tweet and Generate Dataframe"
   ]
  },
  {
   "cell_type": "code",
   "execution_count": 4,
   "metadata": {},
   "outputs": [
    {
     "name": "stdout",
     "output_type": "stream",
     "text": [
      "Loaded utf-8 df.\n",
      "Initial size: 5065\n",
      "Dropping duplicates...\n",
      "Final size: 2540\n"
     ]
    }
   ],
   "source": [
    "tweet_objects = proc.loadTweetObjects(DIRECTORY)\n",
    "encoding = True #Use False on Macs for better results\n",
    "df = proc.convertTweetsToDataframe(tweet_objects, ENGLISH, encoding)"
   ]
  },
  {
   "cell_type": "markdown",
   "metadata": {},
   "source": [
    "## Extract Potential Cashtags"
   ]
  },
  {
   "cell_type": "code",
   "execution_count": 5,
   "metadata": {},
   "outputs": [
    {
     "name": "stdout",
     "output_type": "stream",
     "text": [
      "Total potential Cashtags: 53\n"
     ]
    }
   ],
   "source": [
    "ctdf = proc.extractPossibleCashtags(df)"
   ]
  },
  {
   "cell_type": "markdown",
   "metadata": {},
   "source": [
    "## Removing Noisy Tweets"
   ]
  },
  {
   "cell_type": "code",
   "execution_count": 6,
   "metadata": {},
   "outputs": [
    {
     "name": "stdout",
     "output_type": "stream",
     "text": [
      "Removed 0 noisy terms.\n"
     ]
    }
   ],
   "source": [
    "'''\n",
    "*** Tweets often use popular hashtags with unrelated topics.\n",
    "*** Noisy words can be identified to use to filter such tweets.\n",
    "*** Enter these words below in the noisy_terms list.\n",
    "'''\n",
    "noisy_terms = []\n",
    "cldf = proc.removeNoisyTerms(df, noisy_terms)"
   ]
  },
  {
   "cell_type": "markdown",
   "metadata": {},
   "source": [
    "## Remove Retweets"
   ]
  },
  {
   "cell_type": "code",
   "execution_count": 7,
   "metadata": {},
   "outputs": [
    {
     "name": "stdout",
     "output_type": "stream",
     "text": [
      "Removed 555 duplicates.\n"
     ]
    },
    {
     "name": "stderr",
     "output_type": "stream",
     "text": [
      "/Users/rajuy/Desktop/twitter_research_tools/notebooks/trt_API/process.py:210: SettingWithCopyWarning: \n",
      "A value is trying to be set on a copy of a slice from a DataFrame\n",
      "\n",
      "See the caveats in the documentation: https://pandas.pydata.org/pandas-docs/stable/user_guide/indexing.html#returning-a-view-versus-a-copy\n",
      "  df['RT'][df.tweet.astype(str).str[0:2] == 'RT'] = df.tweet.str.split(':',expand=True).iloc[:,0]\n"
     ]
    }
   ],
   "source": [
    "cldf_no_RT, cldf = proc.removeRetweets(cldf)"
   ]
  },
  {
   "cell_type": "code",
   "execution_count": 8,
   "metadata": {},
   "outputs": [
    {
     "name": "stdout",
     "output_type": "stream",
     "text": [
      "1985\n"
     ]
    }
   ],
   "source": [
    "print(cldf_no_RT.shape[0])"
   ]
  },
  {
   "cell_type": "markdown",
   "metadata": {},
   "source": [
    "## Convert Tweets to List"
   ]
  },
  {
   "cell_type": "code",
   "execution_count": 9,
   "metadata": {},
   "outputs": [
    {
     "name": "stdout",
     "output_type": "stream",
     "text": [
      "                      date  followers         username  \\\n",
      "0  Jul 05 02:20:06 2019\\t0       1423       taz_haught   \n",
      "2  Jul 05 03:48:33 2019\\t0        529        SODaimond   \n",
      "4  Jul 05 04:23:56 2019\\t0         63  sergiohernandez   \n",
      "6  Jul 05 04:43:57 2019\\t0        277    McCharles_Ltd   \n",
      "8  Jul 05 08:33:43 2019\\t0     141046    TamekaRaymond   \n",
      "\n",
      "                    location  \\\n",
      "0                  Ohio, USA   \n",
      "2  Lohr am Main, Deutschland   \n",
      "4                       None   \n",
      "6             Nairobi, Kenya   \n",
      "8          Recaliberating...   \n",
      "\n",
      "                                               tweet                   id  \\\n",
      "0  Let free entertainment ring. Vote for your fav...  1146966956324642816   \n",
      "2  Ethiopian Airlines will add new flight routes ...  1146989215487614976   \n",
      "4  @TomFitton @realDonaldTrump Loved the part whe...  1146998119990583296   \n",
      "6  @KenyaAirways @dailynation That is not exactly...  1147003157375049728   \n",
      "8  @AirFranceFR  I have been waiting for 2 hours ...  1147060980033175553   \n",
      "\n",
      "                 RT  \n",
      "0         RT @Delta  \n",
      "2  RT @flyethiopian  \n",
      "4              None  \n",
      "6              None  \n",
      "8              None  \n"
     ]
    },
    {
     "name": "stderr",
     "output_type": "stream",
     "text": [
      "<ipython-input-9-a3c3d762bb2e>:1: SettingWithCopyWarning: \n",
      "A value is trying to be set on a copy of a slice from a DataFrame\n",
      "\n",
      "See the caveats in the documentation: https://pandas.pydata.org/pandas-docs/stable/user_guide/indexing.html#returning-a-view-versus-a-copy\n",
      "  cldf['original_tweet'][cldf.original_tweet == 'None'] = cldf['tweet']\n"
     ]
    }
   ],
   "source": [
    "cldf['original_tweet'][cldf.original_tweet == 'None'] = cldf['tweet']\n",
    "cldf['tweet'] = cldf['original_tweet']\n",
    "del cldf['original_tweet']\n",
    "print(cldf.head())\n",
    "tweets = list(cldf.tweet)"
   ]
  },
  {
   "cell_type": "markdown",
   "metadata": {},
   "source": [
    "## Hashtag Frequencies"
   ]
  },
  {
   "cell_type": "code",
   "execution_count": 10,
   "metadata": {},
   "outputs": [],
   "source": [
    "hashtags = []"
   ]
  },
  {
   "cell_type": "code",
   "execution_count": 11,
   "metadata": {},
   "outputs": [
    {
     "data": {
      "image/png": "[encoded data removed]",
      "text/plain": [
       "<Figure size 432x288 with 1 Axes>"
      ]
     },
     "metadata": {
      "needs_background": "light"
     },
     "output_type": "display_data"
    },
    {
     "data": {
      "text/plain": [
       "[]"
      ]
     },
     "execution_count": 11,
     "metadata": {},
     "output_type": "execute_result"
    }
   ],
   "source": [
    "ana.countItems(hashtags,tweets,PLOT=True,PRINT=False)"
   ]
  },
  {
   "cell_type": "code",
   "execution_count": 12,
   "metadata": {},
   "outputs": [],
   "source": [
    "usernames = []"
   ]
  },
  {
   "cell_type": "code",
   "execution_count": 13,
   "metadata": {},
   "outputs": [
    {
     "data": {
      "image/png": "[encoded data removed]",
      "text/plain": [
       "<Figure size 432x288 with 1 Axes>"
      ]
     },
     "metadata": {
      "needs_background": "light"
     },
     "output_type": "display_data"
    },
    {
     "data": {
      "text/plain": [
       "[]"
      ]
     },
     "execution_count": 13,
     "metadata": {},
     "output_type": "execute_result"
    }
   ],
   "source": [
    "ana.countItems(usernames,tweets,PLOT=True,PRINT=False)"
   ]
  },
  {
   "cell_type": "markdown",
   "metadata": {},
   "source": [
    "## Sort By Date"
   ]
  },
  {
   "cell_type": "code",
   "execution_count": 14,
   "metadata": {},
   "outputs": [],
   "source": [
    "sorted_cldf, SORTED = ana.sortByDate(cldf,SORTED,PRINT_TOP=False,TOP=10)"
   ]
  },
  {
   "cell_type": "code",
   "execution_count": 15,
   "metadata": {},
   "outputs": [
    {
     "data": {
      "text/html": [
       "<div>\n",
       "<style scoped>\n",
       "    .dataframe tbody tr th:only-of-type {\n",
       "        vertical-align: middle;\n",
       "    }\n",
       "\n",
       "    .dataframe tbody tr th {\n",
       "        vertical-align: top;\n",
       "    }\n",
       "\n",
       "    .dataframe thead th {\n",
       "        text-align: right;\n",
       "    }\n",
       "</style>\n",
       "<table border=\"1\" class=\"dataframe\">\n",
       "  <thead>\n",
       "    <tr style=\"text-align: right;\">\n",
       "      <th></th>\n",
       "      <th>date</th>\n",
       "      <th>followers</th>\n",
       "      <th>username</th>\n",
       "      <th>location</th>\n",
       "      <th>tweet</th>\n",
       "      <th>id</th>\n",
       "      <th>RT</th>\n",
       "    </tr>\n",
       "  </thead>\n",
       "  <tbody>\n",
       "    <tr>\n",
       "      <th>4835</th>\n",
       "      <td>2019-07-02 01:22:54</td>\n",
       "      <td>445</td>\n",
       "      <td>thewonderofivy</td>\n",
       "      <td>Reading, PA</td>\n",
       "      <td>Here is what i was wearing when @AmericanAir a...</td>\n",
       "      <td>1145865397868072960</td>\n",
       "      <td>RT @tisharowemd</td>\n",
       "    </tr>\n",
       "    <tr>\n",
       "      <th>1221</th>\n",
       "      <td>2019-07-02 01:24:13</td>\n",
       "      <td>227</td>\n",
       "      <td>WarrenLewisCPA</td>\n",
       "      <td>3609 O Street, NW</td>\n",
       "      <td>@tisharowemd @mstwill @AmericanAir That’s craz...</td>\n",
       "      <td>1145865729218101250</td>\n",
       "      <td>None</td>\n",
       "    </tr>\n",
       "    <tr>\n",
       "      <th>4836</th>\n",
       "      <td>2019-07-02 01:32:33</td>\n",
       "      <td>9</td>\n",
       "      <td>hdcloutpay</td>\n",
       "      <td>Detroit Beach, MI</td>\n",
       "      <td>Here is what i was wearing when @AmericanAir a...</td>\n",
       "      <td>1145867826370158595</td>\n",
       "      <td>None</td>\n",
       "    </tr>\n",
       "    <tr>\n",
       "      <th>4837</th>\n",
       "      <td>2019-07-02 01:36:54</td>\n",
       "      <td>45</td>\n",
       "      <td>BenKeefe</td>\n",
       "      <td>Minnesota</td>\n",
       "      <td>Plus - had to pay for my own overnight accommo...</td>\n",
       "      <td>1145868921091833861</td>\n",
       "      <td>RT @AliceKeefeABC6</td>\n",
       "    </tr>\n",
       "    <tr>\n",
       "      <th>4838</th>\n",
       "      <td>2019-07-02 01:49:01</td>\n",
       "      <td>2313</td>\n",
       "      <td>tisharowemd</td>\n",
       "      <td>Houston, TX</td>\n",
       "      <td>@tisharowemd @AmericanAir We are flying @Ameri...</td>\n",
       "      <td>1145871970371821568</td>\n",
       "      <td>RT @CuriouZMedic</td>\n",
       "    </tr>\n",
       "  </tbody>\n",
       "</table>\n",
       "</div>"
      ],
      "text/plain": [
       "                    date  followers        username           location  \\\n",
       "4835 2019-07-02 01:22:54        445  thewonderofivy        Reading, PA   \n",
       "1221 2019-07-02 01:24:13        227  WarrenLewisCPA  3609 O Street, NW   \n",
       "4836 2019-07-02 01:32:33          9      hdcloutpay  Detroit Beach, MI   \n",
       "4837 2019-07-02 01:36:54         45        BenKeefe          Minnesota   \n",
       "4838 2019-07-02 01:49:01       2313     tisharowemd        Houston, TX   \n",
       "\n",
       "                                                  tweet                   id  \\\n",
       "4835  Here is what i was wearing when @AmericanAir a...  1145865397868072960   \n",
       "1221  @tisharowemd @mstwill @AmericanAir That’s craz...  1145865729218101250   \n",
       "4836  Here is what i was wearing when @AmericanAir a...  1145867826370158595   \n",
       "4837  Plus - had to pay for my own overnight accommo...  1145868921091833861   \n",
       "4838  @tisharowemd @AmericanAir We are flying @Ameri...  1145871970371821568   \n",
       "\n",
       "                      RT  \n",
       "4835     RT @tisharowemd  \n",
       "1221                None  \n",
       "4836                None  \n",
       "4837  RT @AliceKeefeABC6  \n",
       "4838    RT @CuriouZMedic  "
      ]
     },
     "execution_count": 15,
     "metadata": {},
     "output_type": "execute_result"
    }
   ],
   "source": [
    "cldf.head()"
   ]
  },
  {
   "cell_type": "markdown",
   "metadata": {},
   "source": [
    "## Plot by Month"
   ]
  },
  {
   "cell_type": "code",
   "execution_count": 16,
   "metadata": {},
   "outputs": [
    {
     "data": {
      "text/plain": [
       "<matplotlib.axes._subplots.AxesSubplot at 0x7fd3b500f910>"
      ]
     },
     "execution_count": 16,
     "metadata": {},
     "output_type": "execute_result"
    },
    {
     "data": {
      "image/png": "[encoded data removed]",
      "text/plain": [
       "<Figure size 432x288 with 1 Axes>"
      ]
     },
     "metadata": {
      "needs_background": "light"
     },
     "output_type": "display_data"
    }
   ],
   "source": [
    "cldf.tweet.groupby([cldf['date'].dt.year,cldf[\"date\"].dt.month]).count().plot(kind=\"bar\")"
   ]
  },
  {
   "cell_type": "markdown",
   "metadata": {},
   "source": [
    "## Sort by Number of Followers"
   ]
  },
  {
   "cell_type": "code",
   "execution_count": 17,
   "metadata": {},
   "outputs": [
    {
     "data": {
      "text/html": [
       "<div>\n",
       "<style scoped>\n",
       "    .dataframe tbody tr th:only-of-type {\n",
       "        vertical-align: middle;\n",
       "    }\n",
       "\n",
       "    .dataframe tbody tr th {\n",
       "        vertical-align: top;\n",
       "    }\n",
       "\n",
       "    .dataframe thead th {\n",
       "        text-align: right;\n",
       "    }\n",
       "</style>\n",
       "<table border=\"1\" class=\"dataframe\">\n",
       "  <thead>\n",
       "    <tr style=\"text-align: right;\">\n",
       "      <th></th>\n",
       "      <th>date</th>\n",
       "      <th>followers</th>\n",
       "      <th>username</th>\n",
       "      <th>location</th>\n",
       "      <th>tweet</th>\n",
       "      <th>id</th>\n",
       "      <th>RT</th>\n",
       "    </tr>\n",
       "  </thead>\n",
       "  <tbody>\n",
       "    <tr>\n",
       "      <th>1582</th>\n",
       "      <td>2019-07-12 19:08:10</td>\n",
       "      <td>2371051</td>\n",
       "      <td>SaharaReporters</td>\n",
       "      <td>New York</td>\n",
       "      <td>Excuse me @Delta but this is outrageous. I jus...</td>\n",
       "      <td>1149757359687917569</td>\n",
       "      <td>None</td>\n",
       "    </tr>\n",
       "    <tr>\n",
       "      <th>3191</th>\n",
       "      <td>2019-07-07 15:05:50</td>\n",
       "      <td>614369</td>\n",
       "      <td>kalpenn</td>\n",
       "      <td>New Jersey 4 Life</td>\n",
       "      <td>Delayed flight by 3 hours...And all I got was ...</td>\n",
       "      <td>1147884435175591936</td>\n",
       "      <td>None</td>\n",
       "    </tr>\n",
       "    <tr>\n",
       "      <th>1270</th>\n",
       "      <td>2019-07-02 17:04:47</td>\n",
       "      <td>532895</td>\n",
       "      <td>TedRubin</td>\n",
       "      <td>Pompano Beach, FL</td>\n",
       "      <td>YES! RT @BrendaBerg: @united No empathy.The im...</td>\n",
       "      <td>1146102430574239744</td>\n",
       "      <td>None</td>\n",
       "    </tr>\n",
       "    <tr>\n",
       "      <th>547</th>\n",
       "      <td>2019-07-02 15:57:24</td>\n",
       "      <td>522297</td>\n",
       "      <td>flightradar24</td>\n",
       "      <td>Stockholm, Sweden</td>\n",
       "      <td>Is Canada on your bucket list? We've flights f...</td>\n",
       "      <td>1146085473024172034</td>\n",
       "      <td>None</td>\n",
       "    </tr>\n",
       "    <tr>\n",
       "      <th>964</th>\n",
       "      <td>2019-07-07 11:47:55</td>\n",
       "      <td>494166</td>\n",
       "      <td>madflavor</td>\n",
       "      <td>Los Angeles CALIFORNIA</td>\n",
       "      <td>@AlonzoBodden @AmericanAir Congrats on The Cli...</td>\n",
       "      <td>1147834627807014912</td>\n",
       "      <td>None</td>\n",
       "    </tr>\n",
       "    <tr>\n",
       "      <th>2463</th>\n",
       "      <td>2019-07-07 08:26:25</td>\n",
       "      <td>453621</td>\n",
       "      <td>IH4T3N1GGERSS</td>\n",
       "      <td>Shop Now! →</td>\n",
       "      <td>I HATE FUCKING NIGGERS HOLY FUCKING SHIT @TARI...</td>\n",
       "      <td>1147783918650908672</td>\n",
       "      <td>None</td>\n",
       "    </tr>\n",
       "    <tr>\n",
       "      <th>2515</th>\n",
       "      <td>2019-07-04 15:30:19</td>\n",
       "      <td>344262</td>\n",
       "      <td>LondONtheinside</td>\n",
       "      <td>London Town</td>\n",
       "      <td>FREE FILMS are being screened @Everymancinema ...</td>\n",
       "      <td>1146803433015582720</td>\n",
       "      <td>None</td>\n",
       "    </tr>\n",
       "    <tr>\n",
       "      <th>2709</th>\n",
       "      <td>2019-07-09 11:11:06</td>\n",
       "      <td>314474</td>\n",
       "      <td>itsjasYO</td>\n",
       "      <td>Nevada,  USA</td>\n",
       "      <td>I do not want to continue the same cycle. Exac...</td>\n",
       "      <td>1148550138308124672</td>\n",
       "      <td>None</td>\n",
       "    </tr>\n",
       "    <tr>\n",
       "      <th>2050</th>\n",
       "      <td>2019-07-09 11:11:06</td>\n",
       "      <td>314474</td>\n",
       "      <td>DublinAirport</td>\n",
       "      <td>Dublin, Ireland</td>\n",
       "      <td>@UpInTheAirCK @British_Airways @AmericanAir Hi...</td>\n",
       "      <td>1148550138320674816</td>\n",
       "      <td>None</td>\n",
       "    </tr>\n",
       "    <tr>\n",
       "      <th>695</th>\n",
       "      <td>2019-07-10 14:22:07</td>\n",
       "      <td>305361</td>\n",
       "      <td>KatiePiper_</td>\n",
       "      <td>London</td>\n",
       "      <td>.@HarperCollinsUK to supply flying library for...</td>\n",
       "      <td>1148960597083643904</td>\n",
       "      <td>RT @BookBrunch</td>\n",
       "    </tr>\n",
       "    <tr>\n",
       "      <th>1813</th>\n",
       "      <td>2019-07-04 12:19:59</td>\n",
       "      <td>198204</td>\n",
       "      <td>SokoAnalyst</td>\n",
       "      <td>Nairobi.</td>\n",
       "      <td>Ethiopian Airlines will add new flight routes ...</td>\n",
       "      <td>1146755534063898625</td>\n",
       "      <td>None</td>\n",
       "    </tr>\n",
       "    <tr>\n",
       "      <th>3425</th>\n",
       "      <td>2019-07-02 18:54:47</td>\n",
       "      <td>190085</td>\n",
       "      <td>jennaezarik</td>\n",
       "      <td>Los Angeles, CA</td>\n",
       "      <td>@SouthwestAir I’m not thankfully</td>\n",
       "      <td>1146130112980504576</td>\n",
       "      <td>None</td>\n",
       "    </tr>\n",
       "    <tr>\n",
       "      <th>4357</th>\n",
       "      <td>2019-07-05 02:30:06</td>\n",
       "      <td>187605</td>\n",
       "      <td>PhantomL0rd</td>\n",
       "      <td>Business inquiries email: PhantomL0rdBusiness@...</td>\n",
       "      <td>@British_Airways check DMs</td>\n",
       "      <td>1146969472911249409</td>\n",
       "      <td>RT @AT09_Trader</td>\n",
       "    </tr>\n",
       "    <tr>\n",
       "      <th>3148</th>\n",
       "      <td>2019-07-13 07:54:37</td>\n",
       "      <td>167414</td>\n",
       "      <td>SecretFlying</td>\n",
       "      <td>None</td>\n",
       "      <td>Non-stop from London, UK to Antigua for only £...</td>\n",
       "      <td>1149950243116658698</td>\n",
       "      <td>None</td>\n",
       "    </tr>\n",
       "    <tr>\n",
       "      <th>1735</th>\n",
       "      <td>2019-07-13 13:00:50</td>\n",
       "      <td>142130</td>\n",
       "      <td>VasJMorgan</td>\n",
       "      <td>London, England</td>\n",
       "      <td>Yo @Delta,If the plane has fault issues prior ...</td>\n",
       "      <td>1150027305089142784</td>\n",
       "      <td>None</td>\n",
       "    </tr>\n",
       "    <tr>\n",
       "      <th>8</th>\n",
       "      <td>2019-07-05 08:33:43</td>\n",
       "      <td>141046</td>\n",
       "      <td>TamekaRaymond</td>\n",
       "      <td>Recaliberating...</td>\n",
       "      <td>@AirFranceFR  I have been waiting for 2 hours ...</td>\n",
       "      <td>1147060980033175553</td>\n",
       "      <td>None</td>\n",
       "    </tr>\n",
       "    <tr>\n",
       "      <th>4285</th>\n",
       "      <td>2019-07-10 07:31:04</td>\n",
       "      <td>130688</td>\n",
       "      <td>LDNLutonAirport</td>\n",
       "      <td>Luton</td>\n",
       "      <td>Video I took from my seat on my flight from At...</td>\n",
       "      <td>1148857152997658626</td>\n",
       "      <td>None</td>\n",
       "    </tr>\n",
       "    <tr>\n",
       "      <th>283</th>\n",
       "      <td>2019-07-07 14:36:56</td>\n",
       "      <td>124613</td>\n",
       "      <td>XXXBellaRose</td>\n",
       "      <td>#bellasfellas</td>\n",
       "      <td>@XXXBellaRose @AmericanAir Second tweet I've s...</td>\n",
       "      <td>1147877162222936065</td>\n",
       "      <td>RT @cullenscuties</td>\n",
       "    </tr>\n",
       "    <tr>\n",
       "      <th>3609</th>\n",
       "      <td>2019-07-10 20:56:27</td>\n",
       "      <td>116841</td>\n",
       "      <td>NASHOVERSTREET</td>\n",
       "      <td>ÜT: 34.164015,-118.368408</td>\n",
       "      <td>@AmericanAir what is going onnnnn with this 2 ...</td>\n",
       "      <td>1149059834316066816</td>\n",
       "      <td>None</td>\n",
       "    </tr>\n",
       "    <tr>\n",
       "      <th>3891</th>\n",
       "      <td>2019-07-07 00:03:01</td>\n",
       "      <td>84804</td>\n",
       "      <td>Softykjr</td>\n",
       "      <td>Seattle, WA</td>\n",
       "      <td>Was just harassed by a @Delta gate agent for c...</td>\n",
       "      <td>1147657233913851904</td>\n",
       "      <td>None</td>\n",
       "    </tr>\n",
       "  </tbody>\n",
       "</table>\n",
       "</div>"
      ],
      "text/plain": [
       "                    date  followers         username  \\\n",
       "1582 2019-07-12 19:08:10    2371051  SaharaReporters   \n",
       "3191 2019-07-07 15:05:50     614369          kalpenn   \n",
       "1270 2019-07-02 17:04:47     532895         TedRubin   \n",
       "547  2019-07-02 15:57:24     522297    flightradar24   \n",
       "964  2019-07-07 11:47:55     494166        madflavor   \n",
       "2463 2019-07-07 08:26:25     453621    IH4T3N1GGERSS   \n",
       "2515 2019-07-04 15:30:19     344262  LondONtheinside   \n",
       "2709 2019-07-09 11:11:06     314474         itsjasYO   \n",
       "2050 2019-07-09 11:11:06     314474    DublinAirport   \n",
       "695  2019-07-10 14:22:07     305361      KatiePiper_   \n",
       "1813 2019-07-04 12:19:59     198204      SokoAnalyst   \n",
       "3425 2019-07-02 18:54:47     190085      jennaezarik   \n",
       "4357 2019-07-05 02:30:06     187605      PhantomL0rd   \n",
       "3148 2019-07-13 07:54:37     167414     SecretFlying   \n",
       "1735 2019-07-13 13:00:50     142130       VasJMorgan   \n",
       "8    2019-07-05 08:33:43     141046    TamekaRaymond   \n",
       "4285 2019-07-10 07:31:04     130688  LDNLutonAirport   \n",
       "283  2019-07-07 14:36:56     124613     XXXBellaRose   \n",
       "3609 2019-07-10 20:56:27     116841   NASHOVERSTREET   \n",
       "3891 2019-07-07 00:03:01      84804         Softykjr   \n",
       "\n",
       "                                               location  \\\n",
       "1582                                           New York   \n",
       "3191                                  New Jersey 4 Life   \n",
       "1270                                  Pompano Beach, FL   \n",
       "547                                   Stockholm, Sweden   \n",
       "964                              Los Angeles CALIFORNIA   \n",
       "2463                                        Shop Now! →   \n",
       "2515                                        London Town   \n",
       "2709                                       Nevada,  USA   \n",
       "2050                                    Dublin, Ireland   \n",
       "695                                              London   \n",
       "1813                                           Nairobi.   \n",
       "3425                                    Los Angeles, CA   \n",
       "4357  Business inquiries email: PhantomL0rdBusiness@...   \n",
       "3148                                               None   \n",
       "1735                                    London, England   \n",
       "8                                     Recaliberating...   \n",
       "4285                                              Luton   \n",
       "283                                       #bellasfellas   \n",
       "3609                          ÜT: 34.164015,-118.368408   \n",
       "3891                                        Seattle, WA   \n",
       "\n",
       "                                                  tweet                   id  \\\n",
       "1582  Excuse me @Delta but this is outrageous. I jus...  1149757359687917569   \n",
       "3191  Delayed flight by 3 hours...And all I got was ...  1147884435175591936   \n",
       "1270  YES! RT @BrendaBerg: @united No empathy.The im...  1146102430574239744   \n",
       "547   Is Canada on your bucket list? We've flights f...  1146085473024172034   \n",
       "964   @AlonzoBodden @AmericanAir Congrats on The Cli...  1147834627807014912   \n",
       "2463  I HATE FUCKING NIGGERS HOLY FUCKING SHIT @TARI...  1147783918650908672   \n",
       "2515  FREE FILMS are being screened @Everymancinema ...  1146803433015582720   \n",
       "2709  I do not want to continue the same cycle. Exac...  1148550138308124672   \n",
       "2050  @UpInTheAirCK @British_Airways @AmericanAir Hi...  1148550138320674816   \n",
       "695   .@HarperCollinsUK to supply flying library for...  1148960597083643904   \n",
       "1813  Ethiopian Airlines will add new flight routes ...  1146755534063898625   \n",
       "3425                   @SouthwestAir I’m not thankfully  1146130112980504576   \n",
       "4357                         @British_Airways check DMs  1146969472911249409   \n",
       "3148  Non-stop from London, UK to Antigua for only £...  1149950243116658698   \n",
       "1735  Yo @Delta,If the plane has fault issues prior ...  1150027305089142784   \n",
       "8     @AirFranceFR  I have been waiting for 2 hours ...  1147060980033175553   \n",
       "4285  Video I took from my seat on my flight from At...  1148857152997658626   \n",
       "283   @XXXBellaRose @AmericanAir Second tweet I've s...  1147877162222936065   \n",
       "3609  @AmericanAir what is going onnnnn with this 2 ...  1149059834316066816   \n",
       "3891  Was just harassed by a @Delta gate agent for c...  1147657233913851904   \n",
       "\n",
       "                     RT  \n",
       "1582               None  \n",
       "3191               None  \n",
       "1270               None  \n",
       "547                None  \n",
       "964                None  \n",
       "2463               None  \n",
       "2515               None  \n",
       "2709               None  \n",
       "2050               None  \n",
       "695      RT @BookBrunch  \n",
       "1813               None  \n",
       "3425               None  \n",
       "4357    RT @AT09_Trader  \n",
       "3148               None  \n",
       "1735               None  \n",
       "8                  None  \n",
       "4285               None  \n",
       "283   RT @cullenscuties  \n",
       "3609               None  \n",
       "3891               None  "
      ]
     },
     "execution_count": 17,
     "metadata": {},
     "output_type": "execute_result"
    }
   ],
   "source": [
    "TOP_N = 20 ## USE THIS VARIABLE TO SET THE NUMBER OF USERS TO ANALYZE\n",
    "cldf.followers = df.followers.astype(int)\n",
    "cldf.sort_values(by='followers',ascending=False,inplace=True)\n",
    "cldf.head(TOP_N)"
   ]
  },
  {
   "cell_type": "code",
   "execution_count": 18,
   "metadata": {},
   "outputs": [
    {
     "data": {
      "image/png": "[encoded data removed]",
      "text/plain": [
       "<Figure size 432x288 with 1 Axes>"
      ]
     },
     "metadata": {
      "needs_background": "light"
     },
     "output_type": "display_data"
    }
   ],
   "source": [
    "plt.bar(cldf.iloc[:TOP_N].username.astype(str),cldf.iloc[:TOP_N].followers.astype(int))\n",
    "plt.xticks(rotation='vertical')\n",
    "plt.show()"
   ]
  },
  {
   "cell_type": "markdown",
   "metadata": {},
   "source": [
    "## Top Hashtags"
   ]
  },
  {
   "cell_type": "code",
   "execution_count": 19,
   "metadata": {},
   "outputs": [
    {
     "name": "stdout",
     "output_type": "stream",
     "text": [
      "[10, 10, 10, 11, 11, 11, 12, 12, 13, 13, 14, 15, 18, 21, 26, 31, 40, 82, 100, 100]\n"
     ]
    },
    {
     "name": "stderr",
     "output_type": "stream",
     "text": [
      "/opt/anaconda3/lib/python3.8/site-packages/matplotlib/backends/backend_agg.py:214: RuntimeWarning: Glyph 128071 missing from current font.\n",
      "  font.set_text(s, 0.0, flags=flags)\n",
      "/opt/anaconda3/lib/python3.8/site-packages/matplotlib/backends/backend_agg.py:183: RuntimeWarning: Glyph 128071 missing from current font.\n",
      "  font.set_text(s, 0, flags=flags)\n"
     ]
    },
    {
     "data": {
      "image/png": "[encoded data removed]",
      "text/plain": [
       "<Figure size 432x288 with 1 Axes>"
      ]
     },
     "metadata": {
      "needs_background": "light"
     },
     "output_type": "display_data"
    }
   ],
   "source": [
    "TOP_N = 20 ## USE THIS NUMBER TO SET THE NUMBER OF TOP HASHTAGS TO LOOK AT\n",
    "ana.topHashtags(tweets,TOP_N)"
   ]
  },
  {
   "cell_type": "markdown",
   "metadata": {},
   "source": [
    "## Top User Mentions"
   ]
  },
  {
   "cell_type": "code",
   "execution_count": 20,
   "metadata": {},
   "outputs": [
    {
     "name": "stdout",
     "output_type": "stream",
     "text": [
      "[22, 25, 25, 37, 40, 46, 47, 47, 52, 61, 64, 69, 71, 94, 118, 130, 139, 160, 435, 658]\n"
     ]
    },
    {
     "data": {
      "image/png": "[encoded data removed]",
      "text/plain": [
       "<Figure size 432x288 with 1 Axes>"
      ]
     },
     "metadata": {
      "needs_background": "light"
     },
     "output_type": "display_data"
    }
   ],
   "source": [
    "TOP_N = 20 ## USE THIS NUMBER TO SET THE NUMBER OF TOP USER MENTIONS TO LOOK AT\n",
    "ana.topUserMentions(tweets,TOP_N)"
   ]
  },
  {
   "cell_type": "code",
   "execution_count": null,
   "metadata": {},
   "outputs": [],
   "source": []
  },
  {
   "cell_type": "code",
   "execution_count": null,
   "metadata": {},
   "outputs": [],
   "source": []
  }
 ],
 "metadata": {
  "interpreter": {
   "hash": "40d3a090f54c6569ab1632332b64b2c03c39dcf918b08424e98f38b5ae0af88f"
  },
  "kernelspec": {
   "display_name": "Python 3.8.5 64-bit (conda)",
   "name": "python3"
  },
  "language_info": {
   "codemirror_mode": {
    "name": "ipython",
    "version": 3
   },
   "file_extension": ".py",
   "mimetype": "text/x-python",
   "name": "python",
   "nbconvert_exporter": "python",
   "pygments_lexer": "ipython3",
   "version": "3.8.5"
  }
 },
 "nbformat": 4,
 "nbformat_minor": 2
}
