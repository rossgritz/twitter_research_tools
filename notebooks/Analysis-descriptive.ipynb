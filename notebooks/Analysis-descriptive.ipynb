{
 "cells": [
  {
   "cell_type": "markdown",
   "metadata": {},
   "source": [
    "# Descriptive Analysis Notebook"
   ]
  },
  {
   "cell_type": "markdown",
   "metadata": {},
   "source": [
    "#### This notebook contains a demonstration of the tools necessary for conducting descriptive analysis of the data. This includes things such as frequency analysis, descripting statistics and temporal frequency."
   ]
  },
  {
   "cell_type": "code",
   "execution_count": 1,
   "metadata": {},
   "outputs": [],
   "source": [
    "import trt_API.process as proc\n",
    "import trt_API.analysis as ana\n",
    "import pandas as pd\n",
    "import matplotlib.pyplot as plt\n",
    "SORTED = False"
   ]
  },
  {
   "cell_type": "markdown",
   "metadata": {},
   "source": [
    "## Variables for Analysis"
   ]
  },
  {
   "cell_type": "code",
   "execution_count": 2,
   "metadata": {},
   "outputs": [],
   "source": [
    "# Set the path to the parent directory containing all Tweets of interest\n",
    "DIRECTORY = './tweets/*'\n",
    "# Set to True to isolate english language tweets\n",
    "ENGLISH = False"
   ]
  },
  {
   "cell_type": "markdown",
   "metadata": {},
   "source": [
    "## Load Tweet and Generate Dataframe"
   ]
  },
  {
   "cell_type": "code",
   "execution_count": 3,
   "metadata": {},
   "outputs": [
    {
     "name": "stdout",
     "output_type": "stream",
     "text": [
      "Loaded utf-8 df.\n",
      "Initial size: 16042\n",
      "Dropping duplicates...\n",
      "Final size: 10472\n"
     ]
    }
   ],
   "source": [
    "tweet_objects = proc.loadTweetObjects(DIRECTORY)\n",
    "encoding = True #Use False on Macs for better results\n",
    "df = proc.convertTweetsToDataframe(tweet_objects, ENGLISH, encoding)"
   ]
  },
  {
   "cell_type": "markdown",
   "metadata": {},
   "source": [
    "## Extract Potential Cashtags"
   ]
  },
  {
   "cell_type": "code",
   "execution_count": 4,
   "metadata": {},
   "outputs": [
    {
     "name": "stdout",
     "output_type": "stream",
     "text": [
      "Total potential Cashtags: 25\n"
     ]
    }
   ],
   "source": [
    "ctdf = proc.extractPossibleCashtags(df)"
   ]
  },
  {
   "cell_type": "markdown",
   "metadata": {},
   "source": [
    "## Removing Noisy Tweets"
   ]
  },
  {
   "cell_type": "code",
   "execution_count": 5,
   "metadata": {},
   "outputs": [
    {
     "name": "stdout",
     "output_type": "stream",
     "text": [
      "Removed 0 noisy terms.\n"
     ]
    },
    {
     "data": {
      "text/html": [
       "<div>\n",
       "<style scoped>\n",
       "    .dataframe tbody tr th:only-of-type {\n",
       "        vertical-align: middle;\n",
       "    }\n",
       "\n",
       "    .dataframe tbody tr th {\n",
       "        vertical-align: top;\n",
       "    }\n",
       "\n",
       "    .dataframe thead th {\n",
       "        text-align: right;\n",
       "    }\n",
       "</style>\n",
       "<table border=\"1\" class=\"dataframe\">\n",
       "  <thead>\n",
       "    <tr style=\"text-align: right;\">\n",
       "      <th></th>\n",
       "      <th>date</th>\n",
       "      <th>followers</th>\n",
       "      <th>username</th>\n",
       "      <th>location</th>\n",
       "      <th>tweet</th>\n",
       "      <th>id</th>\n",
       "      <th>original_tweet</th>\n",
       "    </tr>\n",
       "  </thead>\n",
       "  <tbody>\n",
       "    <tr>\n",
       "      <th>0</th>\n",
       "      <td>Jun 01 20:02:51 2018\\t0</td>\n",
       "      <td>88</td>\n",
       "      <td>Yohanan_L</td>\n",
       "      <td>France</td>\n",
       "      <td>@AnthonyParasole @kanyewest All right didn't k...</td>\n",
       "      <td>1002641647736377346</td>\n",
       "      <td>None</td>\n",
       "    </tr>\n",
       "    <tr>\n",
       "      <th>1</th>\n",
       "      <td>Jun 01 22:19:01 2018\\t0</td>\n",
       "      <td>464</td>\n",
       "      <td>Kiakkye30</td>\n",
       "      <td>Haiti</td>\n",
       "      <td>RT @TwitterMusic: Give #NewMusicFriday a try. ...</td>\n",
       "      <td>1002675915221098496</td>\n",
       "      <td>Give #NewMusicFriday a try. 🎶🎵 @DanAndShay ➖ A...</td>\n",
       "    </tr>\n",
       "    <tr>\n",
       "      <th>2</th>\n",
       "      <td>Jun 08 00:04:48 2018\\t0</td>\n",
       "      <td>1019</td>\n",
       "      <td>KessprdGB</td>\n",
       "      <td>None</td>\n",
       "      <td>RT @GOT7Official: [ #GOT7NOW ] See you tomorro...</td>\n",
       "      <td>1004876863670374401</td>\n",
       "      <td>[ #GOT7NOW ] See you tomorrow, Berlin I GOT7 🐥...</td>\n",
       "    </tr>\n",
       "    <tr>\n",
       "      <th>3</th>\n",
       "      <td>Jun 08 03:27:48 2018\\t0</td>\n",
       "      <td>24</td>\n",
       "      <td>quynhnguyen153</td>\n",
       "      <td>None</td>\n",
       "      <td>RT @chanyeolit: #CHANYEOL #EXO #Monster #찬열 @w...</td>\n",
       "      <td>1004927950293045248</td>\n",
       "      <td>#CHANYEOL #EXO #Monster #찬열 @weareoneEXO 🍾 Mon...</td>\n",
       "    </tr>\n",
       "    <tr>\n",
       "      <th>4</th>\n",
       "      <td>Jun 08 07:44:53 2018\\t0</td>\n",
       "      <td>1</td>\n",
       "      <td>mlqbuot27</td>\n",
       "      <td>กรุงเทพมหานคร, ประเทศไทย</td>\n",
       "      <td>RT @GOT7Official: [ #GOT7NOW ] See you tomorro...</td>\n",
       "      <td>1004992647411298310</td>\n",
       "      <td>[ #GOT7NOW ] See you tomorrow, Berlin I GOT7 🐥...</td>\n",
       "    </tr>\n",
       "    <tr>\n",
       "      <th>...</th>\n",
       "      <td>...</td>\n",
       "      <td>...</td>\n",
       "      <td>...</td>\n",
       "      <td>...</td>\n",
       "      <td>...</td>\n",
       "      <td>...</td>\n",
       "      <td>...</td>\n",
       "    </tr>\n",
       "    <tr>\n",
       "      <th>16032</th>\n",
       "      <td>Jul 10 22:48:21 2019\\t0</td>\n",
       "      <td>213</td>\n",
       "      <td>KyleLGurrola</td>\n",
       "      <td>San Jose, California</td>\n",
       "      <td>RT @drewisgooden: Excuse me @Delta but this is...</td>\n",
       "      <td>1149087994898288642</td>\n",
       "      <td>Excuse me @Delta but this is outrageous. I jus...</td>\n",
       "    </tr>\n",
       "    <tr>\n",
       "      <th>16034</th>\n",
       "      <td>Jul 10 23:02:54 2019\\t0</td>\n",
       "      <td>3344</td>\n",
       "      <td>NW_StayDet</td>\n",
       "      <td>Detroit, MI</td>\n",
       "      <td>@ComedianTheDA @GAFollowers @Delta @ABC Right....</td>\n",
       "      <td>1149091656508923909</td>\n",
       "      <td>None</td>\n",
       "    </tr>\n",
       "    <tr>\n",
       "      <th>16036</th>\n",
       "      <td>Jul 10 23:08:36 2019\\t0</td>\n",
       "      <td>36</td>\n",
       "      <td>TOMMMLDN</td>\n",
       "      <td>Chernobyll, Ukraine</td>\n",
       "      <td>RT @Micahlifa: Video I took from my seat on my...</td>\n",
       "      <td>1149093090973704192</td>\n",
       "      <td>Video I took from my seat on my flight from At...</td>\n",
       "    </tr>\n",
       "    <tr>\n",
       "      <th>16038</th>\n",
       "      <td>Jul 10 23:27:23 2019\\t0</td>\n",
       "      <td>229</td>\n",
       "      <td>GenDovinBaan</td>\n",
       "      <td>The Plane of Ixalan</td>\n",
       "      <td>RT @Micahlifa: Video I took from my seat on my...</td>\n",
       "      <td>1149097817962680320</td>\n",
       "      <td>Video I took from my seat on my flight from At...</td>\n",
       "    </tr>\n",
       "    <tr>\n",
       "      <th>16040</th>\n",
       "      <td>Jul 10 23:29:22 2019\\t0</td>\n",
       "      <td>1409</td>\n",
       "      <td>UncleMax313</td>\n",
       "      <td>Michigan and Texas</td>\n",
       "      <td>@nysteve27 @AmericanAir Steve, I use to work i...</td>\n",
       "      <td>1149098317089054721</td>\n",
       "      <td>None</td>\n",
       "    </tr>\n",
       "  </tbody>\n",
       "</table>\n",
       "<p>10472 rows × 7 columns</p>\n",
       "</div>"
      ],
      "text/plain": [
       "                          date  followers        username  \\\n",
       "0      Jun 01 20:02:51 2018\\t0         88       Yohanan_L   \n",
       "1      Jun 01 22:19:01 2018\\t0        464       Kiakkye30   \n",
       "2      Jun 08 00:04:48 2018\\t0       1019       KessprdGB   \n",
       "3      Jun 08 03:27:48 2018\\t0         24  quynhnguyen153   \n",
       "4      Jun 08 07:44:53 2018\\t0          1       mlqbuot27   \n",
       "...                        ...        ...             ...   \n",
       "16032  Jul 10 22:48:21 2019\\t0        213    KyleLGurrola   \n",
       "16034  Jul 10 23:02:54 2019\\t0       3344      NW_StayDet   \n",
       "16036  Jul 10 23:08:36 2019\\t0         36        TOMMMLDN   \n",
       "16038  Jul 10 23:27:23 2019\\t0        229    GenDovinBaan   \n",
       "16040  Jul 10 23:29:22 2019\\t0       1409     UncleMax313   \n",
       "\n",
       "                       location  \\\n",
       "0                        France   \n",
       "1                         Haiti   \n",
       "2                          None   \n",
       "3                          None   \n",
       "4      กรุงเทพมหานคร, ประเทศไทย   \n",
       "...                         ...   \n",
       "16032      San Jose, California   \n",
       "16034               Detroit, MI   \n",
       "16036       Chernobyll, Ukraine   \n",
       "16038       The Plane of Ixalan   \n",
       "16040        Michigan and Texas   \n",
       "\n",
       "                                                   tweet                   id  \\\n",
       "0      @AnthonyParasole @kanyewest All right didn't k...  1002641647736377346   \n",
       "1      RT @TwitterMusic: Give #NewMusicFriday a try. ...  1002675915221098496   \n",
       "2      RT @GOT7Official: [ #GOT7NOW ] See you tomorro...  1004876863670374401   \n",
       "3      RT @chanyeolit: #CHANYEOL #EXO #Monster #찬열 @w...  1004927950293045248   \n",
       "4      RT @GOT7Official: [ #GOT7NOW ] See you tomorro...  1004992647411298310   \n",
       "...                                                  ...                  ...   \n",
       "16032  RT @drewisgooden: Excuse me @Delta but this is...  1149087994898288642   \n",
       "16034  @ComedianTheDA @GAFollowers @Delta @ABC Right....  1149091656508923909   \n",
       "16036  RT @Micahlifa: Video I took from my seat on my...  1149093090973704192   \n",
       "16038  RT @Micahlifa: Video I took from my seat on my...  1149097817962680320   \n",
       "16040  @nysteve27 @AmericanAir Steve, I use to work i...  1149098317089054721   \n",
       "\n",
       "                                          original_tweet  \n",
       "0                                                   None  \n",
       "1      Give #NewMusicFriday a try. 🎶🎵 @DanAndShay ➖ A...  \n",
       "2      [ #GOT7NOW ] See you tomorrow, Berlin I GOT7 🐥...  \n",
       "3      #CHANYEOL #EXO #Monster #찬열 @weareoneEXO 🍾 Mon...  \n",
       "4      [ #GOT7NOW ] See you tomorrow, Berlin I GOT7 🐥...  \n",
       "...                                                  ...  \n",
       "16032  Excuse me @Delta but this is outrageous. I jus...  \n",
       "16034                                               None  \n",
       "16036  Video I took from my seat on my flight from At...  \n",
       "16038  Video I took from my seat on my flight from At...  \n",
       "16040                                               None  \n",
       "\n",
       "[10472 rows x 7 columns]"
      ]
     },
     "execution_count": 5,
     "metadata": {},
     "output_type": "execute_result"
    }
   ],
   "source": [
    "'''\n",
    "*** Tweets often use popular hashtags with unrelated topics.\n",
    "*** Noisy words can be identified to use to filter such tweets.\n",
    "*** Enter these words below in the noisy_terms list.\n",
    "'''\n",
    "noisy_terms = []\n",
    "cldf = proc.removeNoisyTerms(df, noisy_terms)\n",
    "cldf"
   ]
  },
  {
   "cell_type": "markdown",
   "metadata": {},
   "source": [
    "## Remove Retweets"
   ]
  },
  {
   "cell_type": "code",
   "execution_count": 6,
   "metadata": {},
   "outputs": [
    {
     "name": "stdout",
     "output_type": "stream",
     "text": [
      "Removed 4110 duplicates.\n"
     ]
    },
    {
     "name": "stderr",
     "output_type": "stream",
     "text": [
      "/Users/rajuy/Desktop/twitter_research_tools/notebooks/trt_API/process.py:210: SettingWithCopyWarning: \n",
      "A value is trying to be set on a copy of a slice from a DataFrame\n",
      "\n",
      "See the caveats in the documentation: https://pandas.pydata.org/pandas-docs/stable/user_guide/indexing.html#returning-a-view-versus-a-copy\n",
      "  df['RT'][df.tweet.astype(str).str[0:2] == 'RT'] = df.tweet.str.split(':',expand=True).iloc[:,0]\n"
     ]
    },
    {
     "data": {
      "text/html": [
       "<div>\n",
       "<style scoped>\n",
       "    .dataframe tbody tr th:only-of-type {\n",
       "        vertical-align: middle;\n",
       "    }\n",
       "\n",
       "    .dataframe tbody tr th {\n",
       "        vertical-align: top;\n",
       "    }\n",
       "\n",
       "    .dataframe thead th {\n",
       "        text-align: right;\n",
       "    }\n",
       "</style>\n",
       "<table border=\"1\" class=\"dataframe\">\n",
       "  <thead>\n",
       "    <tr style=\"text-align: right;\">\n",
       "      <th></th>\n",
       "      <th>date</th>\n",
       "      <th>followers</th>\n",
       "      <th>username</th>\n",
       "      <th>location</th>\n",
       "      <th>tweet</th>\n",
       "      <th>id</th>\n",
       "      <th>original_tweet</th>\n",
       "      <th>RT</th>\n",
       "    </tr>\n",
       "  </thead>\n",
       "  <tbody>\n",
       "    <tr>\n",
       "      <th>0</th>\n",
       "      <td>Jun 01 20:02:51 2018\\t0</td>\n",
       "      <td>88</td>\n",
       "      <td>Yohanan_L</td>\n",
       "      <td>France</td>\n",
       "      <td>@AnthonyParasole @kanyewest All right didn't k...</td>\n",
       "      <td>1002641647736377346</td>\n",
       "      <td>None</td>\n",
       "      <td>None</td>\n",
       "    </tr>\n",
       "    <tr>\n",
       "      <th>1</th>\n",
       "      <td>Jun 01 22:19:01 2018\\t0</td>\n",
       "      <td>464</td>\n",
       "      <td>Kiakkye30</td>\n",
       "      <td>Haiti</td>\n",
       "      <td>RT @TwitterMusic: Give #NewMusicFriday a try. ...</td>\n",
       "      <td>1002675915221098496</td>\n",
       "      <td>Give #NewMusicFriday a try. 🎶🎵 @DanAndShay ➖ A...</td>\n",
       "      <td>RT @TwitterMusic</td>\n",
       "    </tr>\n",
       "    <tr>\n",
       "      <th>2</th>\n",
       "      <td>Jun 08 00:04:48 2018\\t0</td>\n",
       "      <td>1019</td>\n",
       "      <td>KessprdGB</td>\n",
       "      <td>None</td>\n",
       "      <td>RT @GOT7Official: [ #GOT7NOW ] See you tomorro...</td>\n",
       "      <td>1004876863670374401</td>\n",
       "      <td>[ #GOT7NOW ] See you tomorrow, Berlin I GOT7 🐥...</td>\n",
       "      <td>RT @GOT7Official</td>\n",
       "    </tr>\n",
       "    <tr>\n",
       "      <th>3</th>\n",
       "      <td>Jun 08 03:27:48 2018\\t0</td>\n",
       "      <td>24</td>\n",
       "      <td>quynhnguyen153</td>\n",
       "      <td>None</td>\n",
       "      <td>RT @chanyeolit: #CHANYEOL #EXO #Monster #찬열 @w...</td>\n",
       "      <td>1004927950293045248</td>\n",
       "      <td>#CHANYEOL #EXO #Monster #찬열 @weareoneEXO 🍾 Mon...</td>\n",
       "      <td>RT @chanyeolit</td>\n",
       "    </tr>\n",
       "    <tr>\n",
       "      <th>4</th>\n",
       "      <td>Jun 08 07:44:53 2018\\t0</td>\n",
       "      <td>1</td>\n",
       "      <td>mlqbuot27</td>\n",
       "      <td>กรุงเทพมหานคร, ประเทศไทย</td>\n",
       "      <td>RT @GOT7Official: [ #GOT7NOW ] See you tomorro...</td>\n",
       "      <td>1004992647411298310</td>\n",
       "      <td>[ #GOT7NOW ] See you tomorrow, Berlin I GOT7 🐥...</td>\n",
       "      <td>RT @GOT7Official</td>\n",
       "    </tr>\n",
       "    <tr>\n",
       "      <th>...</th>\n",
       "      <td>...</td>\n",
       "      <td>...</td>\n",
       "      <td>...</td>\n",
       "      <td>...</td>\n",
       "      <td>...</td>\n",
       "      <td>...</td>\n",
       "      <td>...</td>\n",
       "      <td>...</td>\n",
       "    </tr>\n",
       "    <tr>\n",
       "      <th>16032</th>\n",
       "      <td>Jul 10 22:48:21 2019\\t0</td>\n",
       "      <td>213</td>\n",
       "      <td>KyleLGurrola</td>\n",
       "      <td>San Jose, California</td>\n",
       "      <td>RT @drewisgooden: Excuse me @Delta but this is...</td>\n",
       "      <td>1149087994898288642</td>\n",
       "      <td>Excuse me @Delta but this is outrageous. I jus...</td>\n",
       "      <td>RT @drewisgooden</td>\n",
       "    </tr>\n",
       "    <tr>\n",
       "      <th>16034</th>\n",
       "      <td>Jul 10 23:02:54 2019\\t0</td>\n",
       "      <td>3344</td>\n",
       "      <td>NW_StayDet</td>\n",
       "      <td>Detroit, MI</td>\n",
       "      <td>@ComedianTheDA @GAFollowers @Delta @ABC Right....</td>\n",
       "      <td>1149091656508923909</td>\n",
       "      <td>None</td>\n",
       "      <td>None</td>\n",
       "    </tr>\n",
       "    <tr>\n",
       "      <th>16036</th>\n",
       "      <td>Jul 10 23:08:36 2019\\t0</td>\n",
       "      <td>36</td>\n",
       "      <td>TOMMMLDN</td>\n",
       "      <td>Chernobyll, Ukraine</td>\n",
       "      <td>RT @Micahlifa: Video I took from my seat on my...</td>\n",
       "      <td>1149093090973704192</td>\n",
       "      <td>Video I took from my seat on my flight from At...</td>\n",
       "      <td>RT @Micahlifa</td>\n",
       "    </tr>\n",
       "    <tr>\n",
       "      <th>16038</th>\n",
       "      <td>Jul 10 23:27:23 2019\\t0</td>\n",
       "      <td>229</td>\n",
       "      <td>GenDovinBaan</td>\n",
       "      <td>The Plane of Ixalan</td>\n",
       "      <td>RT @Micahlifa: Video I took from my seat on my...</td>\n",
       "      <td>1149097817962680320</td>\n",
       "      <td>Video I took from my seat on my flight from At...</td>\n",
       "      <td>RT @Micahlifa</td>\n",
       "    </tr>\n",
       "    <tr>\n",
       "      <th>16040</th>\n",
       "      <td>Jul 10 23:29:22 2019\\t0</td>\n",
       "      <td>1409</td>\n",
       "      <td>UncleMax313</td>\n",
       "      <td>Michigan and Texas</td>\n",
       "      <td>@nysteve27 @AmericanAir Steve, I use to work i...</td>\n",
       "      <td>1149098317089054721</td>\n",
       "      <td>None</td>\n",
       "      <td>None</td>\n",
       "    </tr>\n",
       "  </tbody>\n",
       "</table>\n",
       "<p>10472 rows × 8 columns</p>\n",
       "</div>"
      ],
      "text/plain": [
       "                          date  followers        username  \\\n",
       "0      Jun 01 20:02:51 2018\\t0         88       Yohanan_L   \n",
       "1      Jun 01 22:19:01 2018\\t0        464       Kiakkye30   \n",
       "2      Jun 08 00:04:48 2018\\t0       1019       KessprdGB   \n",
       "3      Jun 08 03:27:48 2018\\t0         24  quynhnguyen153   \n",
       "4      Jun 08 07:44:53 2018\\t0          1       mlqbuot27   \n",
       "...                        ...        ...             ...   \n",
       "16032  Jul 10 22:48:21 2019\\t0        213    KyleLGurrola   \n",
       "16034  Jul 10 23:02:54 2019\\t0       3344      NW_StayDet   \n",
       "16036  Jul 10 23:08:36 2019\\t0         36        TOMMMLDN   \n",
       "16038  Jul 10 23:27:23 2019\\t0        229    GenDovinBaan   \n",
       "16040  Jul 10 23:29:22 2019\\t0       1409     UncleMax313   \n",
       "\n",
       "                       location  \\\n",
       "0                        France   \n",
       "1                         Haiti   \n",
       "2                          None   \n",
       "3                          None   \n",
       "4      กรุงเทพมหานคร, ประเทศไทย   \n",
       "...                         ...   \n",
       "16032      San Jose, California   \n",
       "16034               Detroit, MI   \n",
       "16036       Chernobyll, Ukraine   \n",
       "16038       The Plane of Ixalan   \n",
       "16040        Michigan and Texas   \n",
       "\n",
       "                                                   tweet                   id  \\\n",
       "0      @AnthonyParasole @kanyewest All right didn't k...  1002641647736377346   \n",
       "1      RT @TwitterMusic: Give #NewMusicFriday a try. ...  1002675915221098496   \n",
       "2      RT @GOT7Official: [ #GOT7NOW ] See you tomorro...  1004876863670374401   \n",
       "3      RT @chanyeolit: #CHANYEOL #EXO #Monster #찬열 @w...  1004927950293045248   \n",
       "4      RT @GOT7Official: [ #GOT7NOW ] See you tomorro...  1004992647411298310   \n",
       "...                                                  ...                  ...   \n",
       "16032  RT @drewisgooden: Excuse me @Delta but this is...  1149087994898288642   \n",
       "16034  @ComedianTheDA @GAFollowers @Delta @ABC Right....  1149091656508923909   \n",
       "16036  RT @Micahlifa: Video I took from my seat on my...  1149093090973704192   \n",
       "16038  RT @Micahlifa: Video I took from my seat on my...  1149097817962680320   \n",
       "16040  @nysteve27 @AmericanAir Steve, I use to work i...  1149098317089054721   \n",
       "\n",
       "                                          original_tweet                RT  \n",
       "0                                                   None              None  \n",
       "1      Give #NewMusicFriday a try. 🎶🎵 @DanAndShay ➖ A...  RT @TwitterMusic  \n",
       "2      [ #GOT7NOW ] See you tomorrow, Berlin I GOT7 🐥...  RT @GOT7Official  \n",
       "3      #CHANYEOL #EXO #Monster #찬열 @weareoneEXO 🍾 Mon...    RT @chanyeolit  \n",
       "4      [ #GOT7NOW ] See you tomorrow, Berlin I GOT7 🐥...  RT @GOT7Official  \n",
       "...                                                  ...               ...  \n",
       "16032  Excuse me @Delta but this is outrageous. I jus...  RT @drewisgooden  \n",
       "16034                                               None              None  \n",
       "16036  Video I took from my seat on my flight from At...     RT @Micahlifa  \n",
       "16038  Video I took from my seat on my flight from At...     RT @Micahlifa  \n",
       "16040                                               None              None  \n",
       "\n",
       "[10472 rows x 8 columns]"
      ]
     },
     "execution_count": 6,
     "metadata": {},
     "output_type": "execute_result"
    }
   ],
   "source": [
    "cldf_no_RT, cldf = proc.removeRetweets(cldf)\n",
    "cldf"
   ]
  },
  {
   "cell_type": "code",
   "execution_count": 7,
   "metadata": {},
   "outputs": [
    {
     "name": "stdout",
     "output_type": "stream",
     "text": [
      "6362\n"
     ]
    }
   ],
   "source": [
    "print(cldf_no_RT.shape[0])"
   ]
  },
  {
   "cell_type": "markdown",
   "metadata": {},
   "source": [
    "## Convert Tweets to List"
   ]
  },
  {
   "cell_type": "code",
   "execution_count": 8,
   "metadata": {},
   "outputs": [
    {
     "name": "stdout",
     "output_type": "stream",
     "text": [
      "                      date  followers        username  \\\n",
      "0  Jun 01 20:02:51 2018\\t0         88       Yohanan_L   \n",
      "1  Jun 01 22:19:01 2018\\t0        464       Kiakkye30   \n",
      "2  Jun 08 00:04:48 2018\\t0       1019       KessprdGB   \n",
      "3  Jun 08 03:27:48 2018\\t0         24  quynhnguyen153   \n",
      "4  Jun 08 07:44:53 2018\\t0          1       mlqbuot27   \n",
      "\n",
      "                   location  \\\n",
      "0                    France   \n",
      "1                     Haiti   \n",
      "2                      None   \n",
      "3                      None   \n",
      "4  กรุงเทพมหานคร, ประเทศไทย   \n",
      "\n",
      "                                               tweet                   id  \\\n",
      "0  @AnthonyParasole @kanyewest All right didn't k...  1002641647736377346   \n",
      "1  Give #NewMusicFriday a try. 🎶🎵 @DanAndShay ➖ A...  1002675915221098496   \n",
      "2  [ #GOT7NOW ] See you tomorrow, Berlin I GOT7 🐥...  1004876863670374401   \n",
      "3  #CHANYEOL #EXO #Monster #찬열 @weareoneEXO 🍾 Mon...  1004927950293045248   \n",
      "4  [ #GOT7NOW ] See you tomorrow, Berlin I GOT7 🐥...  1004992647411298310   \n",
      "\n",
      "                 RT  \n",
      "0              None  \n",
      "1  RT @TwitterMusic  \n",
      "2  RT @GOT7Official  \n",
      "3    RT @chanyeolit  \n",
      "4  RT @GOT7Official  \n"
     ]
    },
    {
     "name": "stderr",
     "output_type": "stream",
     "text": [
      "<ipython-input-8-a3c3d762bb2e>:1: SettingWithCopyWarning: \n",
      "A value is trying to be set on a copy of a slice from a DataFrame\n",
      "\n",
      "See the caveats in the documentation: https://pandas.pydata.org/pandas-docs/stable/user_guide/indexing.html#returning-a-view-versus-a-copy\n",
      "  cldf['original_tweet'][cldf.original_tweet == 'None'] = cldf['tweet']\n"
     ]
    }
   ],
   "source": [
    "cldf['original_tweet'][cldf.original_tweet == 'None'] = cldf['tweet']\n",
    "cldf['tweet'] = cldf['original_tweet']\n",
    "del cldf['original_tweet']\n",
    "print(cldf.head())\n",
    "tweets = list(cldf.tweet)"
   ]
  },
  {
   "cell_type": "markdown",
   "metadata": {},
   "source": [
    "## Hashtag Frequencies"
   ]
  },
  {
   "cell_type": "code",
   "execution_count": 9,
   "metadata": {},
   "outputs": [],
   "source": [
    "hashtags = [\"\"]"
   ]
  },
  {
   "cell_type": "code",
   "execution_count": 10,
   "metadata": {},
   "outputs": [
    {
     "data": {
      "image/png": "[encoded data removed]",
      "text/plain": [
       "<Figure size 432x288 with 1 Axes>"
      ]
     },
     "metadata": {
      "needs_background": "light"
     },
     "output_type": "display_data"
    },
    {
     "data": {
      "text/plain": [
       "[10472]"
      ]
     },
     "execution_count": 10,
     "metadata": {},
     "output_type": "execute_result"
    }
   ],
   "source": [
    "ana.countItems(hashtags,tweets,PLOT=True,PRINT=False)"
   ]
  },
  {
   "cell_type": "code",
   "execution_count": 11,
   "metadata": {},
   "outputs": [],
   "source": [
    "usernames = []"
   ]
  },
  {
   "cell_type": "code",
   "execution_count": 12,
   "metadata": {},
   "outputs": [
    {
     "data": {
      "image/png": "[encoded data removed]",
      "text/plain": [
       "<Figure size 432x288 with 1 Axes>"
      ]
     },
     "metadata": {
      "needs_background": "light"
     },
     "output_type": "display_data"
    },
    {
     "data": {
      "text/plain": [
       "[]"
      ]
     },
     "execution_count": 12,
     "metadata": {},
     "output_type": "execute_result"
    }
   ],
   "source": [
    "ana.countItems(usernames,tweets,PLOT=True,PRINT=False)"
   ]
  },
  {
   "cell_type": "markdown",
   "metadata": {},
   "source": [
    "## Sort By Date"
   ]
  },
  {
   "cell_type": "code",
   "execution_count": 13,
   "metadata": {},
   "outputs": [],
   "source": [
    "sorted_cldf, SORTED = ana.sortByDate(cldf,SORTED,PRINT_TOP=False,TOP=10)"
   ]
  },
  {
   "cell_type": "code",
   "execution_count": 14,
   "metadata": {},
   "outputs": [
    {
     "data": {
      "text/html": [
       "<div>\n",
       "<style scoped>\n",
       "    .dataframe tbody tr th:only-of-type {\n",
       "        vertical-align: middle;\n",
       "    }\n",
       "\n",
       "    .dataframe tbody tr th {\n",
       "        vertical-align: top;\n",
       "    }\n",
       "\n",
       "    .dataframe thead th {\n",
       "        text-align: right;\n",
       "    }\n",
       "</style>\n",
       "<table border=\"1\" class=\"dataframe\">\n",
       "  <thead>\n",
       "    <tr style=\"text-align: right;\">\n",
       "      <th></th>\n",
       "      <th>date</th>\n",
       "      <th>followers</th>\n",
       "      <th>username</th>\n",
       "      <th>location</th>\n",
       "      <th>tweet</th>\n",
       "      <th>id</th>\n",
       "      <th>RT</th>\n",
       "    </tr>\n",
       "  </thead>\n",
       "  <tbody>\n",
       "    <tr>\n",
       "      <th>13247</th>\n",
       "      <td>2018-03-30 02:24:13</td>\n",
       "      <td>86</td>\n",
       "      <td>got7run</td>\n",
       "      <td>31/05/15</td>\n",
       "      <td>[STREAM] 180330 KBS&amp;lt;Music Bank&amp;gt; เวลา 15....</td>\n",
       "      <td>979544798431342593</td>\n",
       "      <td>RT @CRUSHonBAM</td>\n",
       "    </tr>\n",
       "    <tr>\n",
       "      <th>13248</th>\n",
       "      <td>2018-03-30 02:58:39</td>\n",
       "      <td>271</td>\n",
       "      <td>Xreo0</td>\n",
       "      <td>None</td>\n",
       "      <td>2 minutes😭💔💔#WelcomeOliviaHye</td>\n",
       "      <td>979553463859326977</td>\n",
       "      <td>None</td>\n",
       "    </tr>\n",
       "    <tr>\n",
       "      <th>13249</th>\n",
       "      <td>2018-03-30 07:02:29</td>\n",
       "      <td>47858</td>\n",
       "      <td>AraiEij</td>\n",
       "      <td>None</td>\n",
       "      <td>Poppies..       🌿🌺🌿🌺🌿🌺 #LovelyEvening https://...</td>\n",
       "      <td>979614826510008320</td>\n",
       "      <td>RT @semljnika</td>\n",
       "    </tr>\n",
       "    <tr>\n",
       "      <th>13250</th>\n",
       "      <td>2018-03-30 08:51:10</td>\n",
       "      <td>909</td>\n",
       "      <td>DAYDREAM_09_04</td>\n",
       "      <td>Corrientes, Argentina</td>\n",
       "      <td>#Repost bts.0ffcial (get_repost)・・・JIKOOK or T...</td>\n",
       "      <td>979642177570656257</td>\n",
       "      <td>None</td>\n",
       "    </tr>\n",
       "    <tr>\n",
       "      <th>13251</th>\n",
       "      <td>2018-03-30 10:15:24</td>\n",
       "      <td>26</td>\n",
       "      <td>dldbr5</td>\n",
       "      <td>None</td>\n",
       "      <td>Look - GOT7https://t.co/VrzKFobSes#GOT7 #갓세븐#E...</td>\n",
       "      <td>979663375595655168</td>\n",
       "      <td>RT @GOT7Official</td>\n",
       "    </tr>\n",
       "  </tbody>\n",
       "</table>\n",
       "</div>"
      ],
      "text/plain": [
       "                     date  followers        username               location  \\\n",
       "13247 2018-03-30 02:24:13         86         got7run               31/05/15   \n",
       "13248 2018-03-30 02:58:39        271           Xreo0                   None   \n",
       "13249 2018-03-30 07:02:29      47858         AraiEij                   None   \n",
       "13250 2018-03-30 08:51:10        909  DAYDREAM_09_04  Corrientes, Argentina   \n",
       "13251 2018-03-30 10:15:24         26          dldbr5                   None   \n",
       "\n",
       "                                                   tweet                  id  \\\n",
       "13247  [STREAM] 180330 KBS&lt;Music Bank&gt; เวลา 15....  979544798431342593   \n",
       "13248                      2 minutes😭💔💔#WelcomeOliviaHye  979553463859326977   \n",
       "13249  Poppies..       🌿🌺🌿🌺🌿🌺 #LovelyEvening https://...  979614826510008320   \n",
       "13250  #Repost bts.0ffcial (get_repost)・・・JIKOOK or T...  979642177570656257   \n",
       "13251  Look - GOT7https://t.co/VrzKFobSes#GOT7 #갓세븐#E...  979663375595655168   \n",
       "\n",
       "                     RT  \n",
       "13247    RT @CRUSHonBAM  \n",
       "13248              None  \n",
       "13249     RT @semljnika  \n",
       "13250              None  \n",
       "13251  RT @GOT7Official  "
      ]
     },
     "execution_count": 14,
     "metadata": {},
     "output_type": "execute_result"
    }
   ],
   "source": [
    "cldf.head()"
   ]
  },
  {
   "cell_type": "markdown",
   "metadata": {},
   "source": [
    "## Plot by Month"
   ]
  },
  {
   "cell_type": "code",
   "execution_count": 15,
   "metadata": {},
   "outputs": [
    {
     "data": {
      "text/plain": [
       "<matplotlib.axes._subplots.AxesSubplot at 0x7f85400e36d0>"
      ]
     },
     "execution_count": 15,
     "metadata": {},
     "output_type": "execute_result"
    },
    {
     "data": {
      "image/png": "[encoded data removed]",
      "text/plain": [
       "<Figure size 432x288 with 1 Axes>"
      ]
     },
     "metadata": {
      "needs_background": "light"
     },
     "output_type": "display_data"
    }
   ],
   "source": [
    "cldf.tweet.groupby([cldf['date'].dt.year,cldf[\"date\"].dt.month]).count().plot(kind=\"bar\")"
   ]
  },
  {
   "cell_type": "markdown",
   "metadata": {},
   "source": [
    "## Sort by Number of Followers"
   ]
  },
  {
   "cell_type": "code",
   "execution_count": 16,
   "metadata": {},
   "outputs": [
    {
     "data": {
      "text/html": [
       "<div>\n",
       "<style scoped>\n",
       "    .dataframe tbody tr th:only-of-type {\n",
       "        vertical-align: middle;\n",
       "    }\n",
       "\n",
       "    .dataframe tbody tr th {\n",
       "        vertical-align: top;\n",
       "    }\n",
       "\n",
       "    .dataframe thead th {\n",
       "        text-align: right;\n",
       "    }\n",
       "</style>\n",
       "<table border=\"1\" class=\"dataframe\">\n",
       "  <thead>\n",
       "    <tr style=\"text-align: right;\">\n",
       "      <th></th>\n",
       "      <th>date</th>\n",
       "      <th>followers</th>\n",
       "      <th>username</th>\n",
       "      <th>location</th>\n",
       "      <th>tweet</th>\n",
       "      <th>id</th>\n",
       "      <th>RT</th>\n",
       "    </tr>\n",
       "  </thead>\n",
       "  <tbody>\n",
       "    <tr>\n",
       "      <th>7711</th>\n",
       "      <td>2018-06-18 23:21:00</td>\n",
       "      <td>4038926</td>\n",
       "      <td>revistasuper</td>\n",
       "      <td>São Paulo, Brazil</td>\n",
       "      <td>rest in peace 🙏🙏🙏  I never told you how much y...</td>\n",
       "      <td>1008852107561185281</td>\n",
       "      <td>None</td>\n",
       "    </tr>\n",
       "    <tr>\n",
       "      <th>15845</th>\n",
       "      <td>2019-07-02 15:57:24</td>\n",
       "      <td>522297</td>\n",
       "      <td>flightradar24</td>\n",
       "      <td>Stockholm, Sweden</td>\n",
       "      <td>Is Canada on your bucket list? We've flights f...</td>\n",
       "      <td>1146085473024172034</td>\n",
       "      <td>None</td>\n",
       "    </tr>\n",
       "    <tr>\n",
       "      <th>15993</th>\n",
       "      <td>2019-07-10 14:22:07</td>\n",
       "      <td>305361</td>\n",
       "      <td>KatiePiper_</td>\n",
       "      <td>London</td>\n",
       "      <td>.@HarperCollinsUK to supply flying library for...</td>\n",
       "      <td>1148960597083643904</td>\n",
       "      <td>RT @BookBrunch</td>\n",
       "    </tr>\n",
       "    <tr>\n",
       "      <th>218</th>\n",
       "      <td>2018-06-18 21:03:33</td>\n",
       "      <td>261184</td>\n",
       "      <td>Muse__Love</td>\n",
       "      <td>None</td>\n",
       "      <td>🚨Retweet &amp;amp; Like Follow immediately.❗💰🔴🔻Ret...</td>\n",
       "      <td>1008817517106786305</td>\n",
       "      <td>RT @Sexy__Katty</td>\n",
       "    </tr>\n",
       "    <tr>\n",
       "      <th>7496</th>\n",
       "      <td>2018-06-08 11:04:36</td>\n",
       "      <td>250360</td>\n",
       "      <td>koji2530112</td>\n",
       "      <td>Japan</td>\n",
       "      <td>Follow everyone who retweets and likes this🌹#i...</td>\n",
       "      <td>1005042907768745985</td>\n",
       "      <td>RT @iHarryEmpires</td>\n",
       "    </tr>\n",
       "    <tr>\n",
       "      <th>631</th>\n",
       "      <td>2018-06-24 19:42:11</td>\n",
       "      <td>201073</td>\n",
       "      <td>cattina3</td>\n",
       "      <td>Italy❤#1DDrive❤#TeamStallion</td>\n",
       "      <td>Follow everyone who retweets and likes this co...</td>\n",
       "      <td>1010971367720783875</td>\n",
       "      <td>RT @elytomlinson91</td>\n",
       "    </tr>\n",
       "    <tr>\n",
       "      <th>6510</th>\n",
       "      <td>2018-06-04 15:55:59</td>\n",
       "      <td>185818</td>\n",
       "      <td>BastrikDorianGr</td>\n",
       "      <td>None</td>\n",
       "      <td>Join YES to celebrate #YES50 at Theatre at Wes...</td>\n",
       "      <td>1003666685306572801</td>\n",
       "      <td>RT @yesofficial</td>\n",
       "    </tr>\n",
       "    <tr>\n",
       "      <th>12476</th>\n",
       "      <td>2018-06-23 19:32:29</td>\n",
       "      <td>179102</td>\n",
       "      <td>marianoalbi</td>\n",
       "      <td>Mar del Plata, Argentina</td>\n",
       "      <td>Gain 1000 more followers in 35 mins!!✓Retweet ...</td>\n",
       "      <td>1010606538774450176</td>\n",
       "      <td>RT @pyewaw</td>\n",
       "    </tr>\n",
       "    <tr>\n",
       "      <th>15306</th>\n",
       "      <td>2019-07-05 08:33:43</td>\n",
       "      <td>141046</td>\n",
       "      <td>TamekaRaymond</td>\n",
       "      <td>Recaliberating...</td>\n",
       "      <td>@AirFranceFR  I have been waiting for 2 hours ...</td>\n",
       "      <td>1147060980033175553</td>\n",
       "      <td>None</td>\n",
       "    </tr>\n",
       "    <tr>\n",
       "      <th>3734</th>\n",
       "      <td>2018-06-21 18:00:01</td>\n",
       "      <td>129561</td>\n",
       "      <td>RoomMateHotels</td>\n",
       "      <td>Madrid, España</td>\n",
       "      <td>180616 GOT7 2018 WORLD TOUR EYES ON YOU IN TAI...</td>\n",
       "      <td>1009858493044518912</td>\n",
       "      <td>None</td>\n",
       "    </tr>\n",
       "    <tr>\n",
       "      <th>9510</th>\n",
       "      <td>2018-06-05 18:42:39</td>\n",
       "      <td>124615</td>\n",
       "      <td>AAJELPOST</td>\n",
       "      <td>None</td>\n",
       "      <td>The UN envoy to Yemen leaves Sanaa after encou...</td>\n",
       "      <td>1004071016212189185</td>\n",
       "      <td>None</td>\n",
       "    </tr>\n",
       "    <tr>\n",
       "      <th>15581</th>\n",
       "      <td>2019-07-07 14:36:56</td>\n",
       "      <td>124613</td>\n",
       "      <td>XXXBellaRose</td>\n",
       "      <td>#bellasfellas</td>\n",
       "      <td>@XXXBellaRose @AmericanAir Second tweet I've s...</td>\n",
       "      <td>1147877162222936065</td>\n",
       "      <td>RT @cullenscuties</td>\n",
       "    </tr>\n",
       "    <tr>\n",
       "      <th>13803</th>\n",
       "      <td>2018-04-22 15:12:21</td>\n",
       "      <td>117525</td>\n",
       "      <td>oda_f</td>\n",
       "      <td>Japan</td>\n",
       "      <td>WHO'S ROCKING WIT DA BEST... #TheOhioPlayersPr...</td>\n",
       "      <td>988073026414567424</td>\n",
       "      <td>RT @wanderingstarz1</td>\n",
       "    </tr>\n",
       "    <tr>\n",
       "      <th>14042</th>\n",
       "      <td>2018-04-24 11:52:02</td>\n",
       "      <td>115234</td>\n",
       "      <td>NiaAaliya</td>\n",
       "      <td>None</td>\n",
       "      <td>If your foresight is incredible   Stay stubbor...</td>\n",
       "      <td>988747390806044673</td>\n",
       "      <td>RT @kanyewest</td>\n",
       "    </tr>\n",
       "    <tr>\n",
       "      <th>11820</th>\n",
       "      <td>2018-06-26 19:05:29</td>\n",
       "      <td>110825</td>\n",
       "      <td>ilkaycandogan</td>\n",
       "      <td>None</td>\n",
       "      <td>@DemetAkalin You’re mom @KimKardashian https:/...</td>\n",
       "      <td>1011686907594575873</td>\n",
       "      <td>None</td>\n",
       "    </tr>\n",
       "    <tr>\n",
       "      <th>1411</th>\n",
       "      <td>2018-06-02 19:23:29</td>\n",
       "      <td>110242</td>\n",
       "      <td>2_wounds2014</td>\n",
       "      <td>☜ هي لحظات تذهب في لحظة 💜 !✶</td>\n",
       "      <td>The train is still in motion!💯🌍🔥Retweet 🔥Like🔥...</td>\n",
       "      <td>1002994128668561409</td>\n",
       "      <td>RT @TrapaDrive</td>\n",
       "    </tr>\n",
       "    <tr>\n",
       "      <th>1579</th>\n",
       "      <td>2018-06-03 16:00:32</td>\n",
       "      <td>103685</td>\n",
       "      <td>Sophia1Kamila_</td>\n",
       "      <td>#ᎶคιɲωιтнᎢᎻคℒᎽ</td>\n",
       "      <td>Gain 200+ followers✨Follow me &amp;amp; all who Re...</td>\n",
       "      <td>1003305442477576194</td>\n",
       "      <td>RT @AreYouTingTong</td>\n",
       "    </tr>\n",
       "    <tr>\n",
       "      <th>15286</th>\n",
       "      <td>2018-06-27 19:15:03</td>\n",
       "      <td>99303</td>\n",
       "      <td>General_Sharaf</td>\n",
       "      <td>None</td>\n",
       "      <td>The aggression clearly violates the human righ...</td>\n",
       "      <td>1012051702990680066</td>\n",
       "      <td>None</td>\n",
       "    </tr>\n",
       "    <tr>\n",
       "      <th>755</th>\n",
       "      <td>2018-06-21 22:57:11</td>\n",
       "      <td>98379</td>\n",
       "      <td>V2_N_St0</td>\n",
       "      <td>#TeamWolFPack #TmLily  #TmKindness #TM_BFF</td>\n",
       "      <td>Follow everyone who retweets and likes this co...</td>\n",
       "      <td>1009933277476655104</td>\n",
       "      <td>RT @iHarryEmpires</td>\n",
       "    </tr>\n",
       "    <tr>\n",
       "      <th>14052</th>\n",
       "      <td>2018-04-24 16:52:52</td>\n",
       "      <td>96602</td>\n",
       "      <td>weirddiaryofDOU</td>\n",
       "      <td>suriye değil</td>\n",
       "      <td>Antique Round Safety Glasses Goggles #Steampun...</td>\n",
       "      <td>988823097980674048</td>\n",
       "      <td>None</td>\n",
       "    </tr>\n",
       "  </tbody>\n",
       "</table>\n",
       "</div>"
      ],
      "text/plain": [
       "                     date  followers         username  \\\n",
       "7711  2018-06-18 23:21:00    4038926     revistasuper   \n",
       "15845 2019-07-02 15:57:24     522297    flightradar24   \n",
       "15993 2019-07-10 14:22:07     305361      KatiePiper_   \n",
       "218   2018-06-18 21:03:33     261184       Muse__Love   \n",
       "7496  2018-06-08 11:04:36     250360      koji2530112   \n",
       "631   2018-06-24 19:42:11     201073         cattina3   \n",
       "6510  2018-06-04 15:55:59     185818  BastrikDorianGr   \n",
       "12476 2018-06-23 19:32:29     179102      marianoalbi   \n",
       "15306 2019-07-05 08:33:43     141046    TamekaRaymond   \n",
       "3734  2018-06-21 18:00:01     129561   RoomMateHotels   \n",
       "9510  2018-06-05 18:42:39     124615        AAJELPOST   \n",
       "15581 2019-07-07 14:36:56     124613     XXXBellaRose   \n",
       "13803 2018-04-22 15:12:21     117525            oda_f   \n",
       "14042 2018-04-24 11:52:02     115234        NiaAaliya   \n",
       "11820 2018-06-26 19:05:29     110825    ilkaycandogan   \n",
       "1411  2018-06-02 19:23:29     110242     2_wounds2014   \n",
       "1579  2018-06-03 16:00:32     103685   Sophia1Kamila_   \n",
       "15286 2018-06-27 19:15:03      99303   General_Sharaf   \n",
       "755   2018-06-21 22:57:11      98379         V2_N_St0   \n",
       "14052 2018-04-24 16:52:52      96602  weirddiaryofDOU   \n",
       "\n",
       "                                         location  \\\n",
       "7711                            São Paulo, Brazil   \n",
       "15845                           Stockholm, Sweden   \n",
       "15993                                      London   \n",
       "218                                          None   \n",
       "7496                                        Japan   \n",
       "631                  Italy❤#1DDrive❤#TeamStallion   \n",
       "6510                                         None   \n",
       "12476                    Mar del Plata, Argentina   \n",
       "15306                           Recaliberating...   \n",
       "3734                               Madrid, España   \n",
       "9510                                         None   \n",
       "15581                               #bellasfellas   \n",
       "13803                                       Japan   \n",
       "14042                                        None   \n",
       "11820                                        None   \n",
       "1411                 ☜ هي لحظات تذهب في لحظة 💜 !✶   \n",
       "1579                               #ᎶคιɲωιтнᎢᎻคℒᎽ   \n",
       "15286                                        None   \n",
       "755    #TeamWolFPack #TmLily  #TmKindness #TM_BFF   \n",
       "14052                                suriye değil   \n",
       "\n",
       "                                                   tweet                   id  \\\n",
       "7711   rest in peace 🙏🙏🙏  I never told you how much y...  1008852107561185281   \n",
       "15845  Is Canada on your bucket list? We've flights f...  1146085473024172034   \n",
       "15993  .@HarperCollinsUK to supply flying library for...  1148960597083643904   \n",
       "218    🚨Retweet &amp; Like Follow immediately.❗💰🔴🔻Ret...  1008817517106786305   \n",
       "7496   Follow everyone who retweets and likes this🌹#i...  1005042907768745985   \n",
       "631    Follow everyone who retweets and likes this co...  1010971367720783875   \n",
       "6510   Join YES to celebrate #YES50 at Theatre at Wes...  1003666685306572801   \n",
       "12476  Gain 1000 more followers in 35 mins!!✓Retweet ...  1010606538774450176   \n",
       "15306  @AirFranceFR  I have been waiting for 2 hours ...  1147060980033175553   \n",
       "3734   180616 GOT7 2018 WORLD TOUR EYES ON YOU IN TAI...  1009858493044518912   \n",
       "9510   The UN envoy to Yemen leaves Sanaa after encou...  1004071016212189185   \n",
       "15581  @XXXBellaRose @AmericanAir Second tweet I've s...  1147877162222936065   \n",
       "13803  WHO'S ROCKING WIT DA BEST... #TheOhioPlayersPr...   988073026414567424   \n",
       "14042  If your foresight is incredible   Stay stubbor...   988747390806044673   \n",
       "11820  @DemetAkalin You’re mom @KimKardashian https:/...  1011686907594575873   \n",
       "1411   The train is still in motion!💯🌍🔥Retweet 🔥Like🔥...  1002994128668561409   \n",
       "1579   Gain 200+ followers✨Follow me &amp; all who Re...  1003305442477576194   \n",
       "15286  The aggression clearly violates the human righ...  1012051702990680066   \n",
       "755    Follow everyone who retweets and likes this co...  1009933277476655104   \n",
       "14052  Antique Round Safety Glasses Goggles #Steampun...   988823097980674048   \n",
       "\n",
       "                        RT  \n",
       "7711                  None  \n",
       "15845                 None  \n",
       "15993       RT @BookBrunch  \n",
       "218        RT @Sexy__Katty  \n",
       "7496     RT @iHarryEmpires  \n",
       "631     RT @elytomlinson91  \n",
       "6510       RT @yesofficial  \n",
       "12476           RT @pyewaw  \n",
       "15306                 None  \n",
       "3734                  None  \n",
       "9510                  None  \n",
       "15581    RT @cullenscuties  \n",
       "13803  RT @wanderingstarz1  \n",
       "14042        RT @kanyewest  \n",
       "11820                 None  \n",
       "1411        RT @TrapaDrive  \n",
       "1579    RT @AreYouTingTong  \n",
       "15286                 None  \n",
       "755      RT @iHarryEmpires  \n",
       "14052                 None  "
      ]
     },
     "execution_count": 16,
     "metadata": {},
     "output_type": "execute_result"
    }
   ],
   "source": [
    "TOP_N = 20 ## USE THIS VARIABLE TO SET THE NUMBER OF USERS TO ANALYZE\n",
    "cldf.followers = df.followers.astype(int)\n",
    "cldf.sort_values(by='followers',ascending=False,inplace=True)\n",
    "cldf.head(TOP_N)"
   ]
  },
  {
   "cell_type": "code",
   "execution_count": 17,
   "metadata": {},
   "outputs": [
    {
     "data": {
      "image/png": "[encoded data removed]",
      "text/plain": [
       "<Figure size 432x288 with 1 Axes>"
      ]
     },
     "metadata": {
      "needs_background": "light"
     },
     "output_type": "display_data"
    }
   ],
   "source": [
    "plt.bar(cldf.iloc[:TOP_N].username.astype(str),cldf.iloc[:TOP_N].followers.astype(int))\n",
    "plt.xticks(rotation='vertical')\n",
    "plt.show()"
   ]
  },
  {
   "cell_type": "markdown",
   "metadata": {},
   "source": [
    "## Top Hashtags"
   ]
  },
  {
   "cell_type": "code",
   "execution_count": 18,
   "metadata": {},
   "outputs": [
    {
     "name": "stdout",
     "output_type": "stream",
     "text": [
      "[244, 247, 253, 265, 280, 304, 310, 320, 337, 341, 410, 419, 454, 479, 526, 702, 852, 946, 1062, 1132]\n"
     ]
    },
    {
     "name": "stderr",
     "output_type": "stream",
     "text": [
      "/opt/anaconda3/lib/python3.8/site-packages/matplotlib/backends/backend_agg.py:214: RuntimeWarning: Glyph 47560 missing from current font.\n",
      "  font.set_text(s, 0.0, flags=flags)\n",
      "/opt/anaconda3/lib/python3.8/site-packages/matplotlib/backends/backend_agg.py:214: RuntimeWarning: Glyph 53356 missing from current font.\n",
      "  font.set_text(s, 0.0, flags=flags)\n",
      "/opt/anaconda3/lib/python3.8/site-packages/matplotlib/backends/backend_agg.py:214: RuntimeWarning: Glyph 50976 missing from current font.\n",
      "  font.set_text(s, 0.0, flags=flags)\n",
      "/opt/anaconda3/lib/python3.8/site-packages/matplotlib/backends/backend_agg.py:214: RuntimeWarning: Glyph 44216 missing from current font.\n",
      "  font.set_text(s, 0.0, flags=flags)\n",
      "/opt/anaconda3/lib/python3.8/site-packages/matplotlib/backends/backend_agg.py:214: RuntimeWarning: Glyph 52268 missing from current font.\n",
      "  font.set_text(s, 0.0, flags=flags)\n",
      "/opt/anaconda3/lib/python3.8/site-packages/matplotlib/backends/backend_agg.py:214: RuntimeWarning: Glyph 50676 missing from current font.\n",
      "  font.set_text(s, 0.0, flags=flags)\n",
      "/opt/anaconda3/lib/python3.8/site-packages/matplotlib/backends/backend_agg.py:214: RuntimeWarning: Glyph 44051 missing from current font.\n",
      "  font.set_text(s, 0.0, flags=flags)\n",
      "/opt/anaconda3/lib/python3.8/site-packages/matplotlib/backends/backend_agg.py:214: RuntimeWarning: Glyph 49464 missing from current font.\n",
      "  font.set_text(s, 0.0, flags=flags)\n",
      "/opt/anaconda3/lib/python3.8/site-packages/matplotlib/backends/backend_agg.py:214: RuntimeWarning: Glyph 48656 missing from current font.\n",
      "  font.set_text(s, 0.0, flags=flags)\n",
      "/opt/anaconda3/lib/python3.8/site-packages/matplotlib/backends/backend_agg.py:183: RuntimeWarning: Glyph 47560 missing from current font.\n",
      "  font.set_text(s, 0, flags=flags)\n",
      "/opt/anaconda3/lib/python3.8/site-packages/matplotlib/backends/backend_agg.py:183: RuntimeWarning: Glyph 53356 missing from current font.\n",
      "  font.set_text(s, 0, flags=flags)\n",
      "/opt/anaconda3/lib/python3.8/site-packages/matplotlib/backends/backend_agg.py:183: RuntimeWarning: Glyph 50976 missing from current font.\n",
      "  font.set_text(s, 0, flags=flags)\n",
      "/opt/anaconda3/lib/python3.8/site-packages/matplotlib/backends/backend_agg.py:183: RuntimeWarning: Glyph 44216 missing from current font.\n",
      "  font.set_text(s, 0, flags=flags)\n",
      "/opt/anaconda3/lib/python3.8/site-packages/matplotlib/backends/backend_agg.py:183: RuntimeWarning: Glyph 52268 missing from current font.\n",
      "  font.set_text(s, 0, flags=flags)\n",
      "/opt/anaconda3/lib/python3.8/site-packages/matplotlib/backends/backend_agg.py:183: RuntimeWarning: Glyph 50676 missing from current font.\n",
      "  font.set_text(s, 0, flags=flags)\n",
      "/opt/anaconda3/lib/python3.8/site-packages/matplotlib/backends/backend_agg.py:183: RuntimeWarning: Glyph 44051 missing from current font.\n",
      "  font.set_text(s, 0, flags=flags)\n",
      "/opt/anaconda3/lib/python3.8/site-packages/matplotlib/backends/backend_agg.py:183: RuntimeWarning: Glyph 49464 missing from current font.\n",
      "  font.set_text(s, 0, flags=flags)\n",
      "/opt/anaconda3/lib/python3.8/site-packages/matplotlib/backends/backend_agg.py:183: RuntimeWarning: Glyph 48656 missing from current font.\n",
      "  font.set_text(s, 0, flags=flags)\n"
     ]
    },
    {
     "data": {
      "image/png": "[encoded data removed]",
      "text/plain": [
       "<Figure size 432x288 with 1 Axes>"
      ]
     },
     "metadata": {
      "needs_background": "light"
     },
     "output_type": "display_data"
    }
   ],
   "source": [
    "TOP_N = 20 ## USE THIS NUMBER TO SET THE NUMBER OF TOP HASHTAGS TO LOOK AT\n",
    "ana.topHashtags(tweets,TOP_N)"
   ]
  },
  {
   "cell_type": "markdown",
   "metadata": {},
   "source": [
    "## Top User Mentions"
   ]
  },
  {
   "cell_type": "code",
   "execution_count": 19,
   "metadata": {},
   "outputs": [
    {
     "name": "stdout",
     "output_type": "stream",
     "text": [
      "[21, 21, 22, 22, 25, 27, 31, 31, 36, 50, 54, 59, 72, 98, 100, 146, 217, 329, 565, 643]\n"
     ]
    },
    {
     "data": {
      "image/png": "[encoded data removed]",
      "text/plain": [
       "<Figure size 432x288 with 1 Axes>"
      ]
     },
     "metadata": {
      "needs_background": "light"
     },
     "output_type": "display_data"
    }
   ],
   "source": [
    "TOP_N = 20 ## USE THIS NUMBER TO SET THE NUMBER OF TOP USER MENTIONS TO LOOK AT\n",
    "ana.topUserMentions(tweets,TOP_N)"
   ]
  },
  {
   "cell_type": "code",
   "execution_count": null,
   "metadata": {},
   "outputs": [],
   "source": []
  },
  {
   "cell_type": "code",
   "execution_count": null,
   "metadata": {},
   "outputs": [],
   "source": []
  }
 ],
 "metadata": {
  "interpreter": {
   "hash": "40d3a090f54c6569ab1632332b64b2c03c39dcf918b08424e98f38b5ae0af88f"
  },
  "kernelspec": {
   "display_name": "Python 3.8.5 64-bit (conda)",
   "name": "python3"
  },
  "language_info": {
   "codemirror_mode": {
    "name": "ipython",
    "version": 3
   },
   "file_extension": ".py",
   "mimetype": "text/x-python",
   "name": "python",
   "nbconvert_exporter": "python",
   "pygments_lexer": "ipython3",
   "version": "3.8.5"
  }
 },
 "nbformat": 4,
 "nbformat_minor": 2
}
