{
 "cells": [
  {
   "cell_type": "markdown",
   "metadata": {},
   "source": [
    "# Descriptive Analysis Notebook"
   ]
  },
  {
   "cell_type": "markdown",
   "metadata": {},
   "source": [
    "#### This notebook contains a demonstration of the tools necessary for conducting descriptive analysis of the data. This includes things such as frequency analysis, descripting statistics and temporal frequency."
   ]
  },
  {
   "cell_type": "code",
<<<<<<< HEAD
   "execution_count": 1,
=======
   "execution_count": null,
>>>>>>> f267001ef71f06d1b8f180bada6cecdc1936cf0a
   "metadata": {},
   "outputs": [],
   "source": [
    "import trt_API.process as proc\n",
    "import trt_API.analysis as ana\n",
    "import pandas as pd\n",
    "import matplotlib.pyplot as plt\n",
    "SORTED = False"
   ]
  },
  {
   "cell_type": "markdown",
   "metadata": {},
   "source": [
    "## Variables for Analysis"
   ]
  },
  {
   "cell_type": "code",
<<<<<<< HEAD
   "execution_count": 2,
=======
   "execution_count": null,
>>>>>>> f267001ef71f06d1b8f180bada6cecdc1936cf0a
   "metadata": {},
   "outputs": [],
   "source": [
    "# Set the path to the parent directory containing all Tweets of interest\n",
    "DIRECTORY = './tweets/*'\n",
    "# Set to True to isolate english language tweets\n",
<<<<<<< HEAD
    "ENGLISH = True"
=======
    "ENGLISH = False"
>>>>>>> f267001ef71f06d1b8f180bada6cecdc1936cf0a
   ]
  },
  {
   "cell_type": "markdown",
   "metadata": {},
   "source": [
    "## Load Tweet and Generate Dataframe"
   ]
  },
  {
   "cell_type": "code",
<<<<<<< HEAD
   "execution_count": 3,
   "metadata": {},
   "outputs": [
    {
     "name": "stdout",
     "output_type": "stream",
     "text": [
      "Loaded utf-8 df.\n",
      "Initial size: 21766\n",
      "Dropping duplicates...\n",
      "Final size: 19500\n"
     ]
    }
   ],
=======
   "execution_count": null,
   "metadata": {},
   "outputs": [],
>>>>>>> f267001ef71f06d1b8f180bada6cecdc1936cf0a
   "source": [
    "tweet_objects = proc.loadTweetObjects(DIRECTORY)\n",
    "encoding = True #Use False on Macs for better results\n",
    "df = proc.convertTweetsToDataframe(tweet_objects, ENGLISH, encoding)"
   ]
  },
  {
   "cell_type": "markdown",
   "metadata": {},
   "source": [
    "## Extract Potential Cashtags"
   ]
  },
  {
   "cell_type": "code",
<<<<<<< HEAD
   "execution_count": 4,
   "metadata": {},
   "outputs": [
    {
     "name": "stdout",
     "output_type": "stream",
     "text": [
      "Total potential Cashtags: 113\n"
     ]
    }
   ],
=======
   "execution_count": null,
   "metadata": {},
   "outputs": [],
>>>>>>> f267001ef71f06d1b8f180bada6cecdc1936cf0a
   "source": [
    "ctdf = proc.extractPossibleCashtags(df)"
   ]
  },
  {
   "cell_type": "markdown",
   "metadata": {},
   "source": [
    "## Removing Noisy Tweets"
   ]
  },
  {
   "cell_type": "code",
<<<<<<< HEAD
   "execution_count": 5,
   "metadata": {},
   "outputs": [
    {
     "name": "stdout",
     "output_type": "stream",
     "text": [
      "Removed 0 noisy terms.\n"
     ]
    }
   ],
=======
   "execution_count": null,
   "metadata": {},
   "outputs": [],
>>>>>>> f267001ef71f06d1b8f180bada6cecdc1936cf0a
   "source": [
    "'''\n",
    "*** Tweets often use popular hashtags with unrelated topics.\n",
    "*** Noisy words can be identified to use to filter such tweets.\n",
    "*** Enter these words below in the noisy_terms list.\n",
    "'''\n",
    "noisy_terms = []\n",
    "cldf = proc.removeNoisyTerms(df, noisy_terms)"
   ]
  },
  {
   "cell_type": "markdown",
   "metadata": {},
   "source": [
    "## Remove Retweets"
   ]
  },
  {
   "cell_type": "code",
<<<<<<< HEAD
   "execution_count": 6,
   "metadata": {},
   "outputs": [
    {
     "name": "stdout",
     "output_type": "stream",
     "text": [
      "Removed 7556 duplicates.\n"
     ]
    },
    {
     "name": "stderr",
     "output_type": "stream",
     "text": [
      "/Users/rajuy/Documents/twitter_research_tools-master/notebooks/trt_API/process.py:210: SettingWithCopyWarning: \n",
      "A value is trying to be set on a copy of a slice from a DataFrame\n",
      "\n",
      "See the caveats in the documentation: https://pandas.pydata.org/pandas-docs/stable/user_guide/indexing.html#returning-a-view-versus-a-copy\n",
      "  df['RT'][df.tweet.astype(str).str[0:2] == 'RT'] = df.tweet.str.split(':',expand=True).iloc[:,0]\n"
     ]
    }
   ],
=======
   "execution_count": null,
   "metadata": {},
   "outputs": [],
>>>>>>> f267001ef71f06d1b8f180bada6cecdc1936cf0a
   "source": [
    "cldf_no_RT, cldf = proc.removeRetweets(cldf)"
   ]
  },
  {
   "cell_type": "code",
<<<<<<< HEAD
   "execution_count": 7,
   "metadata": {},
   "outputs": [
    {
     "name": "stdout",
     "output_type": "stream",
     "text": [
      "11944\n"
     ]
    }
   ],
=======
   "execution_count": null,
   "metadata": {},
   "outputs": [],
>>>>>>> f267001ef71f06d1b8f180bada6cecdc1936cf0a
   "source": [
    "print(cldf_no_RT.shape[0])"
   ]
  },
  {
   "cell_type": "markdown",
   "metadata": {},
   "source": [
    "## Convert Tweets to List"
   ]
  },
  {
   "cell_type": "code",
<<<<<<< HEAD
   "execution_count": 8,
   "metadata": {},
   "outputs": [
    {
     "name": "stdout",
     "output_type": "stream",
     "text": [
      "                      date  followers         username  location  \\\n",
      "0  Apr 06 01:04:05 2018\\t0       1229  CoolHomeStyling      None   \n",
      "1  Apr 06 01:26:04 2018\\t0        135   Pengu_Minaring      None   \n",
      "2  Apr 06 01:29:08 2018\\t0        277      vicky160381      None   \n",
      "3  Apr 06 01:50:45 2018\\t0         14       izakmwangi  laikipia   \n",
      "4  Apr 06 02:44:42 2018\\t0          0      eunnevling3      None   \n",
      "\n",
      "                                               tweet                   RT  \n",
      "0  Who is ready to do #EcoFriendly home decor? #D...      RT @JoyfullyECO  \n",
      "1  Damage from the LA #earthquake https://t.co/dD...   RT @chrisitiankale  \n",
      "2  Beautiful Pink and Yellow Tulips Garden#Nature...      RT @EnjoyNature  \n",
      "3                #LaikipiaNatureAmbassadorsWay to go                 None  \n",
      "4  Be safe #DTLA  #earthquake https://t.co/ky82AD...  RT @BonnielynnMarie  \n"
     ]
    },
    {
     "name": "stderr",
     "output_type": "stream",
     "text": [
      "<ipython-input-8-a3c3d762bb2e>:1: SettingWithCopyWarning: \n",
      "A value is trying to be set on a copy of a slice from a DataFrame\n",
      "\n",
      "See the caveats in the documentation: https://pandas.pydata.org/pandas-docs/stable/user_guide/indexing.html#returning-a-view-versus-a-copy\n",
      "  cldf['original_tweet'][cldf.original_tweet == 'None'] = cldf['tweet']\n"
     ]
    }
   ],
=======
   "execution_count": null,
   "metadata": {},
   "outputs": [],
>>>>>>> f267001ef71f06d1b8f180bada6cecdc1936cf0a
   "source": [
    "cldf['original_tweet'][cldf.original_tweet == 'None'] = cldf['tweet']\n",
    "cldf['tweet'] = cldf['original_tweet']\n",
    "del cldf['original_tweet']\n",
    "print(cldf.head())\n",
    "tweets = list(cldf.tweet)"
   ]
  },
  {
   "cell_type": "markdown",
   "metadata": {},
   "source": [
    "## Hashtag Frequencies"
   ]
  },
  {
   "cell_type": "code",
<<<<<<< HEAD
   "execution_count": 9,
=======
   "execution_count": null,
>>>>>>> f267001ef71f06d1b8f180bada6cecdc1936cf0a
   "metadata": {},
   "outputs": [],
   "source": [
    "hashtags = []"
   ]
  },
  {
   "cell_type": "code",
<<<<<<< HEAD
   "execution_count": 10,
   "metadata": {},
   "outputs": [
    {
     "data": {
      "image/png": "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\n",
      "text/plain": [
       "<Figure size 432x288 with 1 Axes>"
      ]
     },
     "metadata": {
      "needs_background": "light"
     },
     "output_type": "display_data"
    },
    {
     "data": {
      "text/plain": [
       "[]"
      ]
     },
     "execution_count": 10,
     "metadata": {},
     "output_type": "execute_result"
    }
   ],
=======
   "execution_count": null,
   "metadata": {},
   "outputs": [],
>>>>>>> f267001ef71f06d1b8f180bada6cecdc1936cf0a
   "source": [
    "ana.countItems(hashtags,tweets,PLOT=True,PRINT=False)"
   ]
  },
  {
   "cell_type": "code",
<<<<<<< HEAD
   "execution_count": 11,
=======
   "execution_count": null,
>>>>>>> f267001ef71f06d1b8f180bada6cecdc1936cf0a
   "metadata": {},
   "outputs": [],
   "source": [
    "usernames = []"
   ]
  },
  {
   "cell_type": "code",
<<<<<<< HEAD
   "execution_count": 12,
   "metadata": {},
   "outputs": [
    {
     "data": {
      "image/png": "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\n",
      "text/plain": [
       "<Figure size 432x288 with 1 Axes>"
      ]
     },
     "metadata": {
      "needs_background": "light"
     },
     "output_type": "display_data"
    },
    {
     "data": {
      "text/plain": [
       "[]"
      ]
     },
     "execution_count": 12,
     "metadata": {},
     "output_type": "execute_result"
    }
   ],
=======
   "execution_count": null,
   "metadata": {},
   "outputs": [],
>>>>>>> f267001ef71f06d1b8f180bada6cecdc1936cf0a
   "source": [
    "ana.countItems(usernames,tweets,PLOT=True,PRINT=False)"
   ]
  },
  {
   "cell_type": "markdown",
   "metadata": {},
   "source": [
    "## Sort By Date"
   ]
  },
  {
   "cell_type": "code",
<<<<<<< HEAD
   "execution_count": 13,
=======
   "execution_count": null,
>>>>>>> f267001ef71f06d1b8f180bada6cecdc1936cf0a
   "metadata": {},
   "outputs": [],
   "source": [
    "sorted_cldf, SORTED = ana.sortByDate(cldf,SORTED,PRINT_TOP=False,TOP=10)"
   ]
  },
  {
   "cell_type": "code",
<<<<<<< HEAD
   "execution_count": 14,
   "metadata": {},
   "outputs": [
    {
     "data": {
      "text/html": [
       "<div>\n",
       "<style scoped>\n",
       "    .dataframe tbody tr th:only-of-type {\n",
       "        vertical-align: middle;\n",
       "    }\n",
       "\n",
       "    .dataframe tbody tr th {\n",
       "        vertical-align: top;\n",
       "    }\n",
       "\n",
       "    .dataframe thead th {\n",
       "        text-align: right;\n",
       "    }\n",
       "</style>\n",
       "<table border=\"1\" class=\"dataframe\">\n",
       "  <thead>\n",
       "    <tr style=\"text-align: right;\">\n",
       "      <th></th>\n",
       "      <th>date</th>\n",
       "      <th>followers</th>\n",
       "      <th>username</th>\n",
       "      <th>location</th>\n",
       "      <th>tweet</th>\n",
       "      <th>RT</th>\n",
       "    </tr>\n",
       "  </thead>\n",
       "  <tbody>\n",
       "    <tr>\n",
       "      <th>11381</th>\n",
       "      <td>2018-03-30 02:22:08</td>\n",
       "      <td>197</td>\n",
       "      <td>GoodIdeaAdia</td>\n",
       "      <td>The Town</td>\n",
       "      <td>I'm celebrating #EarthDay by walking 20K steps...</td>\n",
       "      <td>None</td>\n",
       "    </tr>\n",
       "    <tr>\n",
       "      <th>7629</th>\n",
       "      <td>2018-03-30 02:24:23</td>\n",
       "      <td>2712</td>\n",
       "      <td>hanjangho76</td>\n",
       "      <td>San Jose, CA</td>\n",
       "      <td>Now we lead history. #Climatechange https://t....</td>\n",
       "      <td>None</td>\n",
       "    </tr>\n",
       "    <tr>\n",
       "      <th>11382</th>\n",
       "      <td>2018-03-30 02:27:20</td>\n",
       "      <td>1251</td>\n",
       "      <td>mrbertie</td>\n",
       "      <td>None</td>\n",
       "      <td>7 ways towns and #cities are turning from grey...</td>\n",
       "      <td>RT @wef</td>\n",
       "    </tr>\n",
       "    <tr>\n",
       "      <th>7630</th>\n",
       "      <td>2018-03-30 02:36:50</td>\n",
       "      <td>34</td>\n",
       "      <td>KhanNadir4107</td>\n",
       "      <td>None</td>\n",
       "      <td>Blooms lovespring so much,it seems theycome,un...</td>\n",
       "      <td>RT @sagee786</td>\n",
       "    </tr>\n",
       "    <tr>\n",
       "      <th>18565</th>\n",
       "      <td>2018-03-30 02:42:25</td>\n",
       "      <td>877755</td>\n",
       "      <td>Bucks</td>\n",
       "      <td>Milwaukee, WI</td>\n",
       "      <td>Game On In The Bay!!#FearTheDeer https://t.co/...</td>\n",
       "      <td>None</td>\n",
       "    </tr>\n",
       "  </tbody>\n",
       "</table>\n",
       "</div>"
      ],
      "text/plain": [
       "                     date  followers       username       location  \\\n",
       "11381 2018-03-30 02:22:08        197   GoodIdeaAdia       The Town   \n",
       "7629  2018-03-30 02:24:23       2712    hanjangho76   San Jose, CA   \n",
       "11382 2018-03-30 02:27:20       1251       mrbertie           None   \n",
       "7630  2018-03-30 02:36:50         34  KhanNadir4107           None   \n",
       "18565 2018-03-30 02:42:25     877755          Bucks  Milwaukee, WI   \n",
       "\n",
       "                                                   tweet            RT  \n",
       "11381  I'm celebrating #EarthDay by walking 20K steps...          None  \n",
       "7629   Now we lead history. #Climatechange https://t....          None  \n",
       "11382  7 ways towns and #cities are turning from grey...       RT @wef  \n",
       "7630   Blooms lovespring so much,it seems theycome,un...  RT @sagee786  \n",
       "18565  Game On In The Bay!!#FearTheDeer https://t.co/...          None  "
      ]
     },
     "execution_count": 14,
     "metadata": {},
     "output_type": "execute_result"
    }
   ],
=======
   "execution_count": null,
   "metadata": {},
   "outputs": [],
>>>>>>> f267001ef71f06d1b8f180bada6cecdc1936cf0a
   "source": [
    "cldf.head()"
   ]
  },
  {
   "cell_type": "markdown",
   "metadata": {},
   "source": [
    "## Plot by Month"
   ]
  },
  {
   "cell_type": "code",
<<<<<<< HEAD
   "execution_count": 15,
   "metadata": {},
   "outputs": [
    {
     "data": {
      "text/plain": [
       "<AxesSubplot:xlabel='date,date'>"
      ]
     },
     "execution_count": 15,
     "metadata": {},
     "output_type": "execute_result"
    },
    {
     "data": {
      "image/png": "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\n",
      "text/plain": [
       "<Figure size 432x288 with 1 Axes>"
      ]
     },
     "metadata": {
      "needs_background": "light"
     },
     "output_type": "display_data"
    }
   ],
=======
   "execution_count": null,
   "metadata": {},
   "outputs": [],
>>>>>>> f267001ef71f06d1b8f180bada6cecdc1936cf0a
   "source": [
    "cldf.tweet.groupby([cldf['date'].dt.year,cldf[\"date\"].dt.month]).count().plot(kind=\"bar\")"
   ]
  },
  {
   "cell_type": "markdown",
   "metadata": {},
   "source": [
    "## Sort by Number of Followers"
   ]
  },
  {
   "cell_type": "code",
<<<<<<< HEAD
   "execution_count": 16,
   "metadata": {},
   "outputs": [
    {
     "data": {
      "text/html": [
       "<div>\n",
       "<style scoped>\n",
       "    .dataframe tbody tr th:only-of-type {\n",
       "        vertical-align: middle;\n",
       "    }\n",
       "\n",
       "    .dataframe tbody tr th {\n",
       "        vertical-align: top;\n",
       "    }\n",
       "\n",
       "    .dataframe thead th {\n",
       "        text-align: right;\n",
       "    }\n",
       "</style>\n",
       "<table border=\"1\" class=\"dataframe\">\n",
       "  <thead>\n",
       "    <tr style=\"text-align: right;\">\n",
       "      <th></th>\n",
       "      <th>date</th>\n",
       "      <th>followers</th>\n",
       "      <th>username</th>\n",
       "      <th>location</th>\n",
       "      <th>tweet</th>\n",
       "      <th>RT</th>\n",
       "    </tr>\n",
       "  </thead>\n",
       "  <tbody>\n",
       "    <tr>\n",
       "      <th>6419</th>\n",
       "      <td>2018-04-26 21:12:48</td>\n",
       "      <td>27611088</td>\n",
       "      <td>NBA</td>\n",
       "      <td>None</td>\n",
       "      <td>Focused. Giannis is in the building as @Bucks ...</td>\n",
       "      <td>None</td>\n",
       "    </tr>\n",
       "    <tr>\n",
       "      <th>8470</th>\n",
       "      <td>2018-04-21 02:06:39</td>\n",
       "      <td>27584080</td>\n",
       "      <td>NBA</td>\n",
       "      <td>None</td>\n",
       "      <td>Thon Maker DENIAL!#FearTheDeer @ESPNNBA https:...</td>\n",
       "      <td>None</td>\n",
       "    </tr>\n",
       "    <tr>\n",
       "      <th>19124</th>\n",
       "      <td>2018-04-23 18:19:06</td>\n",
       "      <td>13256159</td>\n",
       "      <td>rickygervais</td>\n",
       "      <td>Earth</td>\n",
       "      <td>NEW: Donât miss @rickygervais' first work in...</td>\n",
       "      <td>RT @LiveNationUK</td>\n",
       "    </tr>\n",
       "    <tr>\n",
       "      <th>10874</th>\n",
       "      <td>2018-04-25 07:33:08</td>\n",
       "      <td>8526094</td>\n",
       "      <td>TimesNow</td>\n",
       "      <td>India</td>\n",
       "      <td>The 8th edition of the #EarthCareAwards was he...</td>\n",
       "      <td>None</td>\n",
       "    </tr>\n",
       "    <tr>\n",
       "      <th>2764</th>\n",
       "      <td>2018-04-03 08:42:58</td>\n",
       "      <td>7463408</td>\n",
       "      <td>CGTNOfficial</td>\n",
       "      <td>Beijing, China</td>\n",
       "      <td>M4.9 #earthquake strikes near Kizilsu Kirgiz P...</td>\n",
       "      <td>None</td>\n",
       "    </tr>\n",
       "    <tr>\n",
       "      <th>20385</th>\n",
       "      <td>2018-04-22 20:05:01</td>\n",
       "      <td>4437058</td>\n",
       "      <td>metmuseum</td>\n",
       "      <td>New York, NY</td>\n",
       "      <td>Set a course to find a happy #EarthDay. https:...</td>\n",
       "      <td>None</td>\n",
       "    </tr>\n",
       "    <tr>\n",
       "      <th>18568</th>\n",
       "      <td>2018-03-30 04:00:19</td>\n",
       "      <td>3327638</td>\n",
       "      <td>wef</td>\n",
       "      <td>Geneva, Switzerland</td>\n",
       "      <td>These #solar sails are powering a cruise ship ...</td>\n",
       "      <td>None</td>\n",
       "    </tr>\n",
       "    <tr>\n",
       "      <th>11474</th>\n",
       "      <td>2018-04-02 09:37:03</td>\n",
       "      <td>3005719</td>\n",
       "      <td>rapplerdotcom</td>\n",
       "      <td>Philippines</td>\n",
       "      <td>Space officials stressed that the craft would ...</td>\n",
       "      <td>None</td>\n",
       "    </tr>\n",
       "    <tr>\n",
       "      <th>4590</th>\n",
       "      <td>2018-04-30 22:10:08</td>\n",
       "      <td>2839137</td>\n",
       "      <td>WorldBank</td>\n",
       "      <td>Washington, DC</td>\n",
       "      <td>One of the ways we are addressing #climatechan...</td>\n",
       "      <td>None</td>\n",
       "    </tr>\n",
       "    <tr>\n",
       "      <th>19226</th>\n",
       "      <td>2018-04-30 18:10:11</td>\n",
       "      <td>2838868</td>\n",
       "      <td>WorldBank</td>\n",
       "      <td>Washington, DC</td>\n",
       "      <td>A7: That is why one of my first actions in Con...</td>\n",
       "      <td>None</td>\n",
       "    </tr>\n",
       "    <tr>\n",
       "      <th>5228</th>\n",
       "      <td>2018-04-22 06:28:19</td>\n",
       "      <td>1785462</td>\n",
       "      <td>gautam_rode</td>\n",
       "      <td>Mumbai</td>\n",
       "      <td>On this #EarthDay let's make an effort towards...</td>\n",
       "      <td>None</td>\n",
       "    </tr>\n",
       "    <tr>\n",
       "      <th>21120</th>\n",
       "      <td>2018-04-10 18:52:18</td>\n",
       "      <td>1193788</td>\n",
       "      <td>arstechnica</td>\n",
       "      <td>NYC - Boston - Chicago - SF</td>\n",
       "      <td>Wondering how those new #Hearthstone cards wil...</td>\n",
       "      <td>None</td>\n",
       "    </tr>\n",
       "    <tr>\n",
       "      <th>5046</th>\n",
       "      <td>2018-04-08 05:35:36</td>\n",
       "      <td>1069361</td>\n",
       "      <td>sherylunderwood</td>\n",
       "      <td>where love is...</td>\n",
       "      <td>@RickeySmiley @sosobrat @sherylunderwood Has a...</td>\n",
       "      <td>RT @TSElliott4</td>\n",
       "    </tr>\n",
       "    <tr>\n",
       "      <th>9562</th>\n",
       "      <td>2018-04-22 20:30:07</td>\n",
       "      <td>1064557</td>\n",
       "      <td>Canucks</td>\n",
       "      <td>Vancouver, BC</td>\n",
       "      <td>Happy #EarthDay! ð¿Don't forget to do your b...</td>\n",
       "      <td>None</td>\n",
       "    </tr>\n",
       "    <tr>\n",
       "      <th>5864</th>\n",
       "      <td>2018-04-22 20:31:57</td>\n",
       "      <td>1020952</td>\n",
       "      <td>googleearth</td>\n",
       "      <td>None</td>\n",
       "      <td>@agraj_shri You rock. #ImFeelingEarthy https:/...</td>\n",
       "      <td>None</td>\n",
       "    </tr>\n",
       "    <tr>\n",
       "      <th>16563</th>\n",
       "      <td>2018-04-22 16:30:51</td>\n",
       "      <td>1020904</td>\n",
       "      <td>googleearth</td>\n",
       "      <td>None</td>\n",
       "      <td>@romogo17 Sometimes the Earth doesn't even loo...</td>\n",
       "      <td>None</td>\n",
       "    </tr>\n",
       "    <tr>\n",
       "      <th>1744</th>\n",
       "      <td>2018-04-22 14:28:52</td>\n",
       "      <td>1020863</td>\n",
       "      <td>googleearth</td>\n",
       "      <td>None</td>\n",
       "      <td>@MaryHenryGEO Don't be scared of the shadows. ...</td>\n",
       "      <td>None</td>\n",
       "    </tr>\n",
       "    <tr>\n",
       "      <th>5192</th>\n",
       "      <td>2018-04-22 04:16:25</td>\n",
       "      <td>1020795</td>\n",
       "      <td>googleearth</td>\n",
       "      <td>None</td>\n",
       "      <td>@MasterChiefKel You've really zig zagged into ...</td>\n",
       "      <td>None</td>\n",
       "    </tr>\n",
       "    <tr>\n",
       "      <th>3776</th>\n",
       "      <td>2018-04-20 17:05:54</td>\n",
       "      <td>1020329</td>\n",
       "      <td>googleearth</td>\n",
       "      <td>None</td>\n",
       "      <td>@marcomaroni Welcome, earthling. Enjoy the vie...</td>\n",
       "      <td>None</td>\n",
       "    </tr>\n",
       "    <tr>\n",
       "      <th>10003</th>\n",
       "      <td>2018-04-19 11:12:56</td>\n",
       "      <td>978218</td>\n",
       "      <td>yicaichina</td>\n",
       "      <td>Shanghai, China</td>\n",
       "      <td>#Chinaâs new #environment ministry unveiled,...</td>\n",
       "      <td>None</td>\n",
       "    </tr>\n",
       "  </tbody>\n",
       "</table>\n",
       "</div>"
      ],
      "text/plain": [
       "                     date  followers         username  \\\n",
       "6419  2018-04-26 21:12:48   27611088              NBA   \n",
       "8470  2018-04-21 02:06:39   27584080              NBA   \n",
       "19124 2018-04-23 18:19:06   13256159     rickygervais   \n",
       "10874 2018-04-25 07:33:08    8526094         TimesNow   \n",
       "2764  2018-04-03 08:42:58    7463408     CGTNOfficial   \n",
       "20385 2018-04-22 20:05:01    4437058        metmuseum   \n",
       "18568 2018-03-30 04:00:19    3327638              wef   \n",
       "11474 2018-04-02 09:37:03    3005719    rapplerdotcom   \n",
       "4590  2018-04-30 22:10:08    2839137        WorldBank   \n",
       "19226 2018-04-30 18:10:11    2838868        WorldBank   \n",
       "5228  2018-04-22 06:28:19    1785462      gautam_rode   \n",
       "21120 2018-04-10 18:52:18    1193788      arstechnica   \n",
       "5046  2018-04-08 05:35:36    1069361  sherylunderwood   \n",
       "9562  2018-04-22 20:30:07    1064557          Canucks   \n",
       "5864  2018-04-22 20:31:57    1020952      googleearth   \n",
       "16563 2018-04-22 16:30:51    1020904      googleearth   \n",
       "1744  2018-04-22 14:28:52    1020863      googleearth   \n",
       "5192  2018-04-22 04:16:25    1020795      googleearth   \n",
       "3776  2018-04-20 17:05:54    1020329      googleearth   \n",
       "10003 2018-04-19 11:12:56     978218       yicaichina   \n",
       "\n",
       "                          location  \\\n",
       "6419                          None   \n",
       "8470                          None   \n",
       "19124                        Earth   \n",
       "10874                        India   \n",
       "2764                Beijing, China   \n",
       "20385                 New York, NY   \n",
       "18568          Geneva, Switzerland   \n",
       "11474                  Philippines   \n",
       "4590                Washington, DC   \n",
       "19226               Washington, DC   \n",
       "5228                       Mumbai    \n",
       "21120  NYC - Boston - Chicago - SF   \n",
       "5046              where love is...   \n",
       "9562                 Vancouver, BC   \n",
       "5864                          None   \n",
       "16563                         None   \n",
       "1744                          None   \n",
       "5192                          None   \n",
       "3776                          None   \n",
       "10003              Shanghai, China   \n",
       "\n",
       "                                                   tweet                RT  \n",
       "6419   Focused. Giannis is in the building as @Bucks ...              None  \n",
       "8470   Thon Maker DENIAL!#FearTheDeer @ESPNNBA https:...              None  \n",
       "19124  NEW: Donât miss @rickygervais' first work in...  RT @LiveNationUK  \n",
       "10874  The 8th edition of the #EarthCareAwards was he...              None  \n",
       "2764   M4.9 #earthquake strikes near Kizilsu Kirgiz P...              None  \n",
       "20385  Set a course to find a happy #EarthDay. https:...              None  \n",
       "18568  These #solar sails are powering a cruise ship ...              None  \n",
       "11474  Space officials stressed that the craft would ...              None  \n",
       "4590   One of the ways we are addressing #climatechan...              None  \n",
       "19226  A7: That is why one of my first actions in Con...              None  \n",
       "5228   On this #EarthDay let's make an effort towards...              None  \n",
       "21120  Wondering how those new #Hearthstone cards wil...              None  \n",
       "5046   @RickeySmiley @sosobrat @sherylunderwood Has a...    RT @TSElliott4  \n",
       "9562   Happy #EarthDay! ð¿Don't forget to do your b...              None  \n",
       "5864   @agraj_shri You rock. #ImFeelingEarthy https:/...              None  \n",
       "16563  @romogo17 Sometimes the Earth doesn't even loo...              None  \n",
       "1744   @MaryHenryGEO Don't be scared of the shadows. ...              None  \n",
       "5192   @MasterChiefKel You've really zig zagged into ...              None  \n",
       "3776   @marcomaroni Welcome, earthling. Enjoy the vie...              None  \n",
       "10003  #Chinaâs new #environment ministry unveiled,...              None  "
      ]
     },
     "execution_count": 16,
     "metadata": {},
     "output_type": "execute_result"
    }
   ],
=======
   "execution_count": null,
   "metadata": {},
   "outputs": [],
>>>>>>> f267001ef71f06d1b8f180bada6cecdc1936cf0a
   "source": [
    "TOP_N = 20 ## USE THIS VARIABLE TO SET THE NUMBER OF USERS TO ANALYZE\n",
    "cldf.followers = df.followers.astype(int)\n",
    "cldf.sort_values(by='followers',ascending=False,inplace=True)\n",
    "cldf.head(TOP_N)"
   ]
  },
  {
   "cell_type": "code",
<<<<<<< HEAD
   "execution_count": 17,
   "metadata": {},
   "outputs": [
    {
     "data": {
      "image/png": "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\n",
      "text/plain": [
       "<Figure size 432x288 with 1 Axes>"
      ]
     },
     "metadata": {
      "needs_background": "light"
     },
     "output_type": "display_data"
    }
   ],
=======
   "execution_count": null,
   "metadata": {},
   "outputs": [],
>>>>>>> f267001ef71f06d1b8f180bada6cecdc1936cf0a
   "source": [
    "plt.bar(cldf.iloc[:TOP_N].username.astype(str),cldf.iloc[:TOP_N].followers.astype(int))\n",
    "plt.xticks(rotation='vertical')\n",
    "plt.show()"
   ]
  },
  {
   "cell_type": "markdown",
   "metadata": {},
   "source": [
    "## Top Hashtags"
   ]
  },
  {
   "cell_type": "code",
<<<<<<< HEAD
   "execution_count": 18,
   "metadata": {},
   "outputs": [
    {
     "name": "stdout",
     "output_type": "stream",
     "text": [
      "[233, 235, 297, 306, 314, 354, 360, 370, 403, 421, 426, 474, 523, 553, 718, 883, 1333, 1728, 1956, 5471]\n"
     ]
    },
    {
     "data": {
      "image/png": "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\n",
      "text/plain": [
       "<Figure size 432x288 with 1 Axes>"
      ]
     },
     "metadata": {
      "needs_background": "light"
     },
     "output_type": "display_data"
    }
   ],
=======
   "execution_count": null,
   "metadata": {},
   "outputs": [],
>>>>>>> f267001ef71f06d1b8f180bada6cecdc1936cf0a
   "source": [
    "TOP_N = 20 ## USE THIS NUMBER TO SET THE NUMBER OF TOP HASHTAGS TO LOOK AT\n",
    "ana.topHashtags(tweets,TOP_N)"
   ]
  },
  {
   "cell_type": "markdown",
   "metadata": {},
   "source": [
    "## Top User Mentions"
   ]
  },
  {
   "cell_type": "code",
<<<<<<< HEAD
   "execution_count": 19,
   "metadata": {},
   "outputs": [
    {
     "name": "stdout",
     "output_type": "stream",
     "text": [
      "[33, 34, 38, 39, 41, 43, 44, 53, 53, 56, 58, 95, 104, 123, 125, 159, 187, 192, 245, 297]\n"
     ]
    },
    {
     "name": "stderr",
     "output_type": "stream",
     "text": [
      "/opt/anaconda3/lib/python3.8/site-packages/matplotlib/backends/backend_agg.py:238: RuntimeWarning: Glyph 128 missing from current font.\n",
      "  font.set_text(s, 0.0, flags=flags)\n",
      "/opt/anaconda3/lib/python3.8/site-packages/matplotlib/backends/backend_agg.py:238: RuntimeWarning: Glyph 153 missing from current font.\n",
      "  font.set_text(s, 0.0, flags=flags)\n",
      "/opt/anaconda3/lib/python3.8/site-packages/matplotlib/backends/backend_agg.py:201: RuntimeWarning: Glyph 128 missing from current font.\n",
      "  font.set_text(s, 0, flags=flags)\n",
      "/opt/anaconda3/lib/python3.8/site-packages/matplotlib/backends/backend_agg.py:201: RuntimeWarning: Glyph 153 missing from current font.\n",
      "  font.set_text(s, 0, flags=flags)\n"
     ]
    },
    {
     "data": {
      "image/png": "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\n",
      "text/plain": [
       "<Figure size 432x288 with 1 Axes>"
      ]
     },
     "metadata": {
      "needs_background": "light"
     },
     "output_type": "display_data"
    }
   ],
=======
   "execution_count": null,
   "metadata": {},
   "outputs": [],
>>>>>>> f267001ef71f06d1b8f180bada6cecdc1936cf0a
   "source": [
    "TOP_N = 20 ## USE THIS NUMBER TO SET THE NUMBER OF TOP USER MENTIONS TO LOOK AT\n",
    "ana.topUserMentions(tweets,TOP_N)"
   ]
<<<<<<< HEAD
=======
  },
  {
   "cell_type": "code",
   "execution_count": null,
   "metadata": {},
   "outputs": [],
   "source": []
  },
  {
   "cell_type": "code",
   "execution_count": null,
   "metadata": {},
   "outputs": [],
   "source": []
>>>>>>> f267001ef71f06d1b8f180bada6cecdc1936cf0a
  }
 ],
 "metadata": {
  "kernelspec": {
   "display_name": "Python 3",
   "language": "python",
   "name": "python3"
  },
  "language_info": {
   "codemirror_mode": {
    "name": "ipython",
    "version": 3
   },
   "file_extension": ".py",
   "mimetype": "text/x-python",
   "name": "python",
   "nbconvert_exporter": "python",
   "pygments_lexer": "ipython3",
<<<<<<< HEAD
   "version": "3.8.5"
=======
   "version": "3.9.2"
>>>>>>> f267001ef71f06d1b8f180bada6cecdc1936cf0a
  }
 },
 "nbformat": 4,
 "nbformat_minor": 2
}
