{
 "cells": [
  {
   "cell_type": "code",
   "execution_count": 37,
   "source": [
    "import time\n",
    "import bs4 \n",
    "import html\n",
    "import re\n",
    "import requests\n",
    "import json\n",
    "from flask import Flask, request, abort\n",
    "from selenium.webdriver.support.ui import WebDriverWait\n",
    "from selenium.webdriver.common.by import By\n",
    "from selenium.webdriver.support import expected_conditions as EC\n",
    "from selenium import webdriver\n",
    "from webdriver_manager.chrome import ChromeDriverManager\n",
    "import csv\n",
    "import mysql.connector\n",
    "from mysql.connector import errorcode\n",
    "from datetime import datetime\n",
    "import threading\n",
    "retweetData=[]\n",
    "driver = webdriver.Chrome(executable_path=\"/Users/rajuy/Downloads/chromedriver\")\n",
    "for i in tweet_objects[0:100]:\n",
    "    print(i)\n",
    "    driver.get(\"https://twitter.com/\"+i[\"user\"][\"screen_name\"]+\"/status/\"+str(i[\"id\"])+\"\")\n",
    "    time.sleep(10)\n",
    "    page_source = driver.page_source\n",
    "    soup = bs4.BeautifulSoup(page_source, 'lxml')\n",
    "    countData = soup.find(\"div\", class_=\"css-1dbjc4n r-2sztyj r-1efd50x r-5kkj8d r-13awgt0 r-18u37iz r-tzz3ar r-s1qlax r-1yzf0co\")\n",
    "    retweetCount = countData.find_all(\"span\", class_=\"css-901oao css-16my406 r-poiln3 r-b88u0q r-bcqeeo r-qvutc0\")\n",
    "    time.sleep(10)\n",
    "    page_source = driver.page_source\n",
    "    soup = bs4.BeautifulSoup(page_source, 'lxml')\n",
    "    repliesSoup = soup.find_all(\"div\", class_= \"css-901oao r-1fmj7o5 r-37j5jr r-a023e6 r-16dba41 r-rjixqe r-bcqeeo r-bnwqim r-qvutc0\")\n",
    "    if  retweetCount and retweetCount[0] and retweetCount[1] and retweetCount[2]:\n",
    "        print(\"Retweets\", retweetCount[0].text)\n",
    "        print(\"Quote Tweets\", retweetCount[1].text)\n",
    "        print(\"Likes\", retweetCount[2].text)\n",
    "        print(repliesSoup)\n",
    "        obj={\"tweet_id\":1445120862764421129, \"retweets\": retweetCount[0].text, \"quote_tweets\":retweetCount[1].text, \"likes\": retweetCount[2].text}\n",
    "        retweetData.append(obj)\n",
    "print(retweetData)"
   ],
   "outputs": [
    {
     "output_type": "stream",
     "name": "stdout",
     "text": [
      "{'created_at': 'Fri Jul 05 00:52:15 +0000 2019', 'id': 1146944848173383681, 'id_str': '1146944848173383681', 'text': 'RT @BexxFrancois: trying to really understand how a flight gets delayed from 725p to 945p , because of catering?? @Delta  \\n\\nstuck @ JFK. \\nS…', 'source': '<a href=\"https://claimcompanies.com\" rel=\"nofollow\">Flight Claim Companies</a>', 'truncated': False, 'in_reply_to_status_id': None, 'in_reply_to_status_id_str': None, 'in_reply_to_user_id': None, 'in_reply_to_user_id_str': None, 'in_reply_to_screen_name': None, 'user': {'id': 1024338385404682246, 'id_str': '1024338385404682246', 'name': 'ClaimCompanies.com', 'screen_name': 'claimcompanies', 'location': None, 'url': 'https://flight.claimcompanies.com', 'description': '✈️ Delayed, cancelled or overbooked flight?\\n🔎 Choose claim company from our more than 40 global companies list and get 600€/700$/540£ refund.', 'translator_type': 'none', 'protected': False, 'verified': False, 'followers_count': 520, 'friends_count': 46, 'listed_count': 2, 'favourites_count': 40, 'statuses_count': 171764, 'created_at': 'Tue Jul 31 16:57:57 +0000 2018', 'utc_offset': None, 'time_zone': None, 'geo_enabled': False, 'lang': None, 'contributors_enabled': False, 'is_translator': False, 'profile_background_color': 'F5F8FA', 'profile_background_image_url': '', 'profile_background_image_url_https': '', 'profile_background_tile': False, 'profile_link_color': '1DA1F2', 'profile_sidebar_border_color': 'C0DEED', 'profile_sidebar_fill_color': 'DDEEF6', 'profile_text_color': '333333', 'profile_use_background_image': True, 'profile_image_url': 'http://pbs.twimg.com/profile_images/1024338533312614403/-1O9UFTw_normal.jpg', 'profile_image_url_https': 'https://pbs.twimg.com/profile_images/1024338533312614403/-1O9UFTw_normal.jpg', 'profile_banner_url': 'https://pbs.twimg.com/profile_banners/1024338385404682246/1533056776', 'default_profile': True, 'default_profile_image': False, 'following': None, 'follow_request_sent': None, 'notifications': None}, 'geo': None, 'coordinates': None, 'place': None, 'contributors': None, 'retweeted_status': {'created_at': 'Fri Jul 05 00:45:24 +0000 2019', 'id': 1146943123790151680, 'id_str': '1146943123790151680', 'text': 'trying to really understand how a flight gets delayed from 725p to 945p , because of catering?? @Delta  \\n\\nstuck @ JFK. \\nSTILL.', 'source': '<a href=\"http://twitter.com/download/iphone\" rel=\"nofollow\">Twitter for iPhone</a>', 'truncated': False, 'in_reply_to_status_id': None, 'in_reply_to_status_id_str': None, 'in_reply_to_user_id': None, 'in_reply_to_user_id_str': None, 'in_reply_to_screen_name': None, 'user': {'id': 31301866, 'id_str': '31301866', 'name': 'Bexx', 'screen_name': 'BexxFrancois', 'location': None, 'url': 'https://m.soundcloud.com/blackgirlpodcast', 'description': 'peace x piece | Producer | Videographer | @BlackGirlPodcast bexxfrancois@gmail.com', 'translator_type': 'none', 'protected': False, 'verified': False, 'followers_count': 2001, 'friends_count': 329, 'listed_count': 8, 'favourites_count': 2023, 'statuses_count': 4972, 'created_at': 'Wed Apr 15 01:53:01 +0000 2009', 'utc_offset': None, 'time_zone': None, 'geo_enabled': False, 'lang': None, 'contributors_enabled': False, 'is_translator': False, 'profile_background_color': '000000', 'profile_background_image_url': 'http://abs.twimg.com/images/themes/theme1/bg.png', 'profile_background_image_url_https': 'https://abs.twimg.com/images/themes/theme1/bg.png', 'profile_background_tile': True, 'profile_link_color': '850D0D', 'profile_sidebar_border_color': '800404', 'profile_sidebar_fill_color': '000000', 'profile_text_color': '005BA6', 'profile_use_background_image': True, 'profile_image_url': 'http://pbs.twimg.com/profile_images/1078885654510088193/eTy5b8iF_normal.jpg', 'profile_image_url_https': 'https://pbs.twimg.com/profile_images/1078885654510088193/eTy5b8iF_normal.jpg', 'profile_banner_url': 'https://pbs.twimg.com/profile_banners/31301866/1538537484', 'default_profile': False, 'default_profile_image': False, 'following': None, 'follow_request_sent': None, 'notifications': None}, 'geo': None, 'coordinates': None, 'place': None, 'contributors': None, 'is_quote_status': False, 'quote_count': 1, 'reply_count': 0, 'retweet_count': 2, 'favorite_count': 1, 'entities': {'hashtags': [], 'urls': [], 'user_mentions': [{'screen_name': 'Delta', 'name': 'Delta', 'id': 5920532, 'id_str': '5920532', 'indices': [96, 102]}], 'symbols': []}, 'favorited': False, 'retweeted': False, 'filter_level': 'low', 'lang': 'en'}, 'is_quote_status': False, 'quote_count': 0, 'reply_count': 0, 'retweet_count': 0, 'favorite_count': 0, 'entities': {'hashtags': [], 'urls': [], 'user_mentions': [{'screen_name': 'BexxFrancois', 'name': 'Bexx', 'id': 31301866, 'id_str': '31301866', 'indices': [3, 16]}, {'screen_name': 'Delta', 'name': 'Delta', 'id': 5920532, 'id_str': '5920532', 'indices': [114, 120]}], 'symbols': []}, 'favorited': False, 'retweeted': False, 'filter_level': 'low', 'lang': 'en', 'timestamp_ms': '1562287935666'}\n",
      "[]\n"
     ]
    }
   ],
   "metadata": {}
  },
  {
   "cell_type": "code",
   "execution_count": null,
   "source": [],
   "outputs": [],
   "metadata": {}
  }
 ],
 "metadata": {
  "kernelspec": {
   "display_name": "Python 3",
   "language": "python",
   "name": "python3"
  },
  "language_info": {
   "codemirror_mode": {
    "name": "ipython",
    "version": 3
   },
   "file_extension": ".py",
   "mimetype": "text/x-python",
   "name": "python",
   "nbconvert_exporter": "python",
   "pygments_lexer": "ipython3",
   "version": "3.8.5"
  }
 },
 "nbformat": 4,
 "nbformat_minor": 4
}