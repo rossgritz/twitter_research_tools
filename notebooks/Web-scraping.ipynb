{
 "cells": [
  {
   "cell_type": "code",
   "execution_count": 16,
   "metadata": {},
   "outputs": [
    {
     "name": "stdout",
     "output_type": "stream",
     "text": [
      "Retweets 14.3K\n",
      "Quote Tweets 835\n",
      "Likes 34.9K\n"
     ]
    }
   ],
   "source": [
    "import time\n",
    "import bs4 \n",
    "import html\n",
    "import re\n",
    "import requests\n",
    "import json\n",
    "from flask import Flask, request, abort\n",
    "from selenium.webdriver.support.ui import WebDriverWait\n",
    "from selenium.webdriver.common.by import By\n",
    "from selenium.webdriver.support import expected_conditions as EC\n",
    "from selenium import webdriver\n",
    "from webdriver_manager.chrome import ChromeDriverManager\n",
    "import csv\n",
    "import mysql.connector\n",
    "from mysql.connector import errorcode\n",
    "from datetime import datetime\n",
    "import threading\n",
    "\n",
    "driver = webdriver.Chrome(executable_path=\"/Users/rajuy/Downloads/chromedriver\")\n",
    "driver.get(\"https://twitter.com/PawanKalyan/status/1440953433347923970\")\n",
    "time.sleep(10)\n",
    "page_source = driver.page_source\n",
    "soup = bs4.BeautifulSoup(page_source, 'lxml')\n",
    "countData = soup.find(\"div\", class_=\"css-1dbjc4n r-2sztyj r-1efd50x r-5kkj8d r-13awgt0 r-18u37iz r-tzz3ar r-s1qlax r-1yzf0co\")\n",
    "retweetCount = countData.find_all(\"span\", class_=\"css-901oao css-16my406 r-poiln3 r-b88u0q r-bcqeeo r-qvutc0\")\n",
    "print(\"Retweets\", retweetCount[0].text)\n",
    "print(\"Quote Tweets\", retweetCount[1].text)\n",
    "print(\"Likes\", retweetCount[2].text)w"
   ]
  },
  {
   "cell_type": "code",
   "execution_count": null,
   "metadata": {},
   "outputs": [],
   "source": []
  }
 ],
 "metadata": {
  "kernelspec": {
   "display_name": "Python 3",
   "language": "python",
   "name": "python3"
  },
  "language_info": {
   "codemirror_mode": {
    "name": "ipython",
    "version": 3
   },
   "file_extension": ".py",
   "mimetype": "text/x-python",
   "name": "python",
   "nbconvert_exporter": "python",
   "pygments_lexer": "ipython3",
   "version": "3.8.5"
  }
 },
 "nbformat": 4,
 "nbformat_minor": 4
}
