{
 "cells": [
  {
   "cell_type": "code",
   "execution_count": 6,
   "metadata": {
    "scrolled": true
   },
   "outputs": [
    {
     "name": "stderr",
     "output_type": "stream",
     "text": [
      "\n",
      "\n",
      "====== WebDriver manager ======\n",
      "Current google-chrome version is 96.0.4664\n",
      "Get LATEST driver version for 96.0.4664\n",
      "Driver [/Users/rajuy/.wdm/drivers/chromedriver/mac64/96.0.4664.45/chromedriver] found in cache\n",
      "<ipython-input-6-80cff78e5efc>:17: DeprecationWarning: executable_path has been deprecated, please pass in a Service object\n",
      "  driver =webdriver.Chrome(ChromeDriverManager().install()) #comment this line if you are using above line which increases the speed of scraping the data\n"
     ]
    }
   ],
   "source": [
    "import time\n",
    "import bs4 \n",
    "import html\n",
    "import re\n",
    "import requests\n",
    "import json\n",
    "from selenium import webdriver\n",
    "from webdriver_manager.chrome import ChromeDriverManager\n",
    "import csv\n",
    "import mysql.connector\n",
    "from mysql.connector import errorcode\n",
    "from datetime import datetime\n",
    "import threading\n",
    "\n",
    "\n",
    "# driver = webdriver.Chrome(executable_path = \"/Users/rajuy/Desktop/GRA/chromedriver\") #update chrome path or use the below line\n",
    "driver =webdriver.Chrome(ChromeDriverManager().install()) #comment this line if you are using above line which increases the speed of scraping the data\n",
    "data_file = open('data_file.csv', 'w')#loading only one file for testing\n",
    "reader = csv.reader(open('/Users/rajuy/Desktop/twitter_research_tools/notebooks/airdata_full/month_0.csv')) #update the path of the input file\n",
    "\n",
    "for i, j in enumerate(reader):\n",
    "    try:\n",
    "        if i!=0:\n",
    "            tweet_id = j[2]\n",
    "            username = j[3]\n",
    "            driver.get(\"https://twitter.com/\"+username+\"/status/\"+str(tweet_id)+\"\")\n",
    "            time.sleep(10)\n",
    "            scheight = .1\n",
    "            count = 0\n",
    "            repliesSoup=[]\n",
    "            userNames=[]\n",
    "            \n",
    "            #goes all the way page down until it finds \"show more\" option\n",
    "            while scheight < 1.0:\n",
    "                driver.execute_script(\"window.scrollTo(0, document.body.scrollHeight*%s);\" % scheight)\n",
    "                scheight += .2\n",
    "                time.sleep(5)\n",
    "            \n",
    "            try:\n",
    "                page_source = driver.page_source\n",
    "                soup = bs4.BeautifulSoup(page_source, 'lxml')\n",
    "                repliesSoup = soup.find_all(\"div\", class_= \"css-1dbjc4n r-1igl3o0 r-qklmqi r-1adg3ll r-1ny4l3l\")\n",
    "            except:\n",
    "                print(\"No replies for this tweet\")\n",
    "                continue\n",
    "                \n",
    "                \n",
    "            # create the csv writer object\n",
    "            csv_writer = csv.writer(data_file)\n",
    "\n",
    "            count = 0\n",
    "            replies=[]\n",
    "            for i, j in enumerate(repliesSoup):\n",
    "                if count==0:\n",
    "                    head=[\"Tweet Id\", \"UserName\", \"Replies\"]  \n",
    "                    csv_writer.writerow(head)\n",
    "                    count+=1\n",
    "                else:\n",
    "                    try:\n",
    "                        tmp1 = j.text\n",
    "                        tmp2 = tmp1.split(\"·\")[0]\n",
    "                        tmp3 = tmp1.split(\"·\")[1].split(\"@\"+username)[1]\n",
    "                        \n",
    "                        if count==1:\n",
    "                            data = [tweet_id, tmp2, tmp3]\n",
    "                            csv_writer.writerow(data)\n",
    "                            count+=1\n",
    "                        else:\n",
    "                            data = [\"\", tmp2, tmp3]\n",
    "                            csv_writer.writerow(data)\n",
    "                            count+=1\n",
    "                    except Exception as e:\n",
    "                        print(e)\n",
    "\n",
    "\n",
    "    except Exception as e:\n",
    "        print(e)\n",
    "        continue\n",
    " \n",
    "#closing the file after all the operations.\n",
    "data_file.close()    \n",
    "\n",
    "\n",
    "    "
   ]
  },
  {
   "cell_type": "code",
   "execution_count": null,
   "metadata": {},
   "outputs": [],
   "source": []
  },
  {
   "cell_type": "code",
   "execution_count": null,
   "metadata": {},
   "outputs": [],
   "source": []
  }
 ],
 "metadata": {
  "kernelspec": {
   "display_name": "Python 3",
   "language": "python",
   "name": "python3"
  },
  "language_info": {
   "codemirror_mode": {
    "name": "ipython",
    "version": 3
   },
   "file_extension": ".py",
   "mimetype": "text/x-python",
   "name": "python",
   "nbconvert_exporter": "python",
   "pygments_lexer": "ipython3",
   "version": "3.8.5"
  }
 },
 "nbformat": 4,
 "nbformat_minor": 4
}
